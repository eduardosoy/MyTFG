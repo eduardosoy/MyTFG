{
 "cells": [
  {
   "cell_type": "markdown",
   "metadata": {
    "pycharm": {
     "name": "#%% md\n"
    }
   },
   "source": [
    "# Creación de un modelo desde cero con aumento de imágenes"
   ]
  },
  {
   "cell_type": "markdown",
   "metadata": {
    "pycharm": {
     "name": "#%% md\n"
    }
   },
   "source": [
    "## Librerías necesarias"
   ]
  },
  {
   "cell_type": "code",
   "execution_count": 36,
   "metadata": {
    "pycharm": {
     "name": "#%%\n"
    }
   },
   "outputs": [],
   "source": [
    "from tensorflow import keras\n",
    "from tensorflow.keras import layers\n",
    "import os, shutil, pathlib\n",
    "from tensorflow.keras.utils import image_dataset_from_directory\n",
    "import matplotlib.pyplot as plt\n",
    "import numpy as np\n",
    "from tensorflow.keras.models import load_model"
   ]
  },
  {
   "cell_type": "markdown",
   "metadata": {
    "pycharm": {
     "name": "#%% md\n"
    }
   },
   "source": [
    "## Variables globales del sistema"
   ]
  },
  {
   "cell_type": "code",
   "execution_count": null,
   "outputs": [],
   "source": [
    "original_dir = pathlib.Path(\"DatasetOriginal/Image Data Base\")\n",
    "new_base_dir = pathlib.Path(\"ExpandedDataset/\")\n",
    "content = os.listdir(original_dir)\n",
    "BATCH_SIZE = 64\n",
    "size_x = 256\n",
    "size_y = 256"
   ],
   "metadata": {
    "collapsed": false,
    "pycharm": {
     "name": "#%%\n"
    }
   }
  },
  {
   "cell_type": "markdown",
   "source": [
    "## Función para contar imágenes por categorías"
   ],
   "metadata": {
    "collapsed": false,
    "pycharm": {
     "name": "#%% md\n"
    }
   }
  },
  {
   "cell_type": "code",
   "execution_count": null,
   "outputs": [],
   "source": [
    "def categories_counter():\n",
    "    counter_more200 = 0\n",
    "    counter_less200 = 0\n",
    "    categories = {}\n",
    "    for category in content:\n",
    "        counter = 0\n",
    "        for path in pathlib.Path(original_dir / category).iterdir():   \n",
    "            counter += 1\n",
    "        if counter < 200:\n",
    "            counter_less200 += 1\n",
    "            categories.update({str(category):counter})\n",
    "            \n",
    "        else:\n",
    "            counter_more200 += 1\n",
    "    print(\"Hay \"+ str(counter_more200) + \" categorias con más de 200 ejemplos\")\n",
    "    print(\"Hay \"+ str(counter_less200) + \" categorias con menos de 200 ejemplos\")\n",
    "    return categories\n",
    "        \n",
    "categories = categories_counter()"
   ],
   "metadata": {
    "collapsed": false,
    "pycharm": {
     "name": "#%%\n"
    }
   }
  },
  {
   "cell_type": "code",
   "execution_count": null,
   "outputs": [],
   "source": [
    "print(categories)"
   ],
   "metadata": {
    "collapsed": false,
    "pycharm": {
     "name": "#%%\n"
    }
   }
  },
  {
   "cell_type": "markdown",
   "source": [
    "## Creación de un conjunto de datos nuevo con nombres apropiados"
   ],
   "metadata": {
    "collapsed": false,
    "pycharm": {
     "name": "#%% md\n"
    }
   }
  },
  {
   "cell_type": "code",
   "execution_count": null,
   "outputs": [],
   "source": [
    "def prepare_dataset(max_data):\n",
    "    for category in content:\n",
    "        fnames = []\n",
    "        count = 1\n",
    "        for path in (original_dir / category).iterdir():\n",
    "            fnames.append(os.path.basename(path))\n",
    "            count += 1\n",
    "        dir = new_base_dir / category\n",
    "        os.makedirs(dir)\n",
    "        count = 0\n",
    "        while count < len(fnames) and count < max_data:\n",
    "            file_name = str(count) + '.jpg'\n",
    "            try:\n",
    "                shutil.copyfile(src=original_dir / category / fnames[count], dst=dir / file_name)\n",
    "                count += 1\n",
    "            except:\n",
    "                print(\"error\")\n",
    "                \n",
    "prepare_dataset(200)"
   ],
   "metadata": {
    "collapsed": false,
    "pycharm": {
     "name": "#%%\n"
    }
   }
  },
  {
   "cell_type": "markdown",
   "source": [
    "## Creación de imágenes aumentadas en relación a las existentes "
   ],
   "metadata": {
    "collapsed": false,
    "pycharm": {
     "name": "#%% md\n"
    }
   }
  },
  {
   "cell_type": "code",
   "execution_count": null,
   "outputs": [],
   "source": [
    "datagen = ImageDataGenerator(\n",
    "        rotation_range=45,    \n",
    "        width_shift_range=0.2,   \n",
    "        height_shift_range=0.2,\n",
    "        shear_range=0.2,\n",
    "        zoom_range=0.2,\n",
    "        horizontal_flip=True,\n",
    "        fill_mode='constant', cval=125)\n",
    "\n",
    "\n",
    "def image_creator(image, category):\n",
    "    i = 0\n",
    "    for batch in datagen.flow(image, batch_size=1,\n",
    "                              save_to_dir='ExpandedDataset/' + category,\n",
    "                              save_prefix='aug',\n",
    "                              save_format='jpg'):\n",
    "        i += 1\n",
    "        if i > 0:\n",
    "            break\n",
    "\n",
    "\n",
    "def dataset_augment(categories, objective_number):\n",
    "    for category in categories:\n",
    "        category_name = str(category)\n",
    "        category_counter = categories[category_name]\n",
    "        image_counter = category_counter\n",
    "        i = 0\n",
    "        while image_counter < objective_number:\n",
    "            if i >= category_counter:\n",
    "                i = 0\n",
    "            print('ExpandedDataset/' + category_name + '/' + str(i) + '.jpg')\n",
    "            image = io.imread('ExpandedDataset/' + category_name + '/' + str(i) + '.jpg')\n",
    "            image = image.reshape((1,) + image.shape)  # Array with shape (1, 256, 256, 3)\n",
    "            image_creator(image, category_name)\n",
    "            i += 1\n",
    "            image_counter += 1\n",
    "            \n",
    "    \n",
    "dataset_augment(categories, 200)"
   ],
   "metadata": {
    "collapsed": false,
    "pycharm": {
     "name": "#%%\n"
    }
   }
  },
  {
   "cell_type": "code",
   "execution_count": null,
   "outputs": [],
   "source": [
    "def categories_counter():\n",
    "    counter_more200 = 0\n",
    "    counter_less200 = 0\n",
    "    categories = {}\n",
    "    for category in content:\n",
    "        counter = 0\n",
    "        for path in pathlib.Path(new_base_dir / category).iterdir():\n",
    "            counter += 1\n",
    "        if counter < 200:\n",
    "            counter_less200 += 1\n",
    "            categories.update({str(category): counter})\n",
    "        else:\n",
    "            counter_more200 += 1\n",
    "    print(\"Hay \" + str(counter_more200) + \" categorias con más de 200 ejemplos\")\n",
    "    print(\"Hay \" + str(counter_less200) + \" categorias con menos de 200 ejemplos\")\n",
    "    return categories\n",
    "\n",
    "categories = categories_counter()"
   ],
   "metadata": {
    "collapsed": false,
    "pycharm": {
     "name": "#%%\n"
    }
   }
  },
  {
   "cell_type": "markdown",
   "source": [
    "## Creación de subcarpetas a partir del nuevo dataset creado"
   ],
   "metadata": {
    "collapsed": false,
    "pycharm": {
     "name": "#%% md\n"
    }
   }
  },
  {
   "cell_type": "code",
   "execution_count": null,
   "outputs": [],
   "source": [
    "original_dir = pathlib.Path(\"ExpandedDataset/\")\n",
    "new_base_dir = pathlib.Path(\"ExpandedDataset_organized/\")\n",
    "\n",
    "def make_subsets(proportion, max_data):\n",
    "    for category in content:\n",
    "        fnames = []\n",
    "        count = 1\n",
    "        for path in (original_dir / category).iterdir():\n",
    "            fnames.append(os.path.basename(path))\n",
    "            count += 1\n",
    "        leftover = count % 10\n",
    "        data = count - leftover\n",
    "        data = min(data, max_data)\n",
    "        primero = int(data * proportion[0])\n",
    "        segundo = int(data * proportion[1]) + primero\n",
    "        tercero = int(data * proportion[2]) + segundo\n",
    "        train = fnames[0:primero]\n",
    "        validation = fnames[primero:segundo]\n",
    "        test = fnames[segundo:tercero]\n",
    "        if data < 200 and leftover > 0:\n",
    "            train.extend(fnames[tercero:count - 1])\n",
    "        classification = {\"train\": train, \"validation\": validation, \"test\": test}\n",
    "        for subset in [\"train\", \"validation\", \"test\"]:\n",
    "            dir = new_base_dir / subset / category\n",
    "            os.makedirs(dir)\n",
    "            count = 1\n",
    "            for fname in classification[subset]:\n",
    "                file = str(count) + '.jpg'\n",
    "                try:\n",
    "                    shutil.copyfile(src=original_dir / category / fname, dst=dir / file)\n",
    "                    count += 1\n",
    "                except:\n",
    "                    print(\"error\")\n",
    "                    \n",
    "                    \n",
    "proportion = [0.8, 0.1, 0.1] #Para dividir los datos en conjuntos de estas proporciones\n",
    "make_subsets(proportion, 200)"
   ],
   "metadata": {
    "collapsed": false,
    "pycharm": {
     "name": "#%%\n"
    }
   }
  },
  {
   "cell_type": "markdown",
   "source": [
    "## Creación de los datasets específicos a partir de las carpetas "
   ],
   "metadata": {
    "collapsed": false,
    "pycharm": {
     "name": "#%% md\n"
    }
   }
  },
  {
   "cell_type": "code",
   "execution_count": null,
   "outputs": [],
   "source": [
    "original_dir = pathlib.Path(\"ExpandedDataset/\")\n",
    "new_base_dir = pathlib.Path(\"ExpandedDataset_organized/\")\n",
    "\n",
    "train_dataset = image_dataset_from_directory(\n",
    "    new_base_dir / \"train\",\n",
    "    image_size=(size_x, size_y),\n",
    "    batch_size=BATCH_SIZE,\n",
    "    label_mode='categorical')\n",
    "validation_dataset = image_dataset_from_directory(\n",
    "    new_base_dir / \"validation\",\n",
    "    image_size=(size_x, size_y),\n",
    "    batch_size=BATCH_SIZE,\n",
    "    label_mode='categorical')\n",
    "test_dataset = image_dataset_from_directory(\n",
    "    new_base_dir / \"test\",\n",
    "    image_size=(size_x, size_y),\n",
    "    batch_size=BATCH_SIZE,\n",
    "    label_mode='categorical')"
   ],
   "metadata": {
    "collapsed": false,
    "pycharm": {
     "name": "#%%\n"
    }
   }
  },
  {
   "cell_type": "markdown",
   "source": [
    "## Comprobación de que está todo en orden y muestreo"
   ],
   "metadata": {
    "collapsed": false,
    "pycharm": {
     "name": "#%% md\n"
    }
   }
  },
  {
   "cell_type": "code",
   "execution_count": null,
   "outputs": [],
   "source": [
    " for data_batch, labels_batch in train_dataset:\n",
    "    print(\"data batch shape:\", data_batch.shape)\n",
    "    print(\"labels batch shape:\", labels_batch.shape)\n",
    "    break"
   ],
   "metadata": {
    "collapsed": false,
    "pycharm": {
     "name": "#%%\n"
    }
   }
  },
  {
   "cell_type": "code",
   "execution_count": null,
   "outputs": [],
   "source": [
    "plt.figure(figsize=(13, 13))\n",
    "class_names = train_dataset.class_names\n",
    "for images, labels in train_dataset.take(2):\n",
    "    for i in range(3):\n",
    "        ax = plt.subplot(3, 3, i + 1)\n",
    "        plt.imshow(images[i].numpy().astype(\"uint8\"))\n",
    "        arr = labels[i].numpy()\n",
    "        tuple = np.where(arr == 1)\n",
    "        plt.title(class_names[tuple[0][0]])\n",
    "        plt.axis(\"off\")"
   ],
   "metadata": {
    "collapsed": false,
    "pycharm": {
     "name": "#%%\n"
    }
   }
  },
  {
   "cell_type": "markdown",
   "source": [
    "## Modelo creado desde cero"
   ],
   "metadata": {
    "collapsed": false,
    "pycharm": {
     "name": "#%% md\n"
    }
   }
  },
  {
   "cell_type": "code",
   "execution_count": null,
   "outputs": [],
   "source": [
    "inputs = keras.Input(shape=(size_x, size_y, 3)) \n",
    "x = layers.Rescaling(1./255)(inputs) \n",
    "x = layers.Conv2D(filters=32, kernel_size=3, activation=\"relu\")(x)\n",
    "x = layers.MaxPooling2D(pool_size=2)(x)\n",
    "x = layers.Conv2D(filters=64, kernel_size=3, activation=\"relu\")(x)\n",
    "x = layers.MaxPooling2D(pool_size=2)(x)\n",
    "x = layers.Conv2D(filters=128, kernel_size=3, activation=\"relu\")(x)\n",
    "x = layers.MaxPooling2D(pool_size=2)(x)\n",
    "x = layers.Conv2D(filters=256, kernel_size=3, activation=\"relu\")(x)\n",
    "x = layers.MaxPooling2D(pool_size=2)(x)\n",
    "x = layers.Conv2D(filters=512, kernel_size=3, activation=\"relu\")(x)\n",
    "x = layers.Flatten()(x)\n",
    "outputs = layers.Dense(58, activation=\"softmax\")(x)\n",
    "model1 = keras.Model(inputs=inputs, outputs=outputs)\n",
    "\n",
    "model1.summary()"
   ],
   "metadata": {
    "collapsed": false,
    "pycharm": {
     "name": "#%%\n"
    }
   }
  },
  {
   "cell_type": "markdown",
   "source": [
    "## Entrenamiento y guardado de resultados del modelo cero"
   ],
   "metadata": {
    "collapsed": false,
    "pycharm": {
     "name": "#%% md\n"
    }
   }
  },
  {
   "cell_type": "code",
   "execution_count": null,
   "outputs": [],
   "source": [
    "callbacks = [\n",
    " keras.callbacks.ModelCheckpoint(\n",
    " filepath=\"model1/best_version\",\n",
    " save_best_only=True,\n",
    " monitor=\"val_loss\")\n",
    "]"
   ],
   "metadata": {
    "collapsed": false,
    "pycharm": {
     "name": "#%%\n"
    }
   }
  },
  {
   "cell_type": "code",
   "execution_count": null,
   "outputs": [],
   "source": [
    "model1.compile(loss=\"categorical_crossentropy\",\n",
    " optimizer=\"rmsprop\",\n",
    " metrics=[\"accuracy\"])"
   ],
   "metadata": {
    "collapsed": false,
    "pycharm": {
     "name": "#%%\n"
    }
   }
  },
  {
   "cell_type": "code",
   "execution_count": null,
   "outputs": [],
   "source": [
    "history = model1.fit(\n",
    " train_dataset,\n",
    " epochs=30,\n",
    " validation_data=validation_dataset,\n",
    " callbacks=callbacks)"
   ],
   "metadata": {
    "collapsed": false,
    "pycharm": {
     "name": "#%%\n"
    }
   }
  },
  {
   "cell_type": "code",
   "execution_count": null,
   "outputs": [],
   "source": [
    "model1.save('model1/model')"
   ],
   "metadata": {
    "collapsed": false,
    "pycharm": {
     "name": "#%%\n"
    }
   }
  },
  {
   "cell_type": "code",
   "execution_count": null,
   "outputs": [],
   "source": [
    "np.save('model1/history.npy',history.history)"
   ],
   "metadata": {
    "collapsed": false,
    "pycharm": {
     "name": "#%%\n"
    }
   }
  },
  {
   "cell_type": "markdown",
   "source": [
    "## Análisis de resultados"
   ],
   "metadata": {
    "collapsed": false,
    "pycharm": {
     "name": "#%% md\n"
    }
   }
  },
  {
   "cell_type": "code",
   "execution_count": null,
   "outputs": [],
   "source": [
    "my_model0 = load_model('model0/model')\n",
    "my_model1 = load_model('model1/model')"
   ],
   "metadata": {
    "collapsed": false,
    "pycharm": {
     "name": "#%%\n"
    }
   }
  },
  {
   "cell_type": "code",
   "execution_count": null,
   "outputs": [],
   "source": [
    "my_history0=np.load('model0/history.npy',allow_pickle='TRUE').item()\n",
    "my_history1=np.load('model1/history.npy',allow_pickle='TRUE').item()"
   ],
   "metadata": {
    "collapsed": false,
    "pycharm": {
     "name": "#%%\n"
    }
   }
  },
  {
   "cell_type": "code",
   "execution_count": null,
   "outputs": [],
   "source": [
    "loss_0 = my_history0[\"loss\"]\n",
    "val_loss_0 = my_history0[\"val_loss\"]\n",
    "loss_1 = my_history1[\"loss\"]\n",
    "val_loss_1 = my_history1[\"val_loss\"]\n",
    "epochs = range(1, len(loss_0) + 1)\n",
    "\n",
    "plt.plot(epochs, loss_0, \"b.\", label=\"Training loss original\")\n",
    "plt.plot(epochs, loss_1, \"r.\", label=\"Training loss new\")\n",
    "plt.plot(epochs, val_loss_0, \"b\", label=\"Validation loss original\")\n",
    "plt.plot(epochs, val_loss_1, \"r\", label=\"Validation loss new\")\n",
    "plt.title(\"Training and validation loss\")\n",
    "plt.xlabel(\"Epochs\")\n",
    "plt.ylabel(\"Loss\")\n",
    "plt.legend()\n",
    "plt.show()"
   ],
   "metadata": {
    "collapsed": false,
    "pycharm": {
     "name": "#%%\n"
    }
   }
  },
  {
   "cell_type": "code",
   "execution_count": null,
   "outputs": [],
   "source": [
    "plt.clf()\n",
    "acc_0 = my_history0[\"accuracy\"]\n",
    "val_acc_0 = my_history0[\"val_accuracy\"]\n",
    "acc_1 = my_history1[\"accuracy\"]\n",
    "val_acc_1 = my_history1[\"val_accuracy\"]\n",
    "epochs = range(1, len(loss_0) + 1)\n",
    "\n",
    "plt.plot(epochs, acc_0, \"b.\", label=\"Training accuracy original\")\n",
    "plt.plot(epochs, acc_1, \"r.\", label=\"Training accuracy new\")\n",
    "plt.plot(epochs, val_acc_0, \"b\", label=\"Validation accuracy original\")\n",
    "plt.plot(epochs, val_acc_1, \"r\", label=\"Validation accuracy new\")\n",
    "plt.title(\"Training and validation loss\")\n",
    "plt.xlabel(\"Epochs\")\n",
    "plt.ylabel(\"Loss\")\n",
    "plt.legend()\n",
    "plt.show()"
   ],
   "metadata": {
    "collapsed": false,
    "pycharm": {
     "name": "#%%\n"
    }
   }
  },
  {
   "cell_type": "code",
   "execution_count": null,
   "outputs": [],
   "source": [
    "plt.clf()\n",
    "acc = my_history[\"accuracy\"]\n",
    "val_acc = history.history[\"val_accuracy\"]\n",
    "plt.plot(epochs, acc, \"bo\", label=\"Training accuracy\")\n",
    "plt.plot(epochs, val_acc, \"b\", label=\"Validation accuracy\")\n",
    "plt.title(\"Training and validation accuracy\")\n",
    "plt.xlabel(\"Epochs\")\n",
    "plt.ylabel(\"Accuracy\")\n",
    "plt.legend()\n",
    "plt.show()\n",
    "\n"
   ],
   "metadata": {
    "collapsed": false,
    "pycharm": {
     "name": "#%%\n"
    }
   }
  },
  {
   "cell_type": "code",
   "execution_count": 44,
   "metadata": {
    "pycharm": {
     "name": "#%%\n"
    }
   },
   "outputs": [
    {
     "data": {
      "image/png": "[encoded data removed]",
      "text/plain": [
       "<Figure size 432x288 with 1 Axes>"
      ]
     },
     "metadata": {
      "needs_background": "light"
     },
     "output_type": "display_data"
    }
   ],
   "source": [
    "loss_0 = my_history0[\"loss\"]\n",
    "val_loss_0 = my_history0[\"val_loss\"]\n",
    "loss_1 = my_history1[\"loss\"]\n",
    "val_loss_1 = my_history1[\"val_loss\"]\n",
    "epochs = range(1, len(loss_0) + 1)\n",
    "\n",
    "plt.plot(epochs, loss_0, \"b.\", label=\"Training loss original\")\n",
    "plt.plot(epochs, loss_1, \"r.\", label=\"Training loss new\")\n",
    "plt.plot(epochs, val_loss_0, \"b\", label=\"Validation loss original\")\n",
    "plt.plot(epochs, val_loss_1, \"r\", label=\"Validation loss new\")\n",
    "plt.title(\"Training and validation loss\")\n",
    "plt.xlabel(\"Epochs\")\n",
    "plt.ylabel(\"Loss\")\n",
    "plt.legend()\n",
    "plt.show()"
   ]
  },
  {
   "cell_type": "code",
   "execution_count": 45,
   "metadata": {},
   "outputs": [
    {
     "data": {
      "image/png": "[encoded data removed]",
      "text/plain": [
       "<Figure size 432x288 with 1 Axes>"
      ]
     },
     "metadata": {
      "needs_background": "light"
     },
     "output_type": "display_data"
    }
   ],
   "source": [
    "plt.clf()\n",
    "acc_0 = my_history0[\"accuracy\"]\n",
    "val_acc_0 = my_history0[\"val_accuracy\"]\n",
    "acc_1 = my_history1[\"accuracy\"]\n",
    "val_acc_1 = my_history1[\"val_accuracy\"]\n",
    "epochs = range(1, len(loss_0) + 1)\n",
    "\n",
    "plt.plot(epochs, acc_0, \"b.\", label=\"Training accuracy original\")\n",
    "plt.plot(epochs, acc_1, \"r.\", label=\"Training accuracy new\")\n",
    "plt.plot(epochs, val_acc_0, \"b\", label=\"Validation accuracy original\")\n",
    "plt.plot(epochs, val_acc_1, \"r\", label=\"Validation accuracy new\")\n",
    "plt.title(\"Training and validation loss\")\n",
    "plt.xlabel(\"Epochs\")\n",
    "plt.ylabel(\"Loss\")\n",
    "plt.legend()\n",
    "plt.show()"
   ]
  },
  {
   "cell_type": "code",
   "execution_count": 35,
   "metadata": {
    "pycharm": {
     "name": "#%%\n"
    }
   },
   "outputs": [
    {
     "data": {
      "image/png": "[encoded data removed]",
      "text/plain": [
       "<Figure size 432x288 with 1 Axes>"
      ]
     },
     "metadata": {
      "needs_background": "light"
     },
     "output_type": "display_data"
    }
   ],
   "source": [
    "plt.clf()\n",
    "acc = my_history[\"accuracy\"]\n",
    "val_acc = history.history[\"val_accuracy\"]\n",
    "plt.plot(epochs, acc, \"bo\", label=\"Training accuracy\")\n",
    "plt.plot(epochs, val_acc, \"b\", label=\"Validation accuracy\")\n",
    "plt.title(\"Training and validation accuracy\")\n",
    "plt.xlabel(\"Epochs\")\n",
    "plt.ylabel(\"Accuracy\")\n",
    "plt.legend()\n",
    "plt.show()\n",
    "\n"
   ]
  },
  {
   "cell_type": "code",
   "execution_count": 36,
   "metadata": {
    "pycharm": {
     "name": "#%%\n"
    }
   },
   "outputs": [
    {
     "name": "stdout",
     "output_type": "stream",
     "text": [
      "13/13 [==============================] - 4s 238ms/step - loss: 11.7977 - accuracy: 0.6687\n"
     ]
    },
    {
     "data": {
      "text/plain": [
       "[11.797684669494629, 0.6686967015266418]"
      ]
     },
     "execution_count": 36,
     "metadata": {},
     "output_type": "execute_result"
    }
   ],
   "source": [
    "model = keras.models.load_model('model0/model')\n",
    "results= model.evaluate(test_dataset)\n",
    "results"
   ]
  },
  {
   "cell_type": "code",
   "execution_count": 37,
   "metadata": {
    "pycharm": {
     "name": "#%%\n"
    }
   },
   "outputs": [
    {
     "name": "stdout",
     "output_type": "stream",
     "text": [
      "13/13 [==============================] - 2s 70ms/step - loss: 1.4548 - accuracy: 0.6784\n"
     ]
    },
    {
     "data": {
      "text/plain": [
       "[1.4547779560089111, 0.6784409284591675]"
      ]
     },
     "execution_count": 37,
     "metadata": {},
     "output_type": "execute_result"
    }
   ],
   "source": [
    "model = keras.models.load_model('model0/best_version')\n",
    "results= model.evaluate(test_dataset)\n",
    "results"
   ]
  }
 ],
 "metadata": {
  "kernelspec": {
   "display_name": "Python 3 (ipykernel)",
   "language": "python",
   "name": "python3"
  },
  "language_info": {
   "codemirror_mode": {
    "name": "ipython",
    "version": 3
   },
   "file_extension": ".py",
   "mimetype": "text/x-python",
   "name": "python",
   "nbconvert_exporter": "python",
   "pygments_lexer": "ipython3",
   "version": "3.9.12"
  }
 },
 "nbformat": 4,
 "nbformat_minor": 1
}