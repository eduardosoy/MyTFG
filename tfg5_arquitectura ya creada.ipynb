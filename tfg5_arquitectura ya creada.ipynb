{
 "cells": [
  {
   "cell_type": "markdown",
   "source": [
    "# Xception con extracción de características"
   ],
   "metadata": {
    "collapsed": false,
    "pycharm": {
     "name": "#%% md\n"
    }
   }
  },
  {
   "cell_type": "markdown",
   "source": [
    "## Configuaración del entorno"
   ],
   "metadata": {
    "collapsed": false,
    "pycharm": {
     "name": "#%% md\n"
    }
   }
  },
  {
   "cell_type": "code",
   "execution_count": null,
   "outputs": [],
   "source": [
    "from tensorflow import keras\n",
    "from tensorflow.keras import layers\n",
    "import os, shutil, pathlib\n",
    "from tensorflow.keras.utils import image_dataset_from_directory\n",
    "import matplotlib.pyplot as plt\n",
    "import numpy as np\n",
    "from tensorflow.keras.models import load_model"
   ],
   "metadata": {
    "collapsed": false,
    "pycharm": {
     "name": "#%%\n"
    }
   }
  },
  {
   "cell_type": "code",
   "execution_count": null,
   "outputs": [],
   "source": [
    "original_dir = pathlib.Path(\"ExpandedDataset/\")\n",
    "new_base_dir = pathlib.Path(\"ExpandedDataset_organized/\")\n",
    "content = os.listdir(original_dir)\n",
    "BATCH_SIZE = 64\n",
    "size_x = 256\n",
    "size_y = 256"
   ],
   "metadata": {
    "collapsed": false,
    "pycharm": {
     "name": "#%%\n"
    }
   }
  },
  {
   "cell_type": "code",
   "execution_count": null,
   "outputs": [],
   "source": [
    "train_dataset = image_dataset_from_directory(\n",
    "    new_base_dir / \"train\",\n",
    "    image_size=(size_x, size_y),\n",
    "    batch_size=BATCH_SIZE,\n",
    "    label_mode='categorical')\n",
    "validation_dataset = image_dataset_from_directory(\n",
    "    new_base_dir / \"validation\",\n",
    "    image_size=(size_x, size_y),\n",
    "    batch_size=BATCH_SIZE,\n",
    "    label_mode='categorical')\n",
    "test_dataset = image_dataset_from_directory(\n",
    "    new_base_dir / \"test\",\n",
    "    image_size=(size_x, size_y),\n",
    "    batch_size=BATCH_SIZE,\n",
    "    label_mode='categorical')"
   ],
   "metadata": {
    "collapsed": false,
    "pycharm": {
     "name": "#%%\n"
    }
   }
  },
  {
   "cell_type": "markdown",
   "source": [
    "## Importación y configuración del modelo Xception pre-entrenado"
   ],
   "metadata": {
    "collapsed": false,
    "pycharm": {
     "name": "#%% md\n"
    }
   }
  },
  {
   "cell_type": "code",
   "execution_count": null,
   "outputs": [],
   "source": [
    "xception_base = keras.applications.Xception(\n",
    "    weights=\"imagenet\",\n",
    "    include_top=False,\n",
    "    input_shape=(size_x , size_y, 3))"
   ],
   "metadata": {
    "collapsed": false,
    "pycharm": {
     "name": "#%%\n"
    }
   }
  },
  {
   "cell_type": "code",
   "execution_count": null,
   "outputs": [],
   "source": [
    "xception_base.summary()"
   ],
   "metadata": {
    "collapsed": false,
    "pycharm": {
     "name": "#%%\n"
    }
   }
  },
  {
   "cell_type": "code",
   "execution_count": null,
   "outputs": [],
   "source": [
    "def get_features_and_labels(dataset):\n",
    "    all_features = []\n",
    "    all_labels = []\n",
    "    for images, labels in dataset:\n",
    "        preprocessed_images = keras.applications.xception.preprocess_input(images)\n",
    "        features = xception_base.predict(preprocessed_images)\n",
    "        all_features.append(features)\n",
    "        all_labels.append(labels)\n",
    "    return np.concatenate(all_features), np.concatenate(all_labels)\n",
    "\n",
    "train_features, train_labels = get_features_and_labels(train_dataset)\n",
    "val_features, val_labels = get_features_and_labels(validation_dataset)\n",
    "test_features, test_labels = get_features_and_labels(test_dataset)"
   ],
   "metadata": {
    "collapsed": false,
    "pycharm": {
     "name": "#%%\n"
    }
   }
  },
  {
   "cell_type": "code",
   "execution_count": null,
   "outputs": [],
   "source": [
    "train_features.shape"
   ],
   "metadata": {
    "collapsed": false,
    "pycharm": {
     "name": "#%%\n"
    }
   }
  },
  {
   "cell_type": "code",
   "execution_count": null,
   "outputs": [],
   "source": [
    "inputs = keras.Input(shape=(8, 8, 2048))\n",
    "x = layers.Flatten()(inputs) \n",
    "x = layers.Dropout(0.5)(x)\n",
    "outputs = layers.Dense(58, activation=\"softmax\")(x)\n",
    "model5 = keras.Model(inputs, outputs)\n",
    "\n",
    "model5.summary()"
   ],
   "metadata": {
    "collapsed": false,
    "pycharm": {
     "name": "#%%\n"
    }
   }
  },
  {
   "cell_type": "markdown",
   "source": [
    "## Entreno y análisis"
   ],
   "metadata": {
    "collapsed": false,
    "pycharm": {
     "name": "#%% md\n"
    }
   }
  },
  {
   "cell_type": "markdown",
   "metadata": {},
   "source": [
    "## Entreno y análisis"
   ]
  },
  {
   "cell_type": "code",
   "execution_count": 23,
   "metadata": {
    "pycharm": {
     "name": "#%%\n"
    },
    "scrolled": true
   },
   "outputs": [
    {
     "name": "stdout",
     "output_type": "stream",
     "text": [
      "Epoch 1/30\n",
      "145/145 [==============================] - 3s 17ms/step - loss: 5.1581 - accuracy: 0.6298 - val_loss: 2.3497 - val_accuracy: 0.7612\n",
      "INFO:tensorflow:Assets written to: model5\\best_version\\assets\n",
      "Epoch 2/30\n",
      "145/145 [==============================] - 2s 13ms/step - loss: 1.1462 - accuracy: 0.8700 - val_loss: 3.6350 - val_accuracy: 0.7457\n",
      "Epoch 3/30\n",
      "145/145 [==============================] - 2s 12ms/step - loss: 0.5940 - accuracy: 0.9300 - val_loss: 1.8079 - val_accuracy: 0.8328\n",
      "INFO:tensorflow:Assets written to: model5\\best_version\\assets\n",
      "Epoch 4/30\n",
      "145/145 [==============================] - 2s 12ms/step - loss: 0.3800 - accuracy: 0.9527 - val_loss: 2.0957 - val_accuracy: 0.8595\n",
      "Epoch 5/30\n",
      "145/145 [==============================] - 2s 12ms/step - loss: 0.2446 - accuracy: 0.9695 - val_loss: 2.2206 - val_accuracy: 0.8517\n",
      "Epoch 6/30\n",
      "145/145 [==============================] - 2s 12ms/step - loss: 0.1657 - accuracy: 0.9783 - val_loss: 1.8142 - val_accuracy: 0.8534\n",
      "Epoch 7/30\n",
      "145/145 [==============================] - 2s 12ms/step - loss: 0.1139 - accuracy: 0.9856 - val_loss: 2.0317 - val_accuracy: 0.8500\n",
      "Epoch 8/30\n",
      "145/145 [==============================] - 2s 12ms/step - loss: 0.0543 - accuracy: 0.9912 - val_loss: 1.8519 - val_accuracy: 0.8664\n",
      "Epoch 9/30\n",
      "145/145 [==============================] - 2s 12ms/step - loss: 0.0478 - accuracy: 0.9913 - val_loss: 2.1442 - val_accuracy: 0.8621\n",
      "Epoch 10/30\n",
      "145/145 [==============================] - 2s 12ms/step - loss: 0.0412 - accuracy: 0.9933 - val_loss: 2.0127 - val_accuracy: 0.8698\n",
      "Epoch 11/30\n",
      "145/145 [==============================] - 2s 12ms/step - loss: 0.0274 - accuracy: 0.9954 - val_loss: 2.2102 - val_accuracy: 0.8569\n",
      "Epoch 12/30\n",
      "145/145 [==============================] - 2s 12ms/step - loss: 0.0295 - accuracy: 0.9957 - val_loss: 1.8113 - val_accuracy: 0.8716\n",
      "Epoch 13/30\n",
      "145/145 [==============================] - 2s 12ms/step - loss: 0.0420 - accuracy: 0.9959 - val_loss: 1.7582 - val_accuracy: 0.8724\n",
      "INFO:tensorflow:Assets written to: model5\\best_version\\assets\n",
      "Epoch 14/30\n",
      "145/145 [==============================] - 2s 12ms/step - loss: 0.0233 - accuracy: 0.9964 - val_loss: 1.8413 - val_accuracy: 0.8750\n",
      "Epoch 15/30\n",
      "145/145 [==============================] - 2s 12ms/step - loss: 0.0179 - accuracy: 0.9970 - val_loss: 1.8420 - val_accuracy: 0.8724\n",
      "Epoch 16/30\n",
      "145/145 [==============================] - 2s 12ms/step - loss: 0.0200 - accuracy: 0.9968 - val_loss: 1.7096 - val_accuracy: 0.8716\n",
      "INFO:tensorflow:Assets written to: model5\\best_version\\assets\n",
      "Epoch 17/30\n",
      "145/145 [==============================] - 2s 12ms/step - loss: 0.0202 - accuracy: 0.9977 - val_loss: 1.3116 - val_accuracy: 0.8931\n",
      "INFO:tensorflow:Assets written to: model5\\best_version\\assets\n",
      "Epoch 18/30\n",
      "145/145 [==============================] - 2s 12ms/step - loss: 0.0262 - accuracy: 0.9973 - val_loss: 1.8818 - val_accuracy: 0.8905\n",
      "Epoch 19/30\n",
      "145/145 [==============================] - 2s 12ms/step - loss: 0.0099 - accuracy: 0.9984 - val_loss: 2.0073 - val_accuracy: 0.8716\n",
      "Epoch 20/30\n",
      "145/145 [==============================] - 2s 12ms/step - loss: 0.0058 - accuracy: 0.9990 - val_loss: 1.7364 - val_accuracy: 0.8836\n",
      "Epoch 21/30\n",
      "145/145 [==============================] - 2s 13ms/step - loss: 0.0144 - accuracy: 0.9984 - val_loss: 1.6224 - val_accuracy: 0.8871\n",
      "Epoch 22/30\n",
      "145/145 [==============================] - 2s 12ms/step - loss: 0.0098 - accuracy: 0.9986 - val_loss: 1.6571 - val_accuracy: 0.8853\n",
      "Epoch 23/30\n",
      "145/145 [==============================] - 2s 12ms/step - loss: 0.0037 - accuracy: 0.9991 - val_loss: 2.2313 - val_accuracy: 0.8767\n",
      "Epoch 24/30\n",
      "145/145 [==============================] - 2s 12ms/step - loss: 0.0089 - accuracy: 0.9987 - val_loss: 1.6553 - val_accuracy: 0.8828\n",
      "Epoch 25/30\n",
      "145/145 [==============================] - 2s 12ms/step - loss: 0.0072 - accuracy: 0.9994 - val_loss: 1.8260 - val_accuracy: 0.8905\n",
      "Epoch 26/30\n",
      "145/145 [==============================] - 2s 12ms/step - loss: 0.0108 - accuracy: 0.9986 - val_loss: 1.6867 - val_accuracy: 0.8836\n",
      "Epoch 27/30\n",
      "145/145 [==============================] - 2s 12ms/step - loss: 0.0143 - accuracy: 0.9983 - val_loss: 1.7876 - val_accuracy: 0.8862\n",
      "Epoch 28/30\n",
      "145/145 [==============================] - 2s 12ms/step - loss: 0.0063 - accuracy: 0.9991 - val_loss: 1.7082 - val_accuracy: 0.8897\n",
      "Epoch 29/30\n",
      "145/145 [==============================] - 2s 12ms/step - loss: 0.0053 - accuracy: 0.9992 - val_loss: 1.6185 - val_accuracy: 0.8862\n",
      "Epoch 30/30\n",
      "145/145 [==============================] - 2s 12ms/step - loss: 0.0059 - accuracy: 0.9994 - val_loss: 1.6838 - val_accuracy: 0.8879\n"
     ]
    }
   ],
   "source": [
    "model5.compile(loss=\"categorical_crossentropy\",\n",
    " optimizer=\"rmsprop\",\n",
    " metrics=[\"accuracy\"])\n",
    "\n",
    "callbacks = [\n",
    " keras.callbacks.ModelCheckpoint(\n",
    " filepath=\"model5/best_version\",\n",
    " save_best_only=True,\n",
    " monitor=\"val_loss\")\n",
    "]\n",
    "\n",
    "history = model5.fit(\n",
    "    train_features, train_labels,\n",
    "    epochs=30,\n",
    "    validation_data=(val_features, val_labels),\n",
    "    callbacks=callbacks,\n",
    "    batch_size=BATCH_SIZE)"
   ]
  },
  {
   "cell_type": "code",
   "execution_count": 25,
   "metadata": {
    "pycharm": {
     "name": "#%%\n"
    }
   },
   "outputs": [
    {
     "name": "stdout",
     "output_type": "stream",
     "text": [
      "INFO:tensorflow:Assets written to: model5/model\\assets\n"
     ]
    }
   ],
   "source": [
    "model5.save('model5/model')\n",
    "np.save('model5/history.npy',history.history)"
   ]
  },
  {
   "cell_type": "code",
   "execution_count": 26,
   "metadata": {
    "pycharm": {
     "name": "#%%\n"
    }
   },
   "outputs": [
    {
     "data": {
      "image/png": "[encoded data removed]",
      "text/plain": [
       "<Figure size 432x288 with 1 Axes>"
      ]
     },
     "metadata": {
      "needs_background": "light"
     },
     "output_type": "display_data"
    }
   ],
   "source": [
    "loss = history.history[\"loss\"]\n",
    "val_loss = history.history[\"val_loss\"]\n",
    "epochs = range(1, len(loss) + 1)\n",
    "\n",
    "plt.plot(epochs, loss, \"b.\", label=\"Training loss\")\n",
    "plt.plot(epochs, val_loss, \"b\", label=\"Validation loss\")\n",
    "plt.title(\"Training and validation loss\")\n",
    "plt.xlabel(\"Epochs\")\n",
    "plt.ylabel(\"Loss\")\n",
    "plt.legend()\n",
    "plt.show()"
   ]
  },
  {
   "cell_type": "code",
   "execution_count": 27,
   "metadata": {
    "pycharm": {
     "name": "#%%\n"
    }
   },
   "outputs": [
    {
     "data": {
      "image/png": "[encoded data removed]",
      "text/plain": [
       "<Figure size 432x288 with 1 Axes>"
      ]
     },
     "metadata": {
      "needs_background": "light"
     },
     "output_type": "display_data"
    }
   ],
   "source": [
    "plt.clf()\n",
    "\n",
    "acc = history.history[\"accuracy\"]\n",
    "val_acc = history.history[\"val_accuracy\"]\n",
    "epochs = range(1, len(loss) + 1)\n",
    "\n",
    "plt.plot(epochs, acc, \"b.\", label=\"Training accuracy\")\n",
    "plt.plot(epochs, val_acc, \"b\", label=\"Validation accuracy\")\n",
    "plt.title(\"Training and validation accuracy\")\n",
    "plt.xlabel(\"Epochs\")\n",
    "plt.ylabel(\"Accuracy\")\n",
    "plt.legend()\n",
    "plt.show()"
   ]
  },
  {
   "cell_type": "code",
   "execution_count": 28,
   "metadata": {
    "pycharm": {
     "name": "#%%\n"
    }
   },
   "outputs": [
    {
     "name": "stdout",
     "output_type": "stream",
     "text": [
      "37/37 [==============================] - 0s 6ms/step - loss: 1.5087 - accuracy: 0.9026\n"
     ]
    },
    {
     "data": {
      "text/plain": [
       "[1.5087387561798096, 0.9025862216949463]"
      ]
     },
     "execution_count": 28,
     "metadata": {},
     "output_type": "execute_result"
    }
   ],
   "source": [
    "model = keras.models.load_model('model5/model')\n",
    "results= model.evaluate(test_features, test_labels)\n",
    "results"
   ]
  },
  {
   "cell_type": "code",
   "execution_count": 29,
   "metadata": {
    "pycharm": {
     "name": "#%%\n"
    }
   },
   "outputs": [
    {
     "name": "stdout",
     "output_type": "stream",
     "text": [
      "37/37 [==============================] - 0s 6ms/step - loss: 1.3592 - accuracy: 0.9129\n"
     ]
    },
    {
     "data": {
      "text/plain": [
       "[1.3592021465301514, 0.9129310250282288]"
      ]
     },
     "execution_count": 29,
     "metadata": {},
     "output_type": "execute_result"
    }
   ],
   "source": [
    "model = keras.models.load_model('model5/best_version')\n",
    "results= model.evaluate(test_features, test_labels)\n",
    "results"
   ]
  }
 ],
 "metadata": {
  "kernelspec": {
   "display_name": "Python 3 (ipykernel)",
   "language": "python",
   "name": "python3"
  },
  "language_info": {
   "codemirror_mode": {
    "name": "ipython",
    "version": 3
   },
   "file_extension": ".py",
   "mimetype": "text/x-python",
   "name": "python",
   "nbconvert_exporter": "python",
   "pygments_lexer": "ipython3",
   "version": "3.9.12"
  }
 },
 "nbformat": 4,
 "nbformat_minor": 1
}