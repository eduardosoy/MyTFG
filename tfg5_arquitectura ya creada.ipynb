{
 "cells": [
  {
   "cell_type": "markdown",
   "metadata": {},
   "source": [
    "# El modelo 4.1  vs Xception con extracción de características"
   ]
  },
  {
   "cell_type": "markdown",
   "metadata": {},
   "source": [
    "## Modelo 4.1"
   ]
  },
  {
   "cell_type": "code",
   "execution_count": 2,
   "metadata": {
    "pycharm": {
     "is_executing": true,
     "name": "#%%\n"
    }
   },
   "outputs": [],
   "source": [
    "from tensorflow import keras\n",
    "from tensorflow.keras import layers\n",
    "import os, shutil, pathlib\n",
    "from tensorflow.keras.utils import image_dataset_from_directory\n",
    "import matplotlib.pyplot as plt\n",
    "import numpy as np\n",
    "from tensorflow.keras.models import load_model"
   ]
  },
  {
   "cell_type": "code",
   "execution_count": 3,
   "metadata": {
    "pycharm": {
     "is_executing": true,
     "name": "#%%\n"
    }
   },
   "outputs": [],
   "source": [
    "original_dir = pathlib.Path(\"ExpandedDataset/\")\n",
    "new_base_dir = pathlib.Path(\"ExpandedDataset_organized/\")\n",
    "content = os.listdir(original_dir)\n",
    "BATCH_SIZE = 64\n",
    "size_x = 256\n",
    "size_y = 256"
   ]
  },
  {
   "cell_type": "code",
   "execution_count": 4,
   "metadata": {
    "pycharm": {
     "name": "#%%\n"
    }
   },
   "outputs": [
    {
     "name": "stdout",
     "output_type": "stream",
     "text": [
      "Found 9280 files belonging to 58 classes.\n",
      "Found 1160 files belonging to 58 classes.\n",
      "Found 1160 files belonging to 58 classes.\n"
     ]
    }
   ],
   "source": [
    "train_dataset = image_dataset_from_directory(\n",
    "    new_base_dir / \"train\",\n",
    "    image_size=(size_x, size_y),\n",
    "    batch_size=BATCH_SIZE,\n",
    "    label_mode='categorical')\n",
    "validation_dataset = image_dataset_from_directory(\n",
    "    new_base_dir / \"validation\",\n",
    "    image_size=(size_x, size_y),\n",
    "    batch_size=BATCH_SIZE,\n",
    "    label_mode='categorical')\n",
    "test_dataset = image_dataset_from_directory(\n",
    "    new_base_dir / \"test\",\n",
    "    image_size=(size_x, size_y),\n",
    "    batch_size=BATCH_SIZE,\n",
    "    label_mode='categorical')"
   ]
  },
  {
   "cell_type": "code",
   "execution_count": 6,
   "metadata": {
    "pycharm": {
     "name": "#%%\n"
    },
    "scrolled": true
   },
   "outputs": [
    {
     "name": "stdout",
     "output_type": "stream",
     "text": [
      "Model: \"model_1\"\n",
      "__________________________________________________________________________________________________\n",
      "Layer (type)                    Output Shape         Param #     Connected to                     \n",
      "==================================================================================================\n",
      "input_2 (InputLayer)            [(None, 256, 256, 3) 0                                            \n",
      "__________________________________________________________________________________________________\n",
      "rescaling_1 (Rescaling)         (None, 256, 256, 3)  0           input_2[0][0]                    \n",
      "__________________________________________________________________________________________________\n",
      "conv2d_11 (Conv2D)              (None, 254, 254, 16) 432         rescaling_1[0][0]                \n",
      "__________________________________________________________________________________________________\n",
      "batch_normalization_8 (BatchNor (None, 254, 254, 16) 64          conv2d_11[0][0]                  \n",
      "__________________________________________________________________________________________________\n",
      "activation_8 (Activation)       (None, 254, 254, 16) 0           batch_normalization_8[0][0]      \n",
      "__________________________________________________________________________________________________\n",
      "max_pooling2d_5 (MaxPooling2D)  (None, 127, 127, 16) 0           activation_8[0][0]               \n",
      "__________________________________________________________________________________________________\n",
      "conv2d_12 (Conv2D)              (None, 125, 125, 32) 4608        max_pooling2d_5[0][0]            \n",
      "__________________________________________________________________________________________________\n",
      "batch_normalization_9 (BatchNor (None, 125, 125, 32) 128         conv2d_12[0][0]                  \n",
      "__________________________________________________________________________________________________\n",
      "activation_9 (Activation)       (None, 125, 125, 32) 0           batch_normalization_9[0][0]      \n",
      "__________________________________________________________________________________________________\n",
      "max_pooling2d_6 (MaxPooling2D)  (None, 63, 63, 32)   0           activation_9[0][0]               \n",
      "__________________________________________________________________________________________________\n",
      "conv2d_13 (Conv2D)              (None, 63, 63, 64)   18432       max_pooling2d_6[0][0]            \n",
      "__________________________________________________________________________________________________\n",
      "batch_normalization_10 (BatchNo (None, 63, 63, 64)   256         conv2d_13[0][0]                  \n",
      "__________________________________________________________________________________________________\n",
      "activation_10 (Activation)      (None, 63, 63, 64)   0           batch_normalization_10[0][0]     \n",
      "__________________________________________________________________________________________________\n",
      "conv2d_14 (Conv2D)              (None, 63, 63, 64)   2112        activation_9[0][0]               \n",
      "__________________________________________________________________________________________________\n",
      "add_3 (Add)                     (None, 63, 63, 64)   0           activation_10[0][0]              \n",
      "                                                                 conv2d_14[0][0]                  \n",
      "__________________________________________________________________________________________________\n",
      "conv2d_15 (Conv2D)              (None, 61, 61, 64)   36864       add_3[0][0]                      \n",
      "__________________________________________________________________________________________________\n",
      "batch_normalization_11 (BatchNo (None, 61, 61, 64)   256         conv2d_15[0][0]                  \n",
      "__________________________________________________________________________________________________\n",
      "activation_11 (Activation)      (None, 61, 61, 64)   0           batch_normalization_11[0][0]     \n",
      "__________________________________________________________________________________________________\n",
      "max_pooling2d_7 (MaxPooling2D)  (None, 30, 30, 64)   0           activation_11[0][0]              \n",
      "__________________________________________________________________________________________________\n",
      "conv2d_16 (Conv2D)              (None, 28, 28, 128)  73728       max_pooling2d_7[0][0]            \n",
      "__________________________________________________________________________________________________\n",
      "batch_normalization_12 (BatchNo (None, 28, 28, 128)  512         conv2d_16[0][0]                  \n",
      "__________________________________________________________________________________________________\n",
      "activation_12 (Activation)      (None, 28, 28, 128)  0           batch_normalization_12[0][0]     \n",
      "__________________________________________________________________________________________________\n",
      "conv2d_17 (Conv2D)              (None, 28, 28, 128)  147456      activation_12[0][0]              \n",
      "__________________________________________________________________________________________________\n",
      "batch_normalization_13 (BatchNo (None, 28, 28, 128)  512         conv2d_17[0][0]                  \n",
      "__________________________________________________________________________________________________\n",
      "activation_13 (Activation)      (None, 28, 28, 128)  0           batch_normalization_13[0][0]     \n",
      "__________________________________________________________________________________________________\n",
      "max_pooling2d_8 (MaxPooling2D)  (None, 14, 14, 128)  0           activation_13[0][0]              \n",
      "__________________________________________________________________________________________________\n",
      "conv2d_18 (Conv2D)              (None, 14, 14, 128)  16512       activation_12[0][0]              \n",
      "__________________________________________________________________________________________________\n",
      "add_4 (Add)                     (None, 14, 14, 128)  0           max_pooling2d_8[0][0]            \n",
      "                                                                 conv2d_18[0][0]                  \n",
      "__________________________________________________________________________________________________\n",
      "conv2d_19 (Conv2D)              (None, 12, 12, 256)  294912      add_4[0][0]                      \n",
      "__________________________________________________________________________________________________\n",
      "batch_normalization_14 (BatchNo (None, 12, 12, 256)  1024        conv2d_19[0][0]                  \n",
      "__________________________________________________________________________________________________\n",
      "activation_14 (Activation)      (None, 12, 12, 256)  0           batch_normalization_14[0][0]     \n",
      "__________________________________________________________________________________________________\n",
      "conv2d_20 (Conv2D)              (None, 12, 12, 256)  589824      activation_14[0][0]              \n",
      "__________________________________________________________________________________________________\n",
      "batch_normalization_15 (BatchNo (None, 12, 12, 256)  1024        conv2d_20[0][0]                  \n",
      "__________________________________________________________________________________________________\n",
      "activation_15 (Activation)      (None, 12, 12, 256)  0           batch_normalization_15[0][0]     \n",
      "__________________________________________________________________________________________________\n",
      "conv2d_21 (Conv2D)              (None, 12, 12, 256)  65792       activation_14[0][0]              \n",
      "__________________________________________________________________________________________________\n",
      "add_5 (Add)                     (None, 12, 12, 256)  0           activation_15[0][0]              \n",
      "                                                                 conv2d_21[0][0]                  \n",
      "__________________________________________________________________________________________________\n",
      "max_pooling2d_9 (MaxPooling2D)  (None, 6, 6, 256)    0           add_5[0][0]                      \n",
      "__________________________________________________________________________________________________\n",
      "dense_4 (Dense)                 (None, 6, 6, 64)     16448       max_pooling2d_9[0][0]            \n",
      "__________________________________________________________________________________________________\n",
      "dense_5 (Dense)                 (None, 6, 6, 64)     4160        dense_4[0][0]                    \n",
      "__________________________________________________________________________________________________\n",
      "dense_6 (Dense)                 (None, 6, 6, 64)     4160        dense_5[0][0]                    \n",
      "__________________________________________________________________________________________________\n",
      "global_average_pooling2d_1 (Glo (None, 64)           0           dense_6[0][0]                    \n",
      "__________________________________________________________________________________________________\n",
      "dropout_1 (Dropout)             (None, 64)           0           global_average_pooling2d_1[0][0] \n",
      "__________________________________________________________________________________________________\n",
      "dense_7 (Dense)                 (None, 58)           3770        dropout_1[0][0]                  \n",
      "==================================================================================================\n",
      "Total params: 1,282,986\n",
      "Trainable params: 1,281,098\n",
      "Non-trainable params: 1,888\n",
      "__________________________________________________________________________________________________\n"
     ]
    }
   ],
   "source": [
    "inputs = keras.Input(shape=(size_x, size_y, 3)) \n",
    "x = layers.Rescaling(1./255)(inputs) \n",
    "x = layers.Conv2D(filters=16, kernel_size=3, use_bias=False)(x)\n",
    "x = layers.BatchNormalization()(x)\n",
    "x = layers.Activation(\"relu\")(x) \n",
    "x = layers.MaxPooling2D(pool_size=2)(x)\n",
    "x = layers.Conv2D(filters=32, kernel_size=3, use_bias=False)(x)\n",
    "x = layers.BatchNormalization()(x)\n",
    "x = layers.Activation(\"relu\")(x) \n",
    "residual = x\n",
    "x = layers.MaxPooling2D(pool_size=2, padding = \"same\")(x)\n",
    "x = layers.Conv2D(filters=64, kernel_size=3, use_bias=False, padding = \"same\")(x)\n",
    "x = layers.BatchNormalization()(x)\n",
    "x = layers.Activation(\"relu\")(x) \n",
    "residual = layers.Conv2D(64, 1, strides = 2)(residual)\n",
    "x = layers.add([x, residual])\n",
    "x = layers.Conv2D(filters=64, kernel_size=3, use_bias=False)(x)\n",
    "x = layers.BatchNormalization()(x)\n",
    "x = layers.Activation(\"relu\")(x) \n",
    "x = layers.MaxPooling2D(pool_size=2)(x)\n",
    "x = layers.Conv2D(filters=128, kernel_size=3, use_bias=False)(x)\n",
    "x = layers.BatchNormalization()(x)\n",
    "x = layers.Activation(\"relu\")(x) \n",
    "residual = x\n",
    "x = layers.Conv2D(filters=128, kernel_size=3, use_bias=False,  padding=\"same\")(x)\n",
    "x = layers.BatchNormalization()(x)\n",
    "x = layers.Activation(\"relu\")(x) \n",
    "x = layers.MaxPooling2D(pool_size=2, padding=\"same\")(x)\n",
    "residual = layers.Conv2D(128, 1, strides = 2)(residual)\n",
    "x = layers.add([x, residual])\n",
    "x = layers.Conv2D(filters=256, kernel_size=3, use_bias=False)(x)\n",
    "x = layers.BatchNormalization()(x)\n",
    "x = layers.Activation(\"relu\")(x) \n",
    "residual = x \n",
    "x = layers.Conv2D(filters=256, kernel_size=3, use_bias=False,padding=\"same\")(x)\n",
    "x = layers.BatchNormalization()(x)\n",
    "x = layers.Activation(\"relu\")(x) \n",
    "residual = layers.Conv2D(256, 1)(residual)\n",
    "x = layers.add([x, residual])\n",
    "x = layers.MaxPooling2D(pool_size=2)(x)\n",
    "x = layers.Dense(64, activation = \"relu\")(x)\n",
    "x = layers.Dense(64, activation = \"relu\")(x)\n",
    "x = layers.Dense(64, activation = \"relu\")(x)\n",
    "x = layers.GlobalAveragePooling2D()(x) \n",
    "x = layers.Dropout(0.5)(x)\n",
    "outputs = layers.Dense(58, activation=\"softmax\")(x)\n",
    "model4_1_extended = keras.Model(inputs=inputs, outputs=outputs)\n",
    "\n",
    "model4_1_extended.summary()"
   ]
  },
  {
   "cell_type": "code",
   "execution_count": 7,
   "metadata": {
    "pycharm": {
     "name": "#%%\n"
    },
    "scrolled": true
   },
   "outputs": [
    {
     "name": "stdout",
     "output_type": "stream",
     "text": [
      "Epoch 1/100\n",
      "145/145 [==============================] - 83s 153ms/step - loss: 3.6992 - accuracy: 0.0792 - val_loss: 5.1696 - val_accuracy: 0.0302\n",
      "Epoch 2/100\n",
      "145/145 [==============================] - 48s 326ms/step - loss: 2.9981 - accuracy: 0.1784 - val_loss: 5.2302 - val_accuracy: 0.0267\n",
      "Epoch 3/100\n",
      "145/145 [==============================] - 21s 137ms/step - loss: 2.5984 - accuracy: 0.2553 - val_loss: 3.2319 - val_accuracy: 0.1483\n",
      "Epoch 4/100\n",
      "145/145 [==============================] - 20s 130ms/step - loss: 2.3072 - accuracy: 0.3148 - val_loss: 2.1029 - val_accuracy: 0.3819\n",
      "Epoch 5/100\n",
      "145/145 [==============================] - 24s 160ms/step - loss: 2.0804 - accuracy: 0.3673 - val_loss: 2.1954 - val_accuracy: 0.3431\n",
      "Epoch 6/100\n",
      "145/145 [==============================] - 24s 159ms/step - loss: 1.9180 - accuracy: 0.4126 - val_loss: 1.6018 - val_accuracy: 0.4897\n",
      "Epoch 7/100\n",
      "145/145 [==============================] - 25s 164ms/step - loss: 1.7740 - accuracy: 0.4537 - val_loss: 1.7894 - val_accuracy: 0.4422\n",
      "Epoch 8/100\n",
      "145/145 [==============================] - 25s 166ms/step - loss: 1.6312 - accuracy: 0.4885 - val_loss: 1.8865 - val_accuracy: 0.4267\n",
      "Epoch 9/100\n",
      "145/145 [==============================] - 24s 159ms/step - loss: 1.5627 - accuracy: 0.5151 - val_loss: 1.6263 - val_accuracy: 0.5000\n",
      "Epoch 10/100\n",
      "145/145 [==============================] - 23s 153ms/step - loss: 1.4442 - accuracy: 0.5518 - val_loss: 2.8142 - val_accuracy: 0.3034\n",
      "Epoch 11/100\n",
      "145/145 [==============================] - 25s 163ms/step - loss: 1.3388 - accuracy: 0.5824 - val_loss: 1.1684 - val_accuracy: 0.6457\n",
      "Epoch 12/100\n",
      "145/145 [==============================] - 24s 157ms/step - loss: 1.2831 - accuracy: 0.5983 - val_loss: 1.1018 - val_accuracy: 0.6638\n",
      "Epoch 13/100\n",
      "145/145 [==============================] - 24s 158ms/step - loss: 1.2316 - accuracy: 0.6074 - val_loss: 1.2679 - val_accuracy: 0.5836\n",
      "Epoch 14/100\n",
      "145/145 [==============================] - 24s 160ms/step - loss: 1.1829 - accuracy: 0.6310 - val_loss: 2.0039 - val_accuracy: 0.5328\n",
      "Epoch 15/100\n",
      "145/145 [==============================] - 25s 162ms/step - loss: 1.1137 - accuracy: 0.6429 - val_loss: 1.2868 - val_accuracy: 0.5966\n",
      "Epoch 16/100\n",
      "145/145 [==============================] - 25s 161ms/step - loss: 1.0481 - accuracy: 0.6719 - val_loss: 1.4713 - val_accuracy: 0.5940\n",
      "Epoch 17/100\n",
      "145/145 [==============================] - 25s 165ms/step - loss: 0.9856 - accuracy: 0.6880 - val_loss: 0.9751 - val_accuracy: 0.6819\n",
      "Epoch 18/100\n",
      "145/145 [==============================] - 24s 156ms/step - loss: 0.9740 - accuracy: 0.6859 - val_loss: 1.0997 - val_accuracy: 0.6517\n",
      "Epoch 19/100\n",
      "145/145 [==============================] - 24s 158ms/step - loss: 0.9084 - accuracy: 0.7097 - val_loss: 1.2225 - val_accuracy: 0.6362\n",
      "Epoch 20/100\n",
      "145/145 [==============================] - 24s 158ms/step - loss: 0.8791 - accuracy: 0.7214 - val_loss: 1.0771 - val_accuracy: 0.6862\n",
      "Epoch 21/100\n",
      "145/145 [==============================] - 24s 156ms/step - loss: 0.8340 - accuracy: 0.7332 - val_loss: 1.1509 - val_accuracy: 0.6397\n",
      "Epoch 22/100\n",
      "145/145 [==============================] - 24s 158ms/step - loss: 0.8060 - accuracy: 0.7431 - val_loss: 0.8584 - val_accuracy: 0.7155\n",
      "Epoch 23/100\n",
      "145/145 [==============================] - 24s 161ms/step - loss: 0.7843 - accuracy: 0.7508 - val_loss: 0.9988 - val_accuracy: 0.7017\n",
      "Epoch 24/100\n",
      "145/145 [==============================] - 25s 162ms/step - loss: 0.7440 - accuracy: 0.7565 - val_loss: 1.2170 - val_accuracy: 0.6741\n",
      "Epoch 25/100\n",
      "145/145 [==============================] - 24s 157ms/step - loss: 0.7246 - accuracy: 0.7667 - val_loss: 0.8174 - val_accuracy: 0.7431\n",
      "Epoch 26/100\n",
      "145/145 [==============================] - 25s 164ms/step - loss: 0.6984 - accuracy: 0.7812 - val_loss: 1.1041 - val_accuracy: 0.6733\n",
      "Epoch 27/100\n",
      "145/145 [==============================] - 24s 159ms/step - loss: 0.6709 - accuracy: 0.7858 - val_loss: 0.6313 - val_accuracy: 0.8017\n",
      "Epoch 28/100\n",
      "145/145 [==============================] - 24s 155ms/step - loss: 0.6884 - accuracy: 0.7807 - val_loss: 1.1839 - val_accuracy: 0.6440\n",
      "Epoch 29/100\n",
      "145/145 [==============================] - 24s 160ms/step - loss: 0.6327 - accuracy: 0.8011 - val_loss: 0.5920 - val_accuracy: 0.8043\n",
      "Epoch 30/100\n",
      "145/145 [==============================] - 24s 156ms/step - loss: 0.6241 - accuracy: 0.8071 - val_loss: 1.9678 - val_accuracy: 0.5733\n",
      "Epoch 31/100\n",
      "145/145 [==============================] - 24s 159ms/step - loss: 0.5987 - accuracy: 0.8103 - val_loss: 0.8603 - val_accuracy: 0.7578\n",
      "Epoch 32/100\n",
      "145/145 [==============================] - 24s 157ms/step - loss: 0.5801 - accuracy: 0.8125 - val_loss: 2.2254 - val_accuracy: 0.5560\n",
      "Epoch 33/100\n",
      "145/145 [==============================] - 24s 159ms/step - loss: 0.5726 - accuracy: 0.8155 - val_loss: 1.4665 - val_accuracy: 0.6655\n",
      "Epoch 34/100\n",
      "145/145 [==============================] - 25s 166ms/step - loss: 0.5521 - accuracy: 0.8230 - val_loss: 0.6948 - val_accuracy: 0.7897\n",
      "Epoch 35/100\n",
      "145/145 [==============================] - 21s 135ms/step - loss: 0.5466 - accuracy: 0.8238 - val_loss: 0.4813 - val_accuracy: 0.8388\n",
      "Epoch 36/100\n",
      "145/145 [==============================] - 20s 131ms/step - loss: 0.5148 - accuracy: 0.8318 - val_loss: 0.5755 - val_accuracy: 0.8112\n",
      "Epoch 37/100\n",
      "145/145 [==============================] - 20s 131ms/step - loss: 0.4975 - accuracy: 0.8409 - val_loss: 0.9963 - val_accuracy: 0.7198\n",
      "Epoch 38/100\n",
      "145/145 [==============================] - 20s 131ms/step - loss: 0.4959 - accuracy: 0.8380 - val_loss: 0.6105 - val_accuracy: 0.8034\n",
      "Epoch 39/100\n",
      "145/145 [==============================] - 20s 131ms/step - loss: 0.4590 - accuracy: 0.8515 - val_loss: 1.3302 - val_accuracy: 0.6974\n",
      "Epoch 40/100\n",
      "145/145 [==============================] - 20s 130ms/step - loss: 0.4544 - accuracy: 0.8538 - val_loss: 0.6534 - val_accuracy: 0.8207\n",
      "Epoch 41/100\n",
      "145/145 [==============================] - 20s 129ms/step - loss: 0.4517 - accuracy: 0.8556 - val_loss: 0.4703 - val_accuracy: 0.8534\n",
      "Epoch 42/100\n",
      "145/145 [==============================] - 20s 130ms/step - loss: 0.4393 - accuracy: 0.8585 - val_loss: 1.0742 - val_accuracy: 0.7267\n",
      "Epoch 43/100\n",
      "145/145 [==============================] - 20s 130ms/step - loss: 0.4355 - accuracy: 0.8635 - val_loss: 0.6180 - val_accuracy: 0.8155\n",
      "Epoch 44/100\n",
      "145/145 [==============================] - 20s 129ms/step - loss: 0.4201 - accuracy: 0.8680 - val_loss: 0.4182 - val_accuracy: 0.8509\n",
      "Epoch 45/100\n",
      "145/145 [==============================] - 20s 129ms/step - loss: 0.3910 - accuracy: 0.8722 - val_loss: 0.5857 - val_accuracy: 0.8207\n",
      "Epoch 46/100\n",
      "145/145 [==============================] - 20s 130ms/step - loss: 0.4039 - accuracy: 0.8723 - val_loss: 0.5090 - val_accuracy: 0.8440\n",
      "Epoch 47/100\n",
      "145/145 [==============================] - 20s 129ms/step - loss: 0.3921 - accuracy: 0.8717 - val_loss: 0.7081 - val_accuracy: 0.8345\n",
      "Epoch 48/100\n",
      "145/145 [==============================] - 20s 131ms/step - loss: 0.3714 - accuracy: 0.8829 - val_loss: 0.8451 - val_accuracy: 0.7871\n",
      "Epoch 49/100\n",
      "145/145 [==============================] - 20s 130ms/step - loss: 0.3506 - accuracy: 0.8849 - val_loss: 0.5326 - val_accuracy: 0.8543\n",
      "Epoch 50/100\n",
      "145/145 [==============================] - 20s 130ms/step - loss: 0.3614 - accuracy: 0.8839 - val_loss: 0.6320 - val_accuracy: 0.8371\n",
      "Epoch 51/100\n",
      "145/145 [==============================] - 20s 130ms/step - loss: 0.3262 - accuracy: 0.8920 - val_loss: 1.8477 - val_accuracy: 0.6172\n",
      "Epoch 52/100\n",
      "145/145 [==============================] - 20s 130ms/step - loss: 0.3340 - accuracy: 0.8926 - val_loss: 1.3878 - val_accuracy: 0.7216\n",
      "Epoch 53/100\n",
      "145/145 [==============================] - 20s 130ms/step - loss: 0.3336 - accuracy: 0.8920 - val_loss: 1.0059 - val_accuracy: 0.7862\n",
      "Epoch 54/100\n",
      "145/145 [==============================] - 20s 130ms/step - loss: 0.3354 - accuracy: 0.8972 - val_loss: 0.5182 - val_accuracy: 0.8698\n",
      "Epoch 55/100\n",
      "145/145 [==============================] - 20s 130ms/step - loss: 0.3051 - accuracy: 0.9004 - val_loss: 0.7981 - val_accuracy: 0.7974\n",
      "Epoch 56/100\n",
      "145/145 [==============================] - 20s 129ms/step - loss: 0.2978 - accuracy: 0.9037 - val_loss: 0.2929 - val_accuracy: 0.9138\n",
      "Epoch 57/100\n",
      "145/145 [==============================] - 19s 128ms/step - loss: 0.2926 - accuracy: 0.9115 - val_loss: 1.0088 - val_accuracy: 0.7750\n",
      "Epoch 58/100\n",
      "145/145 [==============================] - 19s 128ms/step - loss: 0.2957 - accuracy: 0.9082 - val_loss: 0.4981 - val_accuracy: 0.8552\n",
      "Epoch 59/100\n",
      "145/145 [==============================] - 20s 129ms/step - loss: 0.2828 - accuracy: 0.9123 - val_loss: 0.4563 - val_accuracy: 0.8741\n",
      "Epoch 60/100\n",
      "145/145 [==============================] - 20s 129ms/step - loss: 0.2725 - accuracy: 0.9148 - val_loss: 0.4167 - val_accuracy: 0.8819\n",
      "Epoch 61/100\n",
      "145/145 [==============================] - 19s 128ms/step - loss: 0.2918 - accuracy: 0.9084 - val_loss: 0.8244 - val_accuracy: 0.8017\n",
      "Epoch 62/100\n",
      "145/145 [==============================] - 20s 129ms/step - loss: 0.2605 - accuracy: 0.9176 - val_loss: 0.6677 - val_accuracy: 0.8345\n",
      "Epoch 63/100\n",
      "145/145 [==============================] - 20s 130ms/step - loss: 0.2690 - accuracy: 0.9170 - val_loss: 0.5861 - val_accuracy: 0.8517\n",
      "Epoch 64/100\n",
      "145/145 [==============================] - 20s 129ms/step - loss: 0.2521 - accuracy: 0.9210 - val_loss: 0.4550 - val_accuracy: 0.8828\n",
      "Epoch 65/100\n",
      "145/145 [==============================] - 20s 129ms/step - loss: 0.2624 - accuracy: 0.9197 - val_loss: 0.3412 - val_accuracy: 0.9060\n",
      "Epoch 66/100\n",
      "145/145 [==============================] - 20s 129ms/step - loss: 0.2511 - accuracy: 0.9227 - val_loss: 0.8873 - val_accuracy: 0.7836\n",
      "Epoch 67/100\n",
      "145/145 [==============================] - 19s 128ms/step - loss: 0.2373 - accuracy: 0.9248 - val_loss: 0.4729 - val_accuracy: 0.8690\n",
      "Epoch 68/100\n",
      "145/145 [==============================] - 20s 129ms/step - loss: 0.2404 - accuracy: 0.9241 - val_loss: 0.7078 - val_accuracy: 0.8224\n",
      "Epoch 69/100\n",
      "145/145 [==============================] - 20s 129ms/step - loss: 0.2399 - accuracy: 0.9260 - val_loss: 0.5623 - val_accuracy: 0.8517\n",
      "Epoch 70/100\n",
      "145/145 [==============================] - 20s 130ms/step - loss: 0.2461 - accuracy: 0.9260 - val_loss: 0.2909 - val_accuracy: 0.9129\n",
      "Epoch 71/100\n",
      "145/145 [==============================] - 20s 129ms/step - loss: 0.2342 - accuracy: 0.9301 - val_loss: 0.9867 - val_accuracy: 0.8138\n",
      "Epoch 72/100\n",
      "145/145 [==============================] - 20s 129ms/step - loss: 0.2391 - accuracy: 0.9274 - val_loss: 0.4063 - val_accuracy: 0.8828\n",
      "Epoch 73/100\n",
      "145/145 [==============================] - 20s 131ms/step - loss: 0.2150 - accuracy: 0.9314 - val_loss: 0.3949 - val_accuracy: 0.8957\n",
      "Epoch 74/100\n",
      "145/145 [==============================] - 20s 129ms/step - loss: 0.2126 - accuracy: 0.9356 - val_loss: 0.3800 - val_accuracy: 0.8940\n",
      "Epoch 75/100\n",
      "145/145 [==============================] - 19s 128ms/step - loss: 0.2097 - accuracy: 0.9387 - val_loss: 0.8275 - val_accuracy: 0.8319\n",
      "Epoch 76/100\n",
      "145/145 [==============================] - 19s 128ms/step - loss: 0.2078 - accuracy: 0.9352 - val_loss: 1.1881 - val_accuracy: 0.7448\n",
      "Epoch 77/100\n",
      "145/145 [==============================] - 20s 130ms/step - loss: 0.2073 - accuracy: 0.9389 - val_loss: 0.7578 - val_accuracy: 0.8422\n",
      "Epoch 78/100\n",
      "145/145 [==============================] - 20s 129ms/step - loss: 0.2104 - accuracy: 0.9377 - val_loss: 0.5133 - val_accuracy: 0.8914\n",
      "Epoch 79/100\n",
      "145/145 [==============================] - 20s 129ms/step - loss: 0.2021 - accuracy: 0.9386 - val_loss: 0.7341 - val_accuracy: 0.8345\n",
      "Epoch 80/100\n",
      "145/145 [==============================] - 25s 167ms/step - loss: 0.1975 - accuracy: 0.9421 - val_loss: 0.5409 - val_accuracy: 0.8681\n",
      "Epoch 81/100\n",
      "145/145 [==============================] - 29s 189ms/step - loss: 0.2022 - accuracy: 0.9366 - val_loss: 0.2928 - val_accuracy: 0.9259\n",
      "Epoch 82/100\n",
      "145/145 [==============================] - 28s 186ms/step - loss: 0.1892 - accuracy: 0.9422 - val_loss: 1.0888 - val_accuracy: 0.8345\n",
      "Epoch 83/100\n",
      "145/145 [==============================] - 28s 186ms/step - loss: 0.1947 - accuracy: 0.9421 - val_loss: 0.5693 - val_accuracy: 0.8871\n",
      "Epoch 84/100\n",
      "145/145 [==============================] - 28s 186ms/step - loss: 0.1908 - accuracy: 0.9492 - val_loss: 0.5187 - val_accuracy: 0.8629\n",
      "Epoch 85/100\n",
      "145/145 [==============================] - 28s 185ms/step - loss: 0.1958 - accuracy: 0.9405 - val_loss: 1.4042 - val_accuracy: 0.7319\n",
      "Epoch 86/100\n",
      "145/145 [==============================] - 28s 186ms/step - loss: 0.1909 - accuracy: 0.9454 - val_loss: 0.4581 - val_accuracy: 0.8922\n",
      "Epoch 87/100\n",
      "145/145 [==============================] - 28s 186ms/step - loss: 0.1750 - accuracy: 0.9470 - val_loss: 0.5787 - val_accuracy: 0.8819\n",
      "Epoch 88/100\n",
      "145/145 [==============================] - 28s 186ms/step - loss: 0.1767 - accuracy: 0.9485 - val_loss: 0.6985 - val_accuracy: 0.8241\n",
      "Epoch 89/100\n",
      "145/145 [==============================] - 28s 185ms/step - loss: 0.1830 - accuracy: 0.9453 - val_loss: 0.6179 - val_accuracy: 0.8526\n",
      "Epoch 90/100\n",
      "145/145 [==============================] - 28s 185ms/step - loss: 0.1627 - accuracy: 0.9510 - val_loss: 0.3230 - val_accuracy: 0.9121\n",
      "Epoch 91/100\n",
      "145/145 [==============================] - 28s 185ms/step - loss: 0.1854 - accuracy: 0.9470 - val_loss: 0.6878 - val_accuracy: 0.8397\n",
      "Epoch 92/100\n",
      "145/145 [==============================] - 28s 185ms/step - loss: 0.1660 - accuracy: 0.9508 - val_loss: 0.7221 - val_accuracy: 0.8724\n",
      "Epoch 93/100\n",
      "145/145 [==============================] - 28s 185ms/step - loss: 0.1788 - accuracy: 0.9496 - val_loss: 0.4979 - val_accuracy: 0.8819\n",
      "Epoch 94/100\n",
      "145/145 [==============================] - 28s 185ms/step - loss: 0.1643 - accuracy: 0.9517 - val_loss: 0.6884 - val_accuracy: 0.8224\n",
      "Epoch 95/100\n",
      "145/145 [==============================] - 28s 185ms/step - loss: 0.1567 - accuracy: 0.9552 - val_loss: 2.7882 - val_accuracy: 0.7534\n",
      "Epoch 96/100\n",
      "145/145 [==============================] - 28s 186ms/step - loss: 0.1745 - accuracy: 0.9551 - val_loss: 0.5729 - val_accuracy: 0.8569\n",
      "Epoch 97/100\n",
      "145/145 [==============================] - 27s 183ms/step - loss: 0.1767 - accuracy: 0.9537 - val_loss: 1.8930 - val_accuracy: 0.7310\n",
      "Epoch 98/100\n",
      "145/145 [==============================] - 27s 183ms/step - loss: 0.1461 - accuracy: 0.9592 - val_loss: 0.6384 - val_accuracy: 0.8647\n",
      "Epoch 99/100\n",
      "145/145 [==============================] - 27s 183ms/step - loss: 0.1547 - accuracy: 0.9554 - val_loss: 0.4312 - val_accuracy: 0.8983\n",
      "Epoch 100/100\n",
      "145/145 [==============================] - 27s 183ms/step - loss: 0.1504 - accuracy: 0.9553 - val_loss: 0.4451 - val_accuracy: 0.8957\n"
     ]
    }
   ],
   "source": [
    "model4_1_extended.compile(loss=\"categorical_crossentropy\",\n",
    " optimizer=\"rmsprop\",\n",
    " metrics=[\"accuracy\"])\n",
    "\n",
    "history = model4_1_extended.fit(\n",
    " train_dataset,\n",
    " epochs=100,\n",
    " validation_data=validation_dataset)"
   ]
  },
  {
   "cell_type": "code",
   "execution_count": 8,
   "metadata": {
    "pycharm": {
     "name": "#%%\n"
    }
   },
   "outputs": [
    {
     "name": "stdout",
     "output_type": "stream",
     "text": [
      "INFO:tensorflow:Assets written to: model4_1_extended/model\\assets\n"
     ]
    },
    {
     "name": "stderr",
     "output_type": "stream",
     "text": [
      "F:\\Programas\\Anaconda\\envs\\TFGapp\\lib\\site-packages\\keras\\utils\\generic_utils.py:494: CustomMaskWarning: Custom mask layers require a config and must override get_config. When loading, the custom mask layer must be passed to the custom_objects argument.\n",
      "  warnings.warn('Custom mask layers require a config and must override '\n"
     ]
    }
   ],
   "source": [
    "model4_1_extended.save('model4_1_extended/model')\n",
    "np.save('model4_1_extended/history.npy',history.history)"
   ]
  },
  {
   "cell_type": "code",
   "execution_count": 10,
   "metadata": {
    "pycharm": {
     "name": "#%%\n"
    }
   },
   "outputs": [
    {
     "data": {
      "image/png": "[encoded data removed]",
      "text/plain": [
       "<Figure size 432x288 with 1 Axes>"
      ]
     },
     "metadata": {
      "needs_background": "light"
     },
     "output_type": "display_data"
    }
   ],
   "source": [
    "loss = history.history[\"loss\"]\n",
    "val_loss = history.history[\"val_loss\"]\n",
    "epochs = range(1, len(loss) + 1)\n",
    "\n",
    "plt.plot(epochs, loss, \"b.\", label=\"Training loss\")\n",
    "plt.plot(epochs, val_loss, \"b\", label=\"Validation loss\")\n",
    "plt.title(\"Training and validation loss\")\n",
    "plt.xlabel(\"Epochs\")\n",
    "plt.ylabel(\"Loss\")\n",
    "plt.legend()\n",
    "plt.show()"
   ]
  },
  {
   "cell_type": "code",
   "execution_count": 11,
   "metadata": {
    "pycharm": {
     "name": "#%%\n"
    }
   },
   "outputs": [
    {
     "data": {
      "image/png": "[encoded data removed]",
      "text/plain": [
       "<Figure size 432x288 with 1 Axes>"
      ]
     },
     "metadata": {
      "needs_background": "light"
     },
     "output_type": "display_data"
    }
   ],
   "source": [
    "plt.clf()\n",
    "\n",
    "acc = history.history[\"accuracy\"]\n",
    "val_acc = history.history[\"val_accuracy\"]\n",
    "epochs = range(1, len(loss) + 1)\n",
    "\n",
    "plt.plot(epochs, acc, \"b.\", label=\"Training accuracy\")\n",
    "plt.plot(epochs, val_acc, \"b\", label=\"Validation accuracy\")\n",
    "plt.title(\"Training and validation accuracy\")\n",
    "plt.xlabel(\"Epochs\")\n",
    "plt.ylabel(\"Accuracy\")\n",
    "plt.legend()\n",
    "plt.show()"
   ]
  },
  {
   "cell_type": "code",
   "execution_count": 12,
   "metadata": {
    "pycharm": {
     "name": "#%%\n"
    }
   },
   "outputs": [
    {
     "name": "stdout",
     "output_type": "stream",
     "text": [
      "19/19 [==============================] - 3s 77ms/step - loss: 0.5244 - accuracy: 0.8836\n"
     ]
    },
    {
     "data": {
      "text/plain": [
       "[0.5244119167327881, 0.8836206793785095]"
      ]
     },
     "execution_count": 12,
     "metadata": {},
     "output_type": "execute_result"
    }
   ],
   "source": [
    "model = keras.models.load_model('model4_1_extended/model')\n",
    "results= model.evaluate(test_dataset)\n",
    "results"
   ]
  },
  {
   "cell_type": "markdown",
   "metadata": {
    "pycharm": {
     "name": "#%% md\n"
    }
   },
   "source": [
    "# Xception previamente entrenado con extracción de características"
   ]
  },
  {
   "cell_type": "code",
   "execution_count": 16,
   "metadata": {
    "pycharm": {
     "name": "#%%\n"
    }
   },
   "outputs": [],
   "source": [
    "xception_base = keras.applications.Xception(\n",
    "    weights=\"imagenet\",\n",
    "    include_top=False,\n",
    "    input_shape=(size_x , size_y, 3))"
   ]
  },
  {
   "cell_type": "code",
   "execution_count": 17,
   "metadata": {
    "pycharm": {
     "name": "#%%\n"
    }
   },
   "outputs": [
    {
     "name": "stdout",
     "output_type": "stream",
     "text": [
      "Model: \"xception\"\n",
      "__________________________________________________________________________________________________\n",
      "Layer (type)                    Output Shape         Param #     Connected to                     \n",
      "==================================================================================================\n",
      "input_3 (InputLayer)            [(None, 256, 256, 3) 0                                            \n",
      "__________________________________________________________________________________________________\n",
      "block1_conv1 (Conv2D)           (None, 127, 127, 32) 864         input_3[0][0]                    \n",
      "__________________________________________________________________________________________________\n",
      "block1_conv1_bn (BatchNormaliza (None, 127, 127, 32) 128         block1_conv1[0][0]               \n",
      "__________________________________________________________________________________________________\n",
      "block1_conv1_act (Activation)   (None, 127, 127, 32) 0           block1_conv1_bn[0][0]            \n",
      "__________________________________________________________________________________________________\n",
      "block1_conv2 (Conv2D)           (None, 125, 125, 64) 18432       block1_conv1_act[0][0]           \n",
      "__________________________________________________________________________________________________\n",
      "block1_conv2_bn (BatchNormaliza (None, 125, 125, 64) 256         block1_conv2[0][0]               \n",
      "__________________________________________________________________________________________________\n",
      "block1_conv2_act (Activation)   (None, 125, 125, 64) 0           block1_conv2_bn[0][0]            \n",
      "__________________________________________________________________________________________________\n",
      "block2_sepconv1 (SeparableConv2 (None, 125, 125, 128 8768        block1_conv2_act[0][0]           \n",
      "__________________________________________________________________________________________________\n",
      "block2_sepconv1_bn (BatchNormal (None, 125, 125, 128 512         block2_sepconv1[0][0]            \n",
      "__________________________________________________________________________________________________\n",
      "block2_sepconv2_act (Activation (None, 125, 125, 128 0           block2_sepconv1_bn[0][0]         \n",
      "__________________________________________________________________________________________________\n",
      "block2_sepconv2 (SeparableConv2 (None, 125, 125, 128 17536       block2_sepconv2_act[0][0]        \n",
      "__________________________________________________________________________________________________\n",
      "block2_sepconv2_bn (BatchNormal (None, 125, 125, 128 512         block2_sepconv2[0][0]            \n",
      "__________________________________________________________________________________________________\n",
      "conv2d_4 (Conv2D)               (None, 63, 63, 128)  8192        block1_conv2_act[0][0]           \n",
      "__________________________________________________________________________________________________\n",
      "block2_pool (MaxPooling2D)      (None, 63, 63, 128)  0           block2_sepconv2_bn[0][0]         \n",
      "__________________________________________________________________________________________________\n",
      "batch_normalization_4 (BatchNor (None, 63, 63, 128)  512         conv2d_4[0][0]                   \n",
      "__________________________________________________________________________________________________\n",
      "add_12 (Add)                    (None, 63, 63, 128)  0           block2_pool[0][0]                \n",
      "                                                                 batch_normalization_4[0][0]      \n",
      "__________________________________________________________________________________________________\n",
      "block3_sepconv1_act (Activation (None, 63, 63, 128)  0           add_12[0][0]                     \n",
      "__________________________________________________________________________________________________\n",
      "block3_sepconv1 (SeparableConv2 (None, 63, 63, 256)  33920       block3_sepconv1_act[0][0]        \n",
      "__________________________________________________________________________________________________\n",
      "block3_sepconv1_bn (BatchNormal (None, 63, 63, 256)  1024        block3_sepconv1[0][0]            \n",
      "__________________________________________________________________________________________________\n",
      "block3_sepconv2_act (Activation (None, 63, 63, 256)  0           block3_sepconv1_bn[0][0]         \n",
      "__________________________________________________________________________________________________\n",
      "block3_sepconv2 (SeparableConv2 (None, 63, 63, 256)  67840       block3_sepconv2_act[0][0]        \n",
      "__________________________________________________________________________________________________\n",
      "block3_sepconv2_bn (BatchNormal (None, 63, 63, 256)  1024        block3_sepconv2[0][0]            \n",
      "__________________________________________________________________________________________________\n",
      "conv2d_5 (Conv2D)               (None, 32, 32, 256)  32768       add_12[0][0]                     \n",
      "__________________________________________________________________________________________________\n",
      "block3_pool (MaxPooling2D)      (None, 32, 32, 256)  0           block3_sepconv2_bn[0][0]         \n",
      "__________________________________________________________________________________________________\n",
      "batch_normalization_5 (BatchNor (None, 32, 32, 256)  1024        conv2d_5[0][0]                   \n",
      "__________________________________________________________________________________________________\n",
      "add_13 (Add)                    (None, 32, 32, 256)  0           block3_pool[0][0]                \n",
      "                                                                 batch_normalization_5[0][0]      \n",
      "__________________________________________________________________________________________________\n",
      "block4_sepconv1_act (Activation (None, 32, 32, 256)  0           add_13[0][0]                     \n",
      "__________________________________________________________________________________________________\n",
      "block4_sepconv1 (SeparableConv2 (None, 32, 32, 728)  188672      block4_sepconv1_act[0][0]        \n",
      "__________________________________________________________________________________________________\n",
      "block4_sepconv1_bn (BatchNormal (None, 32, 32, 728)  2912        block4_sepconv1[0][0]            \n",
      "__________________________________________________________________________________________________\n",
      "block4_sepconv2_act (Activation (None, 32, 32, 728)  0           block4_sepconv1_bn[0][0]         \n",
      "__________________________________________________________________________________________________\n",
      "block4_sepconv2 (SeparableConv2 (None, 32, 32, 728)  536536      block4_sepconv2_act[0][0]        \n",
      "__________________________________________________________________________________________________\n",
      "block4_sepconv2_bn (BatchNormal (None, 32, 32, 728)  2912        block4_sepconv2[0][0]            \n",
      "__________________________________________________________________________________________________\n",
      "conv2d_6 (Conv2D)               (None, 16, 16, 728)  186368      add_13[0][0]                     \n",
      "__________________________________________________________________________________________________\n",
      "block4_pool (MaxPooling2D)      (None, 16, 16, 728)  0           block4_sepconv2_bn[0][0]         \n",
      "__________________________________________________________________________________________________\n",
      "batch_normalization_6 (BatchNor (None, 16, 16, 728)  2912        conv2d_6[0][0]                   \n",
      "__________________________________________________________________________________________________\n",
      "add_14 (Add)                    (None, 16, 16, 728)  0           block4_pool[0][0]                \n",
      "                                                                 batch_normalization_6[0][0]      \n",
      "__________________________________________________________________________________________________\n",
      "block5_sepconv1_act (Activation (None, 16, 16, 728)  0           add_14[0][0]                     \n",
      "__________________________________________________________________________________________________\n",
      "block5_sepconv1 (SeparableConv2 (None, 16, 16, 728)  536536      block5_sepconv1_act[0][0]        \n",
      "__________________________________________________________________________________________________\n",
      "block5_sepconv1_bn (BatchNormal (None, 16, 16, 728)  2912        block5_sepconv1[0][0]            \n",
      "__________________________________________________________________________________________________\n",
      "block5_sepconv2_act (Activation (None, 16, 16, 728)  0           block5_sepconv1_bn[0][0]         \n",
      "__________________________________________________________________________________________________\n",
      "block5_sepconv2 (SeparableConv2 (None, 16, 16, 728)  536536      block5_sepconv2_act[0][0]        \n",
      "__________________________________________________________________________________________________\n",
      "block5_sepconv2_bn (BatchNormal (None, 16, 16, 728)  2912        block5_sepconv2[0][0]            \n",
      "__________________________________________________________________________________________________\n",
      "block5_sepconv3_act (Activation (None, 16, 16, 728)  0           block5_sepconv2_bn[0][0]         \n",
      "__________________________________________________________________________________________________\n",
      "block5_sepconv3 (SeparableConv2 (None, 16, 16, 728)  536536      block5_sepconv3_act[0][0]        \n",
      "__________________________________________________________________________________________________\n",
      "block5_sepconv3_bn (BatchNormal (None, 16, 16, 728)  2912        block5_sepconv3[0][0]            \n",
      "__________________________________________________________________________________________________\n",
      "add_15 (Add)                    (None, 16, 16, 728)  0           block5_sepconv3_bn[0][0]         \n",
      "                                                                 add_14[0][0]                     \n",
      "__________________________________________________________________________________________________\n",
      "block6_sepconv1_act (Activation (None, 16, 16, 728)  0           add_15[0][0]                     \n",
      "__________________________________________________________________________________________________\n",
      "block6_sepconv1 (SeparableConv2 (None, 16, 16, 728)  536536      block6_sepconv1_act[0][0]        \n",
      "__________________________________________________________________________________________________\n",
      "block6_sepconv1_bn (BatchNormal (None, 16, 16, 728)  2912        block6_sepconv1[0][0]            \n",
      "__________________________________________________________________________________________________\n",
      "block6_sepconv2_act (Activation (None, 16, 16, 728)  0           block6_sepconv1_bn[0][0]         \n",
      "__________________________________________________________________________________________________\n",
      "block6_sepconv2 (SeparableConv2 (None, 16, 16, 728)  536536      block6_sepconv2_act[0][0]        \n",
      "__________________________________________________________________________________________________\n",
      "block6_sepconv2_bn (BatchNormal (None, 16, 16, 728)  2912        block6_sepconv2[0][0]            \n",
      "__________________________________________________________________________________________________\n",
      "block6_sepconv3_act (Activation (None, 16, 16, 728)  0           block6_sepconv2_bn[0][0]         \n",
      "__________________________________________________________________________________________________\n",
      "block6_sepconv3 (SeparableConv2 (None, 16, 16, 728)  536536      block6_sepconv3_act[0][0]        \n",
      "__________________________________________________________________________________________________\n",
      "block6_sepconv3_bn (BatchNormal (None, 16, 16, 728)  2912        block6_sepconv3[0][0]            \n",
      "__________________________________________________________________________________________________\n",
      "add_16 (Add)                    (None, 16, 16, 728)  0           block6_sepconv3_bn[0][0]         \n",
      "                                                                 add_15[0][0]                     \n",
      "__________________________________________________________________________________________________\n",
      "block7_sepconv1_act (Activation (None, 16, 16, 728)  0           add_16[0][0]                     \n",
      "__________________________________________________________________________________________________\n",
      "block7_sepconv1 (SeparableConv2 (None, 16, 16, 728)  536536      block7_sepconv1_act[0][0]        \n",
      "__________________________________________________________________________________________________\n",
      "block7_sepconv1_bn (BatchNormal (None, 16, 16, 728)  2912        block7_sepconv1[0][0]            \n",
      "__________________________________________________________________________________________________\n",
      "block7_sepconv2_act (Activation (None, 16, 16, 728)  0           block7_sepconv1_bn[0][0]         \n",
      "__________________________________________________________________________________________________\n",
      "block7_sepconv2 (SeparableConv2 (None, 16, 16, 728)  536536      block7_sepconv2_act[0][0]        \n",
      "__________________________________________________________________________________________________\n",
      "block7_sepconv2_bn (BatchNormal (None, 16, 16, 728)  2912        block7_sepconv2[0][0]            \n",
      "__________________________________________________________________________________________________\n",
      "block7_sepconv3_act (Activation (None, 16, 16, 728)  0           block7_sepconv2_bn[0][0]         \n",
      "__________________________________________________________________________________________________\n",
      "block7_sepconv3 (SeparableConv2 (None, 16, 16, 728)  536536      block7_sepconv3_act[0][0]        \n",
      "__________________________________________________________________________________________________\n",
      "block7_sepconv3_bn (BatchNormal (None, 16, 16, 728)  2912        block7_sepconv3[0][0]            \n",
      "__________________________________________________________________________________________________\n",
      "add_17 (Add)                    (None, 16, 16, 728)  0           block7_sepconv3_bn[0][0]         \n",
      "                                                                 add_16[0][0]                     \n",
      "__________________________________________________________________________________________________\n",
      "block8_sepconv1_act (Activation (None, 16, 16, 728)  0           add_17[0][0]                     \n",
      "__________________________________________________________________________________________________\n",
      "block8_sepconv1 (SeparableConv2 (None, 16, 16, 728)  536536      block8_sepconv1_act[0][0]        \n",
      "__________________________________________________________________________________________________\n",
      "block8_sepconv1_bn (BatchNormal (None, 16, 16, 728)  2912        block8_sepconv1[0][0]            \n",
      "__________________________________________________________________________________________________\n",
      "block8_sepconv2_act (Activation (None, 16, 16, 728)  0           block8_sepconv1_bn[0][0]         \n",
      "__________________________________________________________________________________________________\n",
      "block8_sepconv2 (SeparableConv2 (None, 16, 16, 728)  536536      block8_sepconv2_act[0][0]        \n",
      "__________________________________________________________________________________________________\n",
      "block8_sepconv2_bn (BatchNormal (None, 16, 16, 728)  2912        block8_sepconv2[0][0]            \n",
      "__________________________________________________________________________________________________\n",
      "block8_sepconv3_act (Activation (None, 16, 16, 728)  0           block8_sepconv2_bn[0][0]         \n",
      "__________________________________________________________________________________________________\n",
      "block8_sepconv3 (SeparableConv2 (None, 16, 16, 728)  536536      block8_sepconv3_act[0][0]        \n",
      "__________________________________________________________________________________________________\n",
      "block8_sepconv3_bn (BatchNormal (None, 16, 16, 728)  2912        block8_sepconv3[0][0]            \n",
      "__________________________________________________________________________________________________\n",
      "add_18 (Add)                    (None, 16, 16, 728)  0           block8_sepconv3_bn[0][0]         \n",
      "                                                                 add_17[0][0]                     \n",
      "__________________________________________________________________________________________________\n",
      "block9_sepconv1_act (Activation (None, 16, 16, 728)  0           add_18[0][0]                     \n",
      "__________________________________________________________________________________________________\n",
      "block9_sepconv1 (SeparableConv2 (None, 16, 16, 728)  536536      block9_sepconv1_act[0][0]        \n",
      "__________________________________________________________________________________________________\n",
      "block9_sepconv1_bn (BatchNormal (None, 16, 16, 728)  2912        block9_sepconv1[0][0]            \n",
      "__________________________________________________________________________________________________\n",
      "block9_sepconv2_act (Activation (None, 16, 16, 728)  0           block9_sepconv1_bn[0][0]         \n",
      "__________________________________________________________________________________________________\n",
      "block9_sepconv2 (SeparableConv2 (None, 16, 16, 728)  536536      block9_sepconv2_act[0][0]        \n",
      "__________________________________________________________________________________________________\n",
      "block9_sepconv2_bn (BatchNormal (None, 16, 16, 728)  2912        block9_sepconv2[0][0]            \n",
      "__________________________________________________________________________________________________\n",
      "block9_sepconv3_act (Activation (None, 16, 16, 728)  0           block9_sepconv2_bn[0][0]         \n",
      "__________________________________________________________________________________________________\n",
      "block9_sepconv3 (SeparableConv2 (None, 16, 16, 728)  536536      block9_sepconv3_act[0][0]        \n",
      "__________________________________________________________________________________________________\n",
      "block9_sepconv3_bn (BatchNormal (None, 16, 16, 728)  2912        block9_sepconv3[0][0]            \n",
      "__________________________________________________________________________________________________\n",
      "add_19 (Add)                    (None, 16, 16, 728)  0           block9_sepconv3_bn[0][0]         \n",
      "                                                                 add_18[0][0]                     \n",
      "__________________________________________________________________________________________________\n",
      "block10_sepconv1_act (Activatio (None, 16, 16, 728)  0           add_19[0][0]                     \n",
      "__________________________________________________________________________________________________\n",
      "block10_sepconv1 (SeparableConv (None, 16, 16, 728)  536536      block10_sepconv1_act[0][0]       \n",
      "__________________________________________________________________________________________________\n",
      "block10_sepconv1_bn (BatchNorma (None, 16, 16, 728)  2912        block10_sepconv1[0][0]           \n",
      "__________________________________________________________________________________________________\n",
      "block10_sepconv2_act (Activatio (None, 16, 16, 728)  0           block10_sepconv1_bn[0][0]        \n",
      "__________________________________________________________________________________________________\n",
      "block10_sepconv2 (SeparableConv (None, 16, 16, 728)  536536      block10_sepconv2_act[0][0]       \n",
      "__________________________________________________________________________________________________\n",
      "block10_sepconv2_bn (BatchNorma (None, 16, 16, 728)  2912        block10_sepconv2[0][0]           \n",
      "__________________________________________________________________________________________________\n",
      "block10_sepconv3_act (Activatio (None, 16, 16, 728)  0           block10_sepconv2_bn[0][0]        \n",
      "__________________________________________________________________________________________________\n",
      "block10_sepconv3 (SeparableConv (None, 16, 16, 728)  536536      block10_sepconv3_act[0][0]       \n",
      "__________________________________________________________________________________________________\n",
      "block10_sepconv3_bn (BatchNorma (None, 16, 16, 728)  2912        block10_sepconv3[0][0]           \n",
      "__________________________________________________________________________________________________\n",
      "add_20 (Add)                    (None, 16, 16, 728)  0           block10_sepconv3_bn[0][0]        \n",
      "                                                                 add_19[0][0]                     \n",
      "__________________________________________________________________________________________________\n",
      "block11_sepconv1_act (Activatio (None, 16, 16, 728)  0           add_20[0][0]                     \n",
      "__________________________________________________________________________________________________\n",
      "block11_sepconv1 (SeparableConv (None, 16, 16, 728)  536536      block11_sepconv1_act[0][0]       \n",
      "__________________________________________________________________________________________________\n",
      "block11_sepconv1_bn (BatchNorma (None, 16, 16, 728)  2912        block11_sepconv1[0][0]           \n",
      "__________________________________________________________________________________________________\n",
      "block11_sepconv2_act (Activatio (None, 16, 16, 728)  0           block11_sepconv1_bn[0][0]        \n",
      "__________________________________________________________________________________________________\n",
      "block11_sepconv2 (SeparableConv (None, 16, 16, 728)  536536      block11_sepconv2_act[0][0]       \n",
      "__________________________________________________________________________________________________\n",
      "block11_sepconv2_bn (BatchNorma (None, 16, 16, 728)  2912        block11_sepconv2[0][0]           \n",
      "__________________________________________________________________________________________________\n",
      "block11_sepconv3_act (Activatio (None, 16, 16, 728)  0           block11_sepconv2_bn[0][0]        \n",
      "__________________________________________________________________________________________________\n",
      "block11_sepconv3 (SeparableConv (None, 16, 16, 728)  536536      block11_sepconv3_act[0][0]       \n",
      "__________________________________________________________________________________________________\n",
      "block11_sepconv3_bn (BatchNorma (None, 16, 16, 728)  2912        block11_sepconv3[0][0]           \n",
      "__________________________________________________________________________________________________\n",
      "add_21 (Add)                    (None, 16, 16, 728)  0           block11_sepconv3_bn[0][0]        \n",
      "                                                                 add_20[0][0]                     \n",
      "__________________________________________________________________________________________________\n",
      "block12_sepconv1_act (Activatio (None, 16, 16, 728)  0           add_21[0][0]                     \n",
      "__________________________________________________________________________________________________\n",
      "block12_sepconv1 (SeparableConv (None, 16, 16, 728)  536536      block12_sepconv1_act[0][0]       \n",
      "__________________________________________________________________________________________________\n",
      "block12_sepconv1_bn (BatchNorma (None, 16, 16, 728)  2912        block12_sepconv1[0][0]           \n",
      "__________________________________________________________________________________________________\n",
      "block12_sepconv2_act (Activatio (None, 16, 16, 728)  0           block12_sepconv1_bn[0][0]        \n",
      "__________________________________________________________________________________________________\n",
      "block12_sepconv2 (SeparableConv (None, 16, 16, 728)  536536      block12_sepconv2_act[0][0]       \n",
      "__________________________________________________________________________________________________\n",
      "block12_sepconv2_bn (BatchNorma (None, 16, 16, 728)  2912        block12_sepconv2[0][0]           \n",
      "__________________________________________________________________________________________________\n",
      "block12_sepconv3_act (Activatio (None, 16, 16, 728)  0           block12_sepconv2_bn[0][0]        \n",
      "__________________________________________________________________________________________________\n",
      "block12_sepconv3 (SeparableConv (None, 16, 16, 728)  536536      block12_sepconv3_act[0][0]       \n",
      "__________________________________________________________________________________________________\n",
      "block12_sepconv3_bn (BatchNorma (None, 16, 16, 728)  2912        block12_sepconv3[0][0]           \n",
      "__________________________________________________________________________________________________\n",
      "add_22 (Add)                    (None, 16, 16, 728)  0           block12_sepconv3_bn[0][0]        \n",
      "                                                                 add_21[0][0]                     \n",
      "__________________________________________________________________________________________________\n",
      "block13_sepconv1_act (Activatio (None, 16, 16, 728)  0           add_22[0][0]                     \n",
      "__________________________________________________________________________________________________\n",
      "block13_sepconv1 (SeparableConv (None, 16, 16, 728)  536536      block13_sepconv1_act[0][0]       \n",
      "__________________________________________________________________________________________________\n",
      "block13_sepconv1_bn (BatchNorma (None, 16, 16, 728)  2912        block13_sepconv1[0][0]           \n",
      "__________________________________________________________________________________________________\n",
      "block13_sepconv2_act (Activatio (None, 16, 16, 728)  0           block13_sepconv1_bn[0][0]        \n",
      "__________________________________________________________________________________________________\n",
      "block13_sepconv2 (SeparableConv (None, 16, 16, 1024) 752024      block13_sepconv2_act[0][0]       \n",
      "__________________________________________________________________________________________________\n",
      "block13_sepconv2_bn (BatchNorma (None, 16, 16, 1024) 4096        block13_sepconv2[0][0]           \n",
      "__________________________________________________________________________________________________\n",
      "conv2d_7 (Conv2D)               (None, 8, 8, 1024)   745472      add_22[0][0]                     \n",
      "__________________________________________________________________________________________________\n",
      "block13_pool (MaxPooling2D)     (None, 8, 8, 1024)   0           block13_sepconv2_bn[0][0]        \n",
      "__________________________________________________________________________________________________\n",
      "batch_normalization_7 (BatchNor (None, 8, 8, 1024)   4096        conv2d_7[0][0]                   \n",
      "__________________________________________________________________________________________________\n",
      "add_23 (Add)                    (None, 8, 8, 1024)   0           block13_pool[0][0]               \n",
      "                                                                 batch_normalization_7[0][0]      \n",
      "__________________________________________________________________________________________________\n",
      "block14_sepconv1 (SeparableConv (None, 8, 8, 1536)   1582080     add_23[0][0]                     \n",
      "__________________________________________________________________________________________________\n",
      "block14_sepconv1_bn (BatchNorma (None, 8, 8, 1536)   6144        block14_sepconv1[0][0]           \n",
      "__________________________________________________________________________________________________\n",
      "block14_sepconv1_act (Activatio (None, 8, 8, 1536)   0           block14_sepconv1_bn[0][0]        \n",
      "__________________________________________________________________________________________________\n",
      "block14_sepconv2 (SeparableConv (None, 8, 8, 2048)   3159552     block14_sepconv1_act[0][0]       \n",
      "__________________________________________________________________________________________________\n",
      "block14_sepconv2_bn (BatchNorma (None, 8, 8, 2048)   8192        block14_sepconv2[0][0]           \n",
      "__________________________________________________________________________________________________\n",
      "block14_sepconv2_act (Activatio (None, 8, 8, 2048)   0           block14_sepconv2_bn[0][0]        \n",
      "==================================================================================================\n",
      "Total params: 20,861,480\n",
      "Trainable params: 20,806,952\n",
      "Non-trainable params: 54,528\n",
      "__________________________________________________________________________________________________\n"
     ]
    }
   ],
   "source": [
    "xception_base.summary()"
   ]
  },
  {
   "cell_type": "code",
   "execution_count": 18,
   "metadata": {
    "pycharm": {
     "name": "#%%\n"
    }
   },
   "outputs": [],
   "source": [
    "def get_features_and_labels(dataset):\n",
    "    all_features = []\n",
    "    all_labels = []\n",
    "    for images, labels in dataset:\n",
    "        preprocessed_images = keras.applications.xception.preprocess_input(images)\n",
    "        features = xception_base.predict(preprocessed_images)\n",
    "        all_features.append(features)\n",
    "        all_labels.append(labels)\n",
    "    return np.concatenate(all_features), np.concatenate(all_labels)\n",
    "\n",
    "train_features, train_labels = get_features_and_labels(train_dataset)\n",
    "val_features, val_labels = get_features_and_labels(validation_dataset)\n",
    "test_features, test_labels = get_features_and_labels(test_dataset)"
   ]
  },
  {
   "cell_type": "code",
   "execution_count": 21,
   "metadata": {
    "pycharm": {
     "name": "#%%\n"
    }
   },
   "outputs": [
    {
     "data": {
      "text/plain": [
       "(9280, 8, 8, 2048)"
      ]
     },
     "execution_count": 21,
     "metadata": {},
     "output_type": "execute_result"
    }
   ],
   "source": [
    "train_features.shape"
   ]
  },
  {
   "cell_type": "code",
   "execution_count": 22,
   "metadata": {
    "pycharm": {
     "name": "#%%\n"
    }
   },
   "outputs": [
    {
     "name": "stdout",
     "output_type": "stream",
     "text": [
      "Model: \"model_2\"\n",
      "_________________________________________________________________\n",
      "Layer (type)                 Output Shape              Param #   \n",
      "=================================================================\n",
      "input_5 (InputLayer)         [(None, 8, 8, 2048)]      0         \n",
      "_________________________________________________________________\n",
      "flatten_2 (Flatten)          (None, 131072)            0         \n",
      "_________________________________________________________________\n",
      "dropout_2 (Dropout)          (None, 131072)            0         \n",
      "_________________________________________________________________\n",
      "dense_2 (Dense)              (None, 58)                7602234   \n",
      "=================================================================\n",
      "Total params: 7,602,234\n",
      "Trainable params: 7,602,234\n",
      "Non-trainable params: 0\n",
      "_________________________________________________________________\n"
     ]
    }
   ],
   "source": [
    "inputs = keras.Input(shape=(8, 8, 2048))\n",
    "x = layers.Flatten()(inputs) \n",
    "x = layers.Dropout(0.5)(x)\n",
    "outputs = layers.Dense(58, activation=\"softmax\")(x)\n",
    "model5 = keras.Model(inputs, outputs)\n",
    "\n",
    "model5.summary()"
   ]
  },
  {
   "cell_type": "code",
   "execution_count": 23,
   "metadata": {
    "pycharm": {
     "name": "#%%\n"
    },
    "scrolled": true
   },
   "outputs": [
    {
     "name": "stdout",
     "output_type": "stream",
     "text": [
      "Epoch 1/30\n",
      "145/145 [==============================] - 3s 17ms/step - loss: 5.1581 - accuracy: 0.6298 - val_loss: 2.3497 - val_accuracy: 0.7612\n",
      "INFO:tensorflow:Assets written to: model5\\best_version\\assets\n",
      "Epoch 2/30\n",
      "145/145 [==============================] - 2s 13ms/step - loss: 1.1462 - accuracy: 0.8700 - val_loss: 3.6350 - val_accuracy: 0.7457\n",
      "Epoch 3/30\n",
      "145/145 [==============================] - 2s 12ms/step - loss: 0.5940 - accuracy: 0.9300 - val_loss: 1.8079 - val_accuracy: 0.8328\n",
      "INFO:tensorflow:Assets written to: model5\\best_version\\assets\n",
      "Epoch 4/30\n",
      "145/145 [==============================] - 2s 12ms/step - loss: 0.3800 - accuracy: 0.9527 - val_loss: 2.0957 - val_accuracy: 0.8595\n",
      "Epoch 5/30\n",
      "145/145 [==============================] - 2s 12ms/step - loss: 0.2446 - accuracy: 0.9695 - val_loss: 2.2206 - val_accuracy: 0.8517\n",
      "Epoch 6/30\n",
      "145/145 [==============================] - 2s 12ms/step - loss: 0.1657 - accuracy: 0.9783 - val_loss: 1.8142 - val_accuracy: 0.8534\n",
      "Epoch 7/30\n",
      "145/145 [==============================] - 2s 12ms/step - loss: 0.1139 - accuracy: 0.9856 - val_loss: 2.0317 - val_accuracy: 0.8500\n",
      "Epoch 8/30\n",
      "145/145 [==============================] - 2s 12ms/step - loss: 0.0543 - accuracy: 0.9912 - val_loss: 1.8519 - val_accuracy: 0.8664\n",
      "Epoch 9/30\n",
      "145/145 [==============================] - 2s 12ms/step - loss: 0.0478 - accuracy: 0.9913 - val_loss: 2.1442 - val_accuracy: 0.8621\n",
      "Epoch 10/30\n",
      "145/145 [==============================] - 2s 12ms/step - loss: 0.0412 - accuracy: 0.9933 - val_loss: 2.0127 - val_accuracy: 0.8698\n",
      "Epoch 11/30\n",
      "145/145 [==============================] - 2s 12ms/step - loss: 0.0274 - accuracy: 0.9954 - val_loss: 2.2102 - val_accuracy: 0.8569\n",
      "Epoch 12/30\n",
      "145/145 [==============================] - 2s 12ms/step - loss: 0.0295 - accuracy: 0.9957 - val_loss: 1.8113 - val_accuracy: 0.8716\n",
      "Epoch 13/30\n",
      "145/145 [==============================] - 2s 12ms/step - loss: 0.0420 - accuracy: 0.9959 - val_loss: 1.7582 - val_accuracy: 0.8724\n",
      "INFO:tensorflow:Assets written to: model5\\best_version\\assets\n",
      "Epoch 14/30\n",
      "145/145 [==============================] - 2s 12ms/step - loss: 0.0233 - accuracy: 0.9964 - val_loss: 1.8413 - val_accuracy: 0.8750\n",
      "Epoch 15/30\n",
      "145/145 [==============================] - 2s 12ms/step - loss: 0.0179 - accuracy: 0.9970 - val_loss: 1.8420 - val_accuracy: 0.8724\n",
      "Epoch 16/30\n",
      "145/145 [==============================] - 2s 12ms/step - loss: 0.0200 - accuracy: 0.9968 - val_loss: 1.7096 - val_accuracy: 0.8716\n",
      "INFO:tensorflow:Assets written to: model5\\best_version\\assets\n",
      "Epoch 17/30\n",
      "145/145 [==============================] - 2s 12ms/step - loss: 0.0202 - accuracy: 0.9977 - val_loss: 1.3116 - val_accuracy: 0.8931\n",
      "INFO:tensorflow:Assets written to: model5\\best_version\\assets\n",
      "Epoch 18/30\n",
      "145/145 [==============================] - 2s 12ms/step - loss: 0.0262 - accuracy: 0.9973 - val_loss: 1.8818 - val_accuracy: 0.8905\n",
      "Epoch 19/30\n",
      "145/145 [==============================] - 2s 12ms/step - loss: 0.0099 - accuracy: 0.9984 - val_loss: 2.0073 - val_accuracy: 0.8716\n",
      "Epoch 20/30\n",
      "145/145 [==============================] - 2s 12ms/step - loss: 0.0058 - accuracy: 0.9990 - val_loss: 1.7364 - val_accuracy: 0.8836\n",
      "Epoch 21/30\n",
      "145/145 [==============================] - 2s 13ms/step - loss: 0.0144 - accuracy: 0.9984 - val_loss: 1.6224 - val_accuracy: 0.8871\n",
      "Epoch 22/30\n",
      "145/145 [==============================] - 2s 12ms/step - loss: 0.0098 - accuracy: 0.9986 - val_loss: 1.6571 - val_accuracy: 0.8853\n",
      "Epoch 23/30\n",
      "145/145 [==============================] - 2s 12ms/step - loss: 0.0037 - accuracy: 0.9991 - val_loss: 2.2313 - val_accuracy: 0.8767\n",
      "Epoch 24/30\n",
      "145/145 [==============================] - 2s 12ms/step - loss: 0.0089 - accuracy: 0.9987 - val_loss: 1.6553 - val_accuracy: 0.8828\n",
      "Epoch 25/30\n",
      "145/145 [==============================] - 2s 12ms/step - loss: 0.0072 - accuracy: 0.9994 - val_loss: 1.8260 - val_accuracy: 0.8905\n",
      "Epoch 26/30\n",
      "145/145 [==============================] - 2s 12ms/step - loss: 0.0108 - accuracy: 0.9986 - val_loss: 1.6867 - val_accuracy: 0.8836\n",
      "Epoch 27/30\n",
      "145/145 [==============================] - 2s 12ms/step - loss: 0.0143 - accuracy: 0.9983 - val_loss: 1.7876 - val_accuracy: 0.8862\n",
      "Epoch 28/30\n",
      "145/145 [==============================] - 2s 12ms/step - loss: 0.0063 - accuracy: 0.9991 - val_loss: 1.7082 - val_accuracy: 0.8897\n",
      "Epoch 29/30\n",
      "145/145 [==============================] - 2s 12ms/step - loss: 0.0053 - accuracy: 0.9992 - val_loss: 1.6185 - val_accuracy: 0.8862\n",
      "Epoch 30/30\n",
      "145/145 [==============================] - 2s 12ms/step - loss: 0.0059 - accuracy: 0.9994 - val_loss: 1.6838 - val_accuracy: 0.8879\n"
     ]
    }
   ],
   "source": [
    "model5.compile(loss=\"categorical_crossentropy\",\n",
    " optimizer=\"rmsprop\",\n",
    " metrics=[\"accuracy\"])\n",
    "\n",
    "callbacks = [\n",
    " keras.callbacks.ModelCheckpoint(\n",
    " filepath=\"model5/best_version\",\n",
    " save_best_only=True,\n",
    " monitor=\"val_loss\")\n",
    "]\n",
    "\n",
    "history = model5.fit(\n",
    "    train_features, train_labels,\n",
    "    epochs=30,\n",
    "    validation_data=(val_features, val_labels),\n",
    "    callbacks=callbacks,\n",
    "    batch_size=BATCH_SIZE)"
   ]
  },
  {
   "cell_type": "code",
   "execution_count": 25,
   "metadata": {
    "pycharm": {
     "name": "#%%\n"
    }
   },
   "outputs": [
    {
     "name": "stdout",
     "output_type": "stream",
     "text": [
      "INFO:tensorflow:Assets written to: model5/model\\assets\n"
     ]
    }
   ],
   "source": [
    "model5.save('model5/model')\n",
    "np.save('model5/history.npy',history.history)"
   ]
  },
  {
   "cell_type": "code",
   "execution_count": 26,
   "metadata": {
    "pycharm": {
     "name": "#%%\n"
    }
   },
   "outputs": [
    {
     "data": {
      "image/png": "[encoded data removed]",
      "text/plain": [
       "<Figure size 432x288 with 1 Axes>"
      ]
     },
     "metadata": {
      "needs_background": "light"
     },
     "output_type": "display_data"
    }
   ],
   "source": [
    "loss = history.history[\"loss\"]\n",
    "val_loss = history.history[\"val_loss\"]\n",
    "epochs = range(1, len(loss) + 1)\n",
    "\n",
    "plt.plot(epochs, loss, \"b.\", label=\"Training loss\")\n",
    "plt.plot(epochs, val_loss, \"b\", label=\"Validation loss\")\n",
    "plt.title(\"Training and validation loss\")\n",
    "plt.xlabel(\"Epochs\")\n",
    "plt.ylabel(\"Loss\")\n",
    "plt.legend()\n",
    "plt.show()"
   ]
  },
  {
   "cell_type": "code",
   "execution_count": 27,
   "metadata": {
    "pycharm": {
     "name": "#%%\n"
    }
   },
   "outputs": [
    {
     "data": {
      "image/png": "[encoded data removed]",
      "text/plain": [
       "<Figure size 432x288 with 1 Axes>"
      ]
     },
     "metadata": {
      "needs_background": "light"
     },
     "output_type": "display_data"
    }
   ],
   "source": [
    "plt.clf()\n",
    "\n",
    "acc = history.history[\"accuracy\"]\n",
    "val_acc = history.history[\"val_accuracy\"]\n",
    "epochs = range(1, len(loss) + 1)\n",
    "\n",
    "plt.plot(epochs, acc, \"b.\", label=\"Training accuracy\")\n",
    "plt.plot(epochs, val_acc, \"b\", label=\"Validation accuracy\")\n",
    "plt.title(\"Training and validation accuracy\")\n",
    "plt.xlabel(\"Epochs\")\n",
    "plt.ylabel(\"Accuracy\")\n",
    "plt.legend()\n",
    "plt.show()"
   ]
  },
  {
   "cell_type": "code",
   "execution_count": 28,
   "metadata": {
    "pycharm": {
     "name": "#%%\n"
    }
   },
   "outputs": [
    {
     "name": "stdout",
     "output_type": "stream",
     "text": [
      "37/37 [==============================] - 0s 6ms/step - loss: 1.5087 - accuracy: 0.9026\n"
     ]
    },
    {
     "data": {
      "text/plain": [
       "[1.5087387561798096, 0.9025862216949463]"
      ]
     },
     "execution_count": 28,
     "metadata": {},
     "output_type": "execute_result"
    }
   ],
   "source": [
    "model = keras.models.load_model('model5/model')\n",
    "results= model.evaluate(test_features, test_labels)\n",
    "results"
   ]
  },
  {
   "cell_type": "code",
   "execution_count": 29,
   "metadata": {
    "pycharm": {
     "name": "#%%\n"
    }
   },
   "outputs": [
    {
     "name": "stdout",
     "output_type": "stream",
     "text": [
      "37/37 [==============================] - 0s 6ms/step - loss: 1.3592 - accuracy: 0.9129\n"
     ]
    },
    {
     "data": {
      "text/plain": [
       "[1.3592021465301514, 0.9129310250282288]"
      ]
     },
     "execution_count": 29,
     "metadata": {},
     "output_type": "execute_result"
    }
   ],
   "source": [
    "model = keras.models.load_model('model5/best_version')\n",
    "results= model.evaluate(test_features, test_labels)\n",
    "results"
   ]
  }
 ],
 "metadata": {
  "kernelspec": {
   "display_name": "Python 3 (ipykernel)",
   "language": "python",
   "name": "python3"
  },
  "language_info": {
   "codemirror_mode": {
    "name": "ipython",
    "version": 3
   },
   "file_extension": ".py",
   "mimetype": "text/x-python",
   "name": "python",
   "nbconvert_exporter": "python",
   "pygments_lexer": "ipython3",
   "version": "3.9.12"
  }
 },
 "nbformat": 4,
 "nbformat_minor": 1
}