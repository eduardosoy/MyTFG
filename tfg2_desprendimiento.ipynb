{
 "cells": [
  {
   "cell_type": "code",
   "metadata": {
    "pycharm": {
     "name": "#%%\n"
    }
   },
   "source": [
    "# Creación de un modelo desde cero con aumento de imágenes y desprendimiento"
   ],
   "execution_count": null,
   "outputs": []
  },
  {
   "cell_type": "code",
   "metadata": {
    "pycharm": {
     "name": "#%%\n"
    }
   },
   "source": [
    "## Librerías necesarias"
   ],
   "execution_count": null,
   "outputs": []
  },
  {
   "cell_type": "code",
   "execution_count": 3,
   "metadata": {
    "pycharm": {
     "name": "#%%\n"
    }
   },
   "outputs": [],
   "source": [
    "from tensorflow import keras\n",
    "from tensorflow.keras import layers\n",
    "import os, shutil, pathlib\n",
    "from tensorflow.keras.utils import image_dataset_from_directory\n",
    "import matplotlib.pyplot as plt\n",
    "import numpy as np\n",
    "from tensorflow.keras.models import load_model"
   ]
  },
  {
   "cell_type": "markdown",
   "metadata": {
    "pycharm": {
     "name": "#%% md\n"
    }
   },
   "source": [
    "## Variables globales del sistema"
   ]
  },
  {
   "cell_type": "code",
   "execution_count": 5,
   "metadata": {
    "pycharm": {
     "name": "#%%\n"
    }
   },
   "outputs": [],
   "source": [
    "original_dir = pathlib.Path(\"ExpandedDataset/\")\n",
    "new_base_dir = pathlib.Path(\"ExpandedDataset_organized/\")\n",
    "content = os.listdir(original_dir)\n",
    "BATCH_SIZE = 64\n",
    "size_x = 256\n",
    "size_y = 256"
   ]
  },
  {
   "cell_type": "markdown",
   "metadata": {
    "pycharm": {
     "name": "#%% md\n"
    }
   },
   "source": [
    "## Creación de los datasets específicos a partir de las carpetas "
   ]
  },
  {
   "cell_type": "code",
   "execution_count": 25,
   "metadata": {
    "pycharm": {
     "name": "#%%\n"
    }
   },
   "outputs": [
    {
     "name": "stdout",
     "output_type": "stream",
     "text": [
      "Found 9280 files belonging to 58 classes.\n",
      "Found 1160 files belonging to 58 classes.\n",
      "Found 1160 files belonging to 58 classes.\n"
     ]
    }
   ],
   "source": [
    "train_dataset = image_dataset_from_directory(\n",
    "    new_base_dir / \"train\",\n",
    "    image_size=(size_x, size_y),\n",
    "    batch_size=BATCH_SIZE,\n",
    "    label_mode='categorical')\n",
    "validation_dataset = image_dataset_from_directory(\n",
    "    new_base_dir / \"validation\",\n",
    "    image_size=(size_x, size_y),\n",
    "    batch_size=BATCH_SIZE,\n",
    "    label_mode='categorical')\n",
    "test_dataset = image_dataset_from_directory(\n",
    "    new_base_dir / \"test\",\n",
    "    image_size=(size_x, size_y),\n",
    "    batch_size=BATCH_SIZE,\n",
    "    label_mode='categorical')"
   ]
  },
  {
   "cell_type": "markdown",
   "metadata": {
    "pycharm": {
     "name": "#%% md\n"
    }
   },
   "source": [
    "## Nuevo modelo con una última capa de desprendimiento"
   ]
  },
  {
   "cell_type": "code",
   "execution_count": 26,
   "metadata": {
    "pycharm": {
     "name": "#%%\n"
    }
   },
   "outputs": [
    {
     "name": "stdout",
     "output_type": "stream",
     "text": [
      "Model: \"model_5\"\n",
      "_________________________________________________________________\n",
      "Layer (type)                 Output Shape              Param #   \n",
      "=================================================================\n",
      "input_6 (InputLayer)         [(None, 256, 256, 3)]     0         \n",
      "_________________________________________________________________\n",
      "rescaling_5 (Rescaling)      (None, 256, 256, 3)       0         \n",
      "_________________________________________________________________\n",
      "conv2d_25 (Conv2D)           (None, 254, 254, 32)      896       \n",
      "_________________________________________________________________\n",
      "max_pooling2d_20 (MaxPooling (None, 127, 127, 32)      0         \n",
      "_________________________________________________________________\n",
      "conv2d_26 (Conv2D)           (None, 125, 125, 64)      18496     \n",
      "_________________________________________________________________\n",
      "max_pooling2d_21 (MaxPooling (None, 62, 62, 64)        0         \n",
      "_________________________________________________________________\n",
      "conv2d_27 (Conv2D)           (None, 60, 60, 128)       73856     \n",
      "_________________________________________________________________\n",
      "max_pooling2d_22 (MaxPooling (None, 30, 30, 128)       0         \n",
      "_________________________________________________________________\n",
      "conv2d_28 (Conv2D)           (None, 28, 28, 256)       295168    \n",
      "_________________________________________________________________\n",
      "max_pooling2d_23 (MaxPooling (None, 14, 14, 256)       0         \n",
      "_________________________________________________________________\n",
      "conv2d_29 (Conv2D)           (None, 12, 12, 512)       1180160   \n",
      "_________________________________________________________________\n",
      "flatten_5 (Flatten)          (None, 73728)             0         \n",
      "_________________________________________________________________\n",
      "dropout_5 (Dropout)          (None, 73728)             0         \n",
      "_________________________________________________________________\n",
      "dense_5 (Dense)              (None, 58)                4276282   \n",
      "=================================================================\n",
      "Total params: 5,844,858\n",
      "Trainable params: 5,844,858\n",
      "Non-trainable params: 0\n",
      "_________________________________________________________________\n"
     ]
    }
   ],
   "source": [
    "inputs = keras.Input(shape=(size_x, size_y, 3)) \n",
    "x = layers.Rescaling(1./255)(inputs) \n",
    "x = layers.Conv2D(filters=32, kernel_size=3, activation=\"relu\")(x)\n",
    "x = layers.MaxPooling2D(pool_size=2)(x)\n",
    "x = layers.Conv2D(filters=64, kernel_size=3, activation=\"relu\")(x)\n",
    "x = layers.MaxPooling2D(pool_size=2)(x)\n",
    "x = layers.Conv2D(filters=128, kernel_size=3, activation=\"relu\")(x)\n",
    "x = layers.MaxPooling2D(pool_size=2)(x)\n",
    "x = layers.Conv2D(filters=256, kernel_size=3, activation=\"relu\")(x)\n",
    "x = layers.MaxPooling2D(pool_size=2)(x)\n",
    "x = layers.Conv2D(filters=512, kernel_size=3, activation=\"relu\")(x)\n",
    "x = layers.Flatten()(x)\n",
    "x = layers.Dropout(0.5)(x)\n",
    "outputs = layers.Dense(58, activation=\"softmax\")(x)\n",
    "model2 = keras.Model(inputs=inputs, outputs=outputs)\n",
    "\n",
    "model2.summary()"
   ]
  },
  {
   "cell_type": "markdown",
   "metadata": {
    "pycharm": {
     "name": "#%% md\n"
    }
   },
   "source": [
    "## Entrenamiento y guardado de resultados del modelo dos"
   ]
  },
  {
   "cell_type": "code",
   "execution_count": 27,
   "metadata": {},
   "outputs": [
    {
     "name": "stdout",
     "output_type": "stream",
     "text": [
      "Epoch 1/30\n",
      "145/145 [==============================] - 27s 171ms/step - loss: 3.8106 - accuracy: 0.1028 - val_loss: 3.1628 - val_accuracy: 0.1474\n",
      "INFO:tensorflow:Assets written to: model2\\best_version\\assets\n",
      "Epoch 2/30\n",
      "145/145 [==============================] - 26s 169ms/step - loss: 2.5419 - accuracy: 0.3066 - val_loss: 2.2149 - val_accuracy: 0.3828\n",
      "INFO:tensorflow:Assets written to: model2\\best_version\\assets\n",
      "Epoch 3/30\n",
      "145/145 [==============================] - 28s 184ms/step - loss: 1.8114 - accuracy: 0.4709 - val_loss: 2.0048 - val_accuracy: 0.4216\n",
      "INFO:tensorflow:Assets written to: model2\\best_version\\assets\n",
      "Epoch 4/30\n",
      "145/145 [==============================] - 28s 186ms/step - loss: 1.3489 - accuracy: 0.5917 - val_loss: 1.6158 - val_accuracy: 0.5491\n",
      "INFO:tensorflow:Assets written to: model2\\best_version\\assets\n",
      "Epoch 5/30\n",
      "145/145 [==============================] - 28s 183ms/step - loss: 1.0578 - accuracy: 0.6772 - val_loss: 1.1991 - val_accuracy: 0.6293\n",
      "INFO:tensorflow:Assets written to: model2\\best_version\\assets\n",
      "Epoch 6/30\n",
      "145/145 [==============================] - 26s 172ms/step - loss: 0.8033 - accuracy: 0.7528 - val_loss: 1.2620 - val_accuracy: 0.6474\n",
      "Epoch 7/30\n",
      "145/145 [==============================] - 25s 169ms/step - loss: 0.6017 - accuracy: 0.8149 - val_loss: 1.2056 - val_accuracy: 0.6534\n",
      "Epoch 8/30\n",
      "145/145 [==============================] - 25s 168ms/step - loss: 0.4581 - accuracy: 0.8586 - val_loss: 1.3589 - val_accuracy: 0.6629\n",
      "Epoch 9/30\n",
      "145/145 [==============================] - 26s 170ms/step - loss: 0.3829 - accuracy: 0.8853 - val_loss: 2.3361 - val_accuracy: 0.5552\n",
      "Epoch 10/30\n",
      "145/145 [==============================] - 25s 169ms/step - loss: 0.3025 - accuracy: 0.9075 - val_loss: 1.3009 - val_accuracy: 0.6957\n",
      "Epoch 11/30\n",
      "145/145 [==============================] - 27s 177ms/step - loss: 0.2732 - accuracy: 0.9239 - val_loss: 1.4534 - val_accuracy: 0.7112\n",
      "Epoch 12/30\n",
      "145/145 [==============================] - 27s 177ms/step - loss: 0.2647 - accuracy: 0.9347 - val_loss: 1.4758 - val_accuracy: 0.6991\n",
      "Epoch 13/30\n",
      "145/145 [==============================] - 26s 171ms/step - loss: 0.2088 - accuracy: 0.9455 - val_loss: 1.6567 - val_accuracy: 0.7129\n",
      "Epoch 14/30\n",
      "145/145 [==============================] - 26s 174ms/step - loss: 0.1844 - accuracy: 0.9491 - val_loss: 1.7266 - val_accuracy: 0.7069\n",
      "Epoch 15/30\n",
      "145/145 [==============================] - 27s 180ms/step - loss: 0.1763 - accuracy: 0.9581 - val_loss: 1.9491 - val_accuracy: 0.7078\n",
      "Epoch 16/30\n",
      "145/145 [==============================] - 29s 194ms/step - loss: 0.1555 - accuracy: 0.9626 - val_loss: 1.9792 - val_accuracy: 0.7181\n",
      "Epoch 17/30\n",
      "145/145 [==============================] - 26s 173ms/step - loss: 0.1540 - accuracy: 0.9606 - val_loss: 2.5899 - val_accuracy: 0.6948\n",
      "Epoch 18/30\n",
      "145/145 [==============================] - 27s 183ms/step - loss: 0.1997 - accuracy: 0.9625 - val_loss: 2.1984 - val_accuracy: 0.6991\n",
      "Epoch 19/30\n",
      "145/145 [==============================] - 27s 180ms/step - loss: 0.1353 - accuracy: 0.9725 - val_loss: 2.2655 - val_accuracy: 0.7190\n",
      "Epoch 20/30\n",
      "145/145 [==============================] - 26s 176ms/step - loss: 0.1629 - accuracy: 0.9675 - val_loss: 2.7325 - val_accuracy: 0.6957\n",
      "Epoch 21/30\n",
      "145/145 [==============================] - 26s 174ms/step - loss: 0.1374 - accuracy: 0.9720 - val_loss: 2.6193 - val_accuracy: 0.7112\n",
      "Epoch 22/30\n",
      "145/145 [==============================] - 26s 174ms/step - loss: 0.1251 - accuracy: 0.9734 - val_loss: 2.8250 - val_accuracy: 0.7026\n",
      "Epoch 23/30\n",
      "145/145 [==============================] - 27s 180ms/step - loss: 0.1475 - accuracy: 0.9753 - val_loss: 2.9491 - val_accuracy: 0.7009\n",
      "Epoch 24/30\n",
      "145/145 [==============================] - 30s 200ms/step - loss: 0.1368 - accuracy: 0.9754 - val_loss: 3.7473 - val_accuracy: 0.6948\n",
      "Epoch 25/30\n",
      "145/145 [==============================] - 29s 192ms/step - loss: 0.1613 - accuracy: 0.9731 - val_loss: 3.6239 - val_accuracy: 0.6991\n",
      "Epoch 26/30\n",
      "145/145 [==============================] - 28s 186ms/step - loss: 0.1298 - accuracy: 0.9752 - val_loss: 3.8845 - val_accuracy: 0.6991\n",
      "Epoch 27/30\n",
      "145/145 [==============================] - 26s 172ms/step - loss: 0.1451 - accuracy: 0.9768 - val_loss: 4.1743 - val_accuracy: 0.6819\n",
      "Epoch 28/30\n",
      "145/145 [==============================] - 26s 169ms/step - loss: 0.1597 - accuracy: 0.9781 - val_loss: 3.6568 - val_accuracy: 0.6862\n",
      "Epoch 29/30\n",
      "145/145 [==============================] - 28s 187ms/step - loss: 0.1435 - accuracy: 0.9783 - val_loss: 5.0042 - val_accuracy: 0.6543\n",
      "Epoch 30/30\n",
      "145/145 [==============================] - 27s 183ms/step - loss: 0.1176 - accuracy: 0.9803 - val_loss: 4.1297 - val_accuracy: 0.6672\n"
     ]
    }
   ],
   "source": [
    "callbacks = [\n",
    " keras.callbacks.ModelCheckpoint(\n",
    " filepath=\"model2/best_version\",\n",
    " save_best_only=True,\n",
    " monitor=\"val_loss\")\n",
    "]\n",
    "\n",
    "model2.compile(loss=\"categorical_crossentropy\",\n",
    " optimizer=\"rmsprop\",\n",
    " metrics=[\"accuracy\"])\n",
    "\n",
    "history = model2.fit(\n",
    " train_dataset,\n",
    " epochs=30,\n",
    " validation_data=validation_dataset,\n",
    " callbacks=callbacks)"
   ]
  },
  {
   "cell_type": "code",
   "execution_count": 28,
   "metadata": {},
   "outputs": [
    {
     "name": "stdout",
     "output_type": "stream",
     "text": [
      "INFO:tensorflow:Assets written to: model2/model\\assets\n"
     ]
    }
   ],
   "source": [
    "model2.save('model2/model')\n",
    "np.save('model2/history.npy',history.history)"
   ]
  },
  {
   "cell_type": "markdown",
   "metadata": {},
   "source": [
    "## Análisis de resultados"
   ]
  },
  {
   "cell_type": "code",
   "execution_count": 29,
   "metadata": {},
   "outputs": [],
   "source": [
    "my_model1 = load_model('model1/model')\n",
    "my_model2 = load_model('model2/model')\n",
    "my_history1=np.load('model1/history.npy',allow_pickle='TRUE').item()\n",
    "my_history2=np.load('model2/history.npy',allow_pickle='TRUE').item()"
   ]
  },
  {
   "cell_type": "code",
   "execution_count": 30,
   "metadata": {},
   "outputs": [
    {
     "data": {
      "image/png": "[encoded data removed]",
      "text/plain": [
       "<Figure size 432x288 with 1 Axes>"
      ]
     },
     "metadata": {
      "needs_background": "light"
     },
     "output_type": "display_data"
    }
   ],
   "source": [
    "loss_1 = my_history1[\"loss\"]\n",
    "val_loss_1 = my_history1[\"val_loss\"]\n",
    "loss_2 = my_history2[\"loss\"]\n",
    "val_loss_2 = my_history2[\"val_loss\"]\n",
    "epochs = range(1, len(loss_1) + 1)\n",
    "\n",
    "plt.plot(epochs, loss_1, \"b.\", label=\"Training loss original\")\n",
    "plt.plot(epochs, loss_2, \"r.\", label=\"Training loss new\")\n",
    "plt.plot(epochs, val_loss_1, \"b\", label=\"Validation loss original\")\n",
    "plt.plot(epochs, val_loss_2, \"r\", label=\"Validation loss new\")\n",
    "plt.title(\"Training and validation loss\")\n",
    "plt.xlabel(\"Epochs\")\n",
    "plt.ylabel(\"Loss\")\n",
    "plt.legend()\n",
    "plt.show()"
   ]
  },
  {
   "cell_type": "code",
   "execution_count": 31,
   "metadata": {},
   "outputs": [
    {
     "data": {
      "image/png": "[encoded data removed]",
      "text/plain": [
       "<Figure size 432x288 with 1 Axes>"
      ]
     },
     "metadata": {
      "needs_background": "light"
     },
     "output_type": "display_data"
    }
   ],
   "source": [
    "\n",
    "plt.clf()\n",
    "\n",
    "acc_1 = my_history1[\"accuracy\"]\n",
    "val_acc_1 = my_history1[\"val_accuracy\"]\n",
    "acc_2 = my_history2[\"accuracy\"]\n",
    "val_acc_2 = my_history2[\"val_accuracy\"]\n",
    "epochs = range(1, len(loss_1) + 1)\n",
    "\n",
    "plt.plot(epochs, acc_1, \"b.\", label=\"Training accuracy original\")\n",
    "plt.plot(epochs, acc_2, \"r.\", label=\"Training accuracy new\")\n",
    "plt.plot(epochs, val_acc_1, \"b\", label=\"Validation accuracy original\")\n",
    "plt.plot(epochs, val_acc_2, \"r\", label=\"Validation accuracy new\")\n",
    "plt.title(\"Training and validation accuracy\")\n",
    "plt.xlabel(\"Epochs\")\n",
    "plt.ylabel(\"Accuracy\")\n",
    "plt.legend()\n",
    "plt.show()"
   ]
  },
  {
   "cell_type": "code",
   "execution_count": 32,
   "metadata": {},
   "outputs": [
    {
     "name": "stdout",
     "output_type": "stream",
     "text": [
      "19/19 [==============================] - 3s 80ms/step - loss: 4.1992 - accuracy: 0.6733\n"
     ]
    },
    {
     "data": {
      "text/plain": [
       "[4.199192047119141, 0.673275887966156]"
      ]
     },
     "execution_count": 32,
     "metadata": {},
     "output_type": "execute_result"
    }
   ],
   "source": [
    "model = keras.models.load_model('model2/model')\n",
    "results= model.evaluate(test_dataset)\n",
    "results"
   ]
  },
  {
   "cell_type": "code",
   "execution_count": 33,
   "metadata": {},
   "outputs": [
    {
     "name": "stdout",
     "output_type": "stream",
     "text": [
      "19/19 [==============================] - 3s 90ms/step - loss: 1.2028 - accuracy: 0.6129\n"
     ]
    },
    {
     "data": {
      "text/plain": [
       "[1.2028143405914307, 0.6129310131072998]"
      ]
     },
     "execution_count": 33,
     "metadata": {},
     "output_type": "execute_result"
    }
   ],
   "source": [
    "model = keras.models.load_model('model2/best_version')\n",
    "results= model.evaluate(test_dataset)\n",
    "results"
   ]
  },
  {
   "cell_type": "code",
   "execution_count": null,
   "metadata": {},
   "outputs": [],
   "source": []
  }
 ],
 "metadata": {
  "kernelspec": {
   "display_name": "Python 3 (ipykernel)",
   "language": "python",
   "name": "python3"
  },
  "language_info": {
   "codemirror_mode": {
    "name": "ipython",
    "version": 3
   },
   "file_extension": ".py",
   "mimetype": "text/x-python",
   "name": "python",
   "nbconvert_exporter": "python",
   "pygments_lexer": "ipython3",
   "version": "3.9.12"
  }
 },
 "nbformat": 4,
 "nbformat_minor": 1
}