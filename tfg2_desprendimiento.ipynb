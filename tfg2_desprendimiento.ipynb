{
 "cells": [
  {
   "cell_type": "markdown",
   "metadata": {
    "pycharm": {
     "name": "#%%\n"
    }
   },
   "source": [
    "# Creación de un modelo desde cero con aumento de imágenes y desprendimiento"
   ]
  },
  {
   "cell_type": "markdown",
   "metadata": {
    "pycharm": {
     "name": "#%%\n"
    }
   },
   "source": [
    "## Librerías necesarias"
   ]
  },
  {
   "cell_type": "code",
   "execution_count": 37,
   "metadata": {},
   "outputs": [],
   "source": [
    "from tensorflow import keras\n",
    "from tensorflow.keras import layers\n",
    "import os, shutil, pathlib\n",
    "from tensorflow.keras.utils import image_dataset_from_directory\n",
    "import matplotlib.pyplot as plt\n",
    "import numpy as np\n",
    "from tensorflow.keras.models import load_model"
   ]
  },
  {
   "cell_type": "markdown",
   "metadata": {},
   "source": [
    "## Variables globales del sistema"
   ]
  },
  {
   "cell_type": "code",
   "execution_count": 38,
   "metadata": {},
   "outputs": [],
   "source": [
    "original_dir = pathlib.Path(\"ExpandedDataset/\")\n",
    "new_base_dir = pathlib.Path(\"ExpandedDataset_organized/\")\n",
    "content = os.listdir(original_dir)\n",
    "BATCH_SIZE = 64\n",
    "size_x = 256\n",
    "size_y = 256"
   ]
  },
  {
   "cell_type": "markdown",
   "metadata": {},
   "source": [
    "## Creación de los datasets específicos a partir de las carpetas "
   ]
  },
  {
   "cell_type": "code",
   "execution_count": 39,
   "metadata": {},
   "outputs": [
    {
     "name": "stdout",
     "output_type": "stream",
     "text": [
      "Found 9280 files belonging to 58 classes.\n",
      "Found 1160 files belonging to 58 classes.\n",
      "Found 1160 files belonging to 58 classes.\n"
     ]
    }
   ],
   "source": [
    "train_dataset = image_dataset_from_directory(\n",
    "    new_base_dir / \"train\",\n",
    "    image_size=(size_x, size_y),\n",
    "    batch_size=BATCH_SIZE,\n",
    "    label_mode='categorical')\n",
    "validation_dataset = image_dataset_from_directory(\n",
    "    new_base_dir / \"validation\",\n",
    "    image_size=(size_x, size_y),\n",
    "    batch_size=BATCH_SIZE,\n",
    "    label_mode='categorical')\n",
    "test_dataset = image_dataset_from_directory(\n",
    "    new_base_dir / \"test\",\n",
    "    image_size=(size_x, size_y),\n",
    "    batch_size=BATCH_SIZE,\n",
    "    label_mode='categorical')"
   ]
  },
  {
   "cell_type": "markdown",
   "metadata": {},
   "source": [
    "## Nuevo modelo con una última capa de desprendimiento"
   ]
  },
  {
   "cell_type": "code",
   "execution_count": 43,
   "metadata": {},
   "outputs": [
    {
     "name": "stdout",
     "output_type": "stream",
     "text": [
      "Model: \"model_7\"\n",
      "_________________________________________________________________\n",
      "Layer (type)                 Output Shape              Param #   \n",
      "=================================================================\n",
      "input_8 (InputLayer)         [(None, 256, 256, 3)]     0         \n",
      "_________________________________________________________________\n",
      "rescaling_7 (Rescaling)      (None, 256, 256, 3)       0         \n",
      "_________________________________________________________________\n",
      "conv2d_35 (Conv2D)           (None, 254, 254, 32)      896       \n",
      "_________________________________________________________________\n",
      "max_pooling2d_28 (MaxPooling (None, 127, 127, 32)      0         \n",
      "_________________________________________________________________\n",
      "conv2d_36 (Conv2D)           (None, 125, 125, 64)      18496     \n",
      "_________________________________________________________________\n",
      "max_pooling2d_29 (MaxPooling (None, 62, 62, 64)        0         \n",
      "_________________________________________________________________\n",
      "conv2d_37 (Conv2D)           (None, 60, 60, 128)       73856     \n",
      "_________________________________________________________________\n",
      "max_pooling2d_30 (MaxPooling (None, 30, 30, 128)       0         \n",
      "_________________________________________________________________\n",
      "conv2d_38 (Conv2D)           (None, 28, 28, 256)       295168    \n",
      "_________________________________________________________________\n",
      "max_pooling2d_31 (MaxPooling (None, 14, 14, 256)       0         \n",
      "_________________________________________________________________\n",
      "conv2d_39 (Conv2D)           (None, 12, 12, 512)       1180160   \n",
      "_________________________________________________________________\n",
      "flatten_7 (Flatten)          (None, 73728)             0         \n",
      "_________________________________________________________________\n",
      "dropout_7 (Dropout)          (None, 73728)             0         \n",
      "_________________________________________________________________\n",
      "dense_7 (Dense)              (None, 58)                4276282   \n",
      "=================================================================\n",
      "Total params: 5,844,858\n",
      "Trainable params: 5,844,858\n",
      "Non-trainable params: 0\n",
      "_________________________________________________________________\n"
     ]
    }
   ],
   "source": [
    "inputs = keras.Input(shape=(size_x, size_y, 3)) \n",
    "x = layers.Rescaling(1./255)(inputs) \n",
    "x = layers.Conv2D(filters=32, kernel_size=3, activation=\"relu\")(x)\n",
    "x = layers.MaxPooling2D(pool_size=2)(x)\n",
    "x = layers.Conv2D(filters=64, kernel_size=3, activation=\"relu\")(x)\n",
    "x = layers.MaxPooling2D(pool_size=2)(x)\n",
    "x = layers.Conv2D(filters=128, kernel_size=3, activation=\"relu\")(x)\n",
    "x = layers.MaxPooling2D(pool_size=2)(x)\n",
    "x = layers.Conv2D(filters=256, kernel_size=3, activation=\"relu\")(x)\n",
    "x = layers.MaxPooling2D(pool_size=2)(x)\n",
    "x = layers.Conv2D(filters=512, kernel_size=3, activation=\"relu\")(x)\n",
    "x = layers.Flatten()(x)\n",
    "x = layers.Dropout(0.5)(x)\n",
    "outputs = layers.Dense(58, activation=\"softmax\")(x)\n",
    "model2 = keras.Model(inputs=inputs, outputs=outputs)\n",
    "\n",
    "model2.summary()"
   ]
  },
  {
   "cell_type": "markdown",
   "metadata": {},
   "source": [
    "## Entrenamiento y guardado de resultados del modelo dos"
   ]
  },
  {
   "cell_type": "code",
   "execution_count": 44,
   "metadata": {},
   "outputs": [
    {
     "name": "stdout",
     "output_type": "stream",
     "text": [
      "Epoch 1/30\n",
      "145/145 [==============================] - 28s 178ms/step - loss: 4.1318 - accuracy: 0.0749 - val_loss: 2.8555 - val_accuracy: 0.2112\n",
      "INFO:tensorflow:Assets written to: model2\\best_version\\assets\n",
      "Epoch 2/30\n",
      "145/145 [==============================] - 26s 169ms/step - loss: 2.6199 - accuracy: 0.2874 - val_loss: 2.0430 - val_accuracy: 0.4164\n",
      "INFO:tensorflow:Assets written to: model2\\best_version\\assets\n",
      "Epoch 3/30\n",
      "145/145 [==============================] - 26s 169ms/step - loss: 1.7571 - accuracy: 0.4872 - val_loss: 2.3057 - val_accuracy: 0.3776\n",
      "Epoch 4/30\n",
      "145/145 [==============================] - 25s 167ms/step - loss: 1.2638 - accuracy: 0.6136 - val_loss: 1.5679 - val_accuracy: 0.5405\n",
      "INFO:tensorflow:Assets written to: model2\\best_version\\assets\n",
      "Epoch 5/30\n",
      "145/145 [==============================] - 26s 171ms/step - loss: 0.9260 - accuracy: 0.7143 - val_loss: 1.4690 - val_accuracy: 0.5707\n",
      "INFO:tensorflow:Assets written to: model2\\best_version\\assets\n",
      "Epoch 6/30\n",
      "145/145 [==============================] - 27s 176ms/step - loss: 0.7130 - accuracy: 0.7789 - val_loss: 1.3707 - val_accuracy: 0.6414\n",
      "INFO:tensorflow:Assets written to: model2\\best_version\\assets\n",
      "Epoch 7/30\n",
      "145/145 [==============================] - 27s 176ms/step - loss: 0.5649 - accuracy: 0.8242 - val_loss: 1.5061 - val_accuracy: 0.6017\n",
      "Epoch 8/30\n",
      "145/145 [==============================] - 27s 178ms/step - loss: 0.4519 - accuracy: 0.8636 - val_loss: 2.0190 - val_accuracy: 0.5664\n",
      "Epoch 9/30\n",
      "145/145 [==============================] - 26s 170ms/step - loss: 0.3369 - accuracy: 0.8913 - val_loss: 1.2808 - val_accuracy: 0.6845\n",
      "INFO:tensorflow:Assets written to: model2\\best_version\\assets\n",
      "Epoch 10/30\n",
      "145/145 [==============================] - 28s 184ms/step - loss: 0.2764 - accuracy: 0.9149 - val_loss: 1.6593 - val_accuracy: 0.6750\n",
      "Epoch 11/30\n",
      "145/145 [==============================] - 28s 185ms/step - loss: 0.2121 - accuracy: 0.9328 - val_loss: 1.6586 - val_accuracy: 0.6647\n",
      "Epoch 12/30\n",
      "145/145 [==============================] - 26s 169ms/step - loss: 0.2437 - accuracy: 0.9374 - val_loss: 1.6954 - val_accuracy: 0.6733\n",
      "Epoch 13/30\n",
      "145/145 [==============================] - 26s 173ms/step - loss: 0.2028 - accuracy: 0.9494 - val_loss: 2.1867 - val_accuracy: 0.6578\n",
      "Epoch 14/30\n",
      "145/145 [==============================] - 27s 181ms/step - loss: 0.2133 - accuracy: 0.9492 - val_loss: 1.9359 - val_accuracy: 0.6698\n",
      "Epoch 15/30\n",
      "145/145 [==============================] - 26s 175ms/step - loss: 0.1552 - accuracy: 0.9589 - val_loss: 2.9778 - val_accuracy: 0.6319\n",
      "Epoch 16/30\n",
      "145/145 [==============================] - 26s 173ms/step - loss: 0.1652 - accuracy: 0.9614 - val_loss: 2.2765 - val_accuracy: 0.7095\n",
      "Epoch 17/30\n",
      "145/145 [==============================] - 26s 174ms/step - loss: 0.1622 - accuracy: 0.9640 - val_loss: 2.2341 - val_accuracy: 0.6845\n",
      "Epoch 18/30\n",
      "145/145 [==============================] - 27s 177ms/step - loss: 0.1532 - accuracy: 0.9659 - val_loss: 2.1977 - val_accuracy: 0.6922\n",
      "Epoch 19/30\n",
      "145/145 [==============================] - 26s 172ms/step - loss: 0.1186 - accuracy: 0.9696 - val_loss: 2.9601 - val_accuracy: 0.6819\n",
      "Epoch 20/30\n",
      "145/145 [==============================] - 26s 172ms/step - loss: 0.1542 - accuracy: 0.9672 - val_loss: 3.3530 - val_accuracy: 0.6879\n",
      "Epoch 21/30\n",
      "145/145 [==============================] - 29s 189ms/step - loss: 0.1556 - accuracy: 0.9702 - val_loss: 3.5283 - val_accuracy: 0.6621\n",
      "Epoch 22/30\n",
      "145/145 [==============================] - 27s 183ms/step - loss: 0.1334 - accuracy: 0.9730 - val_loss: 3.4285 - val_accuracy: 0.6655\n",
      "Epoch 23/30\n",
      "145/145 [==============================] - 28s 185ms/step - loss: 0.1477 - accuracy: 0.9722 - val_loss: 5.2148 - val_accuracy: 0.6069\n",
      "Epoch 24/30\n",
      "145/145 [==============================] - 26s 171ms/step - loss: 0.1669 - accuracy: 0.9717 - val_loss: 5.1784 - val_accuracy: 0.5828\n",
      "Epoch 25/30\n",
      "145/145 [==============================] - 28s 183ms/step - loss: 0.1438 - accuracy: 0.9738 - val_loss: 4.9822 - val_accuracy: 0.6474\n",
      "Epoch 26/30\n",
      "145/145 [==============================] - 26s 169ms/step - loss: 0.1611 - accuracy: 0.9721 - val_loss: 4.2303 - val_accuracy: 0.6491\n",
      "Epoch 27/30\n",
      "145/145 [==============================] - 26s 170ms/step - loss: 0.1320 - accuracy: 0.9762 - val_loss: 4.8174 - val_accuracy: 0.6293\n",
      "Epoch 28/30\n",
      "145/145 [==============================] - 26s 172ms/step - loss: 0.1452 - accuracy: 0.9784 - val_loss: 5.1972 - val_accuracy: 0.6957\n",
      "Epoch 29/30\n",
      "145/145 [==============================] - 26s 171ms/step - loss: 0.1859 - accuracy: 0.9780 - val_loss: 5.7292 - val_accuracy: 0.6440\n",
      "Epoch 30/30\n",
      "145/145 [==============================] - 30s 201ms/step - loss: 0.1288 - accuracy: 0.9800 - val_loss: 10.8578 - val_accuracy: 0.5112\n"
     ]
    }
   ],
   "source": [
    "callbacks = [\n",
    " keras.callbacks.ModelCheckpoint(\n",
    " filepath=\"model2/best_version\",\n",
    " save_best_only=True,\n",
    " monitor=\"val_loss\")\n",
    "]\n",
    "\n",
    "model2.compile(loss=\"categorical_crossentropy\",\n",
    " optimizer=\"rmsprop\",\n",
    " metrics=[\"accuracy\"])\n",
    "\n",
    "history = model2.fit(\n",
    " train_dataset,\n",
    " epochs=30,\n",
    " validation_data=validation_dataset,\n",
    " callbacks=callbacks)"
   ]
  },
  {
   "cell_type": "code",
   "execution_count": 45,
   "metadata": {},
   "outputs": [
    {
     "name": "stdout",
     "output_type": "stream",
     "text": [
      "INFO:tensorflow:Assets written to: model2/model\\assets\n"
     ]
    }
   ],
   "source": [
    "model2.save('model2/model')\n",
    "np.save('model2/history.npy',history.history)"
   ]
  },
  {
   "cell_type": "markdown",
   "metadata": {},
   "source": [
    "## Análisis de resultados"
   ]
  },
  {
   "cell_type": "code",
   "execution_count": 46,
   "metadata": {},
   "outputs": [],
   "source": [
    "my_model1 = load_model('model1/model')\n",
    "my_model2 = load_model('model2/model')\n",
    "my_history1=np.load('model1/history.npy',allow_pickle='TRUE').item()\n",
    "my_history2=np.load('model2/history.npy',allow_pickle='TRUE').item()"
   ]
  },
  {
   "cell_type": "code",
   "execution_count": 47,
   "metadata": {},
   "outputs": [
    {
     "data": {
      "image/png": "[encoded data removed]",
      "text/plain": [
       "<Figure size 432x288 with 1 Axes>"
      ]
     },
     "metadata": {
      "needs_background": "light"
     },
     "output_type": "display_data"
    }
   ],
   "source": [
    "loss_1 = my_history1[\"loss\"]\n",
    "val_loss_1 = my_history1[\"val_loss\"]\n",
    "loss_2 = my_history2[\"loss\"]\n",
    "val_loss_2 = my_history2[\"val_loss\"]\n",
    "epochs = range(1, len(loss_1) + 1)\n",
    "\n",
    "plt.plot(epochs, loss_1, \"b.\", label=\"Training loss original\")\n",
    "plt.plot(epochs, loss_2, \"r.\", label=\"Training loss new\")\n",
    "plt.plot(epochs, val_loss_1, \"b\", label=\"Validation loss original\")\n",
    "plt.plot(epochs, val_loss_2, \"r\", label=\"Validation loss new\")\n",
    "plt.title(\"Training and validation loss\")\n",
    "plt.xlabel(\"Epochs\")\n",
    "plt.ylabel(\"Loss\")\n",
    "plt.legend()\n",
    "plt.show()"
   ]
  },
  {
   "cell_type": "code",
   "execution_count": 48,
   "metadata": {},
   "outputs": [
    {
     "data": {
      "image/png": "[encoded data removed]",
      "text/plain": [
       "<Figure size 432x288 with 1 Axes>"
      ]
     },
     "metadata": {
      "needs_background": "light"
     },
     "output_type": "display_data"
    }
   ],
   "source": [
    "\n",
    "plt.clf()\n",
    "\n",
    "acc_1 = my_history1[\"accuracy\"]\n",
    "val_acc_1 = my_history1[\"val_accuracy\"]\n",
    "acc_2 = my_history2[\"accuracy\"]\n",
    "val_acc_2 = my_history2[\"val_accuracy\"]\n",
    "epochs = range(1, len(loss_1) + 1)\n",
    "\n",
    "plt.plot(epochs, acc_1, \"b.\", label=\"Training accuracy original\")\n",
    "plt.plot(epochs, acc_2, \"r.\", label=\"Training accuracy new\")\n",
    "plt.plot(epochs, val_acc_1, \"b\", label=\"Validation accuracy original\")\n",
    "plt.plot(epochs, val_acc_2, \"r\", label=\"Validation accuracy new\")\n",
    "plt.title(\"Training and validation accuracy\")\n",
    "plt.xlabel(\"Epochs\")\n",
    "plt.ylabel(\"Accuracy\")\n",
    "plt.legend()\n",
    "plt.show()"
   ]
  },
  {
   "cell_type": "code",
   "execution_count": 49,
   "metadata": {},
   "outputs": [
    {
     "name": "stdout",
     "output_type": "stream",
     "text": [
      "19/19 [==============================] - 3s 87ms/step - loss: 11.4377 - accuracy: 0.4914\n"
     ]
    },
    {
     "data": {
      "text/plain": [
       "[11.437688827514648, 0.4913793206214905]"
      ]
     },
     "execution_count": 49,
     "metadata": {},
     "output_type": "execute_result"
    }
   ],
   "source": [
    "model = keras.models.load_model('model2/model')\n",
    "results= model.evaluate(test_dataset)\n",
    "results"
   ]
  },
  {
   "cell_type": "code",
   "execution_count": 50,
   "metadata": {},
   "outputs": [
    {
     "name": "stdout",
     "output_type": "stream",
     "text": [
      "19/19 [==============================] - 3s 77ms/step - loss: 1.2623 - accuracy: 0.6905\n"
     ]
    },
    {
     "data": {
      "text/plain": [
       "[1.2622944116592407, 0.690517246723175]"
      ]
     },
     "execution_count": 50,
     "metadata": {},
     "output_type": "execute_result"
    }
   ],
   "source": [
    "model = keras.models.load_model('model2/best_version')\n",
    "results= model.evaluate(test_dataset)\n",
    "results"
   ]
  }
 ],
 "metadata": {
  "kernelspec": {
   "display_name": "Python 3 (ipykernel)",
   "language": "python",
   "name": "python3"
  },
  "language_info": {
   "codemirror_mode": {
    "name": "ipython",
    "version": 3
   },
   "file_extension": ".py",
   "mimetype": "text/x-python",
   "name": "python",
   "nbconvert_exporter": "python",
   "pygments_lexer": "ipython3",
   "version": "3.9.12"
  }
 },
 "nbformat": 4,
 "nbformat_minor": 1
}