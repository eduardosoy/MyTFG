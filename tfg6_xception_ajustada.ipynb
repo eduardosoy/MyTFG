{
 "cells": [
  {
   "cell_type": "code",
   "execution_count": 3,
   "metadata": {
    "pycharm": {
     "is_executing": true,
     "name": "#%%\n"
    }
   },
   "outputs": [],
   "source": [
    "from tensorflow import keras\n",
    "from tensorflow.keras import layers\n",
    "import os, shutil, pathlib\n",
    "from tensorflow.keras.utils import image_dataset_from_directory\n",
    "import matplotlib.pyplot as plt\n",
    "import numpy as np\n",
    "from tensorflow.keras.models import load_model"
   ]
  },
  {
   "cell_type": "code",
   "execution_count": 4,
   "metadata": {
    "pycharm": {
     "name": "#%%\n"
    }
   },
   "outputs": [],
   "source": [
    "original_dir = pathlib.Path(\"ExpandedDataset/\")\n",
    "new_base_dir = pathlib.Path(\"ExpandedDataset_organized/\")\n",
    "content = os.listdir(original_dir)\n",
    "BATCH_SIZE = 64\n",
    "size_x = 256\n",
    "size_y = 256"
   ]
  },
  {
   "cell_type": "code",
   "execution_count": 5,
   "metadata": {
    "pycharm": {
     "name": "#%%\n"
    }
   },
   "outputs": [
    {
     "name": "stdout",
     "output_type": "stream",
     "text": [
      "Found 9280 files belonging to 58 classes.\n",
      "Found 1160 files belonging to 58 classes.\n",
      "Found 1160 files belonging to 58 classes.\n"
     ]
    }
   ],
   "source": [
    "train_dataset = image_dataset_from_directory(\n",
    "    new_base_dir / \"train\",\n",
    "    image_size=(size_x, size_y),\n",
    "    batch_size=BATCH_SIZE,\n",
    "    label_mode='categorical')\n",
    "validation_dataset = image_dataset_from_directory(\n",
    "    new_base_dir / \"validation\",\n",
    "    image_size=(size_x, size_y),\n",
    "    batch_size=BATCH_SIZE,\n",
    "    label_mode='categorical')\n",
    "test_dataset = image_dataset_from_directory(\n",
    "    new_base_dir / \"test\",\n",
    "    image_size=(size_x, size_y),\n",
    "    batch_size=BATCH_SIZE,\n",
    "    label_mode='categorical')"
   ]
  },
  {
   "cell_type": "markdown",
   "metadata": {},
   "source": [
    "# Primer paso: extracción de características"
   ]
  },
  {
   "cell_type": "code",
   "execution_count": 37,
   "metadata": {},
   "outputs": [
    {
     "name": "stdout",
     "output_type": "stream",
     "text": [
      "Model: \"model_11\"\n",
      "_________________________________________________________________\n",
      "Layer (type)                 Output Shape              Param #   \n",
      "=================================================================\n",
      "input_30 (InputLayer)        [(None, 256, 256, 3)]     0         \n",
      "_________________________________________________________________\n",
      "tf.math.truediv_12 (TFOpLamb (None, 256, 256, 3)       0         \n",
      "_________________________________________________________________\n",
      "tf.math.subtract_12 (TFOpLam (None, 256, 256, 3)       0         \n",
      "_________________________________________________________________\n",
      "xception (Functional)        (None, None, None, 2048)  20861480  \n",
      "_________________________________________________________________\n",
      "flatten_14 (Flatten)         (None, 131072)            0         \n",
      "_________________________________________________________________\n",
      "dropout_7 (Dropout)          (None, 131072)            0         \n",
      "_________________________________________________________________\n",
      "dense_22 (Dense)             (None, 58)                7602234   \n",
      "=================================================================\n",
      "Total params: 28,463,714\n",
      "Trainable params: 7,602,234\n",
      "Non-trainable params: 20,861,480\n",
      "_________________________________________________________________\n"
     ]
    }
   ],
   "source": [
    "xception_base = keras.applications.Xception(\n",
    "    weights='imagenet', \n",
    "    include_top=False) \n",
    "\n",
    "inputs = keras.Input(shape=(size_x , size_y, 3))\n",
    "xception_base.trainable = False\n",
    "\n",
    "x = keras.applications.xception.preprocess_input(inputs) \n",
    "x = xception_base(x)\n",
    "x = layers.Flatten()(x)\n",
    "x = layers.Dropout(0.5)(x)\n",
    "outputs = keras.layers.Dense(58, activation=\"softmax\")(x)\n",
    "\n",
    "model6 = keras.Model(inputs, outputs)\n",
    "\n",
    "model6.summary()"
   ]
  },
  {
   "cell_type": "code",
   "execution_count": 38,
   "metadata": {
    "pycharm": {
     "name": "#%%\n"
    },
    "scrolled": true
   },
   "outputs": [
    {
     "name": "stdout",
     "output_type": "stream",
     "text": [
      "Epoch 1/30\n",
      "145/145 [==============================] - 42s 272ms/step - loss: 5.4259 - accuracy: 0.6338 - val_loss: 2.5183 - val_accuracy: 0.7741\n",
      "INFO:tensorflow:Assets written to: model6\\best_version\\assets\n"
     ]
    },
    {
     "name": "stderr",
     "output_type": "stream",
     "text": [
      "F:\\Programas\\Anaconda\\envs\\TFGapp\\lib\\site-packages\\keras\\utils\\generic_utils.py:494: CustomMaskWarning: Custom mask layers require a config and must override get_config. When loading, the custom mask layer must be passed to the custom_objects argument.\n",
      "  warnings.warn('Custom mask layers require a config and must override '\n"
     ]
    },
    {
     "name": "stdout",
     "output_type": "stream",
     "text": [
      "Epoch 2/30\n",
      "145/145 [==============================] - 40s 269ms/step - loss: 1.1745 - accuracy: 0.8723 - val_loss: 2.4854 - val_accuracy: 0.7914\n",
      "INFO:tensorflow:Assets written to: model6\\best_version\\assets\n"
     ]
    },
    {
     "name": "stderr",
     "output_type": "stream",
     "text": [
      "F:\\Programas\\Anaconda\\envs\\TFGapp\\lib\\site-packages\\keras\\utils\\generic_utils.py:494: CustomMaskWarning: Custom mask layers require a config and must override get_config. When loading, the custom mask layer must be passed to the custom_objects argument.\n",
      "  warnings.warn('Custom mask layers require a config and must override '\n"
     ]
    },
    {
     "name": "stdout",
     "output_type": "stream",
     "text": [
      "Epoch 3/30\n",
      "145/145 [==============================] - 42s 280ms/step - loss: 0.5958 - accuracy: 0.9279 - val_loss: 2.2339 - val_accuracy: 0.8302\n",
      "INFO:tensorflow:Assets written to: model6\\best_version\\assets\n"
     ]
    },
    {
     "name": "stderr",
     "output_type": "stream",
     "text": [
      "F:\\Programas\\Anaconda\\envs\\TFGapp\\lib\\site-packages\\keras\\utils\\generic_utils.py:494: CustomMaskWarning: Custom mask layers require a config and must override get_config. When loading, the custom mask layer must be passed to the custom_objects argument.\n",
      "  warnings.warn('Custom mask layers require a config and must override '\n"
     ]
    },
    {
     "name": "stdout",
     "output_type": "stream",
     "text": [
      "Epoch 4/30\n",
      "145/145 [==============================] - 42s 279ms/step - loss: 0.3349 - accuracy: 0.9577 - val_loss: 2.0380 - val_accuracy: 0.8655\n",
      "INFO:tensorflow:Assets written to: model6\\best_version\\assets\n"
     ]
    },
    {
     "name": "stderr",
     "output_type": "stream",
     "text": [
      "F:\\Programas\\Anaconda\\envs\\TFGapp\\lib\\site-packages\\keras\\utils\\generic_utils.py:494: CustomMaskWarning: Custom mask layers require a config and must override get_config. When loading, the custom mask layer must be passed to the custom_objects argument.\n",
      "  warnings.warn('Custom mask layers require a config and must override '\n"
     ]
    },
    {
     "name": "stdout",
     "output_type": "stream",
     "text": [
      "Epoch 5/30\n",
      "145/145 [==============================] - 41s 274ms/step - loss: 0.2328 - accuracy: 0.9683 - val_loss: 2.1949 - val_accuracy: 0.8362\n",
      "Epoch 6/30\n",
      "145/145 [==============================] - 40s 273ms/step - loss: 0.1590 - accuracy: 0.9794 - val_loss: 1.8500 - val_accuracy: 0.8474\n",
      "INFO:tensorflow:Assets written to: model6\\best_version\\assets\n"
     ]
    },
    {
     "name": "stderr",
     "output_type": "stream",
     "text": [
      "F:\\Programas\\Anaconda\\envs\\TFGapp\\lib\\site-packages\\keras\\utils\\generic_utils.py:494: CustomMaskWarning: Custom mask layers require a config and must override get_config. When loading, the custom mask layer must be passed to the custom_objects argument.\n",
      "  warnings.warn('Custom mask layers require a config and must override '\n"
     ]
    },
    {
     "name": "stdout",
     "output_type": "stream",
     "text": [
      "Epoch 7/30\n",
      "145/145 [==============================] - 41s 277ms/step - loss: 0.1106 - accuracy: 0.9867 - val_loss: 2.2524 - val_accuracy: 0.8491\n",
      "Epoch 8/30\n",
      "145/145 [==============================] - 40s 271ms/step - loss: 0.0987 - accuracy: 0.9857 - val_loss: 1.6689 - val_accuracy: 0.8672\n",
      "INFO:tensorflow:Assets written to: model6\\best_version\\assets\n"
     ]
    },
    {
     "name": "stderr",
     "output_type": "stream",
     "text": [
      "F:\\Programas\\Anaconda\\envs\\TFGapp\\lib\\site-packages\\keras\\utils\\generic_utils.py:494: CustomMaskWarning: Custom mask layers require a config and must override get_config. When loading, the custom mask layer must be passed to the custom_objects argument.\n",
      "  warnings.warn('Custom mask layers require a config and must override '\n"
     ]
    },
    {
     "name": "stdout",
     "output_type": "stream",
     "text": [
      "Epoch 9/30\n",
      "145/145 [==============================] - 41s 277ms/step - loss: 0.0598 - accuracy: 0.9921 - val_loss: 1.8533 - val_accuracy: 0.8655\n",
      "Epoch 10/30\n",
      "145/145 [==============================] - 41s 275ms/step - loss: 0.0495 - accuracy: 0.9933 - val_loss: 1.3704 - val_accuracy: 0.8879\n",
      "INFO:tensorflow:Assets written to: model6\\best_version\\assets\n"
     ]
    },
    {
     "name": "stderr",
     "output_type": "stream",
     "text": [
      "F:\\Programas\\Anaconda\\envs\\TFGapp\\lib\\site-packages\\keras\\utils\\generic_utils.py:494: CustomMaskWarning: Custom mask layers require a config and must override get_config. When loading, the custom mask layer must be passed to the custom_objects argument.\n",
      "  warnings.warn('Custom mask layers require a config and must override '\n"
     ]
    },
    {
     "name": "stdout",
     "output_type": "stream",
     "text": [
      "Epoch 11/30\n",
      "145/145 [==============================] - 41s 278ms/step - loss: 0.0382 - accuracy: 0.9954 - val_loss: 1.5912 - val_accuracy: 0.8879\n",
      "Epoch 12/30\n",
      "145/145 [==============================] - 41s 273ms/step - loss: 0.0329 - accuracy: 0.9949 - val_loss: 1.5185 - val_accuracy: 0.8836\n",
      "Epoch 13/30\n",
      "145/145 [==============================] - 41s 273ms/step - loss: 0.0226 - accuracy: 0.9961 - val_loss: 1.6216 - val_accuracy: 0.8784\n",
      "Epoch 14/30\n",
      "145/145 [==============================] - 41s 273ms/step - loss: 0.0254 - accuracy: 0.9970 - val_loss: 1.5791 - val_accuracy: 0.8845\n",
      "Epoch 15/30\n",
      "145/145 [==============================] - 41s 273ms/step - loss: 0.0239 - accuracy: 0.9968 - val_loss: 2.0473 - val_accuracy: 0.8733\n",
      "Epoch 16/30\n",
      "145/145 [==============================] - 41s 274ms/step - loss: 0.0344 - accuracy: 0.9971 - val_loss: 1.8059 - val_accuracy: 0.8819\n",
      "Epoch 17/30\n",
      "145/145 [==============================] - 41s 274ms/step - loss: 0.0189 - accuracy: 0.9978 - val_loss: 1.7176 - val_accuracy: 0.8784\n",
      "Epoch 18/30\n",
      "145/145 [==============================] - 41s 273ms/step - loss: 0.0182 - accuracy: 0.9973 - val_loss: 1.7711 - val_accuracy: 0.8698\n",
      "Epoch 19/30\n",
      "145/145 [==============================] - 41s 276ms/step - loss: 0.0195 - accuracy: 0.9977 - val_loss: 1.7694 - val_accuracy: 0.8716\n",
      "Epoch 20/30\n",
      "145/145 [==============================] - 41s 274ms/step - loss: 0.0106 - accuracy: 0.9977 - val_loss: 1.6646 - val_accuracy: 0.8828\n",
      "Epoch 21/30\n",
      "145/145 [==============================] - 41s 274ms/step - loss: 0.0276 - accuracy: 0.9976 - val_loss: 1.6171 - val_accuracy: 0.8914\n",
      "Epoch 22/30\n",
      "145/145 [==============================] - 41s 274ms/step - loss: 0.0083 - accuracy: 0.9990 - val_loss: 1.9010 - val_accuracy: 0.8802\n",
      "Epoch 23/30\n",
      "145/145 [==============================] - 41s 276ms/step - loss: 0.0052 - accuracy: 0.9990 - val_loss: 1.6493 - val_accuracy: 0.8922\n",
      "Epoch 24/30\n",
      "145/145 [==============================] - 41s 274ms/step - loss: 0.0125 - accuracy: 0.9989 - val_loss: 1.5933 - val_accuracy: 0.8922\n",
      "Epoch 25/30\n",
      "145/145 [==============================] - 41s 274ms/step - loss: 0.0075 - accuracy: 0.9995 - val_loss: 1.7788 - val_accuracy: 0.8940\n",
      "Epoch 26/30\n",
      "145/145 [==============================] - 42s 286ms/step - loss: 0.0082 - accuracy: 0.9991 - val_loss: 1.4588 - val_accuracy: 0.8931\n",
      "Epoch 27/30\n",
      "145/145 [==============================] - 41s 274ms/step - loss: 0.0147 - accuracy: 0.9980 - val_loss: 1.9064 - val_accuracy: 0.8767\n",
      "Epoch 28/30\n",
      "145/145 [==============================] - 41s 274ms/step - loss: 0.0114 - accuracy: 0.9989 - val_loss: 1.6757 - val_accuracy: 0.8871\n",
      "Epoch 29/30\n",
      "145/145 [==============================] - 41s 275ms/step - loss: 0.0106 - accuracy: 0.9988 - val_loss: 1.9751 - val_accuracy: 0.8879\n",
      "Epoch 30/30\n",
      "145/145 [==============================] - 41s 274ms/step - loss: 0.0161 - accuracy: 0.9989 - val_loss: 2.0451 - val_accuracy: 0.8836\n"
     ]
    }
   ],
   "source": [
    "model6.compile(loss=\"categorical_crossentropy\",\n",
    "    optimizer=\"rmsprop\",\n",
    "    metrics=[\"accuracy\"])\n",
    "    \n",
    "callbacks = [\n",
    "    keras.callbacks.ModelCheckpoint(\n",
    "    filepath=\"model6/best_version\",\n",
    "    save_best_only=True,\n",
    "    monitor=\"val_loss\")\n",
    "    ]\n",
    "\n",
    "history = model6.fit(\n",
    "    train_dataset,\n",
    "    epochs=30,\n",
    "    validation_data=validation_dataset,\n",
    "    callbacks=callbacks)"
   ]
  },
  {
   "cell_type": "code",
   "execution_count": 39,
   "metadata": {
    "pycharm": {
     "name": "#%%\n"
    }
   },
   "outputs": [
    {
     "name": "stdout",
     "output_type": "stream",
     "text": [
      "INFO:tensorflow:Assets written to: model6/model\\assets\n"
     ]
    },
    {
     "name": "stderr",
     "output_type": "stream",
     "text": [
      "F:\\Programas\\Anaconda\\envs\\TFGapp\\lib\\site-packages\\keras\\utils\\generic_utils.py:494: CustomMaskWarning: Custom mask layers require a config and must override get_config. When loading, the custom mask layer must be passed to the custom_objects argument.\n",
      "  warnings.warn('Custom mask layers require a config and must override '\n"
     ]
    }
   ],
   "source": [
    "model6.save('model6/model')\n",
    "np.save('model6/history.npy',history.history)"
   ]
  },
  {
   "cell_type": "code",
   "execution_count": 40,
   "metadata": {
    "pycharm": {
     "name": "#%%\n"
    }
   },
   "outputs": [
    {
     "data": {
      "image/png": "[encoded data removed]",
      "text/plain": [
       "<Figure size 432x288 with 1 Axes>"
      ]
     },
     "metadata": {
      "needs_background": "light"
     },
     "output_type": "display_data"
    }
   ],
   "source": [
    "loss = history.history[\"loss\"]\n",
    "val_loss = history.history[\"val_loss\"]\n",
    "epochs = range(1, len(loss) + 1)\n",
    "\n",
    "plt.plot(epochs, loss, \"b.\", label=\"Training loss\")\n",
    "plt.plot(epochs, val_loss, \"b\", label=\"Validation loss\")\n",
    "plt.title(\"Training and validation loss\")\n",
    "plt.xlabel(\"Epochs\")\n",
    "plt.ylabel(\"Loss\")\n",
    "plt.legend()\n",
    "plt.show()"
   ]
  },
  {
   "cell_type": "code",
   "execution_count": 41,
   "metadata": {
    "pycharm": {
     "name": "#%%\n"
    }
   },
   "outputs": [
    {
     "data": {
      "image/png": "[encoded data removed]",
      "text/plain": [
       "<Figure size 432x288 with 1 Axes>"
      ]
     },
     "metadata": {
      "needs_background": "light"
     },
     "output_type": "display_data"
    }
   ],
   "source": [
    "plt.clf()\n",
    "\n",
    "acc = history.history[\"accuracy\"]\n",
    "val_acc = history.history[\"val_accuracy\"]\n",
    "epochs = range(1, len(loss) + 1)\n",
    "\n",
    "plt.plot(epochs, acc, \"b.\", label=\"Training accuracy\")\n",
    "plt.plot(epochs, val_acc, \"b\", label=\"Validation accuracy\")\n",
    "plt.title(\"Training and validation accuracy\")\n",
    "plt.xlabel(\"Epochs\")\n",
    "plt.ylabel(\"Accuracy\")\n",
    "plt.legend()\n",
    "plt.show()"
   ]
  },
  {
   "cell_type": "code",
   "execution_count": 42,
   "metadata": {},
   "outputs": [
    {
     "name": "stdout",
     "output_type": "stream",
     "text": [
      "19/19 [==============================] - 6s 248ms/step - loss: 1.6409 - accuracy: 0.8991\n"
     ]
    },
    {
     "data": {
      "text/plain": [
       "[1.6409173011779785, 0.8991379141807556]"
      ]
     },
     "execution_count": 42,
     "metadata": {},
     "output_type": "execute_result"
    }
   ],
   "source": [
    "results= model6.evaluate(test_dataset)\n",
    "results"
   ]
  },
  {
   "cell_type": "code",
   "execution_count": 43,
   "metadata": {},
   "outputs": [
    {
     "name": "stdout",
     "output_type": "stream",
     "text": [
      "19/19 [==============================] - 6s 240ms/step - loss: 1.3176 - accuracy: 0.8983\n"
     ]
    },
    {
     "data": {
      "text/plain": [
       "[1.3176037073135376, 0.8982758522033691]"
      ]
     },
     "execution_count": 43,
     "metadata": {},
     "output_type": "execute_result"
    }
   ],
   "source": [
    "model = keras.models.load_model('model6/best_version')\n",
    "results= model.evaluate(test_dataset)\n",
    "results"
   ]
  },
  {
   "cell_type": "markdown",
   "metadata": {},
   "source": [
    "# Segundo paso: ajuste y afinamiento"
   ]
  },
  {
   "cell_type": "code",
   "execution_count": 108,
   "metadata": {},
   "outputs": [],
   "source": [
    "model = keras.models.load_model('model6/best_version')"
   ]
  },
  {
   "cell_type": "code",
   "execution_count": 77,
   "metadata": {},
   "outputs": [
    {
     "name": "stdout",
     "output_type": "stream",
     "text": [
      "input_30\n",
      "tf.math.truediv_12\n",
      "tf.math.subtract_12\n",
      "xception\n",
      "flatten_14\n",
      "dropout_7\n",
      "dense_22\n"
     ]
    }
   ],
   "source": [
    "for layer in model.layers:\n",
    "    print(layer.name)"
   ]
  },
  {
   "cell_type": "code",
   "execution_count": 78,
   "metadata": {},
   "outputs": [
    {
     "name": "stdout",
     "output_type": "stream",
     "text": [
      "input_29\n",
      "block1_conv1\n",
      "block1_conv1_bn\n",
      "block1_conv1_act\n",
      "block1_conv2\n",
      "block1_conv2_bn\n",
      "block1_conv2_act\n",
      "block2_sepconv1\n",
      "block2_sepconv1_bn\n",
      "block2_sepconv2_act\n",
      "block2_sepconv2\n",
      "block2_sepconv2_bn\n",
      "conv2d_64\n",
      "block2_pool\n",
      "batch_normalization_64\n",
      "add_192\n",
      "block3_sepconv1_act\n",
      "block3_sepconv1\n",
      "block3_sepconv1_bn\n",
      "block3_sepconv2_act\n",
      "block3_sepconv2\n",
      "block3_sepconv2_bn\n",
      "conv2d_65\n",
      "block3_pool\n",
      "batch_normalization_65\n",
      "add_193\n",
      "block4_sepconv1_act\n",
      "block4_sepconv1\n",
      "block4_sepconv1_bn\n",
      "block4_sepconv2_act\n",
      "block4_sepconv2\n",
      "block4_sepconv2_bn\n",
      "conv2d_66\n",
      "block4_pool\n",
      "batch_normalization_66\n",
      "add_194\n",
      "block5_sepconv1_act\n",
      "block5_sepconv1\n",
      "block5_sepconv1_bn\n",
      "block5_sepconv2_act\n",
      "block5_sepconv2\n",
      "block5_sepconv2_bn\n",
      "block5_sepconv3_act\n",
      "block5_sepconv3\n",
      "block5_sepconv3_bn\n",
      "add_195\n",
      "block6_sepconv1_act\n",
      "block6_sepconv1\n",
      "block6_sepconv1_bn\n",
      "block6_sepconv2_act\n",
      "block6_sepconv2\n",
      "block6_sepconv2_bn\n",
      "block6_sepconv3_act\n",
      "block6_sepconv3\n",
      "block6_sepconv3_bn\n",
      "add_196\n",
      "block7_sepconv1_act\n",
      "block7_sepconv1\n",
      "block7_sepconv1_bn\n",
      "block7_sepconv2_act\n",
      "block7_sepconv2\n",
      "block7_sepconv2_bn\n",
      "block7_sepconv3_act\n",
      "block7_sepconv3\n",
      "block7_sepconv3_bn\n",
      "add_197\n",
      "block8_sepconv1_act\n",
      "block8_sepconv1\n",
      "block8_sepconv1_bn\n",
      "block8_sepconv2_act\n",
      "block8_sepconv2\n",
      "block8_sepconv2_bn\n",
      "block8_sepconv3_act\n",
      "block8_sepconv3\n",
      "block8_sepconv3_bn\n",
      "add_198\n",
      "block9_sepconv1_act\n",
      "block9_sepconv1\n",
      "block9_sepconv1_bn\n",
      "block9_sepconv2_act\n",
      "block9_sepconv2\n",
      "block9_sepconv2_bn\n",
      "block9_sepconv3_act\n",
      "block9_sepconv3\n",
      "block9_sepconv3_bn\n",
      "add_199\n",
      "block10_sepconv1_act\n",
      "block10_sepconv1\n",
      "block10_sepconv1_bn\n",
      "block10_sepconv2_act\n",
      "block10_sepconv2\n",
      "block10_sepconv2_bn\n",
      "block10_sepconv3_act\n",
      "block10_sepconv3\n",
      "block10_sepconv3_bn\n",
      "add_200\n",
      "block11_sepconv1_act\n",
      "block11_sepconv1\n",
      "block11_sepconv1_bn\n",
      "block11_sepconv2_act\n",
      "block11_sepconv2\n",
      "block11_sepconv2_bn\n",
      "block11_sepconv3_act\n",
      "block11_sepconv3\n",
      "block11_sepconv3_bn\n",
      "add_201\n",
      "block12_sepconv1_act\n",
      "block12_sepconv1\n",
      "block12_sepconv1_bn\n",
      "block12_sepconv2_act\n",
      "block12_sepconv2\n",
      "block12_sepconv2_bn\n",
      "block12_sepconv3_act\n",
      "block12_sepconv3\n",
      "block12_sepconv3_bn\n",
      "add_202\n",
      "block13_sepconv1_act\n",
      "block13_sepconv1\n",
      "block13_sepconv1_bn\n",
      "block13_sepconv2_act\n",
      "block13_sepconv2\n",
      "block13_sepconv2_bn\n",
      "conv2d_67\n",
      "block13_pool\n",
      "batch_normalization_67\n",
      "add_203\n",
      "block14_sepconv1\n",
      "block14_sepconv1_bn\n",
      "block14_sepconv1_act\n",
      "block14_sepconv2\n",
      "block14_sepconv2_bn\n",
      "block14_sepconv2_act\n"
     ]
    }
   ],
   "source": [
    "xception = model.get_layer('xception')\n",
    "for layer in xception.layers:\n",
    "    print(layer.name)"
   ]
  },
  {
   "cell_type": "code",
   "execution_count": 109,
   "metadata": {},
   "outputs": [],
   "source": [
    "def freeze_layers(model, trainable):\n",
    "    for layer in model.layers[:(len(model.layers) - trainable)]:\n",
    "        layer.trainable = False\n",
    "\n",
    "    for layer in model.layers[(len(model.layers) - trainable):]:\n",
    "        if layer.name != \"batch_normalization_67\":\n",
    "            layer.trainable = True\n",
    "            print(layer.name)\n"
   ]
  },
  {
   "cell_type": "code",
   "execution_count": 110,
   "metadata": {},
   "outputs": [
    {
     "name": "stdout",
     "output_type": "stream",
     "text": [
      "block13_sepconv1_act\n",
      "block13_sepconv1\n",
      "block13_sepconv1_bn\n",
      "block13_sepconv2_act\n",
      "block13_sepconv2\n",
      "block13_sepconv2_bn\n",
      "conv2d_67\n",
      "block13_pool\n",
      "add_203\n",
      "block14_sepconv1\n",
      "block14_sepconv1_bn\n",
      "block14_sepconv1_act\n",
      "block14_sepconv2\n",
      "block14_sepconv2_bn\n",
      "block14_sepconv2_act\n",
      "flatten_14\n",
      "dropout_7\n",
      "dense_22\n"
     ]
    }
   ],
   "source": [
    "freeze_layers(xception, 16)    \n",
    "freeze_layers(model, 3)  \n",
    "    \n",
    "model.compile(\n",
    "    loss='categorical_crossentropy',\n",
    "    optimizer=keras.optimizers.SGD(learning_rate=7e-4, momentum=0.95),\n",
    "    metrics=['accuracy'])"
   ]
  },
  {
   "cell_type": "code",
   "execution_count": 111,
   "metadata": {},
   "outputs": [
    {
     "name": "stdout",
     "output_type": "stream",
     "text": [
      "Epoch 1/10\n",
      "145/145 [==============================] - 53s 344ms/step - loss: 0.0070 - accuracy: 0.9991 - val_loss: 1.3567 - val_accuracy: 0.8888\n",
      "Epoch 2/10\n",
      "145/145 [==============================] - 51s 339ms/step - loss: 0.0034 - accuracy: 0.9994 - val_loss: 1.3402 - val_accuracy: 0.8888\n",
      "Epoch 3/10\n",
      "145/145 [==============================] - 54s 364ms/step - loss: 0.0030 - accuracy: 0.9994 - val_loss: 1.3507 - val_accuracy: 0.8862\n",
      "Epoch 4/10\n",
      "145/145 [==============================] - 52s 345ms/step - loss: 0.0035 - accuracy: 0.9992 - val_loss: 1.3166 - val_accuracy: 0.8871\n",
      "Epoch 5/10\n",
      "145/145 [==============================] - 53s 349ms/step - loss: 0.0027 - accuracy: 0.9994 - val_loss: 1.3178 - val_accuracy: 0.8871\n",
      "Epoch 6/10\n",
      "145/145 [==============================] - 51s 338ms/step - loss: 6.0532e-04 - accuracy: 0.9996 - val_loss: 1.3088 - val_accuracy: 0.8879\n",
      "Epoch 7/10\n",
      "145/145 [==============================] - 54s 362ms/step - loss: 8.9073e-04 - accuracy: 0.9997 - val_loss: 1.3103 - val_accuracy: 0.8871\n",
      "Epoch 8/10\n",
      "145/145 [==============================] - 54s 357ms/step - loss: 0.0024 - accuracy: 0.9996 - val_loss: 1.3331 - val_accuracy: 0.8888\n",
      "Epoch 9/10\n",
      "145/145 [==============================] - 52s 344ms/step - loss: 9.5600e-04 - accuracy: 0.9998 - val_loss: 1.2986 - val_accuracy: 0.8888\n",
      "Epoch 10/10\n",
      "145/145 [==============================] - 52s 344ms/step - loss: 0.0022 - accuracy: 0.9995 - val_loss: 1.2984 - val_accuracy: 0.8845\n"
     ]
    }
   ],
   "source": [
    "history = model.fit(\n",
    "    train_dataset,\n",
    "    epochs=10,\n",
    "    validation_data=validation_dataset)"
   ]
  },
  {
   "cell_type": "code",
   "execution_count": 112,
   "metadata": {},
   "outputs": [
    {
     "name": "stdout",
     "output_type": "stream",
     "text": [
      "19/19 [==============================] - 7s 297ms/step - loss: 1.1832 - accuracy: 0.9060\n"
     ]
    },
    {
     "data": {
      "text/plain": [
       "[1.1831868886947632, 0.9060344696044922]"
      ]
     },
     "execution_count": 112,
     "metadata": {},
     "output_type": "execute_result"
    }
   ],
   "source": [
    "results= model.evaluate(test_dataset)\n",
    "results"
   ]
  },
  {
   "cell_type": "code",
   "execution_count": 114,
   "metadata": {},
   "outputs": [
    {
     "name": "stdout",
     "output_type": "stream",
     "text": [
      "INFO:tensorflow:Assets written to: model6/model_checkpoint\\assets\n"
     ]
    },
    {
     "name": "stderr",
     "output_type": "stream",
     "text": [
      "F:\\Programas\\Anaconda\\envs\\TFGapp\\lib\\site-packages\\keras\\utils\\generic_utils.py:494: CustomMaskWarning: Custom mask layers require a config and must override get_config. When loading, the custom mask layer must be passed to the custom_objects argument.\n",
      "  warnings.warn('Custom mask layers require a config and must override '\n"
     ]
    }
   ],
   "source": [
    "model.save('model6/model_checkpoint')"
   ]
  },
  {
   "cell_type": "code",
   "execution_count": 115,
   "metadata": {},
   "outputs": [],
   "source": [
    "model = keras.models.load_model('model6/model_checkpoint')"
   ]
  },
  {
   "cell_type": "code",
   "execution_count": 116,
   "metadata": {},
   "outputs": [
    {
     "name": "stdout",
     "output_type": "stream",
     "text": [
      "add_203\n",
      "block14_sepconv1\n",
      "block14_sepconv1_bn\n",
      "block14_sepconv1_act\n",
      "block14_sepconv2\n",
      "block14_sepconv2_bn\n",
      "block14_sepconv2_act\n",
      "flatten_14\n",
      "dropout_7\n",
      "dense_22\n"
     ]
    }
   ],
   "source": [
    "freeze_layers(xception, 8)    \n",
    "freeze_layers(model, 3)  \n",
    "    \n",
    "model.compile(\n",
    "    loss='categorical_crossentropy',\n",
    "    optimizer=keras.optimizers.SGD(learning_rate=1e-4, momentum=0.9),\n",
    "    metrics=['accuracy'])"
   ]
  },
  {
   "cell_type": "code",
   "execution_count": 117,
   "metadata": {},
   "outputs": [
    {
     "name": "stdout",
     "output_type": "stream",
     "text": [
      "Epoch 1/10\n",
      "145/145 [==============================] - 91s 598ms/step - loss: 0.0011 - accuracy: 0.9996 - val_loss: 1.2996 - val_accuracy: 0.8845\n",
      "Epoch 2/10\n",
      "145/145 [==============================] - 86s 578ms/step - loss: 0.0012 - accuracy: 0.9996 - val_loss: 1.2997 - val_accuracy: 0.8845\n",
      "Epoch 3/10\n",
      "145/145 [==============================] - 87s 588ms/step - loss: 0.0018 - accuracy: 0.9998 - val_loss: 1.3006 - val_accuracy: 0.8845\n",
      "Epoch 4/10\n",
      "145/145 [==============================] - 88s 592ms/step - loss: 0.0012 - accuracy: 0.9998 - val_loss: 1.3004 - val_accuracy: 0.8845\n",
      "Epoch 5/10\n",
      "145/145 [==============================] - 87s 587ms/step - loss: 5.4205e-04 - accuracy: 0.9999 - val_loss: 1.3010 - val_accuracy: 0.8853\n",
      "Epoch 6/10\n",
      "145/145 [==============================] - 86s 583ms/step - loss: 0.0021 - accuracy: 0.9995 - val_loss: 1.3012 - val_accuracy: 0.8853\n",
      "Epoch 7/10\n",
      "145/145 [==============================] - 85s 579ms/step - loss: 3.2901e-04 - accuracy: 0.9998 - val_loss: 1.3024 - val_accuracy: 0.8853\n",
      "Epoch 8/10\n",
      "145/145 [==============================] - 86s 578ms/step - loss: 6.1968e-04 - accuracy: 0.9998 - val_loss: 1.3027 - val_accuracy: 0.8853\n",
      "Epoch 9/10\n",
      "145/145 [==============================] - 85s 577ms/step - loss: 0.0010 - accuracy: 0.9997 - val_loss: 1.3021 - val_accuracy: 0.8845\n",
      "Epoch 10/10\n",
      "145/145 [==============================] - 86s 581ms/step - loss: 0.0012 - accuracy: 0.9995 - val_loss: 1.3031 - val_accuracy: 0.8836\n"
     ]
    }
   ],
   "source": [
    "history = model.fit(\n",
    "    train_dataset,\n",
    "    epochs=10,\n",
    "    validation_data=validation_dataset)"
   ]
  },
  {
   "cell_type": "code",
   "execution_count": 118,
   "metadata": {},
   "outputs": [
    {
     "name": "stdout",
     "output_type": "stream",
     "text": [
      "19/19 [==============================] - 11s 479ms/step - loss: 1.1853 - accuracy: 0.9060\n"
     ]
    },
    {
     "data": {
      "text/plain": [
       "[1.1853069067001343, 0.9060344696044922]"
      ]
     },
     "execution_count": 118,
     "metadata": {},
     "output_type": "execute_result"
    }
   ],
   "source": [
    "results= model.evaluate(test_dataset)\n",
    "results"
   ]
  },
  {
   "cell_type": "code",
   "execution_count": null,
   "outputs": [],
   "source": [],
   "metadata": {
    "collapsed": false,
    "pycharm": {
     "name": "#%%\n"
    }
   }
  },
  {
   "cell_type": "code",
   "execution_count": null,
   "metadata": {},
   "outputs": [],
   "source": []
  }
 ],
 "metadata": {
  "kernelspec": {
   "display_name": "Python 3 (ipykernel)",
   "language": "python",
   "name": "python3"
  },
  "language_info": {
   "codemirror_mode": {
    "name": "ipython",
    "version": 3
   },
   "file_extension": ".py",
   "mimetype": "text/x-python",
   "name": "python",
   "nbconvert_exporter": "python",
   "pygments_lexer": "ipython3",
   "version": "3.9.12"
  }
 },
 "nbformat": 4,
 "nbformat_minor": 1
}