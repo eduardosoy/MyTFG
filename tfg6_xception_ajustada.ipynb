{
 "cells": [
  {
   "cell_type": "markdown",
   "source": [
    "# Arquitectura Xception con extracción de características y afinamiento"
   ],
   "metadata": {
    "collapsed": false,
    "pycharm": {
     "name": "#%% md\n"
    }
   }
  },
  {
   "cell_type": "markdown",
   "source": [
    "## Configuaración del entorno"
   ],
   "metadata": {
    "collapsed": false,
    "pycharm": {
     "name": "#%% md\n"
    }
   }
  },
  {
   "cell_type": "code",
   "execution_count": null,
   "outputs": [],
   "source": [
    "from tensorflow import keras\n",
    "from tensorflow.keras import layers\n",
    "import os, shutil, pathlib\n",
    "from tensorflow.keras.utils import image_dataset_from_directory\n",
    "import matplotlib.pyplot as plt\n",
    "import numpy as np\n",
    "from tensorflow.keras.models import load_model"
   ],
   "metadata": {
    "collapsed": false,
    "pycharm": {
     "name": "#%%\n"
    }
   }
  },
  {
   "cell_type": "code",
   "execution_count": null,
   "outputs": [],
   "source": [
    "original_dir = pathlib.Path(\"ExpandedDataset/\")\n",
    "new_base_dir = pathlib.Path(\"ExpandedDataset_organized/\")\n",
    "content = os.listdir(original_dir)\n",
    "BATCH_SIZE = 64\n",
    "size_x = 256\n",
    "size_y = 256"
   ],
   "metadata": {
    "collapsed": false,
    "pycharm": {
     "name": "#%%\n"
    }
   }
  },
  {
   "cell_type": "code",
   "execution_count": null,
   "outputs": [],
   "source": [
    "train_dataset = image_dataset_from_directory(\n",
    "    new_base_dir / \"train\",\n",
    "    image_size=(size_x, size_y),\n",
    "    batch_size=BATCH_SIZE,\n",
    "    label_mode='categorical')\n",
    "validation_dataset = image_dataset_from_directory(\n",
    "    new_base_dir / \"validation\",\n",
    "    image_size=(size_x, size_y),\n",
    "    batch_size=BATCH_SIZE,\n",
    "    label_mode='categorical')\n",
    "test_dataset = image_dataset_from_directory(\n",
    "    new_base_dir / \"test\",\n",
    "    image_size=(size_x, size_y),\n",
    "    batch_size=BATCH_SIZE,\n",
    "    label_mode='categorical')"
   ],
   "metadata": {
    "collapsed": false,
    "pycharm": {
     "name": "#%%\n"
    }
   }
  },
  {
   "cell_type": "markdown",
   "source": [
    "## Primer paso: extracción de características"
   ],
   "metadata": {
    "collapsed": false,
    "pycharm": {
     "name": "#%% md\n"
    }
   }
  },
  {
   "cell_type": "code",
   "execution_count": null,
   "outputs": [],
   "source": [
    "xception_base = keras.applications.Xception(\n",
    "    weights='imagenet', \n",
    "    include_top=False) \n",
    "\n",
    "inputs = keras.Input(shape=(size_x , size_y, 3))\n",
    "xception_base.trainable = False\n",
    "\n",
    "x = keras.applications.xception.preprocess_input(inputs) \n",
    "x = xception_base(x)\n",
    "x = layers.Flatten()(x)\n",
    "x = layers.Dropout(0.5)(x)\n",
    "outputs = keras.layers.Dense(58, activation=\"softmax\")(x)\n",
    "\n",
    "model6 = keras.Model(inputs, outputs)\n",
    "\n",
    "model6.summary()"
   ],
   "metadata": {
    "collapsed": false,
    "pycharm": {
     "name": "#%%\n"
    }
   }
  },
  {
   "cell_type": "code",
   "execution_count": null,
   "outputs": [],
   "source": [
    "model6.compile(loss=\"categorical_crossentropy\",\n",
    "    optimizer=\"rmsprop\",\n",
    "    metrics=[\"accuracy\"])\n",
    "    \n",
    "callbacks = [\n",
    "    keras.callbacks.ModelCheckpoint(\n",
    "    filepath=\"model6/best_version\",\n",
    "    save_best_only=True,\n",
    "    monitor=\"val_loss\")\n",
    "    ]\n",
    "\n",
    "history = model6.fit(\n",
    "    train_dataset,\n",
    "    epochs=30,\n",
    "    validation_data=validation_dataset,\n",
    "    callbacks=callbacks)"
   ],
   "metadata": {
    "collapsed": false,
    "pycharm": {
     "name": "#%%\n"
    }
   }
  },
  {
   "cell_type": "code",
   "execution_count": null,
   "outputs": [],
   "source": [
    "model6.save('model6/model')\n",
    "np.save('model6/history.npy',history.history)"
   ],
   "metadata": {
    "collapsed": false,
    "pycharm": {
     "name": "#%%\n"
    }
   }
  },
  {
   "cell_type": "code",
   "execution_count": null,
   "outputs": [],
   "source": [
    "loss = history.history[\"loss\"]\n",
    "val_loss = history.history[\"val_loss\"]\n",
    "epochs = range(1, len(loss) + 1)\n",
    "\n",
    "plt.plot(epochs, loss, \"b.\", label=\"Training loss\")\n",
    "plt.plot(epochs, val_loss, \"b\", label=\"Validation loss\")\n",
    "plt.title(\"Training and validation loss\")\n",
    "plt.xlabel(\"Epochs\")\n",
    "plt.ylabel(\"Loss\")\n",
    "plt.legend()\n",
    "plt.show()"
   ],
   "metadata": {
    "collapsed": false,
    "pycharm": {
     "name": "#%%\n"
    }
   }
  },
  {
   "cell_type": "code",
   "execution_count": null,
   "outputs": [],
   "source": [
    "plt.clf()\n",
    "\n",
    "acc = history.history[\"accuracy\"]\n",
    "val_acc = history.history[\"val_accuracy\"]\n",
    "epochs = range(1, len(loss) + 1)\n",
    "\n",
    "plt.plot(epochs, acc, \"b.\", label=\"Training accuracy\")\n",
    "plt.plot(epochs, val_acc, \"b\", label=\"Validation accuracy\")\n",
    "plt.title(\"Training and validation accuracy\")\n",
    "plt.xlabel(\"Epochs\")\n",
    "plt.ylabel(\"Accuracy\")\n",
    "plt.legend()\n",
    "plt.show()"
   ],
   "metadata": {
    "collapsed": false,
    "pycharm": {
     "name": "#%%\n"
    }
   }
  },
  {
   "cell_type": "code",
   "execution_count": null,
   "outputs": [],
   "source": [
    "results= model6.evaluate(test_dataset)\n",
    "results"
   ],
   "metadata": {
    "collapsed": false,
    "pycharm": {
     "name": "#%%\n"
    }
   }
  },
  {
   "cell_type": "code",
   "execution_count": null,
   "outputs": [],
   "source": [
    "model = keras.models.load_model('model6/best_version')\n",
    "results= model.evaluate(test_dataset)\n",
    "results"
   ],
   "metadata": {
    "collapsed": false,
    "pycharm": {
     "name": "#%%\n"
    }
   }
  },
  {
   "cell_type": "markdown",
   "source": [
    "## Segundo paso: ajuste y afinamiento"
   ],
   "metadata": {
    "collapsed": false,
    "pycharm": {
     "name": "#%% md\n"
    }
   }
  },
  {
   "cell_type": "code",
   "execution_count": 43,
   "metadata": {
    "pycharm": {
     "name": "#%%\n"
    }
   },
   "outputs": [
    {
     "name": "stdout",
     "output_type": "stream",
     "text": [
      "19/19 [==============================] - 6s 240ms/step - loss: 1.3176 - accuracy: 0.8983\n"
     ]
    },
    {
     "data": {
      "text/plain": [
       "[1.3176037073135376, 0.8982758522033691]"
      ]
     },
     "execution_count": 43,
     "metadata": {},
     "output_type": "execute_result"
    }
   ],
   "source": [
    "model = keras.models.load_model('model6/best_version')\n",
    "results= model.evaluate(test_dataset)\n",
    "results"
   ]
  },
  {
   "cell_type": "markdown",
   "metadata": {
    "pycharm": {
     "name": "#%% md\n"
    }
   },
   "source": [
    "## Segundo paso: ajuste y afinamiento"
   ]
  },
  {
   "cell_type": "code",
   "execution_count": 108,
   "metadata": {
    "pycharm": {
     "name": "#%%\n"
    }
   },
   "outputs": [],
   "source": [
    "model = keras.models.load_model('model6/best_version')"
   ]
  },
  {
   "cell_type": "code",
   "execution_count": 77,
   "metadata": {
    "pycharm": {
     "name": "#%%\n"
    }
   },
   "outputs": [
    {
     "name": "stdout",
     "output_type": "stream",
     "text": [
      "input_30\n",
      "tf.math.truediv_12\n",
      "tf.math.subtract_12\n",
      "xception\n",
      "flatten_14\n",
      "dropout_7\n",
      "dense_22\n"
     ]
    }
   ],
   "source": [
    "for layer in model.layers:\n",
    "    print(layer.name)"
   ]
  },
  {
   "cell_type": "code",
   "execution_count": 78,
   "metadata": {
    "pycharm": {
     "name": "#%%\n"
    }
   },
   "outputs": [
    {
     "name": "stdout",
     "output_type": "stream",
     "text": [
      "input_29\n",
      "block1_conv1\n",
      "block1_conv1_bn\n",
      "block1_conv1_act\n",
      "block1_conv2\n",
      "block1_conv2_bn\n",
      "block1_conv2_act\n",
      "block2_sepconv1\n",
      "block2_sepconv1_bn\n",
      "block2_sepconv2_act\n",
      "block2_sepconv2\n",
      "block2_sepconv2_bn\n",
      "conv2d_64\n",
      "block2_pool\n",
      "batch_normalization_64\n",
      "add_192\n",
      "block3_sepconv1_act\n",
      "block3_sepconv1\n",
      "block3_sepconv1_bn\n",
      "block3_sepconv2_act\n",
      "block3_sepconv2\n",
      "block3_sepconv2_bn\n",
      "conv2d_65\n",
      "block3_pool\n",
      "batch_normalization_65\n",
      "add_193\n",
      "block4_sepconv1_act\n",
      "block4_sepconv1\n",
      "block4_sepconv1_bn\n",
      "block4_sepconv2_act\n",
      "block4_sepconv2\n",
      "block4_sepconv2_bn\n",
      "conv2d_66\n",
      "block4_pool\n",
      "batch_normalization_66\n",
      "add_194\n",
      "block5_sepconv1_act\n",
      "block5_sepconv1\n",
      "block5_sepconv1_bn\n",
      "block5_sepconv2_act\n",
      "block5_sepconv2\n",
      "block5_sepconv2_bn\n",
      "block5_sepconv3_act\n",
      "block5_sepconv3\n",
      "block5_sepconv3_bn\n",
      "add_195\n",
      "block6_sepconv1_act\n",
      "block6_sepconv1\n",
      "block6_sepconv1_bn\n",
      "block6_sepconv2_act\n",
      "block6_sepconv2\n",
      "block6_sepconv2_bn\n",
      "block6_sepconv3_act\n",
      "block6_sepconv3\n",
      "block6_sepconv3_bn\n",
      "add_196\n",
      "block7_sepconv1_act\n",
      "block7_sepconv1\n",
      "block7_sepconv1_bn\n",
      "block7_sepconv2_act\n",
      "block7_sepconv2\n",
      "block7_sepconv2_bn\n",
      "block7_sepconv3_act\n",
      "block7_sepconv3\n",
      "block7_sepconv3_bn\n",
      "add_197\n",
      "block8_sepconv1_act\n",
      "block8_sepconv1\n",
      "block8_sepconv1_bn\n",
      "block8_sepconv2_act\n",
      "block8_sepconv2\n",
      "block8_sepconv2_bn\n",
      "block8_sepconv3_act\n",
      "block8_sepconv3\n",
      "block8_sepconv3_bn\n",
      "add_198\n",
      "block9_sepconv1_act\n",
      "block9_sepconv1\n",
      "block9_sepconv1_bn\n",
      "block9_sepconv2_act\n",
      "block9_sepconv2\n",
      "block9_sepconv2_bn\n",
      "block9_sepconv3_act\n",
      "block9_sepconv3\n",
      "block9_sepconv3_bn\n",
      "add_199\n",
      "block10_sepconv1_act\n",
      "block10_sepconv1\n",
      "block10_sepconv1_bn\n",
      "block10_sepconv2_act\n",
      "block10_sepconv2\n",
      "block10_sepconv2_bn\n",
      "block10_sepconv3_act\n",
      "block10_sepconv3\n",
      "block10_sepconv3_bn\n",
      "add_200\n",
      "block11_sepconv1_act\n",
      "block11_sepconv1\n",
      "block11_sepconv1_bn\n",
      "block11_sepconv2_act\n",
      "block11_sepconv2\n",
      "block11_sepconv2_bn\n",
      "block11_sepconv3_act\n",
      "block11_sepconv3\n",
      "block11_sepconv3_bn\n",
      "add_201\n",
      "block12_sepconv1_act\n",
      "block12_sepconv1\n",
      "block12_sepconv1_bn\n",
      "block12_sepconv2_act\n",
      "block12_sepconv2\n",
      "block12_sepconv2_bn\n",
      "block12_sepconv3_act\n",
      "block12_sepconv3\n",
      "block12_sepconv3_bn\n",
      "add_202\n",
      "block13_sepconv1_act\n",
      "block13_sepconv1\n",
      "block13_sepconv1_bn\n",
      "block13_sepconv2_act\n",
      "block13_sepconv2\n",
      "block13_sepconv2_bn\n",
      "conv2d_67\n",
      "block13_pool\n",
      "batch_normalization_67\n",
      "add_203\n",
      "block14_sepconv1\n",
      "block14_sepconv1_bn\n",
      "block14_sepconv1_act\n",
      "block14_sepconv2\n",
      "block14_sepconv2_bn\n",
      "block14_sepconv2_act\n"
     ]
    }
   ],
   "source": [
    "xception = model.get_layer('xception')\n",
    "for layer in xception.layers:\n",
    "    print(layer.name)"
   ]
  },
  {
   "cell_type": "code",
   "execution_count": 109,
   "metadata": {
    "pycharm": {
     "name": "#%%\n"
    }
   },
   "outputs": [],
   "source": [
    "def freeze_layers(model, trainable):\n",
    "    for layer in model.layers[:(len(model.layers) - trainable)]:\n",
    "        layer.trainable = False\n",
    "\n",
    "    for layer in model.layers[(len(model.layers) - trainable):]:\n",
    "        if layer.name != \"batch_normalization_67\":\n",
    "            layer.trainable = True\n",
    "            print(layer.name)\n"
   ]
  },
  {
   "cell_type": "code",
   "execution_count": 110,
   "metadata": {
    "pycharm": {
     "name": "#%%\n"
    }
   },
   "outputs": [
    {
     "name": "stdout",
     "output_type": "stream",
     "text": [
      "block13_sepconv1_act\n",
      "block13_sepconv1\n",
      "block13_sepconv1_bn\n",
      "block13_sepconv2_act\n",
      "block13_sepconv2\n",
      "block13_sepconv2_bn\n",
      "conv2d_67\n",
      "block13_pool\n",
      "add_203\n",
      "block14_sepconv1\n",
      "block14_sepconv1_bn\n",
      "block14_sepconv1_act\n",
      "block14_sepconv2\n",
      "block14_sepconv2_bn\n",
      "block14_sepconv2_act\n",
      "flatten_14\n",
      "dropout_7\n",
      "dense_22\n"
     ]
    }
   ],
   "source": [
    "freeze_layers(xception, 16)    \n",
    "freeze_layers(model, 3)  \n",
    "    \n",
    "model.compile(\n",
    "    loss='categorical_crossentropy',\n",
    "    optimizer=keras.optimizers.SGD(learning_rate=7e-4, momentum=0.95),\n",
    "    metrics=['accuracy'])"
   ]
  },
  {
   "cell_type": "code",
   "execution_count": 111,
   "metadata": {
    "pycharm": {
     "name": "#%%\n"
    }
   },
   "outputs": [
    {
     "name": "stdout",
     "output_type": "stream",
     "text": [
      "Epoch 1/10\n",
      "145/145 [==============================] - 53s 344ms/step - loss: 0.0070 - accuracy: 0.9991 - val_loss: 1.3567 - val_accuracy: 0.8888\n",
      "Epoch 2/10\n",
      "145/145 [==============================] - 51s 339ms/step - loss: 0.0034 - accuracy: 0.9994 - val_loss: 1.3402 - val_accuracy: 0.8888\n",
      "Epoch 3/10\n",
      "145/145 [==============================] - 54s 364ms/step - loss: 0.0030 - accuracy: 0.9994 - val_loss: 1.3507 - val_accuracy: 0.8862\n",
      "Epoch 4/10\n",
      "145/145 [==============================] - 52s 345ms/step - loss: 0.0035 - accuracy: 0.9992 - val_loss: 1.3166 - val_accuracy: 0.8871\n",
      "Epoch 5/10\n",
      "145/145 [==============================] - 53s 349ms/step - loss: 0.0027 - accuracy: 0.9994 - val_loss: 1.3178 - val_accuracy: 0.8871\n",
      "Epoch 6/10\n",
      "145/145 [==============================] - 51s 338ms/step - loss: 6.0532e-04 - accuracy: 0.9996 - val_loss: 1.3088 - val_accuracy: 0.8879\n",
      "Epoch 7/10\n",
      "145/145 [==============================] - 54s 362ms/step - loss: 8.9073e-04 - accuracy: 0.9997 - val_loss: 1.3103 - val_accuracy: 0.8871\n",
      "Epoch 8/10\n",
      "145/145 [==============================] - 54s 357ms/step - loss: 0.0024 - accuracy: 0.9996 - val_loss: 1.3331 - val_accuracy: 0.8888\n",
      "Epoch 9/10\n",
      "145/145 [==============================] - 52s 344ms/step - loss: 9.5600e-04 - accuracy: 0.9998 - val_loss: 1.2986 - val_accuracy: 0.8888\n",
      "Epoch 10/10\n",
      "145/145 [==============================] - 52s 344ms/step - loss: 0.0022 - accuracy: 0.9995 - val_loss: 1.2984 - val_accuracy: 0.8845\n"
     ]
    }
   ],
   "source": [
    "history = model.fit(\n",
    "    train_dataset,\n",
    "    epochs=10,\n",
    "    validation_data=validation_dataset)"
   ]
  },
  {
   "cell_type": "code",
   "execution_count": 112,
   "metadata": {
    "pycharm": {
     "name": "#%%\n"
    }
   },
   "outputs": [
    {
     "name": "stdout",
     "output_type": "stream",
     "text": [
      "19/19 [==============================] - 7s 297ms/step - loss: 1.1832 - accuracy: 0.9060\n"
     ]
    },
    {
     "data": {
      "text/plain": [
       "[1.1831868886947632, 0.9060344696044922]"
      ]
     },
     "execution_count": 112,
     "metadata": {},
     "output_type": "execute_result"
    }
   ],
   "source": [
    "results= model.evaluate(test_dataset)\n",
    "results"
   ]
  },
  {
   "cell_type": "code",
   "execution_count": 114,
   "metadata": {
    "pycharm": {
     "name": "#%%\n"
    }
   },
   "outputs": [
    {
     "name": "stdout",
     "output_type": "stream",
     "text": [
      "INFO:tensorflow:Assets written to: model6/model_checkpoint\\assets\n"
     ]
    },
    {
     "name": "stderr",
     "output_type": "stream",
     "text": [
      "F:\\Programas\\Anaconda\\envs\\TFGapp\\lib\\site-packages\\keras\\utils\\generic_utils.py:494: CustomMaskWarning: Custom mask layers require a config and must override get_config. When loading, the custom mask layer must be passed to the custom_objects argument.\n",
      "  warnings.warn('Custom mask layers require a config and must override '\n"
     ]
    }
   ],
   "source": [
    "model.save('model6/model_checkpoint')"
   ]
  },
  {
   "cell_type": "code",
   "execution_count": 115,
   "metadata": {
    "pycharm": {
     "name": "#%%\n"
    }
   },
   "outputs": [],
   "source": [
    "model = keras.models.load_model('model6/model_checkpoint')"
   ]
  },
  {
   "cell_type": "code",
   "execution_count": 116,
   "metadata": {
    "pycharm": {
     "name": "#%%\n"
    }
   },
   "outputs": [
    {
     "name": "stdout",
     "output_type": "stream",
     "text": [
      "add_203\n",
      "block14_sepconv1\n",
      "block14_sepconv1_bn\n",
      "block14_sepconv1_act\n",
      "block14_sepconv2\n",
      "block14_sepconv2_bn\n",
      "block14_sepconv2_act\n",
      "flatten_14\n",
      "dropout_7\n",
      "dense_22\n"
     ]
    }
   ],
   "source": [
    "freeze_layers(xception, 8)    \n",
    "freeze_layers(model, 3)  \n",
    "    \n",
    "model.compile(\n",
    "    loss='categorical_crossentropy',\n",
    "    optimizer=keras.optimizers.SGD(learning_rate=1e-4, momentum=0.9),\n",
    "    metrics=['accuracy'])"
   ]
  },
  {
   "cell_type": "code",
   "execution_count": 117,
   "metadata": {
    "pycharm": {
     "name": "#%%\n"
    }
   },
   "outputs": [
    {
     "name": "stdout",
     "output_type": "stream",
     "text": [
      "Epoch 1/10\n",
      "145/145 [==============================] - 91s 598ms/step - loss: 0.0011 - accuracy: 0.9996 - val_loss: 1.2996 - val_accuracy: 0.8845\n",
      "Epoch 2/10\n",
      "145/145 [==============================] - 86s 578ms/step - loss: 0.0012 - accuracy: 0.9996 - val_loss: 1.2997 - val_accuracy: 0.8845\n",
      "Epoch 3/10\n",
      "145/145 [==============================] - 87s 588ms/step - loss: 0.0018 - accuracy: 0.9998 - val_loss: 1.3006 - val_accuracy: 0.8845\n",
      "Epoch 4/10\n",
      "145/145 [==============================] - 88s 592ms/step - loss: 0.0012 - accuracy: 0.9998 - val_loss: 1.3004 - val_accuracy: 0.8845\n",
      "Epoch 5/10\n",
      "145/145 [==============================] - 87s 587ms/step - loss: 5.4205e-04 - accuracy: 0.9999 - val_loss: 1.3010 - val_accuracy: 0.8853\n",
      "Epoch 6/10\n",
      "145/145 [==============================] - 86s 583ms/step - loss: 0.0021 - accuracy: 0.9995 - val_loss: 1.3012 - val_accuracy: 0.8853\n",
      "Epoch 7/10\n",
      "145/145 [==============================] - 85s 579ms/step - loss: 3.2901e-04 - accuracy: 0.9998 - val_loss: 1.3024 - val_accuracy: 0.8853\n",
      "Epoch 8/10\n",
      "145/145 [==============================] - 86s 578ms/step - loss: 6.1968e-04 - accuracy: 0.9998 - val_loss: 1.3027 - val_accuracy: 0.8853\n",
      "Epoch 9/10\n",
      "145/145 [==============================] - 85s 577ms/step - loss: 0.0010 - accuracy: 0.9997 - val_loss: 1.3021 - val_accuracy: 0.8845\n",
      "Epoch 10/10\n",
      "145/145 [==============================] - 86s 581ms/step - loss: 0.0012 - accuracy: 0.9995 - val_loss: 1.3031 - val_accuracy: 0.8836\n"
     ]
    }
   ],
   "source": [
    "history = model.fit(\n",
    "    train_dataset,\n",
    "    epochs=10,\n",
    "    validation_data=validation_dataset)"
   ]
  },
  {
   "cell_type": "code",
   "execution_count": 118,
   "metadata": {
    "pycharm": {
     "name": "#%%\n"
    }
   },
   "outputs": [
    {
     "name": "stdout",
     "output_type": "stream",
     "text": [
      "19/19 [==============================] - 11s 479ms/step - loss: 1.1853 - accuracy: 0.9060\n"
     ]
    },
    {
     "data": {
      "text/plain": [
       "[1.1853069067001343, 0.9060344696044922]"
      ]
     },
     "execution_count": 118,
     "metadata": {},
     "output_type": "execute_result"
    }
   ],
   "source": [
    "results= model.evaluate(test_dataset)\n",
    "results"
   ]
  }
 ],
 "metadata": {
  "kernelspec": {
   "display_name": "Python 3 (ipykernel)",
   "language": "python",
   "name": "python3"
  },
  "language_info": {
   "codemirror_mode": {
    "name": "ipython",
    "version": 3
   },
   "file_extension": ".py",
   "mimetype": "text/x-python",
   "name": "python",
   "nbconvert_exporter": "python",
   "pygments_lexer": "ipython3",
   "version": "3.9.12"
  }
 },
 "nbformat": 4,
 "nbformat_minor": 1
}