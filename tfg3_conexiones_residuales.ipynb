{
 "cells": [
  {
   "cell_type": "markdown",
   "metadata": {
    "pycharm": {
     "name": "#%%\n"
    }
   },
   "source": [
    "# Creación de un modelo desde cero: nueva arquitectura y reducción de \"ruido\""
   ]
  },
  {
   "cell_type": "markdown",
   "metadata": {
    "pycharm": {
     "name": "#%%\n"
    }
   },
   "source": [
    "## Librerías necesarias"
   ]
  },
  {
   "cell_type": "code",
   "execution_count": 4,
   "metadata": {
    "pycharm": {
     "is_executing": true,
     "name": "#%%\n"
    }
   },
   "outputs": [],
   "source": [
    "from tensorflow import keras\n",
    "from tensorflow.keras import layers\n",
    "import os, shutil, pathlib\n",
    "from tensorflow.keras.utils import image_dataset_from_directory\n",
    "import matplotlib.pyplot as plt\n",
    "import numpy as np\n",
    "from tensorflow.keras.models import load_model"
   ]
  },
  {
   "cell_type": "markdown",
   "metadata": {
    "pycharm": {
     "name": "#%% md\n"
    }
   },
   "source": [
    "## Variables globales del sistema"
   ]
  },
  {
   "cell_type": "code",
   "execution_count": 5,
   "metadata": {
    "pycharm": {
     "name": "#%%\n"
    }
   },
   "outputs": [],
   "source": [
    "original_dir = pathlib.Path(\"ExpandedDataset/\")\n",
    "new_base_dir = pathlib.Path(\"ExpandedDataset_organized/\")\n",
    "content = os.listdir(original_dir)\n",
    "BATCH_SIZE = 64\n",
    "size_x = 256\n",
    "size_y = 256"
   ]
  },
  {
   "cell_type": "markdown",
   "metadata": {
    "pycharm": {
     "name": "#%% md\n"
    }
   },
   "source": [
    "## Creación de los datasets específicos a partir de las carpetas "
   ]
  },
  {
   "cell_type": "code",
   "execution_count": 6,
   "metadata": {
    "pycharm": {
     "name": "#%%\n"
    }
   },
   "outputs": [
    {
     "name": "stdout",
     "output_type": "stream",
     "text": [
      "Found 9280 files belonging to 58 classes.\n",
      "Found 1160 files belonging to 58 classes.\n",
      "Found 1160 files belonging to 58 classes.\n"
     ]
    }
   ],
   "source": [
    "train_dataset = image_dataset_from_directory(\n",
    "    new_base_dir / \"train\",\n",
    "    image_size=(size_x, size_y),\n",
    "    batch_size=BATCH_SIZE,\n",
    "    label_mode='categorical')\n",
    "validation_dataset = image_dataset_from_directory(\n",
    "    new_base_dir / \"validation\",\n",
    "    image_size=(size_x, size_y),\n",
    "    batch_size=BATCH_SIZE,\n",
    "    label_mode='categorical')\n",
    "test_dataset = image_dataset_from_directory(\n",
    "    new_base_dir / \"test\",\n",
    "    image_size=(size_x, size_y),\n",
    "    batch_size=BATCH_SIZE,\n",
    "    label_mode='categorical')"
   ]
  },
  {
   "cell_type": "markdown",
   "metadata": {
    "pycharm": {
     "name": "#%% md\n"
    }
   },
   "source": [
    "## Nuevo modelo más profundo: el modelo tres"
   ]
  },
  {
   "cell_type": "code",
   "execution_count": 54,
   "metadata": {
    "pycharm": {
     "name": "#%%\n"
    },
    "scrolled": true
   },
   "outputs": [
    {
     "name": "stdout",
     "output_type": "stream",
     "text": [
      "Model: \"model_10\"\n",
      "_________________________________________________________________\n",
      "Layer (type)                 Output Shape              Param #   \n",
      "=================================================================\n",
      "input_11 (InputLayer)        [(None, 256, 256, 3)]     0         \n",
      "_________________________________________________________________\n",
      "rescaling_10 (Rescaling)     (None, 256, 256, 3)       0         \n",
      "_________________________________________________________________\n",
      "conv2d_110 (Conv2D)          (None, 254, 254, 16)      448       \n",
      "_________________________________________________________________\n",
      "max_pooling2d_48 (MaxPooling (None, 127, 127, 16)      0         \n",
      "_________________________________________________________________\n",
      "conv2d_111 (Conv2D)          (None, 125, 125, 32)      4640      \n",
      "_________________________________________________________________\n",
      "max_pooling2d_49 (MaxPooling (None, 62, 62, 32)        0         \n",
      "_________________________________________________________________\n",
      "conv2d_112 (Conv2D)          (None, 60, 60, 64)        18496     \n",
      "_________________________________________________________________\n",
      "conv2d_113 (Conv2D)          (None, 58, 58, 64)        36928     \n",
      "_________________________________________________________________\n",
      "max_pooling2d_50 (MaxPooling (None, 29, 29, 64)        0         \n",
      "_________________________________________________________________\n",
      "conv2d_114 (Conv2D)          (None, 27, 27, 128)       73856     \n",
      "_________________________________________________________________\n",
      "conv2d_115 (Conv2D)          (None, 25, 25, 128)       147584    \n",
      "_________________________________________________________________\n",
      "max_pooling2d_51 (MaxPooling (None, 12, 12, 128)       0         \n",
      "_________________________________________________________________\n",
      "conv2d_116 (Conv2D)          (None, 10, 10, 256)       295168    \n",
      "_________________________________________________________________\n",
      "conv2d_117 (Conv2D)          (None, 8, 8, 256)         590080    \n",
      "_________________________________________________________________\n",
      "conv2d_118 (Conv2D)          (None, 6, 6, 256)         590080    \n",
      "_________________________________________________________________\n",
      "flatten_10 (Flatten)         (None, 9216)              0         \n",
      "_________________________________________________________________\n",
      "dropout_10 (Dropout)         (None, 9216)              0         \n",
      "_________________________________________________________________\n",
      "dense_34 (Dense)             (None, 58)                534586    \n",
      "=================================================================\n",
      "Total params: 2,291,866\n",
      "Trainable params: 2,291,866\n",
      "Non-trainable params: 0\n",
      "_________________________________________________________________\n"
     ]
    }
   ],
   "source": [
    "inputs = keras.Input(shape=(size_x, size_y, 3)) \n",
    "x = layers.Rescaling(1./255)(inputs) \n",
    "x = layers.Conv2D(filters=16, kernel_size=3, activation=\"relu\")(x)\n",
    "x = layers.MaxPooling2D(pool_size=2)(x)\n",
    "x = layers.Conv2D(filters=32, kernel_size=3, activation=\"relu\")(x)\n",
    "x = layers.MaxPooling2D(pool_size=2)(x)\n",
    "x = layers.Conv2D(filters=64, kernel_size=3, activation=\"relu\")(x)\n",
    "x = layers.Conv2D(filters=64, kernel_size=3, activation=\"relu\")(x)\n",
    "x = layers.MaxPooling2D(pool_size=2)(x)\n",
    "x = layers.Conv2D(filters=128, kernel_size=3, activation=\"relu\")(x)\n",
    "x = layers.Conv2D(filters=128, kernel_size=3, activation=\"relu\")(x)\n",
    "x = layers.MaxPooling2D(pool_size=2)(x)\n",
    "x = layers.Conv2D(filters=256, kernel_size=3, activation=\"relu\")(x)\n",
    "x = layers.Conv2D(filters=256, kernel_size=3, activation=\"relu\")(x)\n",
    "x = layers.Conv2D(filters=256, kernel_size=3, activation=\"relu\")(x)\n",
    "x = layers.Flatten()(x)\n",
    "x = layers.Dropout(0.5)(x)\n",
    "outputs = layers.Dense(58, activation=\"softmax\")(x)\n",
    "model3 = keras.Model(inputs=inputs, outputs=outputs)\n",
    "\n",
    "model3.summary()"
   ]
  },
  {
   "cell_type": "markdown",
   "metadata": {
    "pycharm": {
     "name": "#%% md\n"
    }
   },
   "source": [
    "## Entrenamiento y guardado de resultados del modelo tres"
   ]
  },
  {
   "cell_type": "code",
   "execution_count": 55,
   "metadata": {
    "pycharm": {
     "name": "#%%\n"
    },
    "scrolled": true
   },
   "outputs": [
    {
     "name": "stdout",
     "output_type": "stream",
     "text": [
      "Epoch 1/30\n",
      "145/145 [==============================] - 22s 131ms/step - loss: 4.0762 - accuracy: 0.0162 - val_loss: 4.0598 - val_accuracy: 0.0172\n",
      "INFO:tensorflow:Assets written to: model3\\best_version\\assets\n",
      "Epoch 2/30\n",
      "145/145 [==============================] - 20s 129ms/step - loss: 3.9751 - accuracy: 0.0263 - val_loss: 3.6167 - val_accuracy: 0.0422\n",
      "INFO:tensorflow:Assets written to: model3\\best_version\\assets\n",
      "Epoch 3/30\n",
      "145/145 [==============================] - 20s 130ms/step - loss: 3.6332 - accuracy: 0.0727 - val_loss: 3.2874 - val_accuracy: 0.1250\n",
      "INFO:tensorflow:Assets written to: model3\\best_version\\assets\n",
      "Epoch 4/30\n",
      "145/145 [==============================] - 20s 129ms/step - loss: 3.0730 - accuracy: 0.1697 - val_loss: 3.2652 - val_accuracy: 0.1509\n",
      "INFO:tensorflow:Assets written to: model3\\best_version\\assets\n",
      "Epoch 5/30\n",
      "145/145 [==============================] - 20s 130ms/step - loss: 2.5825 - accuracy: 0.2745 - val_loss: 2.5370 - val_accuracy: 0.2552\n",
      "INFO:tensorflow:Assets written to: model3\\best_version\\assets\n",
      "Epoch 6/30\n",
      "145/145 [==============================] - 20s 131ms/step - loss: 2.2407 - accuracy: 0.3472 - val_loss: 1.9757 - val_accuracy: 0.3940\n",
      "INFO:tensorflow:Assets written to: model3\\best_version\\assets\n",
      "Epoch 7/30\n",
      "145/145 [==============================] - 20s 130ms/step - loss: 1.9822 - accuracy: 0.4044 - val_loss: 1.7820 - val_accuracy: 0.4448\n",
      "INFO:tensorflow:Assets written to: model3\\best_version\\assets\n",
      "Epoch 8/30\n",
      "145/145 [==============================] - 20s 132ms/step - loss: 1.6984 - accuracy: 0.4733 - val_loss: 1.5916 - val_accuracy: 0.5164\n",
      "INFO:tensorflow:Assets written to: model3\\best_version\\assets\n",
      "Epoch 9/30\n",
      "145/145 [==============================] - 20s 130ms/step - loss: 1.4821 - accuracy: 0.5353 - val_loss: 1.4841 - val_accuracy: 0.5397\n",
      "INFO:tensorflow:Assets written to: model3\\best_version\\assets\n",
      "Epoch 10/30\n",
      "145/145 [==============================] - 20s 132ms/step - loss: 1.3201 - accuracy: 0.5857 - val_loss: 1.6128 - val_accuracy: 0.5000\n",
      "Epoch 11/30\n",
      "145/145 [==============================] - 20s 129ms/step - loss: 1.1545 - accuracy: 0.6351 - val_loss: 1.6846 - val_accuracy: 0.5103\n",
      "Epoch 12/30\n",
      "145/145 [==============================] - 20s 129ms/step - loss: 1.0346 - accuracy: 0.6680 - val_loss: 1.4535 - val_accuracy: 0.5517\n",
      "INFO:tensorflow:Assets written to: model3\\best_version\\assets\n",
      "Epoch 13/30\n",
      "145/145 [==============================] - 20s 130ms/step - loss: 0.9120 - accuracy: 0.7165 - val_loss: 1.1517 - val_accuracy: 0.6379\n",
      "INFO:tensorflow:Assets written to: model3\\best_version\\assets\n",
      "Epoch 14/30\n",
      "145/145 [==============================] - 20s 130ms/step - loss: 0.8140 - accuracy: 0.7398 - val_loss: 1.1843 - val_accuracy: 0.6534\n",
      "Epoch 15/30\n",
      "145/145 [==============================] - 20s 132ms/step - loss: 0.7915 - accuracy: 0.7599 - val_loss: 1.7918 - val_accuracy: 0.4879\n",
      "Epoch 16/30\n",
      "145/145 [==============================] - 20s 133ms/step - loss: 0.6858 - accuracy: 0.7901 - val_loss: 1.5358 - val_accuracy: 0.6147\n",
      "Epoch 17/30\n",
      "145/145 [==============================] - 20s 130ms/step - loss: 0.6111 - accuracy: 0.8117 - val_loss: 1.2291 - val_accuracy: 0.6647\n",
      "Epoch 18/30\n",
      "145/145 [==============================] - 20s 130ms/step - loss: 0.5603 - accuracy: 0.8260 - val_loss: 1.7547 - val_accuracy: 0.5905\n",
      "Epoch 19/30\n",
      "145/145 [==============================] - 20s 131ms/step - loss: 0.5356 - accuracy: 0.8352 - val_loss: 1.6035 - val_accuracy: 0.6233\n",
      "Epoch 20/30\n",
      "145/145 [==============================] - 20s 131ms/step - loss: 0.4842 - accuracy: 0.8548 - val_loss: 1.2815 - val_accuracy: 0.6871\n",
      "Epoch 21/30\n",
      "145/145 [==============================] - 20s 130ms/step - loss: 0.4727 - accuracy: 0.8570 - val_loss: 1.3221 - val_accuracy: 0.6664\n",
      "Epoch 22/30\n",
      "145/145 [==============================] - 20s 130ms/step - loss: 0.4042 - accuracy: 0.8737 - val_loss: 1.4190 - val_accuracy: 0.6819\n",
      "Epoch 23/30\n",
      "145/145 [==============================] - 20s 131ms/step - loss: 0.4517 - accuracy: 0.8794 - val_loss: 1.4913 - val_accuracy: 0.6707\n",
      "Epoch 24/30\n",
      "145/145 [==============================] - 20s 132ms/step - loss: 0.3843 - accuracy: 0.8884 - val_loss: 1.5780 - val_accuracy: 0.6931\n",
      "Epoch 25/30\n",
      "145/145 [==============================] - 20s 129ms/step - loss: 0.3646 - accuracy: 0.8926 - val_loss: 1.3652 - val_accuracy: 0.6974\n",
      "Epoch 26/30\n",
      "145/145 [==============================] - 19s 124ms/step - loss: 0.3933 - accuracy: 0.8915 - val_loss: 1.2108 - val_accuracy: 0.7147\n",
      "Epoch 27/30\n",
      "145/145 [==============================] - 19s 126ms/step - loss: 0.3595 - accuracy: 0.8983 - val_loss: 1.3588 - val_accuracy: 0.7095\n",
      "Epoch 28/30\n",
      "145/145 [==============================] - 19s 127ms/step - loss: 0.3705 - accuracy: 0.9057 - val_loss: 1.6289 - val_accuracy: 0.6871\n",
      "Epoch 29/30\n",
      "145/145 [==============================] - 19s 123ms/step - loss: 0.3425 - accuracy: 0.9072 - val_loss: 1.4749 - val_accuracy: 0.6966\n",
      "Epoch 30/30\n",
      "145/145 [==============================] - 19s 124ms/step - loss: 0.3532 - accuracy: 0.9124 - val_loss: 1.5526 - val_accuracy: 0.6922\n"
     ]
    }
   ],
   "source": [
    "callbacks = [\n",
    " keras.callbacks.ModelCheckpoint(\n",
    " filepath=\"model3/best_version\",\n",
    " save_best_only=True,\n",
    " monitor=\"val_loss\")\n",
    "]\n",
    "\n",
    "model3.compile(loss=\"categorical_crossentropy\",\n",
    " optimizer=\"rmsprop\",\n",
    " metrics=[\"accuracy\"])\n",
    "\n",
    "history = model3.fit(\n",
    " train_dataset,\n",
    " epochs=30,\n",
    " validation_data=validation_dataset,\n",
    " callbacks=callbacks)"
   ]
  },
  {
   "cell_type": "code",
   "execution_count": 56,
   "metadata": {
    "pycharm": {
     "name": "#%%\n"
    }
   },
   "outputs": [
    {
     "name": "stdout",
     "output_type": "stream",
     "text": [
      "INFO:tensorflow:Assets written to: model3/model\\assets\n"
     ]
    }
   ],
   "source": [
    "model3.save('model3/model')\n",
    "np.save('model3/history.npy',history.history)"
   ]
  },
  {
   "cell_type": "markdown",
   "metadata": {
    "pycharm": {
     "name": "#%% md\n"
    }
   },
   "source": [
    "## Análisis de resultados"
   ]
  },
  {
   "cell_type": "code",
   "execution_count": 57,
   "metadata": {
    "pycharm": {
     "name": "#%%\n"
    }
   },
   "outputs": [],
   "source": [
    "my_history1=np.load('model2/history.npy',allow_pickle='TRUE').item()\n",
    "my_history2=np.load('model3/history.npy',allow_pickle='TRUE').item()"
   ]
  },
  {
   "cell_type": "code",
   "execution_count": 58,
   "metadata": {
    "pycharm": {
     "name": "#%%\n"
    }
   },
   "outputs": [
    {
     "data": {
      "image/png": "[encoded data removed]",
      "text/plain": [
       "<Figure size 432x288 with 1 Axes>"
      ]
     },
     "metadata": {
      "needs_background": "light"
     },
     "output_type": "display_data"
    }
   ],
   "source": [
    "loss_1 = my_history1[\"loss\"]\n",
    "val_loss_1 = my_history1[\"val_loss\"]\n",
    "loss_2 = my_history2[\"loss\"]\n",
    "val_loss_2 = my_history2[\"val_loss\"]\n",
    "epochs = range(1, len(loss_1) + 1)\n",
    "\n",
    "plt.plot(epochs, loss_1, \"b.\", label=\"Training loss original\")\n",
    "plt.plot(epochs, loss_2, \"r.\", label=\"Training loss new\")\n",
    "plt.plot(epochs, val_loss_1, \"b\", label=\"Validation loss original\")\n",
    "plt.plot(epochs, val_loss_2, \"r\", label=\"Validation loss new\")\n",
    "plt.title(\"Training and validation loss\")\n",
    "plt.xlabel(\"Epochs\")\n",
    "plt.ylabel(\"Loss\")\n",
    "plt.legend()\n",
    "plt.show()"
   ]
  },
  {
   "cell_type": "code",
   "execution_count": 59,
   "metadata": {
    "pycharm": {
     "name": "#%%\n"
    }
   },
   "outputs": [
    {
     "data": {
      "image/png": "[encoded data removed]",
      "text/plain": [
       "<Figure size 432x288 with 1 Axes>"
      ]
     },
     "metadata": {
      "needs_background": "light"
     },
     "output_type": "display_data"
    }
   ],
   "source": [
    "\n",
    "plt.clf()\n",
    "\n",
    "acc_1 = my_history1[\"accuracy\"]\n",
    "val_acc_1 = my_history1[\"val_accuracy\"]\n",
    "acc_2 = my_history2[\"accuracy\"]\n",
    "val_acc_2 = my_history2[\"val_accuracy\"]\n",
    "epochs = range(1, len(loss_1) + 1)\n",
    "\n",
    "plt.plot(epochs, acc_1, \"b.\", label=\"Training accuracy original\")\n",
    "plt.plot(epochs, acc_2, \"r.\", label=\"Training accuracy new\")\n",
    "plt.plot(epochs, val_acc_1, \"b\", label=\"Validation accuracy original\")\n",
    "plt.plot(epochs, val_acc_2, \"r\", label=\"Validation accuracy new\")\n",
    "plt.title(\"Training and validation accuracy\")\n",
    "plt.xlabel(\"Epochs\")\n",
    "plt.ylabel(\"Accuracy\")\n",
    "plt.legend()\n",
    "plt.show()"
   ]
  },
  {
   "cell_type": "code",
   "execution_count": 60,
   "metadata": {
    "pycharm": {
     "name": "#%%\n"
    }
   },
   "outputs": [
    {
     "name": "stdout",
     "output_type": "stream",
     "text": [
      "19/19 [==============================] - 3s 77ms/step - loss: 1.7435 - accuracy: 0.6879\n"
     ]
    },
    {
     "data": {
      "text/plain": [
       "[1.7435424327850342, 0.6879310607910156]"
      ]
     },
     "execution_count": 60,
     "metadata": {},
     "output_type": "execute_result"
    }
   ],
   "source": [
    "model = keras.models.load_model('model3/model')\n",
    "results= model.evaluate(test_dataset)\n",
    "results"
   ]
  },
  {
   "cell_type": "code",
   "execution_count": 61,
   "metadata": {
    "pycharm": {
     "name": "#%%\n"
    }
   },
   "outputs": [
    {
     "name": "stdout",
     "output_type": "stream",
     "text": [
      "19/19 [==============================] - 2s 80ms/step - loss: 1.2454 - accuracy: 0.6457\n"
     ]
    },
    {
     "data": {
      "text/plain": [
       "[1.2454142570495605, 0.6456896662712097]"
      ]
     },
     "execution_count": 61,
     "metadata": {},
     "output_type": "execute_result"
    }
   ],
   "source": [
    "model = keras.models.load_model('model3/best_version')\n",
    "results= model.evaluate(test_dataset)\n",
    "results"
   ]
  },
  {
   "cell_type": "markdown",
   "metadata": {
    "pycharm": {
     "name": "#%% md\n"
    }
   },
   "source": [
    "## Modelo 3.1: modelo tres con tres capas densas al final"
   ]
  },
  {
   "cell_type": "code",
   "execution_count": 64,
   "metadata": {
    "pycharm": {
     "name": "#%%\n"
    },
    "scrolled": true
   },
   "outputs": [
    {
     "name": "stdout",
     "output_type": "stream",
     "text": [
      "Model: \"model_12\"\n",
      "_________________________________________________________________\n",
      "Layer (type)                 Output Shape              Param #   \n",
      "=================================================================\n",
      "input_13 (InputLayer)        [(None, 256, 256, 3)]     0         \n",
      "_________________________________________________________________\n",
      "rescaling_12 (Rescaling)     (None, 256, 256, 3)       0         \n",
      "_________________________________________________________________\n",
      "conv2d_128 (Conv2D)          (None, 254, 254, 16)      448       \n",
      "_________________________________________________________________\n",
      "max_pooling2d_56 (MaxPooling (None, 127, 127, 16)      0         \n",
      "_________________________________________________________________\n",
      "conv2d_129 (Conv2D)          (None, 125, 125, 32)      4640      \n",
      "_________________________________________________________________\n",
      "max_pooling2d_57 (MaxPooling (None, 62, 62, 32)        0         \n",
      "_________________________________________________________________\n",
      "conv2d_130 (Conv2D)          (None, 60, 60, 64)        18496     \n",
      "_________________________________________________________________\n",
      "conv2d_131 (Conv2D)          (None, 58, 58, 64)        36928     \n",
      "_________________________________________________________________\n",
      "max_pooling2d_58 (MaxPooling (None, 29, 29, 64)        0         \n",
      "_________________________________________________________________\n",
      "conv2d_132 (Conv2D)          (None, 27, 27, 128)       73856     \n",
      "_________________________________________________________________\n",
      "conv2d_133 (Conv2D)          (None, 25, 25, 128)       147584    \n",
      "_________________________________________________________________\n",
      "max_pooling2d_59 (MaxPooling (None, 12, 12, 128)       0         \n",
      "_________________________________________________________________\n",
      "conv2d_134 (Conv2D)          (None, 10, 10, 256)       295168    \n",
      "_________________________________________________________________\n",
      "conv2d_135 (Conv2D)          (None, 8, 8, 256)         590080    \n",
      "_________________________________________________________________\n",
      "conv2d_136 (Conv2D)          (None, 6, 6, 256)         590080    \n",
      "_________________________________________________________________\n",
      "dense_39 (Dense)             (None, 6, 6, 64)          16448     \n",
      "_________________________________________________________________\n",
      "dense_40 (Dense)             (None, 6, 6, 64)          4160      \n",
      "_________________________________________________________________\n",
      "dense_41 (Dense)             (None, 6, 6, 64)          4160      \n",
      "_________________________________________________________________\n",
      "flatten_12 (Flatten)         (None, 2304)              0         \n",
      "_________________________________________________________________\n",
      "dropout_12 (Dropout)         (None, 2304)              0         \n",
      "_________________________________________________________________\n",
      "dense_42 (Dense)             (None, 58)                133690    \n",
      "=================================================================\n",
      "Total params: 1,915,738\n",
      "Trainable params: 1,915,738\n",
      "Non-trainable params: 0\n",
      "_________________________________________________________________\n"
     ]
    }
   ],
   "source": [
    "inputs = keras.Input(shape=(size_x, size_y, 3)) \n",
    "x = layers.Rescaling(1./255)(inputs) \n",
    "x = layers.Conv2D(filters=16, kernel_size=3, activation=\"relu\")(x)\n",
    "x = layers.MaxPooling2D(pool_size=2)(x)\n",
    "x = layers.Conv2D(filters=32, kernel_size=3, activation=\"relu\")(x)\n",
    "x = layers.MaxPooling2D(pool_size=2)(x)\n",
    "x = layers.Conv2D(filters=64, kernel_size=3, activation=\"relu\")(x)\n",
    "x = layers.Conv2D(filters=64, kernel_size=3, activation=\"relu\")(x)\n",
    "x = layers.MaxPooling2D(pool_size=2)(x)\n",
    "x = layers.Conv2D(filters=128, kernel_size=3, activation=\"relu\")(x)\n",
    "x = layers.Conv2D(filters=128, kernel_size=3, activation=\"relu\")(x)\n",
    "x = layers.MaxPooling2D(pool_size=2)(x)\n",
    "x = layers.Conv2D(filters=256, kernel_size=3, activation=\"relu\")(x)\n",
    "x = layers.Conv2D(filters=256, kernel_size=3, activation=\"relu\")(x)\n",
    "x = layers.Conv2D(filters=256, kernel_size=3, activation=\"relu\")(x)\n",
    "x = layers.Dense(64, activation = \"relu\")(x)\n",
    "x = layers.Dense(64, activation = \"relu\")(x)\n",
    "x = layers.Dense(64, activation = \"relu\")(x)\n",
    "x = layers.Flatten()(x)\n",
    "x = layers.Dropout(0.5)(x)\n",
    "outputs = layers.Dense(58, activation=\"softmax\")(x)\n",
    "model3_1 = keras.Model(inputs=inputs, outputs=outputs)\n",
    "\n",
    "model3_1.summary()"
   ]
  },
  {
   "cell_type": "code",
   "execution_count": 65,
   "metadata": {
    "pycharm": {
     "name": "#%%\n"
    },
    "scrolled": true
   },
   "outputs": [
    {
     "name": "stdout",
     "output_type": "stream",
     "text": [
      "Epoch 1/30\n",
      "145/145 [==============================] - 22s 134ms/step - loss: 4.1226 - accuracy: 0.0230 - val_loss: 3.9401 - val_accuracy: 0.0569\n",
      "INFO:tensorflow:Assets written to: model3_1\\best_version\\assets\n",
      "Epoch 2/30\n",
      "145/145 [==============================] - 20s 131ms/step - loss: 3.7271 - accuracy: 0.0564 - val_loss: 4.8919 - val_accuracy: 0.0181\n",
      "Epoch 3/30\n",
      "145/145 [==============================] - 20s 132ms/step - loss: 3.3899 - accuracy: 0.1054 - val_loss: 3.1752 - val_accuracy: 0.1224\n",
      "INFO:tensorflow:Assets written to: model3_1\\best_version\\assets\n",
      "Epoch 4/30\n",
      "145/145 [==============================] - 20s 129ms/step - loss: 3.0601 - accuracy: 0.1597 - val_loss: 2.8804 - val_accuracy: 0.1974\n",
      "INFO:tensorflow:Assets written to: model3_1\\best_version\\assets\n",
      "Epoch 5/30\n",
      "145/145 [==============================] - 20s 130ms/step - loss: 2.7752 - accuracy: 0.2156 - val_loss: 2.5139 - val_accuracy: 0.2793\n",
      "INFO:tensorflow:Assets written to: model3_1\\best_version\\assets\n",
      "Epoch 6/30\n",
      "145/145 [==============================] - 20s 131ms/step - loss: 2.5181 - accuracy: 0.2736 - val_loss: 2.7236 - val_accuracy: 0.2069\n",
      "Epoch 7/30\n",
      "145/145 [==============================] - 20s 130ms/step - loss: 2.3111 - accuracy: 0.3129 - val_loss: 2.3027 - val_accuracy: 0.3190\n",
      "INFO:tensorflow:Assets written to: model3_1\\best_version\\assets\n",
      "Epoch 8/30\n",
      "145/145 [==============================] - 20s 131ms/step - loss: 2.1235 - accuracy: 0.3647 - val_loss: 2.0278 - val_accuracy: 0.3586\n",
      "INFO:tensorflow:Assets written to: model3_1\\best_version\\assets\n",
      "Epoch 9/30\n",
      "145/145 [==============================] - 20s 132ms/step - loss: 1.9444 - accuracy: 0.4083 - val_loss: 2.0760 - val_accuracy: 0.3578\n",
      "Epoch 10/30\n",
      "145/145 [==============================] - 20s 130ms/step - loss: 1.8291 - accuracy: 0.4449 - val_loss: 1.7652 - val_accuracy: 0.4328\n",
      "INFO:tensorflow:Assets written to: model3_1\\best_version\\assets\n",
      "Epoch 11/30\n",
      "145/145 [==============================] - 20s 130ms/step - loss: 1.6642 - accuracy: 0.4833 - val_loss: 2.7224 - val_accuracy: 0.3405\n",
      "Epoch 12/30\n",
      "145/145 [==============================] - 20s 130ms/step - loss: 1.5455 - accuracy: 0.5188 - val_loss: 1.5894 - val_accuracy: 0.5000\n",
      "INFO:tensorflow:Assets written to: model3_1\\best_version\\assets\n",
      "Epoch 13/30\n",
      "145/145 [==============================] - 20s 131ms/step - loss: 1.4055 - accuracy: 0.5575 - val_loss: 1.6927 - val_accuracy: 0.4810\n",
      "Epoch 14/30\n",
      "145/145 [==============================] - 20s 132ms/step - loss: 1.3072 - accuracy: 0.5925 - val_loss: 1.7175 - val_accuracy: 0.4672\n",
      "Epoch 15/30\n",
      "145/145 [==============================] - 20s 130ms/step - loss: 1.1961 - accuracy: 0.6246 - val_loss: 1.4397 - val_accuracy: 0.5431\n",
      "INFO:tensorflow:Assets written to: model3_1\\best_version\\assets\n",
      "Epoch 16/30\n",
      "145/145 [==============================] - 20s 131ms/step - loss: 1.1166 - accuracy: 0.6541 - val_loss: 1.8346 - val_accuracy: 0.4672\n",
      "Epoch 17/30\n",
      "145/145 [==============================] - 20s 132ms/step - loss: 1.0361 - accuracy: 0.6691 - val_loss: 2.0055 - val_accuracy: 0.5052\n",
      "Epoch 18/30\n",
      "145/145 [==============================] - 20s 130ms/step - loss: 0.9321 - accuracy: 0.7073 - val_loss: 1.4114 - val_accuracy: 0.5871\n",
      "INFO:tensorflow:Assets written to: model3_1\\best_version\\assets\n",
      "Epoch 19/30\n",
      "145/145 [==============================] - 20s 131ms/step - loss: 0.8799 - accuracy: 0.7207 - val_loss: 1.3744 - val_accuracy: 0.5871\n",
      "INFO:tensorflow:Assets written to: model3_1\\best_version\\assets\n",
      "Epoch 20/30\n",
      "145/145 [==============================] - 20s 130ms/step - loss: 0.8226 - accuracy: 0.7373 - val_loss: 1.5979 - val_accuracy: 0.5845\n",
      "Epoch 21/30\n",
      "145/145 [==============================] - 20s 132ms/step - loss: 0.7362 - accuracy: 0.7626 - val_loss: 1.4528 - val_accuracy: 0.6224\n",
      "Epoch 22/30\n",
      "145/145 [==============================] - 20s 131ms/step - loss: 0.6986 - accuracy: 0.7805 - val_loss: 1.4102 - val_accuracy: 0.6103\n",
      "Epoch 23/30\n",
      "145/145 [==============================] - 20s 130ms/step - loss: 0.6270 - accuracy: 0.7944 - val_loss: 1.3737 - val_accuracy: 0.6336\n",
      "INFO:tensorflow:Assets written to: model3_1\\best_version\\assets\n",
      "Epoch 24/30\n",
      "145/145 [==============================] - 20s 129ms/step - loss: 0.6100 - accuracy: 0.8064 - val_loss: 1.1900 - val_accuracy: 0.6664\n",
      "INFO:tensorflow:Assets written to: model3_1\\best_version\\assets\n",
      "Epoch 25/30\n",
      "145/145 [==============================] - 20s 130ms/step - loss: 0.5540 - accuracy: 0.8255 - val_loss: 1.5711 - val_accuracy: 0.5888\n",
      "Epoch 26/30\n",
      "145/145 [==============================] - 20s 135ms/step - loss: 0.5152 - accuracy: 0.8379 - val_loss: 1.4876 - val_accuracy: 0.6112\n",
      "Epoch 27/30\n",
      "145/145 [==============================] - 20s 132ms/step - loss: 0.5041 - accuracy: 0.8440 - val_loss: 1.2217 - val_accuracy: 0.6716\n",
      "Epoch 28/30\n",
      "145/145 [==============================] - 20s 131ms/step - loss: 0.4880 - accuracy: 0.8523 - val_loss: 1.3335 - val_accuracy: 0.6681\n",
      "Epoch 29/30\n",
      "145/145 [==============================] - 20s 130ms/step - loss: 0.4558 - accuracy: 0.8596 - val_loss: 1.3976 - val_accuracy: 0.6552\n",
      "Epoch 30/30\n",
      "145/145 [==============================] - 20s 131ms/step - loss: 0.4147 - accuracy: 0.8682 - val_loss: 1.7486 - val_accuracy: 0.6017\n"
     ]
    }
   ],
   "source": [
    "callbacks = [\n",
    " keras.callbacks.ModelCheckpoint(\n",
    " filepath=\"model3_1/best_version\",\n",
    " save_best_only=True,\n",
    " monitor=\"val_loss\")\n",
    "]\n",
    "\n",
    "model3_1.compile(loss=\"categorical_crossentropy\",\n",
    " optimizer=\"rmsprop\",\n",
    " metrics=[\"accuracy\"])\n",
    "\n",
    "history = model3_1.fit(\n",
    " train_dataset,\n",
    " epochs=30,\n",
    " validation_data=validation_dataset,\n",
    " callbacks=callbacks)"
   ]
  },
  {
   "cell_type": "code",
   "execution_count": 66,
   "metadata": {
    "pycharm": {
     "name": "#%%\n"
    },
    "scrolled": false
   },
   "outputs": [
    {
     "name": "stdout",
     "output_type": "stream",
     "text": [
      "INFO:tensorflow:Assets written to: model3_1/model\\assets\n"
     ]
    }
   ],
   "source": [
    "model3_1.save('model3_1/model')\n",
    "np.save('model3_1/history.npy',history.history)"
   ]
  },
  {
   "cell_type": "code",
   "execution_count": 67,
   "metadata": {
    "pycharm": {
     "name": "#%%\n"
    }
   },
   "outputs": [],
   "source": [
    "my_history1=np.load('model3/history.npy',allow_pickle='TRUE').item()\n",
    "my_history2=np.load('model3_1/history.npy',allow_pickle='TRUE').item()"
   ]
  },
  {
   "cell_type": "code",
   "execution_count": 68,
   "metadata": {
    "pycharm": {
     "name": "#%%\n"
    }
   },
   "outputs": [
    {
     "data": {
      "image/png": "[encoded data removed]",
      "text/plain": [
       "<Figure size 432x288 with 1 Axes>"
      ]
     },
     "metadata": {
      "needs_background": "light"
     },
     "output_type": "display_data"
    }
   ],
   "source": [
    "loss_1 = my_history1[\"loss\"]\n",
    "val_loss_1 = my_history1[\"val_loss\"]\n",
    "loss_2 = my_history2[\"loss\"]\n",
    "val_loss_2 = my_history2[\"val_loss\"]\n",
    "epochs = range(1, len(loss_1) + 1)\n",
    "\n",
    "plt.plot(epochs, loss_1, \"b.\", label=\"Training loss original\")\n",
    "plt.plot(epochs, loss_2, \"r.\", label=\"Training loss new\")\n",
    "plt.plot(epochs, val_loss_1, \"b\", label=\"Validation loss original\")\n",
    "plt.plot(epochs, val_loss_2, \"r\", label=\"Validation loss new\")\n",
    "plt.title(\"Training and validation loss\")\n",
    "plt.xlabel(\"Epochs\")\n",
    "plt.ylabel(\"Loss\")\n",
    "plt.legend()\n",
    "plt.show()"
   ]
  },
  {
   "cell_type": "code",
   "execution_count": 69,
   "metadata": {
    "pycharm": {
     "name": "#%%\n"
    }
   },
   "outputs": [
    {
     "data": {
      "image/png": "[encoded data removed]",
      "text/plain": [
       "<Figure size 432x288 with 1 Axes>"
      ]
     },
     "metadata": {
      "needs_background": "light"
     },
     "output_type": "display_data"
    }
   ],
   "source": [
    "\n",
    "plt.clf()\n",
    "\n",
    "acc_1 = my_history1[\"accuracy\"]\n",
    "val_acc_1 = my_history1[\"val_accuracy\"]\n",
    "acc_2 = my_history2[\"accuracy\"]\n",
    "val_acc_2 = my_history2[\"val_accuracy\"]\n",
    "epochs = range(1, len(loss_1) + 1)\n",
    "\n",
    "plt.plot(epochs, acc_1, \"b.\", label=\"Training accuracy original\")\n",
    "plt.plot(epochs, acc_2, \"r.\", label=\"Training accuracy new\")\n",
    "plt.plot(epochs, val_acc_1, \"b\", label=\"Validation accuracy original\")\n",
    "plt.plot(epochs, val_acc_2, \"r\", label=\"Validation accuracy new\")\n",
    "plt.title(\"Training and validation accuracy\")\n",
    "plt.xlabel(\"Epochs\")\n",
    "plt.ylabel(\"Accuracy\")\n",
    "plt.legend()\n",
    "plt.show()"
   ]
  },
  {
   "cell_type": "code",
   "execution_count": 33,
   "metadata": {
    "pycharm": {
     "name": "#%%\n"
    }
   },
   "outputs": [
    {
     "name": "stdout",
     "output_type": "stream",
     "text": [
      "19/19 [==============================] - 2s 73ms/step - loss: 1.4890 - accuracy: 0.6345\n"
     ]
    },
    {
     "data": {
      "text/plain": [
       "[1.4890308380126953, 0.634482741355896]"
      ]
     },
     "execution_count": 33,
     "metadata": {},
     "output_type": "execute_result"
    }
   ],
   "source": [
    "model = keras.models.load_model('model3_1/model')\n",
    "results= model.evaluate(test_dataset)\n",
    "results"
   ]
  },
  {
   "cell_type": "code",
   "execution_count": 34,
   "metadata": {
    "pycharm": {
     "name": "#%%\n"
    }
   },
   "outputs": [
    {
     "name": "stdout",
     "output_type": "stream",
     "text": [
      "19/19 [==============================] - 2s 73ms/step - loss: 1.4009 - accuracy: 0.6578\n"
     ]
    },
    {
     "data": {
      "text/plain": [
       "[1.4009233713150024, 0.6577585935592651]"
      ]
     },
     "execution_count": 34,
     "metadata": {},
     "output_type": "execute_result"
    }
   ],
   "source": [
    "model = keras.models.load_model('model3_1/best_version')\n",
    "results= model.evaluate(test_dataset)\n",
    "results"
   ]
  },
  {
   "cell_type": "markdown",
   "metadata": {
    "pycharm": {
     "name": "#%% md\n"
    }
   },
   "source": [
    "## Modelo 3.2: Una conexión residual"
   ]
  },
  {
   "cell_type": "code",
   "execution_count": 70,
   "metadata": {
    "pycharm": {
     "name": "#%%\n"
    },
    "scrolled": true
   },
   "outputs": [
    {
     "name": "stdout",
     "output_type": "stream",
     "text": [
      "Model: \"model_13\"\n",
      "__________________________________________________________________________________________________\n",
      "Layer (type)                    Output Shape         Param #     Connected to                     \n",
      "==================================================================================================\n",
      "input_14 (InputLayer)           [(None, 256, 256, 3) 0                                            \n",
      "__________________________________________________________________________________________________\n",
      "rescaling_13 (Rescaling)        (None, 256, 256, 3)  0           input_14[0][0]                   \n",
      "__________________________________________________________________________________________________\n",
      "conv2d_137 (Conv2D)             (None, 254, 254, 16) 448         rescaling_13[0][0]               \n",
      "__________________________________________________________________________________________________\n",
      "max_pooling2d_60 (MaxPooling2D) (None, 127, 127, 16) 0           conv2d_137[0][0]                 \n",
      "__________________________________________________________________________________________________\n",
      "conv2d_138 (Conv2D)             (None, 125, 125, 32) 4640        max_pooling2d_60[0][0]           \n",
      "__________________________________________________________________________________________________\n",
      "max_pooling2d_61 (MaxPooling2D) (None, 62, 62, 32)   0           conv2d_138[0][0]                 \n",
      "__________________________________________________________________________________________________\n",
      "conv2d_139 (Conv2D)             (None, 60, 60, 64)   18496       max_pooling2d_61[0][0]           \n",
      "__________________________________________________________________________________________________\n",
      "conv2d_140 (Conv2D)             (None, 58, 58, 64)   36928       conv2d_139[0][0]                 \n",
      "__________________________________________________________________________________________________\n",
      "max_pooling2d_62 (MaxPooling2D) (None, 29, 29, 64)   0           conv2d_140[0][0]                 \n",
      "__________________________________________________________________________________________________\n",
      "conv2d_141 (Conv2D)             (None, 27, 27, 128)  73856       max_pooling2d_62[0][0]           \n",
      "__________________________________________________________________________________________________\n",
      "conv2d_142 (Conv2D)             (None, 25, 25, 128)  147584      conv2d_141[0][0]                 \n",
      "__________________________________________________________________________________________________\n",
      "max_pooling2d_63 (MaxPooling2D) (None, 13, 13, 128)  0           conv2d_142[0][0]                 \n",
      "__________________________________________________________________________________________________\n",
      "conv2d_143 (Conv2D)             (None, 13, 13, 256)  295168      max_pooling2d_63[0][0]           \n",
      "__________________________________________________________________________________________________\n",
      "conv2d_144 (Conv2D)             (None, 13, 13, 256)  33024       conv2d_142[0][0]                 \n",
      "__________________________________________________________________________________________________\n",
      "add_30 (Add)                    (None, 13, 13, 256)  0           conv2d_143[0][0]                 \n",
      "                                                                 conv2d_144[0][0]                 \n",
      "__________________________________________________________________________________________________\n",
      "conv2d_145 (Conv2D)             (None, 11, 11, 256)  590080      add_30[0][0]                     \n",
      "__________________________________________________________________________________________________\n",
      "conv2d_146 (Conv2D)             (None, 9, 9, 256)    590080      conv2d_145[0][0]                 \n",
      "__________________________________________________________________________________________________\n",
      "dense_43 (Dense)                (None, 9, 9, 64)     16448       conv2d_146[0][0]                 \n",
      "__________________________________________________________________________________________________\n",
      "dense_44 (Dense)                (None, 9, 9, 64)     4160        dense_43[0][0]                   \n",
      "__________________________________________________________________________________________________\n",
      "dense_45 (Dense)                (None, 9, 9, 64)     4160        dense_44[0][0]                   \n",
      "__________________________________________________________________________________________________\n",
      "flatten_13 (Flatten)            (None, 5184)         0           dense_45[0][0]                   \n",
      "__________________________________________________________________________________________________\n",
      "dropout_13 (Dropout)            (None, 5184)         0           flatten_13[0][0]                 \n",
      "__________________________________________________________________________________________________\n",
      "dense_46 (Dense)                (None, 58)           300730      dropout_13[0][0]                 \n",
      "==================================================================================================\n",
      "Total params: 2,115,802\n",
      "Trainable params: 2,115,802\n",
      "Non-trainable params: 0\n",
      "__________________________________________________________________________________________________\n"
     ]
    }
   ],
   "source": [
    "inputs = keras.Input(shape=(size_x, size_y, 3)) \n",
    "x = layers.Rescaling(1./255)(inputs) \n",
    "x = layers.Conv2D(filters=16, kernel_size=3, activation=\"relu\")(x)\n",
    "x = layers.MaxPooling2D(pool_size=2)(x)\n",
    "x = layers.Conv2D(filters=32, kernel_size=3, activation=\"relu\")(x)\n",
    "x = layers.MaxPooling2D(pool_size=2)(x)\n",
    "x = layers.Conv2D(filters=64, kernel_size=3, activation=\"relu\")(x)\n",
    "x = layers.Conv2D(filters=64, kernel_size=3, activation=\"relu\")(x)\n",
    "x = layers.MaxPooling2D(pool_size=2)(x)\n",
    "x = layers.Conv2D(filters=128, kernel_size=3, activation=\"relu\")(x)\n",
    "x = layers.Conv2D(filters=128, kernel_size=3, activation=\"relu\")(x)\n",
    "residual = x \n",
    "x = layers.MaxPooling2D(pool_size=2, padding=\"same\")(x)\n",
    "x = layers.Conv2D(filters=256, kernel_size=3, activation=\"relu\", padding=\"same\")(x)\n",
    "residual = layers.Conv2D(256, 1, strides=2)(residual)\n",
    "x = layers.add([x, residual])\n",
    "x = layers.Conv2D(filters=256, kernel_size=3, activation=\"relu\")(x)\n",
    "x = layers.Conv2D(filters=256, kernel_size=3, activation=\"relu\")(x)\n",
    "x = layers.Dense(64, activation = \"relu\")(x)\n",
    "x = layers.Dense(64, activation = \"relu\")(x)\n",
    "x = layers.Dense(64, activation = \"relu\")(x)\n",
    "x = layers.Flatten()(x)\n",
    "x = layers.Dropout(0.5)(x)\n",
    "outputs = layers.Dense(58, activation=\"softmax\")(x)\n",
    "model3_2 = keras.Model(inputs=inputs, outputs=outputs)\n",
    "\n",
    "model3_2.summary()"
   ]
  },
  {
   "cell_type": "code",
   "execution_count": 71,
   "metadata": {
    "pycharm": {
     "name": "#%%\n"
    },
    "scrolled": true
   },
   "outputs": [
    {
     "name": "stdout",
     "output_type": "stream",
     "text": [
      "Epoch 1/30\n",
      "145/145 [==============================] - 22s 134ms/step - loss: 4.1324 - accuracy: 0.0153 - val_loss: 4.0761 - val_accuracy: 0.0431\n",
      "Epoch 2/30\n",
      "145/145 [==============================] - 20s 130ms/step - loss: 4.0978 - accuracy: 0.0208 - val_loss: 4.0419 - val_accuracy: 0.0276\n",
      "Epoch 3/30\n",
      "145/145 [==============================] - 20s 130ms/step - loss: 4.1352 - accuracy: 0.0296 - val_loss: 4.0484 - val_accuracy: 0.0241\n",
      "Epoch 4/30\n",
      "145/145 [==============================] - 20s 130ms/step - loss: 4.0979 - accuracy: 0.0337 - val_loss: 4.0250 - val_accuracy: 0.0379\n",
      "Epoch 5/30\n",
      "145/145 [==============================] - 20s 131ms/step - loss: 3.8307 - accuracy: 0.0649 - val_loss: 3.5732 - val_accuracy: 0.0767\n",
      "Epoch 6/30\n",
      "145/145 [==============================] - 20s 130ms/step - loss: 3.4671 - accuracy: 0.1170 - val_loss: 3.5286 - val_accuracy: 0.1060\n",
      "Epoch 7/30\n",
      "145/145 [==============================] - 20s 130ms/step - loss: 2.9332 - accuracy: 0.2246 - val_loss: 2.5239 - val_accuracy: 0.2793\n",
      "Epoch 8/30\n",
      "145/145 [==============================] - 20s 131ms/step - loss: 2.3803 - accuracy: 0.3232 - val_loss: 2.3153 - val_accuracy: 0.3233\n",
      "Epoch 9/30\n",
      "145/145 [==============================] - 20s 131ms/step - loss: 2.0448 - accuracy: 0.4024 - val_loss: 1.8981 - val_accuracy: 0.4216\n",
      "Epoch 10/30\n",
      "145/145 [==============================] - 21s 136ms/step - loss: 1.7992 - accuracy: 0.4645 - val_loss: 1.7860 - val_accuracy: 0.4474\n",
      "Epoch 11/30\n",
      "145/145 [==============================] - 20s 130ms/step - loss: 1.5785 - accuracy: 0.5177 - val_loss: 1.6346 - val_accuracy: 0.4948\n",
      "Epoch 12/30\n",
      "145/145 [==============================] - 20s 131ms/step - loss: 1.4062 - accuracy: 0.5648 - val_loss: 1.6206 - val_accuracy: 0.4948\n",
      "Epoch 13/30\n",
      "145/145 [==============================] - 21s 137ms/step - loss: 1.2580 - accuracy: 0.6087 - val_loss: 1.5513 - val_accuracy: 0.4974\n",
      "Epoch 14/30\n",
      "145/145 [==============================] - 21s 135ms/step - loss: 1.0934 - accuracy: 0.6578 - val_loss: 1.4772 - val_accuracy: 0.5483\n",
      "Epoch 15/30\n",
      "145/145 [==============================] - 20s 131ms/step - loss: 0.9929 - accuracy: 0.6900 - val_loss: 1.5718 - val_accuracy: 0.5362\n",
      "Epoch 16/30\n",
      "145/145 [==============================] - 20s 131ms/step - loss: 0.9074 - accuracy: 0.7168 - val_loss: 1.4732 - val_accuracy: 0.5629\n",
      "Epoch 17/30\n",
      "145/145 [==============================] - 20s 130ms/step - loss: 0.7957 - accuracy: 0.7444 - val_loss: 1.3575 - val_accuracy: 0.6103\n",
      "Epoch 18/30\n",
      "145/145 [==============================] - 20s 130ms/step - loss: 0.7310 - accuracy: 0.7681 - val_loss: 1.4047 - val_accuracy: 0.5948\n",
      "Epoch 19/30\n",
      "145/145 [==============================] - 20s 132ms/step - loss: 0.6568 - accuracy: 0.7901 - val_loss: 1.6110 - val_accuracy: 0.5862\n",
      "Epoch 20/30\n",
      "145/145 [==============================] - 20s 131ms/step - loss: 0.5751 - accuracy: 0.8188 - val_loss: 1.4772 - val_accuracy: 0.5888\n",
      "Epoch 21/30\n",
      "145/145 [==============================] - 20s 132ms/step - loss: 0.5445 - accuracy: 0.8253 - val_loss: 1.5704 - val_accuracy: 0.5759\n",
      "Epoch 22/30\n",
      "145/145 [==============================] - 20s 131ms/step - loss: 0.4922 - accuracy: 0.8443 - val_loss: 1.7055 - val_accuracy: 0.5974\n",
      "Epoch 23/30\n",
      "145/145 [==============================] - 20s 131ms/step - loss: 0.4521 - accuracy: 0.8625 - val_loss: 1.5471 - val_accuracy: 0.6103\n",
      "Epoch 24/30\n",
      "145/145 [==============================] - 20s 131ms/step - loss: 0.4072 - accuracy: 0.8667 - val_loss: 1.6631 - val_accuracy: 0.6216\n",
      "Epoch 25/30\n",
      "145/145 [==============================] - 20s 132ms/step - loss: 0.4200 - accuracy: 0.8703 - val_loss: 1.4498 - val_accuracy: 0.6414\n",
      "Epoch 26/30\n",
      "145/145 [==============================] - 20s 132ms/step - loss: 0.3350 - accuracy: 0.8927 - val_loss: 1.6405 - val_accuracy: 0.6233\n",
      "Epoch 27/30\n",
      "145/145 [==============================] - 21s 137ms/step - loss: 0.3548 - accuracy: 0.8956 - val_loss: 1.5690 - val_accuracy: 0.6448\n",
      "Epoch 28/30\n",
      "145/145 [==============================] - 20s 132ms/step - loss: 0.3090 - accuracy: 0.9016 - val_loss: 1.9199 - val_accuracy: 0.5828\n",
      "Epoch 29/30\n",
      "145/145 [==============================] - 20s 133ms/step - loss: 0.3132 - accuracy: 0.8996 - val_loss: 2.1445 - val_accuracy: 0.5853\n",
      "Epoch 30/30\n",
      "145/145 [==============================] - 20s 133ms/step - loss: 0.3049 - accuracy: 0.9108 - val_loss: 1.9522 - val_accuracy: 0.6103\n"
     ]
    }
   ],
   "source": [
    "model3_2.compile(loss=\"categorical_crossentropy\",\n",
    " optimizer=\"rmsprop\",\n",
    " metrics=[\"accuracy\"])\n",
    "\n",
    "history = model3_2.fit(\n",
    " train_dataset,\n",
    " epochs=30,\n",
    " validation_data=validation_dataset)"
   ]
  },
  {
   "cell_type": "code",
   "execution_count": 74,
   "metadata": {
    "pycharm": {
     "name": "#%%\n"
    },
    "scrolled": false
   },
   "outputs": [
    {
     "name": "stdout",
     "output_type": "stream",
     "text": [
      "INFO:tensorflow:Assets written to: model3_2/model\\assets\n"
     ]
    },
    {
     "name": "stderr",
     "output_type": "stream",
     "text": [
      "F:\\Programas\\Anaconda\\envs\\TFGapp\\lib\\site-packages\\keras\\utils\\generic_utils.py:494: CustomMaskWarning: Custom mask layers require a config and must override get_config. When loading, the custom mask layer must be passed to the custom_objects argument.\n",
      "  warnings.warn('Custom mask layers require a config and must override '\n"
     ]
    }
   ],
   "source": [
    "model3_2.save('model3_2/model')\n",
    "np.save('model3_2/history.npy',history.history)"
   ]
  },
  {
   "cell_type": "code",
   "execution_count": 75,
   "metadata": {
    "pycharm": {
     "name": "#%%\n"
    }
   },
   "outputs": [],
   "source": [
    "my_history1=np.load('model3_1/history.npy',allow_pickle='TRUE').item()\n",
    "my_history2=np.load('model3_2/history.npy',allow_pickle='TRUE').item()"
   ]
  },
  {
   "cell_type": "code",
   "execution_count": 76,
   "metadata": {
    "pycharm": {
     "name": "#%%\n"
    }
   },
   "outputs": [
    {
     "data": {
      "image/png": "[encoded data removed]",
      "text/plain": [
       "<Figure size 432x288 with 1 Axes>"
      ]
     },
     "metadata": {
      "needs_background": "light"
     },
     "output_type": "display_data"
    }
   ],
   "source": [
    "loss_1 = my_history1[\"loss\"]\n",
    "val_loss_1 = my_history1[\"val_loss\"]\n",
    "loss_2 = my_history2[\"loss\"]\n",
    "val_loss_2 = my_history2[\"val_loss\"]\n",
    "epochs = range(1, len(loss_1) + 1)\n",
    "\n",
    "plt.plot(epochs, loss_1, \"b.\", label=\"Training loss original\")\n",
    "plt.plot(epochs, loss_2, \"r.\", label=\"Training loss new\")\n",
    "plt.plot(epochs, val_loss_1, \"b\", label=\"Validation loss original\")\n",
    "plt.plot(epochs, val_loss_2, \"r\", label=\"Validation loss new\")\n",
    "plt.title(\"Training and validation loss\")\n",
    "plt.xlabel(\"Epochs\")\n",
    "plt.ylabel(\"Loss\")\n",
    "plt.legend()\n",
    "plt.show()"
   ]
  },
  {
   "cell_type": "code",
   "execution_count": 77,
   "metadata": {
    "pycharm": {
     "name": "#%%\n"
    }
   },
   "outputs": [
    {
     "data": {
      "image/png": "[encoded data removed]",
      "text/plain": [
       "<Figure size 432x288 with 1 Axes>"
      ]
     },
     "metadata": {
      "needs_background": "light"
     },
     "output_type": "display_data"
    }
   ],
   "source": [
    "\n",
    "plt.clf()\n",
    "\n",
    "acc_1 = my_history1[\"accuracy\"]\n",
    "val_acc_1 = my_history1[\"val_accuracy\"]\n",
    "acc_2 = my_history2[\"accuracy\"]\n",
    "val_acc_2 = my_history2[\"val_accuracy\"]\n",
    "epochs = range(1, len(loss_1) + 1)\n",
    "\n",
    "plt.plot(epochs, acc_1, \"b.\", label=\"Training accuracy original\")\n",
    "plt.plot(epochs, acc_2, \"r.\", label=\"Training accuracy new\")\n",
    "plt.plot(epochs, val_acc_1, \"b\", label=\"Validation accuracy original\")\n",
    "plt.plot(epochs, val_acc_2, \"r\", label=\"Validation accuracy new\")\n",
    "plt.title(\"Training and validation accuracy\")\n",
    "plt.xlabel(\"Epochs\")\n",
    "plt.ylabel(\"Accuracy\")\n",
    "plt.legend()\n",
    "plt.show()"
   ]
  },
  {
   "cell_type": "code",
   "execution_count": 78,
   "metadata": {
    "pycharm": {
     "name": "#%%\n"
    }
   },
   "outputs": [
    {
     "name": "stdout",
     "output_type": "stream",
     "text": [
      "19/19 [==============================] - 3s 75ms/step - loss: 2.2541 - accuracy: 0.5776\n"
     ]
    },
    {
     "data": {
      "text/plain": [
       "[2.2541489601135254, 0.5775862336158752]"
      ]
     },
     "execution_count": 78,
     "metadata": {},
     "output_type": "execute_result"
    }
   ],
   "source": [
    "model = keras.models.load_model('model3_2/model')\n",
    "results= model.evaluate(test_dataset)\n",
    "results"
   ]
  },
  {
   "cell_type": "markdown",
   "metadata": {
    "pycharm": {
     "name": "#%% md\n"
    }
   },
   "source": [
    "## Modelo 3.3: tres conexiones residuales"
   ]
  },
  {
   "cell_type": "code",
   "execution_count": 83,
   "metadata": {
    "pycharm": {
     "name": "#%%\n"
    },
    "scrolled": true
   },
   "outputs": [
    {
     "name": "stdout",
     "output_type": "stream",
     "text": [
      "Model: \"model_16\"\n",
      "__________________________________________________________________________________________________\n",
      "Layer (type)                    Output Shape         Param #     Connected to                     \n",
      "==================================================================================================\n",
      "input_17 (InputLayer)           [(None, 256, 256, 3) 0                                            \n",
      "__________________________________________________________________________________________________\n",
      "rescaling_16 (Rescaling)        (None, 256, 256, 3)  0           input_17[0][0]                   \n",
      "__________________________________________________________________________________________________\n",
      "conv2d_171 (Conv2D)             (None, 254, 254, 16) 448         rescaling_16[0][0]               \n",
      "__________________________________________________________________________________________________\n",
      "max_pooling2d_72 (MaxPooling2D) (None, 127, 127, 16) 0           conv2d_171[0][0]                 \n",
      "__________________________________________________________________________________________________\n",
      "conv2d_172 (Conv2D)             (None, 125, 125, 32) 4640        max_pooling2d_72[0][0]           \n",
      "__________________________________________________________________________________________________\n",
      "max_pooling2d_73 (MaxPooling2D) (None, 63, 63, 32)   0           conv2d_172[0][0]                 \n",
      "__________________________________________________________________________________________________\n",
      "conv2d_173 (Conv2D)             (None, 63, 63, 64)   18496       max_pooling2d_73[0][0]           \n",
      "__________________________________________________________________________________________________\n",
      "conv2d_174 (Conv2D)             (None, 63, 63, 64)   2112        conv2d_172[0][0]                 \n",
      "__________________________________________________________________________________________________\n",
      "add_37 (Add)                    (None, 63, 63, 64)   0           conv2d_173[0][0]                 \n",
      "                                                                 conv2d_174[0][0]                 \n",
      "__________________________________________________________________________________________________\n",
      "conv2d_175 (Conv2D)             (None, 61, 61, 64)   36928       add_37[0][0]                     \n",
      "__________________________________________________________________________________________________\n",
      "max_pooling2d_74 (MaxPooling2D) (None, 30, 30, 64)   0           conv2d_175[0][0]                 \n",
      "__________________________________________________________________________________________________\n",
      "conv2d_176 (Conv2D)             (None, 28, 28, 128)  73856       max_pooling2d_74[0][0]           \n",
      "__________________________________________________________________________________________________\n",
      "conv2d_177 (Conv2D)             (None, 28, 28, 128)  147584      conv2d_176[0][0]                 \n",
      "__________________________________________________________________________________________________\n",
      "max_pooling2d_75 (MaxPooling2D) (None, 14, 14, 128)  0           conv2d_177[0][0]                 \n",
      "__________________________________________________________________________________________________\n",
      "conv2d_178 (Conv2D)             (None, 14, 14, 128)  16512       conv2d_176[0][0]                 \n",
      "__________________________________________________________________________________________________\n",
      "add_38 (Add)                    (None, 14, 14, 128)  0           max_pooling2d_75[0][0]           \n",
      "                                                                 conv2d_178[0][0]                 \n",
      "__________________________________________________________________________________________________\n",
      "conv2d_179 (Conv2D)             (None, 12, 12, 256)  295168      add_38[0][0]                     \n",
      "__________________________________________________________________________________________________\n",
      "conv2d_180 (Conv2D)             (None, 12, 12, 256)  590080      conv2d_179[0][0]                 \n",
      "__________________________________________________________________________________________________\n",
      "conv2d_181 (Conv2D)             (None, 12, 12, 256)  65792       conv2d_179[0][0]                 \n",
      "__________________________________________________________________________________________________\n",
      "add_39 (Add)                    (None, 12, 12, 256)  0           conv2d_180[0][0]                 \n",
      "                                                                 conv2d_181[0][0]                 \n",
      "__________________________________________________________________________________________________\n",
      "conv2d_182 (Conv2D)             (None, 10, 10, 256)  590080      add_39[0][0]                     \n",
      "__________________________________________________________________________________________________\n",
      "dense_55 (Dense)                (None, 10, 10, 64)   16448       conv2d_182[0][0]                 \n",
      "__________________________________________________________________________________________________\n",
      "dense_56 (Dense)                (None, 10, 10, 64)   4160        dense_55[0][0]                   \n",
      "__________________________________________________________________________________________________\n",
      "dense_57 (Dense)                (None, 10, 10, 64)   4160        dense_56[0][0]                   \n",
      "__________________________________________________________________________________________________\n",
      "flatten_16 (Flatten)            (None, 6400)         0           dense_57[0][0]                   \n",
      "__________________________________________________________________________________________________\n",
      "dropout_16 (Dropout)            (None, 6400)         0           flatten_16[0][0]                 \n",
      "__________________________________________________________________________________________________\n",
      "dense_58 (Dense)                (None, 58)           371258      dropout_16[0][0]                 \n",
      "==================================================================================================\n",
      "Total params: 2,237,722\n",
      "Trainable params: 2,237,722\n",
      "Non-trainable params: 0\n",
      "__________________________________________________________________________________________________\n"
     ]
    }
   ],
   "source": [
    "inputs = keras.Input(shape=(size_x, size_y, 3)) \n",
    "x = layers.Rescaling(1./255)(inputs) \n",
    "x = layers.Conv2D(filters=16, kernel_size=3, activation=\"relu\")(x)\n",
    "x = layers.MaxPooling2D(pool_size=2)(x)\n",
    "x = layers.Conv2D(filters=32, kernel_size=3, activation=\"relu\")(x)\n",
    "residual = x\n",
    "x = layers.MaxPooling2D(pool_size=2, padding = \"same\")(x)\n",
    "x = layers.Conv2D(filters=64, kernel_size=3, activation=\"relu\", padding = \"same\")(x)\n",
    "residual = layers.Conv2D(64, 1, strides = 2)(residual)\n",
    "x = layers.add([x, residual])\n",
    "x = layers.Conv2D(filters=64, kernel_size=3, activation=\"relu\")(x)\n",
    "x = layers.MaxPooling2D(pool_size=2)(x)\n",
    "x = layers.Conv2D(filters=128, kernel_size=3, activation=\"relu\")(x)\n",
    "residual = x\n",
    "x = layers.Conv2D(filters=128, kernel_size=3, activation=\"relu\",  padding=\"same\")(x)\n",
    "x = layers.MaxPooling2D(pool_size=2, padding=\"same\")(x)\n",
    "residual = layers.Conv2D(128, 1, strides = 2)(residual)\n",
    "x = layers.add([x, residual])\n",
    "x = layers.Conv2D(filters=256, kernel_size=3, activation=\"relu\")(x)\n",
    "residual = x \n",
    "x = layers.Conv2D(filters=256, kernel_size=3, activation=\"relu\",padding=\"same\")(x)\n",
    "residual = layers.Conv2D(256, 1)(residual)\n",
    "x = layers.add([x, residual])\n",
    "x = layers.Conv2D(filters=256, kernel_size=3, activation=\"relu\")(x)\n",
    "x = layers.Dense(64, activation = \"relu\")(x)\n",
    "x = layers.Dense(64, activation = \"relu\")(x)\n",
    "x = layers.Dense(64, activation = \"relu\")(x)\n",
    "x = layers.Flatten()(x)\n",
    "x = layers.Dropout(0.5)(x)\n",
    "outputs = layers.Dense(58, activation=\"softmax\")(x)\n",
    "model3_3 = keras.Model(inputs=inputs, outputs=outputs)\n",
    "\n",
    "model3_3.summary()"
   ]
  },
  {
   "cell_type": "code",
   "execution_count": 84,
   "metadata": {
    "pycharm": {
     "name": "#%%\n"
    },
    "scrolled": true
   },
   "outputs": [
    {
     "name": "stdout",
     "output_type": "stream",
     "text": [
      "Epoch 1/30\n",
      "145/145 [==============================] - 22s 134ms/step - loss: 4.4898 - accuracy: 0.0221 - val_loss: 4.0194 - val_accuracy: 0.0466\n",
      "INFO:tensorflow:Assets written to: model3_3\\best_version\\assets\n",
      "Epoch 2/30\n"
     ]
    },
    {
     "name": "stderr",
     "output_type": "stream",
     "text": [
      "F:\\Programas\\Anaconda\\envs\\TFGapp\\lib\\site-packages\\keras\\utils\\generic_utils.py:494: CustomMaskWarning: Custom mask layers require a config and must override get_config. When loading, the custom mask layer must be passed to the custom_objects argument.\n",
      "  warnings.warn('Custom mask layers require a config and must override '\n"
     ]
    },
    {
     "name": "stdout",
     "output_type": "stream",
     "text": [
      "145/145 [==============================] - 20s 132ms/step - loss: 3.9273 - accuracy: 0.0568 - val_loss: 3.8361 - val_accuracy: 0.0733\n",
      "INFO:tensorflow:Assets written to: model3_3\\best_version\\assets\n",
      "Epoch 3/30\n"
     ]
    },
    {
     "name": "stderr",
     "output_type": "stream",
     "text": [
      "F:\\Programas\\Anaconda\\envs\\TFGapp\\lib\\site-packages\\keras\\utils\\generic_utils.py:494: CustomMaskWarning: Custom mask layers require a config and must override get_config. When loading, the custom mask layer must be passed to the custom_objects argument.\n",
      "  warnings.warn('Custom mask layers require a config and must override '\n"
     ]
    },
    {
     "name": "stdout",
     "output_type": "stream",
     "text": [
      "145/145 [==============================] - 20s 132ms/step - loss: 3.2696 - accuracy: 0.1444 - val_loss: 2.8632 - val_accuracy: 0.2017\n",
      "INFO:tensorflow:Assets written to: model3_3\\best_version\\assets\n",
      "Epoch 4/30\n"
     ]
    },
    {
     "name": "stderr",
     "output_type": "stream",
     "text": [
      "F:\\Programas\\Anaconda\\envs\\TFGapp\\lib\\site-packages\\keras\\utils\\generic_utils.py:494: CustomMaskWarning: Custom mask layers require a config and must override get_config. When loading, the custom mask layer must be passed to the custom_objects argument.\n",
      "  warnings.warn('Custom mask layers require a config and must override '\n"
     ]
    },
    {
     "name": "stdout",
     "output_type": "stream",
     "text": [
      "145/145 [==============================] - 20s 132ms/step - loss: 2.6787 - accuracy: 0.2559 - val_loss: 2.3562 - val_accuracy: 0.3069\n",
      "INFO:tensorflow:Assets written to: model3_3\\best_version\\assets\n",
      "Epoch 5/30\n"
     ]
    },
    {
     "name": "stderr",
     "output_type": "stream",
     "text": [
      "F:\\Programas\\Anaconda\\envs\\TFGapp\\lib\\site-packages\\keras\\utils\\generic_utils.py:494: CustomMaskWarning: Custom mask layers require a config and must override get_config. When loading, the custom mask layer must be passed to the custom_objects argument.\n",
      "  warnings.warn('Custom mask layers require a config and must override '\n"
     ]
    },
    {
     "name": "stdout",
     "output_type": "stream",
     "text": [
      "145/145 [==============================] - 20s 131ms/step - loss: 2.3171 - accuracy: 0.3428 - val_loss: 2.3910 - val_accuracy: 0.3466\n",
      "Epoch 6/30\n",
      "145/145 [==============================] - 20s 131ms/step - loss: 1.9914 - accuracy: 0.4120 - val_loss: 2.5363 - val_accuracy: 0.2793\n",
      "Epoch 7/30\n",
      "145/145 [==============================] - 20s 133ms/step - loss: 1.7015 - accuracy: 0.4904 - val_loss: 1.7331 - val_accuracy: 0.4569\n",
      "INFO:tensorflow:Assets written to: model3_3\\best_version\\assets\n",
      "Epoch 8/30\n"
     ]
    },
    {
     "name": "stderr",
     "output_type": "stream",
     "text": [
      "F:\\Programas\\Anaconda\\envs\\TFGapp\\lib\\site-packages\\keras\\utils\\generic_utils.py:494: CustomMaskWarning: Custom mask layers require a config and must override get_config. When loading, the custom mask layer must be passed to the custom_objects argument.\n",
      "  warnings.warn('Custom mask layers require a config and must override '\n"
     ]
    },
    {
     "name": "stdout",
     "output_type": "stream",
     "text": [
      "145/145 [==============================] - 20s 131ms/step - loss: 1.4764 - accuracy: 0.5489 - val_loss: 1.9720 - val_accuracy: 0.4319\n",
      "Epoch 9/30\n",
      "145/145 [==============================] - 20s 131ms/step - loss: 1.2913 - accuracy: 0.6031 - val_loss: 1.8703 - val_accuracy: 0.4690\n",
      "Epoch 10/30\n",
      "145/145 [==============================] - 20s 135ms/step - loss: 1.1226 - accuracy: 0.6473 - val_loss: 1.8063 - val_accuracy: 0.4776\n",
      "Epoch 11/30\n",
      "145/145 [==============================] - 21s 137ms/step - loss: 1.0138 - accuracy: 0.6820 - val_loss: 1.4693 - val_accuracy: 0.5319\n",
      "INFO:tensorflow:Assets written to: model3_3\\best_version\\assets\n",
      "Epoch 12/30\n"
     ]
    },
    {
     "name": "stderr",
     "output_type": "stream",
     "text": [
      "F:\\Programas\\Anaconda\\envs\\TFGapp\\lib\\site-packages\\keras\\utils\\generic_utils.py:494: CustomMaskWarning: Custom mask layers require a config and must override get_config. When loading, the custom mask layer must be passed to the custom_objects argument.\n",
      "  warnings.warn('Custom mask layers require a config and must override '\n"
     ]
    },
    {
     "name": "stdout",
     "output_type": "stream",
     "text": [
      "145/145 [==============================] - 21s 137ms/step - loss: 0.8973 - accuracy: 0.7116 - val_loss: 1.7808 - val_accuracy: 0.5155\n",
      "Epoch 13/30\n",
      "145/145 [==============================] - 20s 129ms/step - loss: 0.7643 - accuracy: 0.7538 - val_loss: 1.6156 - val_accuracy: 0.5440\n",
      "Epoch 14/30\n",
      "145/145 [==============================] - 20s 129ms/step - loss: 0.7068 - accuracy: 0.7724 - val_loss: 1.5360 - val_accuracy: 0.5681\n",
      "Epoch 15/30\n",
      "145/145 [==============================] - 19s 127ms/step - loss: 0.6252 - accuracy: 0.7985 - val_loss: 1.4364 - val_accuracy: 0.5922\n",
      "INFO:tensorflow:Assets written to: model3_3\\best_version\\assets\n",
      "Epoch 16/30\n"
     ]
    },
    {
     "name": "stderr",
     "output_type": "stream",
     "text": [
      "F:\\Programas\\Anaconda\\envs\\TFGapp\\lib\\site-packages\\keras\\utils\\generic_utils.py:494: CustomMaskWarning: Custom mask layers require a config and must override get_config. When loading, the custom mask layer must be passed to the custom_objects argument.\n",
      "  warnings.warn('Custom mask layers require a config and must override '\n"
     ]
    },
    {
     "name": "stdout",
     "output_type": "stream",
     "text": [
      "145/145 [==============================] - 19s 125ms/step - loss: 0.5612 - accuracy: 0.8169 - val_loss: 1.4461 - val_accuracy: 0.6017\n",
      "Epoch 17/30\n",
      "145/145 [==============================] - 19s 125ms/step - loss: 0.5056 - accuracy: 0.8386 - val_loss: 1.5666 - val_accuracy: 0.6284\n",
      "Epoch 18/30\n",
      "145/145 [==============================] - 19s 125ms/step - loss: 0.4696 - accuracy: 0.8471 - val_loss: 1.6520 - val_accuracy: 0.5991\n",
      "Epoch 19/30\n",
      "145/145 [==============================] - 19s 124ms/step - loss: 0.4246 - accuracy: 0.8644 - val_loss: 1.9635 - val_accuracy: 0.5793\n",
      "Epoch 20/30\n",
      "145/145 [==============================] - 19s 127ms/step - loss: 0.4048 - accuracy: 0.8726 - val_loss: 1.7348 - val_accuracy: 0.6060\n",
      "Epoch 21/30\n",
      "145/145 [==============================] - 19s 125ms/step - loss: 0.3664 - accuracy: 0.8863 - val_loss: 2.3669 - val_accuracy: 0.5698\n",
      "Epoch 22/30\n",
      "145/145 [==============================] - 20s 131ms/step - loss: 0.3321 - accuracy: 0.8940 - val_loss: 1.7128 - val_accuracy: 0.6155\n",
      "Epoch 23/30\n",
      "145/145 [==============================] - 19s 126ms/step - loss: 0.3570 - accuracy: 0.8909 - val_loss: 1.6788 - val_accuracy: 0.6284\n",
      "Epoch 24/30\n",
      "145/145 [==============================] - 19s 126ms/step - loss: 0.3013 - accuracy: 0.9044 - val_loss: 1.9520 - val_accuracy: 0.6207\n",
      "Epoch 25/30\n",
      "145/145 [==============================] - 19s 126ms/step - loss: 0.3049 - accuracy: 0.9071 - val_loss: 1.6773 - val_accuracy: 0.6267\n",
      "Epoch 26/30\n",
      "145/145 [==============================] - 19s 126ms/step - loss: 0.2814 - accuracy: 0.9134 - val_loss: 1.9867 - val_accuracy: 0.6155\n",
      "Epoch 27/30\n",
      "145/145 [==============================] - 19s 127ms/step - loss: 0.2500 - accuracy: 0.9216 - val_loss: 2.3650 - val_accuracy: 0.5966\n",
      "Epoch 28/30\n",
      "145/145 [==============================] - 19s 128ms/step - loss: 0.2917 - accuracy: 0.9121 - val_loss: 2.1996 - val_accuracy: 0.5897\n",
      "Epoch 29/30\n",
      "145/145 [==============================] - 19s 127ms/step - loss: 0.2564 - accuracy: 0.9222 - val_loss: 2.2048 - val_accuracy: 0.6181\n",
      "Epoch 30/30\n",
      "145/145 [==============================] - 19s 128ms/step - loss: 0.2549 - accuracy: 0.9239 - val_loss: 1.9527 - val_accuracy: 0.6431\n"
     ]
    }
   ],
   "source": [
    "model3_3.compile(loss=\"categorical_crossentropy\",\n",
    "    optimizer=\"rmsprop\",\n",
    "    metrics=[\"accuracy\"])\n",
    "\n",
    "callbacks = [\n",
    "    keras.callbacks.ModelCheckpoint(\n",
    "    filepath=\"model3_3/best_version\",\n",
    "    save_best_only=True,\n",
    "    monitor=\"val_loss\")\n",
    "]\n",
    "\n",
    "history = model3_3.fit(\n",
    "    train_dataset,\n",
    "    epochs=30,\n",
    "    validation_data=validation_dataset,\n",
    "    callbacks=callbacks)"
   ]
  },
  {
   "cell_type": "code",
   "execution_count": 85,
   "metadata": {
    "pycharm": {
     "name": "#%%\n"
    },
    "scrolled": false
   },
   "outputs": [
    {
     "name": "stdout",
     "output_type": "stream",
     "text": [
      "INFO:tensorflow:Assets written to: model3_3/model\\assets\n"
     ]
    },
    {
     "name": "stderr",
     "output_type": "stream",
     "text": [
      "F:\\Programas\\Anaconda\\envs\\TFGapp\\lib\\site-packages\\keras\\utils\\generic_utils.py:494: CustomMaskWarning: Custom mask layers require a config and must override get_config. When loading, the custom mask layer must be passed to the custom_objects argument.\n",
      "  warnings.warn('Custom mask layers require a config and must override '\n"
     ]
    }
   ],
   "source": [
    "model3_3.save('model3_3/model')\n",
    "np.save('model3_3/history.npy',history.history)"
   ]
  },
  {
   "cell_type": "code",
   "execution_count": 86,
   "metadata": {
    "pycharm": {
     "name": "#%%\n"
    }
   },
   "outputs": [],
   "source": [
    "my_history1=np.load('model3_2/history.npy',allow_pickle='TRUE').item()\n",
    "my_history2=np.load('model3_3/history.npy',allow_pickle='TRUE').item()"
   ]
  },
  {
   "cell_type": "code",
   "execution_count": 87,
   "metadata": {
    "pycharm": {
     "name": "#%%\n"
    }
   },
   "outputs": [
    {
     "data": {
      "image/png": "[encoded data removed]",
      "text/plain": [
       "<Figure size 432x288 with 1 Axes>"
      ]
     },
     "metadata": {
      "needs_background": "light"
     },
     "output_type": "display_data"
    }
   ],
   "source": [
    "loss_1 = my_history1[\"loss\"]\n",
    "val_loss_1 = my_history1[\"val_loss\"]\n",
    "loss_2 = my_history2[\"loss\"]\n",
    "val_loss_2 = my_history2[\"val_loss\"]\n",
    "epochs = range(1, len(loss_1) + 1)\n",
    "\n",
    "plt.plot(epochs, loss_1, \"b.\", label=\"Training loss original\")\n",
    "plt.plot(epochs, loss_2, \"r.\", label=\"Training loss new\")\n",
    "plt.plot(epochs, val_loss_1, \"b\", label=\"Validation loss original\")\n",
    "plt.plot(epochs, val_loss_2, \"r\", label=\"Validation loss new\")\n",
    "plt.title(\"Training and validation loss\")\n",
    "plt.xlabel(\"Epochs\")\n",
    "plt.ylabel(\"Loss\")\n",
    "plt.legend()\n",
    "plt.show()"
   ]
  },
  {
   "cell_type": "code",
   "execution_count": 88,
   "metadata": {
    "pycharm": {
     "name": "#%%\n"
    },
    "scrolled": true
   },
   "outputs": [
    {
     "data": {
      "image/png": "[encoded data removed]",
      "text/plain": [
       "<Figure size 432x288 with 1 Axes>"
      ]
     },
     "metadata": {
      "needs_background": "light"
     },
     "output_type": "display_data"
    }
   ],
   "source": [
    "\n",
    "plt.clf()\n",
    "\n",
    "acc_1 = my_history1[\"accuracy\"]\n",
    "val_acc_1 = my_history1[\"val_accuracy\"]\n",
    "acc_2 = my_history2[\"accuracy\"]\n",
    "val_acc_2 = my_history2[\"val_accuracy\"]\n",
    "epochs = range(1, len(loss_1) + 1)\n",
    "\n",
    "plt.plot(epochs, acc_1, \"b.\", label=\"Training accuracy original\")\n",
    "plt.plot(epochs, acc_2, \"r.\", label=\"Training accuracy new\")\n",
    "plt.plot(epochs, val_acc_1, \"b\", label=\"Validation accuracy original\")\n",
    "plt.plot(epochs, val_acc_2, \"r\", label=\"Validation accuracy new\")\n",
    "plt.title(\"Training and validation accuracy\")\n",
    "plt.xlabel(\"Epochs\")\n",
    "plt.ylabel(\"Accuracy\")\n",
    "plt.legend()\n",
    "plt.show()"
   ]
  },
  {
   "cell_type": "markdown",
   "metadata": {
    "pycharm": {
     "name": "#%% md\n"
    }
   },
   "source": [
    "## Sin conexiones residuales vs 1 conexión vs 3 conexiones"
   ]
  },
  {
   "cell_type": "code",
   "execution_count": 171,
   "metadata": {
    "pycharm": {
     "name": "#%%\n"
    }
   },
   "outputs": [],
   "source": [
    "my_history1=np.load('model3_1/history.npy',allow_pickle='TRUE').item()\n",
    "my_history2=np.load('model3_2/history.npy',allow_pickle='TRUE').item()\n",
    "my_history3=np.load('model3_3/history.npy',allow_pickle='TRUE').item()"
   ]
  },
  {
   "cell_type": "code",
   "execution_count": 172,
   "metadata": {
    "pycharm": {
     "name": "#%%\n"
    }
   },
   "outputs": [
    {
     "data": {
      "image/png": "[encoded data removed]",
      "text/plain": [
       "<Figure size 432x288 with 1 Axes>"
      ]
     },
     "metadata": {
      "needs_background": "light"
     },
     "output_type": "display_data"
    }
   ],
   "source": [
    "loss_1 = my_history1[\"loss\"]\n",
    "val_loss_1 = my_history1[\"val_loss\"]\n",
    "\n",
    "loss_2 = my_history2[\"loss\"]\n",
    "val_loss_2 = my_history2[\"val_loss\"]\n",
    "\n",
    "loss_3 = my_history3[\"loss\"]\n",
    "val_loss_3 = my_history3[\"val_loss\"]\n",
    "\n",
    "epochs = range(1, len(loss_1) + 1)\n",
    "\n",
    "plt.plot(epochs, loss_1, \"b.\", label=\"Training loss original\")\n",
    "plt.plot(epochs, loss_2, \"r.\", label=\"Training loss 1 residual connection\")\n",
    "plt.plot(epochs, loss_3, \"g.\", label=\"Training loss 3 residual connection\")\n",
    "\n",
    "\n",
    "plt.plot(epochs, val_loss_1, \"b\", label=\"Validation loss original\")\n",
    "plt.plot(epochs, val_loss_2, \"r\", label=\"Validation loss 1 residual connection\")\n",
    "plt.plot(epochs, val_loss_3, \"g\", label=\"Validation loss 3 residual connection\")\n",
    "\n",
    "plt.title(\"Training and validation loss\")\n",
    "plt.xlabel(\"Epochs\")\n",
    "plt.ylabel(\"Loss\")\n",
    "plt.legend()\n",
    "plt.show()"
   ]
  },
  {
   "cell_type": "code",
   "execution_count": 174,
   "metadata": {
    "pycharm": {
     "name": "#%%\n"
    },
    "scrolled": true
   },
   "outputs": [
    {
     "data": {
      "image/png": "[encoded data removed]",
      "text/plain": [
       "<Figure size 432x288 with 1 Axes>"
      ]
     },
     "metadata": {
      "needs_background": "light"
     },
     "output_type": "display_data"
    }
   ],
   "source": [
    "\n",
    "plt.clf()\n",
    "\n",
    "acc_1 = my_history1[\"accuracy\"]\n",
    "val_acc_1 = my_history1[\"val_accuracy\"]\n",
    "\n",
    "acc_2 = my_history2[\"accuracy\"]\n",
    "val_acc_2 = my_history2[\"val_accuracy\"]\n",
    "\n",
    "acc_3 = my_history3[\"accuracy\"]\n",
    "val_acc_3 = my_history3[\"val_accuracy\"]\n",
    "\n",
    "epochs = range(1, len(loss_1) + 1)\n",
    "\n",
    "plt.plot(epochs, acc_1, \"b.\", label=\"Training accuracy original\")\n",
    "plt.plot(epochs, acc_2, \"r.\", label=\"Training accuracy 1 residual connection\")\n",
    "plt.plot(epochs, acc_3, \"g.\", label=\"Training accuracy 3 residual connection\")\n",
    "\n",
    "plt.plot(epochs, val_acc_1, \"b\", label=\"Validation accuracy original\")\n",
    "plt.plot(epochs, val_acc_2, \"r\", label=\"Validation accuracy 1 residual connection\")\n",
    "plt.plot(epochs, val_acc_3, \"g\", label=\"Validation accuracy 3 residual connection\")\n",
    "\n",
    "\n",
    "plt.title(\"Training and validation accuracy\")\n",
    "plt.xlabel(\"Epochs\")\n",
    "plt.ylabel(\"Accuracy\")\n",
    "plt.legend()\n",
    "plt.show()"
   ]
  },
  {
   "cell_type": "code",
   "execution_count": 89,
   "metadata": {
    "pycharm": {
     "name": "#%%\n"
    }
   },
   "outputs": [
    {
     "name": "stdout",
     "output_type": "stream",
     "text": [
      "19/19 [==============================] - 3s 76ms/step - loss: 1.9691 - accuracy: 0.6457\n"
     ]
    },
    {
     "data": {
      "text/plain": [
       "[1.9690978527069092, 0.6456896662712097]"
      ]
     },
     "execution_count": 89,
     "metadata": {},
     "output_type": "execute_result"
    }
   ],
   "source": [
    "model = keras.models.load_model('model3_3/model')\n",
    "results= model.evaluate(test_dataset)\n",
    "results"
   ]
  },
  {
   "cell_type": "code",
   "execution_count": 90,
   "metadata": {
    "pycharm": {
     "name": "#%%\n"
    }
   },
   "outputs": [
    {
     "name": "stdout",
     "output_type": "stream",
     "text": [
      "19/19 [==============================] - 3s 87ms/step - loss: 1.5237 - accuracy: 0.5836\n"
     ]
    },
    {
     "data": {
      "text/plain": [
       "[1.5237282514572144, 0.5836206674575806]"
      ]
     },
     "execution_count": 90,
     "metadata": {},
     "output_type": "execute_result"
    }
   ],
   "source": [
    "model = keras.models.load_model('model3_3/best_version')\n",
    "results= model.evaluate(test_dataset)\n",
    "results"
   ]
  },
  {
   "cell_type": "markdown",
   "metadata": {
    "pycharm": {
     "name": "#%% md\n"
    }
   },
   "source": [
    "## Modelo 3.4: una capa convolucional menos"
   ]
  },
  {
   "cell_type": "code",
   "execution_count": 93,
   "metadata": {
    "pycharm": {
     "name": "#%%\n"
    }
   },
   "outputs": [
    {
     "name": "stdout",
     "output_type": "stream",
     "text": [
      "Model: \"model_18\"\n",
      "__________________________________________________________________________________________________\n",
      "Layer (type)                    Output Shape         Param #     Connected to                     \n",
      "==================================================================================================\n",
      "input_19 (InputLayer)           [(None, 256, 256, 3) 0                                            \n",
      "__________________________________________________________________________________________________\n",
      "rescaling_18 (Rescaling)        (None, 256, 256, 3)  0           input_19[0][0]                   \n",
      "__________________________________________________________________________________________________\n",
      "conv2d_194 (Conv2D)             (None, 254, 254, 16) 448         rescaling_18[0][0]               \n",
      "__________________________________________________________________________________________________\n",
      "max_pooling2d_80 (MaxPooling2D) (None, 127, 127, 16) 0           conv2d_194[0][0]                 \n",
      "__________________________________________________________________________________________________\n",
      "conv2d_195 (Conv2D)             (None, 125, 125, 32) 4640        max_pooling2d_80[0][0]           \n",
      "__________________________________________________________________________________________________\n",
      "max_pooling2d_81 (MaxPooling2D) (None, 63, 63, 32)   0           conv2d_195[0][0]                 \n",
      "__________________________________________________________________________________________________\n",
      "conv2d_196 (Conv2D)             (None, 63, 63, 64)   18496       max_pooling2d_81[0][0]           \n",
      "__________________________________________________________________________________________________\n",
      "conv2d_197 (Conv2D)             (None, 63, 63, 64)   2112        conv2d_195[0][0]                 \n",
      "__________________________________________________________________________________________________\n",
      "add_43 (Add)                    (None, 63, 63, 64)   0           conv2d_196[0][0]                 \n",
      "                                                                 conv2d_197[0][0]                 \n",
      "__________________________________________________________________________________________________\n",
      "conv2d_198 (Conv2D)             (None, 61, 61, 64)   36928       add_43[0][0]                     \n",
      "__________________________________________________________________________________________________\n",
      "max_pooling2d_82 (MaxPooling2D) (None, 30, 30, 64)   0           conv2d_198[0][0]                 \n",
      "__________________________________________________________________________________________________\n",
      "conv2d_199 (Conv2D)             (None, 28, 28, 128)  73856       max_pooling2d_82[0][0]           \n",
      "__________________________________________________________________________________________________\n",
      "conv2d_200 (Conv2D)             (None, 28, 28, 128)  147584      conv2d_199[0][0]                 \n",
      "__________________________________________________________________________________________________\n",
      "max_pooling2d_83 (MaxPooling2D) (None, 14, 14, 128)  0           conv2d_200[0][0]                 \n",
      "__________________________________________________________________________________________________\n",
      "conv2d_201 (Conv2D)             (None, 14, 14, 128)  16512       conv2d_199[0][0]                 \n",
      "__________________________________________________________________________________________________\n",
      "add_44 (Add)                    (None, 14, 14, 128)  0           max_pooling2d_83[0][0]           \n",
      "                                                                 conv2d_201[0][0]                 \n",
      "__________________________________________________________________________________________________\n",
      "conv2d_202 (Conv2D)             (None, 12, 12, 256)  295168      add_44[0][0]                     \n",
      "__________________________________________________________________________________________________\n",
      "conv2d_203 (Conv2D)             (None, 12, 12, 256)  590080      conv2d_202[0][0]                 \n",
      "__________________________________________________________________________________________________\n",
      "conv2d_204 (Conv2D)             (None, 12, 12, 256)  65792       conv2d_202[0][0]                 \n",
      "__________________________________________________________________________________________________\n",
      "add_45 (Add)                    (None, 12, 12, 256)  0           conv2d_203[0][0]                 \n",
      "                                                                 conv2d_204[0][0]                 \n",
      "__________________________________________________________________________________________________\n",
      "dense_63 (Dense)                (None, 12, 12, 64)   16448       add_45[0][0]                     \n",
      "__________________________________________________________________________________________________\n",
      "dense_64 (Dense)                (None, 12, 12, 64)   4160        dense_63[0][0]                   \n",
      "__________________________________________________________________________________________________\n",
      "dense_65 (Dense)                (None, 12, 12, 64)   4160        dense_64[0][0]                   \n",
      "__________________________________________________________________________________________________\n",
      "flatten_18 (Flatten)            (None, 9216)         0           dense_65[0][0]                   \n",
      "__________________________________________________________________________________________________\n",
      "dropout_18 (Dropout)            (None, 9216)         0           flatten_18[0][0]                 \n",
      "__________________________________________________________________________________________________\n",
      "dense_66 (Dense)                (None, 58)           534586      dropout_18[0][0]                 \n",
      "==================================================================================================\n",
      "Total params: 1,810,970\n",
      "Trainable params: 1,810,970\n",
      "Non-trainable params: 0\n",
      "__________________________________________________________________________________________________\n"
     ]
    }
   ],
   "source": [
    "inputs = keras.Input(shape=(size_x, size_y, 3)) \n",
    "x = layers.Rescaling(1./255)(inputs) \n",
    "x = layers.Conv2D(filters=16, kernel_size=3, activation=\"relu\")(x)\n",
    "x = layers.MaxPooling2D(pool_size=2)(x)\n",
    "x = layers.Conv2D(filters=32, kernel_size=3, activation=\"relu\")(x)\n",
    "residual = x\n",
    "x = layers.MaxPooling2D(pool_size=2, padding = \"same\")(x)\n",
    "x = layers.Conv2D(filters=64, kernel_size=3, activation=\"relu\", padding = \"same\")(x)\n",
    "residual = layers.Conv2D(64, 1, strides = 2)(residual)\n",
    "x = layers.add([x, residual])\n",
    "x = layers.Conv2D(filters=64, kernel_size=3, activation=\"relu\")(x)\n",
    "x = layers.MaxPooling2D(pool_size=2)(x)\n",
    "x = layers.Conv2D(filters=128, kernel_size=3, activation=\"relu\")(x)\n",
    "residual = x\n",
    "x = layers.Conv2D(filters=128, kernel_size=3, activation=\"relu\",  padding=\"same\")(x)\n",
    "x = layers.MaxPooling2D(pool_size=2, padding=\"same\")(x)\n",
    "residual = layers.Conv2D(128, 1, strides = 2)(residual)\n",
    "x = layers.add([x, residual])\n",
    "x = layers.Conv2D(filters=256, kernel_size=3, activation=\"relu\")(x)\n",
    "residual = x \n",
    "x = layers.Conv2D(filters=256, kernel_size=3, activation=\"relu\",padding=\"same\")(x)\n",
    "residual = layers.Conv2D(256, 1)(residual)\n",
    "x = layers.add([x, residual])\n",
    "x = layers.Dense(64, activation = \"relu\")(x)\n",
    "x = layers.Dense(64, activation = \"relu\")(x)\n",
    "x = layers.Dense(64, activation = \"relu\")(x)\n",
    "x = layers.Flatten()(x)\n",
    "x = layers.Dropout(0.5)(x)\n",
    "outputs = layers.Dense(58, activation=\"softmax\")(x)\n",
    "model3_4 = keras.Model(inputs=inputs, outputs=outputs)\n",
    "\n",
    "model3_4.summary()\n",
    "\n"
   ]
  },
  {
   "cell_type": "code",
   "execution_count": 94,
   "metadata": {
    "pycharm": {
     "name": "#%%\n"
    }
   },
   "outputs": [
    {
     "name": "stdout",
     "output_type": "stream",
     "text": [
      "Epoch 1/30\n",
      "145/145 [==============================] - 22s 135ms/step - loss: 4.1097 - accuracy: 0.0167 - val_loss: 4.0596 - val_accuracy: 0.0138\n",
      "INFO:tensorflow:Assets written to: model3_4\\best_version\\assets\n",
      "Epoch 2/30\n"
     ]
    },
    {
     "name": "stderr",
     "output_type": "stream",
     "text": [
      "F:\\Programas\\Anaconda\\envs\\TFGapp\\lib\\site-packages\\keras\\utils\\generic_utils.py:494: CustomMaskWarning: Custom mask layers require a config and must override get_config. When loading, the custom mask layer must be passed to the custom_objects argument.\n",
      "  warnings.warn('Custom mask layers require a config and must override '\n"
     ]
    },
    {
     "name": "stdout",
     "output_type": "stream",
     "text": [
      "145/145 [==============================] - 20s 132ms/step - loss: 4.1166 - accuracy: 0.0233 - val_loss: 4.6678 - val_accuracy: 0.0172\n",
      "Epoch 3/30\n",
      "145/145 [==============================] - 20s 132ms/step - loss: 3.5224 - accuracy: 0.1022 - val_loss: 3.3813 - val_accuracy: 0.1284\n",
      "INFO:tensorflow:Assets written to: model3_4\\best_version\\assets\n",
      "Epoch 4/30\n"
     ]
    },
    {
     "name": "stderr",
     "output_type": "stream",
     "text": [
      "F:\\Programas\\Anaconda\\envs\\TFGapp\\lib\\site-packages\\keras\\utils\\generic_utils.py:494: CustomMaskWarning: Custom mask layers require a config and must override get_config. When loading, the custom mask layer must be passed to the custom_objects argument.\n",
      "  warnings.warn('Custom mask layers require a config and must override '\n"
     ]
    },
    {
     "name": "stdout",
     "output_type": "stream",
     "text": [
      "145/145 [==============================] - 20s 134ms/step - loss: 2.8983 - accuracy: 0.2216 - val_loss: 2.8719 - val_accuracy: 0.1914\n",
      "INFO:tensorflow:Assets written to: model3_4\\best_version\\assets\n",
      "Epoch 5/30\n"
     ]
    },
    {
     "name": "stderr",
     "output_type": "stream",
     "text": [
      "F:\\Programas\\Anaconda\\envs\\TFGapp\\lib\\site-packages\\keras\\utils\\generic_utils.py:494: CustomMaskWarning: Custom mask layers require a config and must override get_config. When loading, the custom mask layer must be passed to the custom_objects argument.\n",
      "  warnings.warn('Custom mask layers require a config and must override '\n"
     ]
    },
    {
     "name": "stdout",
     "output_type": "stream",
     "text": [
      "145/145 [==============================] - 20s 134ms/step - loss: 2.3364 - accuracy: 0.3337 - val_loss: 2.6444 - val_accuracy: 0.2483\n",
      "INFO:tensorflow:Assets written to: model3_4\\best_version\\assets\n",
      "Epoch 6/30\n"
     ]
    },
    {
     "name": "stderr",
     "output_type": "stream",
     "text": [
      "F:\\Programas\\Anaconda\\envs\\TFGapp\\lib\\site-packages\\keras\\utils\\generic_utils.py:494: CustomMaskWarning: Custom mask layers require a config and must override get_config. When loading, the custom mask layer must be passed to the custom_objects argument.\n",
      "  warnings.warn('Custom mask layers require a config and must override '\n"
     ]
    },
    {
     "name": "stdout",
     "output_type": "stream",
     "text": [
      "145/145 [==============================] - 21s 136ms/step - loss: 1.9470 - accuracy: 0.4370 - val_loss: 1.9102 - val_accuracy: 0.4302\n",
      "INFO:tensorflow:Assets written to: model3_4\\best_version\\assets\n",
      "Epoch 7/30\n"
     ]
    },
    {
     "name": "stderr",
     "output_type": "stream",
     "text": [
      "F:\\Programas\\Anaconda\\envs\\TFGapp\\lib\\site-packages\\keras\\utils\\generic_utils.py:494: CustomMaskWarning: Custom mask layers require a config and must override get_config. When loading, the custom mask layer must be passed to the custom_objects argument.\n",
      "  warnings.warn('Custom mask layers require a config and must override '\n"
     ]
    },
    {
     "name": "stdout",
     "output_type": "stream",
     "text": [
      "145/145 [==============================] - 20s 132ms/step - loss: 1.6166 - accuracy: 0.5213 - val_loss: 1.6791 - val_accuracy: 0.4836\n",
      "INFO:tensorflow:Assets written to: model3_4\\best_version\\assets\n",
      "Epoch 8/30\n"
     ]
    },
    {
     "name": "stderr",
     "output_type": "stream",
     "text": [
      "F:\\Programas\\Anaconda\\envs\\TFGapp\\lib\\site-packages\\keras\\utils\\generic_utils.py:494: CustomMaskWarning: Custom mask layers require a config and must override get_config. When loading, the custom mask layer must be passed to the custom_objects argument.\n",
      "  warnings.warn('Custom mask layers require a config and must override '\n"
     ]
    },
    {
     "name": "stdout",
     "output_type": "stream",
     "text": [
      "145/145 [==============================] - 20s 132ms/step - loss: 1.3680 - accuracy: 0.5739 - val_loss: 1.4094 - val_accuracy: 0.5647\n",
      "INFO:tensorflow:Assets written to: model3_4\\best_version\\assets\n",
      "Epoch 9/30\n"
     ]
    },
    {
     "name": "stderr",
     "output_type": "stream",
     "text": [
      "F:\\Programas\\Anaconda\\envs\\TFGapp\\lib\\site-packages\\keras\\utils\\generic_utils.py:494: CustomMaskWarning: Custom mask layers require a config and must override get_config. When loading, the custom mask layer must be passed to the custom_objects argument.\n",
      "  warnings.warn('Custom mask layers require a config and must override '\n"
     ]
    },
    {
     "name": "stdout",
     "output_type": "stream",
     "text": [
      "145/145 [==============================] - 20s 132ms/step - loss: 1.1753 - accuracy: 0.6337 - val_loss: 1.4293 - val_accuracy: 0.5509\n",
      "Epoch 10/30\n",
      "145/145 [==============================] - 20s 132ms/step - loss: 0.9812 - accuracy: 0.6970 - val_loss: 1.4308 - val_accuracy: 0.5741\n",
      "Epoch 11/30\n",
      "145/145 [==============================] - 20s 132ms/step - loss: 0.8658 - accuracy: 0.7287 - val_loss: 1.3224 - val_accuracy: 0.5983\n",
      "INFO:tensorflow:Assets written to: model3_4\\best_version\\assets\n",
      "Epoch 12/30\n"
     ]
    },
    {
     "name": "stderr",
     "output_type": "stream",
     "text": [
      "F:\\Programas\\Anaconda\\envs\\TFGapp\\lib\\site-packages\\keras\\utils\\generic_utils.py:494: CustomMaskWarning: Custom mask layers require a config and must override get_config. When loading, the custom mask layer must be passed to the custom_objects argument.\n",
      "  warnings.warn('Custom mask layers require a config and must override '\n"
     ]
    },
    {
     "name": "stdout",
     "output_type": "stream",
     "text": [
      "145/145 [==============================] - 20s 132ms/step - loss: 0.7655 - accuracy: 0.7580 - val_loss: 1.1973 - val_accuracy: 0.6397\n",
      "INFO:tensorflow:Assets written to: model3_4\\best_version\\assets\n",
      "Epoch 13/30\n"
     ]
    },
    {
     "name": "stderr",
     "output_type": "stream",
     "text": [
      "F:\\Programas\\Anaconda\\envs\\TFGapp\\lib\\site-packages\\keras\\utils\\generic_utils.py:494: CustomMaskWarning: Custom mask layers require a config and must override get_config. When loading, the custom mask layer must be passed to the custom_objects argument.\n",
      "  warnings.warn('Custom mask layers require a config and must override '\n"
     ]
    },
    {
     "name": "stdout",
     "output_type": "stream",
     "text": [
      "145/145 [==============================] - 20s 132ms/step - loss: 0.6660 - accuracy: 0.7906 - val_loss: 1.6751 - val_accuracy: 0.5724\n",
      "Epoch 14/30\n",
      "145/145 [==============================] - 20s 132ms/step - loss: 0.5468 - accuracy: 0.8284 - val_loss: 1.3119 - val_accuracy: 0.6397\n",
      "Epoch 15/30\n",
      "145/145 [==============================] - 20s 132ms/step - loss: 0.5353 - accuracy: 0.8360 - val_loss: 1.2684 - val_accuracy: 0.6784\n",
      "Epoch 16/30\n",
      "145/145 [==============================] - 20s 132ms/step - loss: 0.4534 - accuracy: 0.8606 - val_loss: 1.1965 - val_accuracy: 0.6500\n",
      "INFO:tensorflow:Assets written to: model3_4\\best_version\\assets\n",
      "Epoch 17/30\n"
     ]
    },
    {
     "name": "stderr",
     "output_type": "stream",
     "text": [
      "F:\\Programas\\Anaconda\\envs\\TFGapp\\lib\\site-packages\\keras\\utils\\generic_utils.py:494: CustomMaskWarning: Custom mask layers require a config and must override get_config. When loading, the custom mask layer must be passed to the custom_objects argument.\n",
      "  warnings.warn('Custom mask layers require a config and must override '\n"
     ]
    },
    {
     "name": "stdout",
     "output_type": "stream",
     "text": [
      "145/145 [==============================] - 20s 132ms/step - loss: 0.4214 - accuracy: 0.8725 - val_loss: 1.3287 - val_accuracy: 0.6569\n",
      "Epoch 18/30\n",
      "145/145 [==============================] - 20s 131ms/step - loss: 0.3573 - accuracy: 0.8864 - val_loss: 1.5913 - val_accuracy: 0.6397\n",
      "Epoch 19/30\n",
      "145/145 [==============================] - 21s 136ms/step - loss: 0.3485 - accuracy: 0.8982 - val_loss: 1.8132 - val_accuracy: 0.5991\n",
      "Epoch 20/30\n",
      "145/145 [==============================] - 20s 132ms/step - loss: 0.3183 - accuracy: 0.9016 - val_loss: 1.8116 - val_accuracy: 0.6164\n",
      "Epoch 21/30\n",
      "145/145 [==============================] - 20s 132ms/step - loss: 0.2941 - accuracy: 0.9099 - val_loss: 1.8553 - val_accuracy: 0.6129\n",
      "Epoch 22/30\n",
      "145/145 [==============================] - 20s 132ms/step - loss: 0.3120 - accuracy: 0.9081 - val_loss: 1.4520 - val_accuracy: 0.6733\n",
      "Epoch 23/30\n",
      "145/145 [==============================] - 20s 133ms/step - loss: 0.2550 - accuracy: 0.9206 - val_loss: 1.4887 - val_accuracy: 0.6948\n",
      "Epoch 24/30\n",
      "145/145 [==============================] - 21s 135ms/step - loss: 0.2943 - accuracy: 0.9164 - val_loss: 1.4711 - val_accuracy: 0.6595\n",
      "Epoch 25/30\n",
      "145/145 [==============================] - 20s 134ms/step - loss: 0.2395 - accuracy: 0.9296 - val_loss: 1.6118 - val_accuracy: 0.6707\n",
      "Epoch 26/30\n",
      "145/145 [==============================] - 20s 133ms/step - loss: 0.2516 - accuracy: 0.9312 - val_loss: 1.5478 - val_accuracy: 0.6871\n",
      "Epoch 27/30\n",
      "145/145 [==============================] - 20s 133ms/step - loss: 0.2315 - accuracy: 0.9321 - val_loss: 1.8542 - val_accuracy: 0.6612\n",
      "Epoch 28/30\n",
      "145/145 [==============================] - 21s 137ms/step - loss: 0.2266 - accuracy: 0.9383 - val_loss: 1.4999 - val_accuracy: 0.6914\n",
      "Epoch 29/30\n",
      "145/145 [==============================] - 21s 137ms/step - loss: 0.2314 - accuracy: 0.9394 - val_loss: 2.1925 - val_accuracy: 0.6440\n",
      "Epoch 30/30\n",
      "145/145 [==============================] - 20s 133ms/step - loss: 0.1993 - accuracy: 0.9426 - val_loss: 1.9298 - val_accuracy: 0.6716\n"
     ]
    }
   ],
   "source": [
    "model3_4.compile(loss=\"categorical_crossentropy\",\n",
    "    optimizer=\"rmsprop\",\n",
    "    metrics=[\"accuracy\"])\n",
    "\n",
    "callbacks = [\n",
    "    keras.callbacks.ModelCheckpoint(\n",
    "    filepath=\"model3_4/best_version\",\n",
    "    save_best_only=True,\n",
    "    monitor=\"val_loss\")\n",
    "]\n",
    "\n",
    "history = model3_4.fit(\n",
    "    train_dataset,\n",
    "    epochs=30,\n",
    "    validation_data=validation_dataset,\n",
    "    callbacks=callbacks)"
   ]
  },
  {
   "cell_type": "code",
   "execution_count": 95,
   "metadata": {
    "pycharm": {
     "name": "#%%\n"
    }
   },
   "outputs": [
    {
     "name": "stdout",
     "output_type": "stream",
     "text": [
      "INFO:tensorflow:Assets written to: model3_4/model\\assets\n"
     ]
    },
    {
     "name": "stderr",
     "output_type": "stream",
     "text": [
      "F:\\Programas\\Anaconda\\envs\\TFGapp\\lib\\site-packages\\keras\\utils\\generic_utils.py:494: CustomMaskWarning: Custom mask layers require a config and must override get_config. When loading, the custom mask layer must be passed to the custom_objects argument.\n",
      "  warnings.warn('Custom mask layers require a config and must override '\n"
     ]
    }
   ],
   "source": [
    "model3_4.save('model3_4/model')\n",
    "np.save('model3_4/history.npy',history.history)"
   ]
  },
  {
   "cell_type": "code",
   "execution_count": 96,
   "metadata": {
    "pycharm": {
     "name": "#%%\n"
    }
   },
   "outputs": [],
   "source": [
    "my_history1=np.load('model3_3/history.npy',allow_pickle='TRUE').item()\n",
    "my_history2=np.load('model3_4/history.npy',allow_pickle='TRUE').item()"
   ]
  },
  {
   "cell_type": "code",
   "execution_count": 97,
   "metadata": {
    "pycharm": {
     "name": "#%%\n"
    }
   },
   "outputs": [
    {
     "data": {
      "image/png": "[encoded data removed]",
      "text/plain": [
       "<Figure size 432x288 with 1 Axes>"
      ]
     },
     "metadata": {
      "needs_background": "light"
     },
     "output_type": "display_data"
    }
   ],
   "source": [
    "loss_1 = my_history1[\"loss\"]\n",
    "val_loss_1 = my_history1[\"val_loss\"]\n",
    "loss_2 = my_history2[\"loss\"]\n",
    "val_loss_2 = my_history2[\"val_loss\"]\n",
    "epochs = range(1, len(loss_1) + 1)\n",
    "\n",
    "plt.plot(epochs, loss_1, \"b.\", label=\"Training loss original\")\n",
    "plt.plot(epochs, loss_2, \"r.\", label=\"Training loss new\")\n",
    "plt.plot(epochs, val_loss_1, \"b\", label=\"Validation loss original\")\n",
    "plt.plot(epochs, val_loss_2, \"r\", label=\"Validation loss new\")\n",
    "plt.title(\"Training and validation loss\")\n",
    "plt.xlabel(\"Epochs\")\n",
    "plt.ylabel(\"Loss\")\n",
    "plt.legend()\n",
    "plt.show()"
   ]
  },
  {
   "cell_type": "code",
   "execution_count": 98,
   "metadata": {
    "pycharm": {
     "name": "#%%\n"
    }
   },
   "outputs": [
    {
     "data": {
      "image/png": "[encoded data removed]",
      "text/plain": [
       "<Figure size 432x288 with 1 Axes>"
      ]
     },
     "metadata": {
      "needs_background": "light"
     },
     "output_type": "display_data"
    }
   ],
   "source": [
    "\n",
    "plt.clf()\n",
    "\n",
    "acc_1 = my_history1[\"accuracy\"]\n",
    "val_acc_1 = my_history1[\"val_accuracy\"]\n",
    "acc_2 = my_history2[\"accuracy\"]\n",
    "val_acc_2 = my_history2[\"val_accuracy\"]\n",
    "epochs = range(1, len(loss_1) + 1)\n",
    "\n",
    "plt.plot(epochs, acc_1, \"b.\", label=\"Training accuracy original\")\n",
    "plt.plot(epochs, acc_2, \"r.\", label=\"Training accuracy new\")\n",
    "plt.plot(epochs, val_acc_1, \"b\", label=\"Validation accuracy original\")\n",
    "plt.plot(epochs, val_acc_2, \"r\", label=\"Validation accuracy new\")\n",
    "plt.title(\"Training and validation accuracy\")\n",
    "plt.xlabel(\"Epochs\")\n",
    "plt.ylabel(\"Accuracy\")\n",
    "plt.legend()\n",
    "plt.show()"
   ]
  },
  {
   "cell_type": "code",
   "execution_count": 99,
   "metadata": {
    "pycharm": {
     "name": "#%%\n"
    }
   },
   "outputs": [
    {
     "name": "stdout",
     "output_type": "stream",
     "text": [
      "19/19 [==============================] - 3s 79ms/step - loss: 1.9347 - accuracy: 0.6595\n"
     ]
    },
    {
     "data": {
      "text/plain": [
       "[1.934747338294983, 0.6594827771186829]"
      ]
     },
     "execution_count": 99,
     "metadata": {},
     "output_type": "execute_result"
    }
   ],
   "source": [
    "model = keras.models.load_model('model3_4/model')\n",
    "results= model.evaluate(test_dataset)\n",
    "results"
   ]
  },
  {
   "cell_type": "code",
   "execution_count": 100,
   "metadata": {
    "pycharm": {
     "name": "#%%\n"
    }
   },
   "outputs": [
    {
     "name": "stdout",
     "output_type": "stream",
     "text": [
      "19/19 [==============================] - 3s 81ms/step - loss: 1.2573 - accuracy: 0.6552\n"
     ]
    },
    {
     "data": {
      "text/plain": [
       "[1.2573282718658447, 0.6551724076271057]"
      ]
     },
     "execution_count": 100,
     "metadata": {},
     "output_type": "execute_result"
    }
   ],
   "source": [
    "model = keras.models.load_model('model3_4/best_version')\n",
    "results= model.evaluate(test_dataset)\n",
    "results"
   ]
  },
  {
   "cell_type": "markdown",
   "metadata": {
    "pycharm": {
     "name": "#%% md\n"
    }
   },
   "source": [
    "## Modelo 3.5: capa maxpooling antes de las capas densas"
   ]
  },
  {
   "cell_type": "code",
   "execution_count": 101,
   "metadata": {
    "pycharm": {
     "name": "#%%\n"
    }
   },
   "outputs": [
    {
     "name": "stdout",
     "output_type": "stream",
     "text": [
      "Model: \"model_19\"\n",
      "__________________________________________________________________________________________________\n",
      "Layer (type)                    Output Shape         Param #     Connected to                     \n",
      "==================================================================================================\n",
      "input_20 (InputLayer)           [(None, 256, 256, 3) 0                                            \n",
      "__________________________________________________________________________________________________\n",
      "rescaling_19 (Rescaling)        (None, 256, 256, 3)  0           input_20[0][0]                   \n",
      "__________________________________________________________________________________________________\n",
      "conv2d_205 (Conv2D)             (None, 254, 254, 16) 448         rescaling_19[0][0]               \n",
      "__________________________________________________________________________________________________\n",
      "max_pooling2d_84 (MaxPooling2D) (None, 127, 127, 16) 0           conv2d_205[0][0]                 \n",
      "__________________________________________________________________________________________________\n",
      "conv2d_206 (Conv2D)             (None, 125, 125, 32) 4640        max_pooling2d_84[0][0]           \n",
      "__________________________________________________________________________________________________\n",
      "max_pooling2d_85 (MaxPooling2D) (None, 63, 63, 32)   0           conv2d_206[0][0]                 \n",
      "__________________________________________________________________________________________________\n",
      "conv2d_207 (Conv2D)             (None, 63, 63, 64)   18496       max_pooling2d_85[0][0]           \n",
      "__________________________________________________________________________________________________\n",
      "conv2d_208 (Conv2D)             (None, 63, 63, 64)   2112        conv2d_206[0][0]                 \n",
      "__________________________________________________________________________________________________\n",
      "add_46 (Add)                    (None, 63, 63, 64)   0           conv2d_207[0][0]                 \n",
      "                                                                 conv2d_208[0][0]                 \n",
      "__________________________________________________________________________________________________\n",
      "conv2d_209 (Conv2D)             (None, 61, 61, 64)   36928       add_46[0][0]                     \n",
      "__________________________________________________________________________________________________\n",
      "max_pooling2d_86 (MaxPooling2D) (None, 30, 30, 64)   0           conv2d_209[0][0]                 \n",
      "__________________________________________________________________________________________________\n",
      "conv2d_210 (Conv2D)             (None, 28, 28, 128)  73856       max_pooling2d_86[0][0]           \n",
      "__________________________________________________________________________________________________\n",
      "conv2d_211 (Conv2D)             (None, 28, 28, 128)  147584      conv2d_210[0][0]                 \n",
      "__________________________________________________________________________________________________\n",
      "max_pooling2d_87 (MaxPooling2D) (None, 14, 14, 128)  0           conv2d_211[0][0]                 \n",
      "__________________________________________________________________________________________________\n",
      "conv2d_212 (Conv2D)             (None, 14, 14, 128)  16512       conv2d_210[0][0]                 \n",
      "__________________________________________________________________________________________________\n",
      "add_47 (Add)                    (None, 14, 14, 128)  0           max_pooling2d_87[0][0]           \n",
      "                                                                 conv2d_212[0][0]                 \n",
      "__________________________________________________________________________________________________\n",
      "conv2d_213 (Conv2D)             (None, 12, 12, 256)  295168      add_47[0][0]                     \n",
      "__________________________________________________________________________________________________\n",
      "conv2d_214 (Conv2D)             (None, 12, 12, 256)  590080      conv2d_213[0][0]                 \n",
      "__________________________________________________________________________________________________\n",
      "conv2d_215 (Conv2D)             (None, 12, 12, 256)  65792       conv2d_213[0][0]                 \n",
      "__________________________________________________________________________________________________\n",
      "add_48 (Add)                    (None, 12, 12, 256)  0           conv2d_214[0][0]                 \n",
      "                                                                 conv2d_215[0][0]                 \n",
      "__________________________________________________________________________________________________\n",
      "max_pooling2d_88 (MaxPooling2D) (None, 6, 6, 256)    0           add_48[0][0]                     \n",
      "__________________________________________________________________________________________________\n",
      "dense_67 (Dense)                (None, 6, 6, 64)     16448       max_pooling2d_88[0][0]           \n",
      "__________________________________________________________________________________________________\n",
      "dense_68 (Dense)                (None, 6, 6, 64)     4160        dense_67[0][0]                   \n",
      "__________________________________________________________________________________________________\n",
      "dense_69 (Dense)                (None, 6, 6, 64)     4160        dense_68[0][0]                   \n",
      "__________________________________________________________________________________________________\n",
      "flatten_19 (Flatten)            (None, 2304)         0           dense_69[0][0]                   \n",
      "__________________________________________________________________________________________________\n",
      "dropout_19 (Dropout)            (None, 2304)         0           flatten_19[0][0]                 \n",
      "__________________________________________________________________________________________________\n",
      "dense_70 (Dense)                (None, 58)           133690      dropout_19[0][0]                 \n",
      "==================================================================================================\n",
      "Total params: 1,410,074\n",
      "Trainable params: 1,410,074\n",
      "Non-trainable params: 0\n",
      "__________________________________________________________________________________________________\n"
     ]
    }
   ],
   "source": [
    "inputs = keras.Input(shape=(size_x, size_y, 3)) \n",
    "x = layers.Rescaling(1./255)(inputs) \n",
    "x = layers.Conv2D(filters=16, kernel_size=3, activation=\"relu\")(x)\n",
    "x = layers.MaxPooling2D(pool_size=2)(x)\n",
    "x = layers.Conv2D(filters=32, kernel_size=3, activation=\"relu\")(x)\n",
    "residual = x\n",
    "x = layers.MaxPooling2D(pool_size=2, padding = \"same\")(x)\n",
    "x = layers.Conv2D(filters=64, kernel_size=3, activation=\"relu\", padding = \"same\")(x)\n",
    "residual = layers.Conv2D(64, 1, strides = 2)(residual)\n",
    "x = layers.add([x, residual])\n",
    "x = layers.Conv2D(filters=64, kernel_size=3, activation=\"relu\")(x)\n",
    "x = layers.MaxPooling2D(pool_size=2)(x)\n",
    "x = layers.Conv2D(filters=128, kernel_size=3, activation=\"relu\")(x)\n",
    "residual = x\n",
    "x = layers.Conv2D(filters=128, kernel_size=3, activation=\"relu\",  padding=\"same\")(x)\n",
    "x = layers.MaxPooling2D(pool_size=2, padding=\"same\")(x)\n",
    "residual = layers.Conv2D(128, 1, strides = 2)(residual)\n",
    "x = layers.add([x, residual])\n",
    "x = layers.Conv2D(filters=256, kernel_size=3, activation=\"relu\")(x)\n",
    "residual = x \n",
    "x = layers.Conv2D(filters=256, kernel_size=3, activation=\"relu\",padding=\"same\")(x)\n",
    "residual = layers.Conv2D(256, 1)(residual)\n",
    "x = layers.add([x, residual])\n",
    "x = layers.MaxPooling2D(pool_size=2)(x)\n",
    "x = layers.Dense(64, activation = \"relu\")(x)\n",
    "x = layers.Dense(64, activation = \"relu\")(x)\n",
    "x = layers.Dense(64, activation = \"relu\")(x)\n",
    "x = layers.Flatten()(x)\n",
    "x = layers.Dropout(0.5)(x)\n",
    "outputs = layers.Dense(58, activation=\"softmax\")(x)\n",
    "model3_5 = keras.Model(inputs=inputs, outputs=outputs)\n",
    "\n",
    "model3_5.summary()"
   ]
  },
  {
   "cell_type": "code",
   "execution_count": 102,
   "metadata": {
    "pycharm": {
     "name": "#%%\n"
    },
    "scrolled": true
   },
   "outputs": [
    {
     "name": "stdout",
     "output_type": "stream",
     "text": [
      "Epoch 1/30\n",
      "145/145 [==============================] - 22s 133ms/step - loss: 4.0974 - accuracy: 0.0216 - val_loss: 4.0358 - val_accuracy: 0.0190\n",
      "INFO:tensorflow:Assets written to: model3_5\\best_version\\assets\n",
      "Epoch 2/30\n"
     ]
    },
    {
     "name": "stderr",
     "output_type": "stream",
     "text": [
      "F:\\Programas\\Anaconda\\envs\\TFGapp\\lib\\site-packages\\keras\\utils\\generic_utils.py:494: CustomMaskWarning: Custom mask layers require a config and must override get_config. When loading, the custom mask layer must be passed to the custom_objects argument.\n",
      "  warnings.warn('Custom mask layers require a config and must override '\n"
     ]
    },
    {
     "name": "stdout",
     "output_type": "stream",
     "text": [
      "145/145 [==============================] - 20s 132ms/step - loss: 3.9241 - accuracy: 0.0510 - val_loss: 3.3644 - val_accuracy: 0.1017\n",
      "INFO:tensorflow:Assets written to: model3_5\\best_version\\assets\n",
      "Epoch 3/30\n"
     ]
    },
    {
     "name": "stderr",
     "output_type": "stream",
     "text": [
      "F:\\Programas\\Anaconda\\envs\\TFGapp\\lib\\site-packages\\keras\\utils\\generic_utils.py:494: CustomMaskWarning: Custom mask layers require a config and must override get_config. When loading, the custom mask layer must be passed to the custom_objects argument.\n",
      "  warnings.warn('Custom mask layers require a config and must override '\n"
     ]
    },
    {
     "name": "stdout",
     "output_type": "stream",
     "text": [
      "145/145 [==============================] - 20s 133ms/step - loss: 3.3259 - accuracy: 0.1249 - val_loss: 4.4969 - val_accuracy: 0.0828\n",
      "Epoch 4/30\n",
      "145/145 [==============================] - 20s 133ms/step - loss: 2.8933 - accuracy: 0.2120 - val_loss: 2.6003 - val_accuracy: 0.2888\n",
      "INFO:tensorflow:Assets written to: model3_5\\best_version\\assets\n",
      "Epoch 5/30\n"
     ]
    },
    {
     "name": "stderr",
     "output_type": "stream",
     "text": [
      "F:\\Programas\\Anaconda\\envs\\TFGapp\\lib\\site-packages\\keras\\utils\\generic_utils.py:494: CustomMaskWarning: Custom mask layers require a config and must override get_config. When loading, the custom mask layer must be passed to the custom_objects argument.\n",
      "  warnings.warn('Custom mask layers require a config and must override '\n"
     ]
    },
    {
     "name": "stdout",
     "output_type": "stream",
     "text": [
      "145/145 [==============================] - 20s 132ms/step - loss: 2.5060 - accuracy: 0.2931 - val_loss: 2.6182 - val_accuracy: 0.2707\n",
      "Epoch 6/30\n",
      "145/145 [==============================] - 20s 132ms/step - loss: 2.1810 - accuracy: 0.3628 - val_loss: 2.0209 - val_accuracy: 0.4043\n",
      "INFO:tensorflow:Assets written to: model3_5\\best_version\\assets\n",
      "Epoch 7/30\n"
     ]
    },
    {
     "name": "stderr",
     "output_type": "stream",
     "text": [
      "F:\\Programas\\Anaconda\\envs\\TFGapp\\lib\\site-packages\\keras\\utils\\generic_utils.py:494: CustomMaskWarning: Custom mask layers require a config and must override get_config. When loading, the custom mask layer must be passed to the custom_objects argument.\n",
      "  warnings.warn('Custom mask layers require a config and must override '\n"
     ]
    },
    {
     "name": "stdout",
     "output_type": "stream",
     "text": [
      "145/145 [==============================] - 21s 135ms/step - loss: 1.8930 - accuracy: 0.4355 - val_loss: 1.8104 - val_accuracy: 0.4578\n",
      "INFO:tensorflow:Assets written to: model3_5\\best_version\\assets\n",
      "Epoch 8/30\n"
     ]
    },
    {
     "name": "stderr",
     "output_type": "stream",
     "text": [
      "F:\\Programas\\Anaconda\\envs\\TFGapp\\lib\\site-packages\\keras\\utils\\generic_utils.py:494: CustomMaskWarning: Custom mask layers require a config and must override get_config. When loading, the custom mask layer must be passed to the custom_objects argument.\n",
      "  warnings.warn('Custom mask layers require a config and must override '\n"
     ]
    },
    {
     "name": "stdout",
     "output_type": "stream",
     "text": [
      "145/145 [==============================] - 20s 133ms/step - loss: 1.6881 - accuracy: 0.4875 - val_loss: 1.8644 - val_accuracy: 0.4216\n",
      "Epoch 9/30\n",
      "145/145 [==============================] - 20s 132ms/step - loss: 1.4997 - accuracy: 0.5427 - val_loss: 1.6178 - val_accuracy: 0.5095\n",
      "INFO:tensorflow:Assets written to: model3_5\\best_version\\assets\n",
      "Epoch 10/30\n"
     ]
    },
    {
     "name": "stderr",
     "output_type": "stream",
     "text": [
      "F:\\Programas\\Anaconda\\envs\\TFGapp\\lib\\site-packages\\keras\\utils\\generic_utils.py:494: CustomMaskWarning: Custom mask layers require a config and must override get_config. When loading, the custom mask layer must be passed to the custom_objects argument.\n",
      "  warnings.warn('Custom mask layers require a config and must override '\n"
     ]
    },
    {
     "name": "stdout",
     "output_type": "stream",
     "text": [
      "145/145 [==============================] - 20s 133ms/step - loss: 1.3373 - accuracy: 0.5885 - val_loss: 1.4725 - val_accuracy: 0.5621\n",
      "INFO:tensorflow:Assets written to: model3_5\\best_version\\assets\n",
      "Epoch 11/30\n"
     ]
    },
    {
     "name": "stderr",
     "output_type": "stream",
     "text": [
      "F:\\Programas\\Anaconda\\envs\\TFGapp\\lib\\site-packages\\keras\\utils\\generic_utils.py:494: CustomMaskWarning: Custom mask layers require a config and must override get_config. When loading, the custom mask layer must be passed to the custom_objects argument.\n",
      "  warnings.warn('Custom mask layers require a config and must override '\n"
     ]
    },
    {
     "name": "stdout",
     "output_type": "stream",
     "text": [
      "145/145 [==============================] - 20s 132ms/step - loss: 1.1823 - accuracy: 0.6315 - val_loss: 1.8975 - val_accuracy: 0.4940\n",
      "Epoch 12/30\n",
      "145/145 [==============================] - 20s 132ms/step - loss: 1.0574 - accuracy: 0.6662 - val_loss: 1.8922 - val_accuracy: 0.4862\n",
      "Epoch 13/30\n",
      "145/145 [==============================] - 20s 132ms/step - loss: 0.9523 - accuracy: 0.6987 - val_loss: 1.1814 - val_accuracy: 0.6440\n",
      "INFO:tensorflow:Assets written to: model3_5\\best_version\\assets\n",
      "Epoch 14/30\n"
     ]
    },
    {
     "name": "stderr",
     "output_type": "stream",
     "text": [
      "F:\\Programas\\Anaconda\\envs\\TFGapp\\lib\\site-packages\\keras\\utils\\generic_utils.py:494: CustomMaskWarning: Custom mask layers require a config and must override get_config. When loading, the custom mask layer must be passed to the custom_objects argument.\n",
      "  warnings.warn('Custom mask layers require a config and must override '\n"
     ]
    },
    {
     "name": "stdout",
     "output_type": "stream",
     "text": [
      "145/145 [==============================] - 20s 132ms/step - loss: 0.8607 - accuracy: 0.7318 - val_loss: 2.5692 - val_accuracy: 0.4103\n",
      "Epoch 15/30\n",
      "145/145 [==============================] - 20s 132ms/step - loss: 0.7803 - accuracy: 0.7520 - val_loss: 1.0982 - val_accuracy: 0.6655\n",
      "INFO:tensorflow:Assets written to: model3_5\\best_version\\assets\n",
      "Epoch 16/30\n"
     ]
    },
    {
     "name": "stderr",
     "output_type": "stream",
     "text": [
      "F:\\Programas\\Anaconda\\envs\\TFGapp\\lib\\site-packages\\keras\\utils\\generic_utils.py:494: CustomMaskWarning: Custom mask layers require a config and must override get_config. When loading, the custom mask layer must be passed to the custom_objects argument.\n",
      "  warnings.warn('Custom mask layers require a config and must override '\n"
     ]
    },
    {
     "name": "stdout",
     "output_type": "stream",
     "text": [
      "145/145 [==============================] - 20s 131ms/step - loss: 0.6966 - accuracy: 0.7738 - val_loss: 1.1666 - val_accuracy: 0.6483\n",
      "Epoch 17/30\n",
      "145/145 [==============================] - 20s 133ms/step - loss: 0.6189 - accuracy: 0.7983 - val_loss: 1.2397 - val_accuracy: 0.6491\n",
      "Epoch 18/30\n",
      "145/145 [==============================] - 20s 131ms/step - loss: 0.5599 - accuracy: 0.8189 - val_loss: 1.1040 - val_accuracy: 0.6931\n",
      "Epoch 19/30\n",
      "145/145 [==============================] - 20s 132ms/step - loss: 0.5605 - accuracy: 0.8254 - val_loss: 1.1612 - val_accuracy: 0.6440\n",
      "Epoch 20/30\n",
      "145/145 [==============================] - 20s 130ms/step - loss: 0.4735 - accuracy: 0.8439 - val_loss: 1.1755 - val_accuracy: 0.6733\n",
      "Epoch 21/30\n",
      "145/145 [==============================] - 20s 135ms/step - loss: 0.4601 - accuracy: 0.8520 - val_loss: 1.2259 - val_accuracy: 0.6733\n",
      "Epoch 22/30\n",
      "145/145 [==============================] - 20s 131ms/step - loss: 0.4244 - accuracy: 0.8641 - val_loss: 1.1662 - val_accuracy: 0.7138\n",
      "Epoch 23/30\n",
      "145/145 [==============================] - 20s 132ms/step - loss: 0.3761 - accuracy: 0.8770 - val_loss: 1.1544 - val_accuracy: 0.7129\n",
      "Epoch 24/30\n",
      "145/145 [==============================] - 20s 132ms/step - loss: 0.3715 - accuracy: 0.8789 - val_loss: 1.1788 - val_accuracy: 0.7009\n",
      "Epoch 25/30\n",
      "145/145 [==============================] - 20s 131ms/step - loss: 0.3484 - accuracy: 0.8879 - val_loss: 1.3032 - val_accuracy: 0.7034\n",
      "Epoch 26/30\n",
      "145/145 [==============================] - 20s 132ms/step - loss: 0.3277 - accuracy: 0.8954 - val_loss: 1.3724 - val_accuracy: 0.7017\n",
      "Epoch 27/30\n",
      "145/145 [==============================] - 20s 131ms/step - loss: 0.3122 - accuracy: 0.8997 - val_loss: 1.8592 - val_accuracy: 0.6431\n",
      "Epoch 28/30\n",
      "145/145 [==============================] - 20s 132ms/step - loss: 0.2884 - accuracy: 0.9095 - val_loss: 1.1322 - val_accuracy: 0.7155\n",
      "Epoch 29/30\n",
      "145/145 [==============================] - 20s 130ms/step - loss: 0.2915 - accuracy: 0.9077 - val_loss: 1.3215 - val_accuracy: 0.7052\n",
      "Epoch 30/30\n",
      "145/145 [==============================] - 20s 131ms/step - loss: 0.2748 - accuracy: 0.9143 - val_loss: 1.3717 - val_accuracy: 0.7078\n"
     ]
    }
   ],
   "source": [
    "model3_5.compile(loss=\"categorical_crossentropy\",\n",
    "    optimizer=\"rmsprop\",\n",
    "    metrics=[\"accuracy\"])\n",
    "\n",
    "callbacks = [\n",
    "    keras.callbacks.ModelCheckpoint(\n",
    "    filepath=\"model3_5/best_version\",\n",
    "    save_best_only=True,\n",
    "    monitor=\"val_loss\")\n",
    "]\n",
    "\n",
    "history = model3_5.fit(\n",
    "    train_dataset,\n",
    "    epochs=30,\n",
    "    validation_data=validation_dataset,\n",
    "    callbacks=callbacks)"
   ]
  },
  {
   "cell_type": "code",
   "execution_count": 103,
   "metadata": {
    "pycharm": {
     "name": "#%%\n"
    },
    "scrolled": true
   },
   "outputs": [
    {
     "name": "stdout",
     "output_type": "stream",
     "text": [
      "INFO:tensorflow:Assets written to: model3_5/model\\assets\n"
     ]
    },
    {
     "name": "stderr",
     "output_type": "stream",
     "text": [
      "F:\\Programas\\Anaconda\\envs\\TFGapp\\lib\\site-packages\\keras\\utils\\generic_utils.py:494: CustomMaskWarning: Custom mask layers require a config and must override get_config. When loading, the custom mask layer must be passed to the custom_objects argument.\n",
      "  warnings.warn('Custom mask layers require a config and must override '\n"
     ]
    }
   ],
   "source": [
    " model3_5.save('model3_5/model')\n",
    "np.save('model3_5/history.npy',history.history)"
   ]
  },
  {
   "cell_type": "code",
   "execution_count": 104,
   "metadata": {
    "pycharm": {
     "name": "#%%\n"
    }
   },
   "outputs": [],
   "source": [
    "my_history1=np.load('model3_4/history.npy',allow_pickle='TRUE').item()\n",
    "my_history2=np.load('model3_5/history.npy',allow_pickle='TRUE').item()"
   ]
  },
  {
   "cell_type": "code",
   "execution_count": 105,
   "metadata": {
    "pycharm": {
     "name": "#%%\n"
    }
   },
   "outputs": [
    {
     "data": {
      "image/png": "[encoded data removed]",
      "text/plain": [
       "<Figure size 432x288 with 1 Axes>"
      ]
     },
     "metadata": {
      "needs_background": "light"
     },
     "output_type": "display_data"
    }
   ],
   "source": [
    "loss_1 = my_history1[\"loss\"]\n",
    "val_loss_1 = my_history1[\"val_loss\"]\n",
    "loss_2 = my_history2[\"loss\"]\n",
    "val_loss_2 = my_history2[\"val_loss\"]\n",
    "epochs = range(1, len(loss_1) + 1)\n",
    "\n",
    "plt.plot(epochs, loss_1, \"b.\", label=\"Training loss original\")\n",
    "plt.plot(epochs, loss_2, \"r.\", label=\"Training loss new\")\n",
    "plt.plot(epochs, val_loss_1, \"b\", label=\"Validation loss original\")\n",
    "plt.plot(epochs, val_loss_2, \"r\", label=\"Validation loss new\")\n",
    "plt.title(\"Training and validation loss\")\n",
    "plt.xlabel(\"Epochs\")\n",
    "plt.ylabel(\"Loss\")\n",
    "plt.legend()\n",
    "plt.show()"
   ]
  },
  {
   "cell_type": "code",
   "execution_count": 106,
   "metadata": {
    "pycharm": {
     "name": "#%%\n"
    }
   },
   "outputs": [
    {
     "data": {
      "image/png": "[encoded data removed]",
      "text/plain": [
       "<Figure size 432x288 with 1 Axes>"
      ]
     },
     "metadata": {
      "needs_background": "light"
     },
     "output_type": "display_data"
    }
   ],
   "source": [
    "\n",
    "plt.clf()\n",
    "\n",
    "acc_1 = my_history1[\"accuracy\"]\n",
    "val_acc_1 = my_history1[\"val_accuracy\"]\n",
    "acc_2 = my_history2[\"accuracy\"]\n",
    "val_acc_2 = my_history2[\"val_accuracy\"]\n",
    "epochs = range(1, len(loss_1) + 1)\n",
    "\n",
    "plt.plot(epochs, acc_1, \"b.\", label=\"Training accuracy original\")\n",
    "plt.plot(epochs, acc_2, \"r.\", label=\"Training accuracy new\")\n",
    "plt.plot(epochs, val_acc_1, \"b\", label=\"Validation accuracy original\")\n",
    "plt.plot(epochs, val_acc_2, \"r\", label=\"Validation accuracy new\")\n",
    "plt.title(\"Training and validation accuracy\")\n",
    "plt.xlabel(\"Epochs\")\n",
    "plt.ylabel(\"Accuracy\")\n",
    "plt.legend()\n",
    "plt.show()"
   ]
  },
  {
   "cell_type": "code",
   "execution_count": 107,
   "metadata": {
    "pycharm": {
     "name": "#%%\n"
    }
   },
   "outputs": [
    {
     "name": "stdout",
     "output_type": "stream",
     "text": [
      "19/19 [==============================] - 3s 76ms/step - loss: 1.2802 - accuracy: 0.7233\n"
     ]
    },
    {
     "data": {
      "text/plain": [
       "[1.280187964439392, 0.7232758402824402]"
      ]
     },
     "execution_count": 107,
     "metadata": {},
     "output_type": "execute_result"
    }
   ],
   "source": [
    "model = keras.models.load_model('model3_5/model')\n",
    "results= model.evaluate(test_dataset)\n",
    "results"
   ]
  },
  {
   "cell_type": "code",
   "execution_count": 108,
   "metadata": {
    "pycharm": {
     "name": "#%%\n"
    }
   },
   "outputs": [
    {
     "name": "stdout",
     "output_type": "stream",
     "text": [
      "19/19 [==============================] - 3s 81ms/step - loss: 1.0476 - accuracy: 0.6776\n"
     ]
    },
    {
     "data": {
      "text/plain": [
       "[1.0475761890411377, 0.6775861978530884]"
      ]
     },
     "execution_count": 108,
     "metadata": {},
     "output_type": "execute_result"
    }
   ],
   "source": [
    "model = keras.models.load_model('model3_5/best_version')\n",
    "results= model.evaluate(test_dataset)\n",
    "results"
   ]
  },
  {
   "cell_type": "markdown",
   "metadata": {
    "pycharm": {
     "name": "#%% md\n"
    }
   },
   "source": [
    "## Modelo 3.6: modelo 3.3 con maxpooling antes de las capas densas"
   ]
  },
  {
   "cell_type": "code",
   "execution_count": 109,
   "metadata": {
    "pycharm": {
     "name": "#%%\n"
    },
    "scrolled": true
   },
   "outputs": [
    {
     "name": "stdout",
     "output_type": "stream",
     "text": [
      "Model: \"model_20\"\n",
      "__________________________________________________________________________________________________\n",
      "Layer (type)                    Output Shape         Param #     Connected to                     \n",
      "==================================================================================================\n",
      "input_21 (InputLayer)           [(None, 256, 256, 3) 0                                            \n",
      "__________________________________________________________________________________________________\n",
      "rescaling_20 (Rescaling)        (None, 256, 256, 3)  0           input_21[0][0]                   \n",
      "__________________________________________________________________________________________________\n",
      "conv2d_216 (Conv2D)             (None, 254, 254, 16) 448         rescaling_20[0][0]               \n",
      "__________________________________________________________________________________________________\n",
      "max_pooling2d_89 (MaxPooling2D) (None, 127, 127, 16) 0           conv2d_216[0][0]                 \n",
      "__________________________________________________________________________________________________\n",
      "conv2d_217 (Conv2D)             (None, 125, 125, 32) 4640        max_pooling2d_89[0][0]           \n",
      "__________________________________________________________________________________________________\n",
      "max_pooling2d_90 (MaxPooling2D) (None, 63, 63, 32)   0           conv2d_217[0][0]                 \n",
      "__________________________________________________________________________________________________\n",
      "conv2d_218 (Conv2D)             (None, 63, 63, 64)   18496       max_pooling2d_90[0][0]           \n",
      "__________________________________________________________________________________________________\n",
      "conv2d_219 (Conv2D)             (None, 63, 63, 64)   2112        conv2d_217[0][0]                 \n",
      "__________________________________________________________________________________________________\n",
      "add_49 (Add)                    (None, 63, 63, 64)   0           conv2d_218[0][0]                 \n",
      "                                                                 conv2d_219[0][0]                 \n",
      "__________________________________________________________________________________________________\n",
      "conv2d_220 (Conv2D)             (None, 61, 61, 64)   36928       add_49[0][0]                     \n",
      "__________________________________________________________________________________________________\n",
      "max_pooling2d_91 (MaxPooling2D) (None, 30, 30, 64)   0           conv2d_220[0][0]                 \n",
      "__________________________________________________________________________________________________\n",
      "conv2d_221 (Conv2D)             (None, 28, 28, 128)  73856       max_pooling2d_91[0][0]           \n",
      "__________________________________________________________________________________________________\n",
      "conv2d_222 (Conv2D)             (None, 28, 28, 128)  147584      conv2d_221[0][0]                 \n",
      "__________________________________________________________________________________________________\n",
      "max_pooling2d_92 (MaxPooling2D) (None, 14, 14, 128)  0           conv2d_222[0][0]                 \n",
      "__________________________________________________________________________________________________\n",
      "conv2d_223 (Conv2D)             (None, 14, 14, 128)  16512       conv2d_221[0][0]                 \n",
      "__________________________________________________________________________________________________\n",
      "add_50 (Add)                    (None, 14, 14, 128)  0           max_pooling2d_92[0][0]           \n",
      "                                                                 conv2d_223[0][0]                 \n",
      "__________________________________________________________________________________________________\n",
      "conv2d_224 (Conv2D)             (None, 12, 12, 256)  295168      add_50[0][0]                     \n",
      "__________________________________________________________________________________________________\n",
      "conv2d_225 (Conv2D)             (None, 12, 12, 256)  590080      conv2d_224[0][0]                 \n",
      "__________________________________________________________________________________________________\n",
      "conv2d_226 (Conv2D)             (None, 12, 12, 256)  65792       conv2d_224[0][0]                 \n",
      "__________________________________________________________________________________________________\n",
      "add_51 (Add)                    (None, 12, 12, 256)  0           conv2d_225[0][0]                 \n",
      "                                                                 conv2d_226[0][0]                 \n",
      "__________________________________________________________________________________________________\n",
      "conv2d_227 (Conv2D)             (None, 10, 10, 256)  590080      add_51[0][0]                     \n",
      "__________________________________________________________________________________________________\n",
      "max_pooling2d_93 (MaxPooling2D) (None, 5, 5, 256)    0           conv2d_227[0][0]                 \n",
      "__________________________________________________________________________________________________\n",
      "dense_71 (Dense)                (None, 5, 5, 64)     16448       max_pooling2d_93[0][0]           \n",
      "__________________________________________________________________________________________________\n",
      "dense_72 (Dense)                (None, 5, 5, 64)     4160        dense_71[0][0]                   \n",
      "__________________________________________________________________________________________________\n",
      "dense_73 (Dense)                (None, 5, 5, 64)     4160        dense_72[0][0]                   \n",
      "__________________________________________________________________________________________________\n",
      "flatten_20 (Flatten)            (None, 1600)         0           dense_73[0][0]                   \n",
      "__________________________________________________________________________________________________\n",
      "dropout_20 (Dropout)            (None, 1600)         0           flatten_20[0][0]                 \n",
      "__________________________________________________________________________________________________\n",
      "dense_74 (Dense)                (None, 58)           92858       dropout_20[0][0]                 \n",
      "==================================================================================================\n",
      "Total params: 1,959,322\n",
      "Trainable params: 1,959,322\n",
      "Non-trainable params: 0\n",
      "__________________________________________________________________________________________________\n"
     ]
    }
   ],
   "source": [
    "inputs = keras.Input(shape=(size_x, size_y, 3)) \n",
    "x = layers.Rescaling(1./255)(inputs) \n",
    "x = layers.Conv2D(filters=16, kernel_size=3, activation=\"relu\")(x)\n",
    "x = layers.MaxPooling2D(pool_size=2)(x)\n",
    "x = layers.Conv2D(filters=32, kernel_size=3, activation=\"relu\")(x)\n",
    "residual = x\n",
    "x = layers.MaxPooling2D(pool_size=2, padding = \"same\")(x)\n",
    "x = layers.Conv2D(filters=64, kernel_size=3, activation=\"relu\", padding = \"same\")(x)\n",
    "residual = layers.Conv2D(64, 1, strides = 2)(residual)\n",
    "x = layers.add([x, residual])\n",
    "x = layers.Conv2D(filters=64, kernel_size=3, activation=\"relu\")(x)\n",
    "x = layers.MaxPooling2D(pool_size=2)(x)\n",
    "x = layers.Conv2D(filters=128, kernel_size=3, activation=\"relu\")(x)\n",
    "residual = x\n",
    "x = layers.Conv2D(filters=128, kernel_size=3, activation=\"relu\",  padding=\"same\")(x)\n",
    "x = layers.MaxPooling2D(pool_size=2, padding=\"same\")(x)\n",
    "residual = layers.Conv2D(128, 1, strides = 2)(residual)\n",
    "x = layers.add([x, residual])\n",
    "x = layers.Conv2D(filters=256, kernel_size=3, activation=\"relu\")(x)\n",
    "residual = x \n",
    "x = layers.Conv2D(filters=256, kernel_size=3, activation=\"relu\",padding=\"same\")(x)\n",
    "residual = layers.Conv2D(256, 1)(residual)\n",
    "x = layers.add([x, residual])\n",
    "x = layers.Conv2D(filters=256, kernel_size=3, activation=\"relu\")(x)\n",
    "x = layers.MaxPooling2D(pool_size=2)(x)\n",
    "x = layers.Dense(64, activation = \"relu\")(x)\n",
    "x = layers.Dense(64, activation = \"relu\")(x)\n",
    "x = layers.Dense(64, activation = \"relu\")(x)\n",
    "x = layers.Flatten()(x)\n",
    "x = layers.Dropout(0.5)(x)\n",
    "outputs = layers.Dense(58, activation=\"softmax\")(x)\n",
    "model3_6 = keras.Model(inputs=inputs, outputs=outputs)\n",
    "\n",
    "model3_6.summary()"
   ]
  },
  {
   "cell_type": "code",
   "execution_count": 110,
   "metadata": {
    "pycharm": {
     "name": "#%%\n"
    }
   },
   "outputs": [
    {
     "name": "stdout",
     "output_type": "stream",
     "text": [
      "Epoch 1/30\n",
      "145/145 [==============================] - 22s 135ms/step - loss: 4.2153 - accuracy: 0.0193 - val_loss: 3.9744 - val_accuracy: 0.0431\n",
      "INFO:tensorflow:Assets written to: model3_6\\best_version\\assets\n",
      "Epoch 2/30\n"
     ]
    },
    {
     "name": "stderr",
     "output_type": "stream",
     "text": [
      "F:\\Programas\\Anaconda\\envs\\TFGapp\\lib\\site-packages\\keras\\utils\\generic_utils.py:494: CustomMaskWarning: Custom mask layers require a config and must override get_config. When loading, the custom mask layer must be passed to the custom_objects argument.\n",
      "  warnings.warn('Custom mask layers require a config and must override '\n"
     ]
    },
    {
     "name": "stdout",
     "output_type": "stream",
     "text": [
      "145/145 [==============================] - 20s 132ms/step - loss: 3.8483 - accuracy: 0.0426 - val_loss: 3.4019 - val_accuracy: 0.0681\n",
      "INFO:tensorflow:Assets written to: model3_6\\best_version\\assets\n",
      "Epoch 3/30\n"
     ]
    },
    {
     "name": "stderr",
     "output_type": "stream",
     "text": [
      "F:\\Programas\\Anaconda\\envs\\TFGapp\\lib\\site-packages\\keras\\utils\\generic_utils.py:494: CustomMaskWarning: Custom mask layers require a config and must override get_config. When loading, the custom mask layer must be passed to the custom_objects argument.\n",
      "  warnings.warn('Custom mask layers require a config and must override '\n"
     ]
    },
    {
     "name": "stdout",
     "output_type": "stream",
     "text": [
      "145/145 [==============================] - 20s 132ms/step - loss: 3.4098 - accuracy: 0.1059 - val_loss: 3.0809 - val_accuracy: 0.1612\n",
      "INFO:tensorflow:Assets written to: model3_6\\best_version\\assets\n",
      "Epoch 4/30\n"
     ]
    },
    {
     "name": "stderr",
     "output_type": "stream",
     "text": [
      "F:\\Programas\\Anaconda\\envs\\TFGapp\\lib\\site-packages\\keras\\utils\\generic_utils.py:494: CustomMaskWarning: Custom mask layers require a config and must override get_config. When loading, the custom mask layer must be passed to the custom_objects argument.\n",
      "  warnings.warn('Custom mask layers require a config and must override '\n"
     ]
    },
    {
     "name": "stdout",
     "output_type": "stream",
     "text": [
      "145/145 [==============================] - 20s 132ms/step - loss: 2.8809 - accuracy: 0.2048 - val_loss: 2.8744 - val_accuracy: 0.1888\n",
      "INFO:tensorflow:Assets written to: model3_6\\best_version\\assets\n",
      "Epoch 5/30\n"
     ]
    },
    {
     "name": "stderr",
     "output_type": "stream",
     "text": [
      "F:\\Programas\\Anaconda\\envs\\TFGapp\\lib\\site-packages\\keras\\utils\\generic_utils.py:494: CustomMaskWarning: Custom mask layers require a config and must override get_config. When loading, the custom mask layer must be passed to the custom_objects argument.\n",
      "  warnings.warn('Custom mask layers require a config and must override '\n"
     ]
    },
    {
     "name": "stdout",
     "output_type": "stream",
     "text": [
      "145/145 [==============================] - 20s 132ms/step - loss: 2.5083 - accuracy: 0.2809 - val_loss: 2.2640 - val_accuracy: 0.3276\n",
      "INFO:tensorflow:Assets written to: model3_6\\best_version\\assets\n",
      "Epoch 6/30\n"
     ]
    },
    {
     "name": "stderr",
     "output_type": "stream",
     "text": [
      "F:\\Programas\\Anaconda\\envs\\TFGapp\\lib\\site-packages\\keras\\utils\\generic_utils.py:494: CustomMaskWarning: Custom mask layers require a config and must override get_config. When loading, the custom mask layer must be passed to the custom_objects argument.\n",
      "  warnings.warn('Custom mask layers require a config and must override '\n"
     ]
    },
    {
     "name": "stdout",
     "output_type": "stream",
     "text": [
      "145/145 [==============================] - 20s 131ms/step - loss: 2.2273 - accuracy: 0.3403 - val_loss: 2.1319 - val_accuracy: 0.3543\n",
      "INFO:tensorflow:Assets written to: model3_6\\best_version\\assets\n",
      "Epoch 7/30\n"
     ]
    },
    {
     "name": "stderr",
     "output_type": "stream",
     "text": [
      "F:\\Programas\\Anaconda\\envs\\TFGapp\\lib\\site-packages\\keras\\utils\\generic_utils.py:494: CustomMaskWarning: Custom mask layers require a config and must override get_config. When loading, the custom mask layer must be passed to the custom_objects argument.\n",
      "  warnings.warn('Custom mask layers require a config and must override '\n"
     ]
    },
    {
     "name": "stdout",
     "output_type": "stream",
     "text": [
      "145/145 [==============================] - 20s 132ms/step - loss: 2.0097 - accuracy: 0.4005 - val_loss: 1.9801 - val_accuracy: 0.4069\n",
      "INFO:tensorflow:Assets written to: model3_6\\best_version\\assets\n",
      "Epoch 8/30\n"
     ]
    },
    {
     "name": "stderr",
     "output_type": "stream",
     "text": [
      "F:\\Programas\\Anaconda\\envs\\TFGapp\\lib\\site-packages\\keras\\utils\\generic_utils.py:494: CustomMaskWarning: Custom mask layers require a config and must override get_config. When loading, the custom mask layer must be passed to the custom_objects argument.\n",
      "  warnings.warn('Custom mask layers require a config and must override '\n"
     ]
    },
    {
     "name": "stdout",
     "output_type": "stream",
     "text": [
      "145/145 [==============================] - 20s 131ms/step - loss: 1.8185 - accuracy: 0.4503 - val_loss: 1.7845 - val_accuracy: 0.4543\n",
      "INFO:tensorflow:Assets written to: model3_6\\best_version\\assets\n",
      "Epoch 9/30\n"
     ]
    },
    {
     "name": "stderr",
     "output_type": "stream",
     "text": [
      "F:\\Programas\\Anaconda\\envs\\TFGapp\\lib\\site-packages\\keras\\utils\\generic_utils.py:494: CustomMaskWarning: Custom mask layers require a config and must override get_config. When loading, the custom mask layer must be passed to the custom_objects argument.\n",
      "  warnings.warn('Custom mask layers require a config and must override '\n"
     ]
    },
    {
     "name": "stdout",
     "output_type": "stream",
     "text": [
      "145/145 [==============================] - 20s 133ms/step - loss: 1.6322 - accuracy: 0.4954 - val_loss: 1.8280 - val_accuracy: 0.4440\n",
      "Epoch 10/30\n",
      "145/145 [==============================] - 20s 132ms/step - loss: 1.4951 - accuracy: 0.5397 - val_loss: 1.4935 - val_accuracy: 0.5353\n",
      "INFO:tensorflow:Assets written to: model3_6\\best_version\\assets\n",
      "Epoch 11/30\n"
     ]
    },
    {
     "name": "stderr",
     "output_type": "stream",
     "text": [
      "F:\\Programas\\Anaconda\\envs\\TFGapp\\lib\\site-packages\\keras\\utils\\generic_utils.py:494: CustomMaskWarning: Custom mask layers require a config and must override get_config. When loading, the custom mask layer must be passed to the custom_objects argument.\n",
      "  warnings.warn('Custom mask layers require a config and must override '\n"
     ]
    },
    {
     "name": "stdout",
     "output_type": "stream",
     "text": [
      "145/145 [==============================] - 20s 131ms/step - loss: 1.3672 - accuracy: 0.5804 - val_loss: 1.3863 - val_accuracy: 0.5716\n",
      "INFO:tensorflow:Assets written to: model3_6\\best_version\\assets\n",
      "Epoch 12/30\n"
     ]
    },
    {
     "name": "stderr",
     "output_type": "stream",
     "text": [
      "F:\\Programas\\Anaconda\\envs\\TFGapp\\lib\\site-packages\\keras\\utils\\generic_utils.py:494: CustomMaskWarning: Custom mask layers require a config and must override get_config. When loading, the custom mask layer must be passed to the custom_objects argument.\n",
      "  warnings.warn('Custom mask layers require a config and must override '\n"
     ]
    },
    {
     "name": "stdout",
     "output_type": "stream",
     "text": [
      "145/145 [==============================] - 20s 131ms/step - loss: 1.2180 - accuracy: 0.6168 - val_loss: 1.5705 - val_accuracy: 0.5302\n",
      "Epoch 13/30\n",
      "145/145 [==============================] - 20s 131ms/step - loss: 1.1621 - accuracy: 0.6415 - val_loss: 1.3781 - val_accuracy: 0.5793\n",
      "INFO:tensorflow:Assets written to: model3_6\\best_version\\assets\n",
      "Epoch 14/30\n"
     ]
    },
    {
     "name": "stderr",
     "output_type": "stream",
     "text": [
      "F:\\Programas\\Anaconda\\envs\\TFGapp\\lib\\site-packages\\keras\\utils\\generic_utils.py:494: CustomMaskWarning: Custom mask layers require a config and must override get_config. When loading, the custom mask layer must be passed to the custom_objects argument.\n",
      "  warnings.warn('Custom mask layers require a config and must override '\n"
     ]
    },
    {
     "name": "stdout",
     "output_type": "stream",
     "text": [
      "145/145 [==============================] - 20s 131ms/step - loss: 1.0245 - accuracy: 0.6726 - val_loss: 1.2972 - val_accuracy: 0.5647\n",
      "INFO:tensorflow:Assets written to: model3_6\\best_version\\assets\n",
      "Epoch 15/30\n"
     ]
    },
    {
     "name": "stderr",
     "output_type": "stream",
     "text": [
      "F:\\Programas\\Anaconda\\envs\\TFGapp\\lib\\site-packages\\keras\\utils\\generic_utils.py:494: CustomMaskWarning: Custom mask layers require a config and must override get_config. When loading, the custom mask layer must be passed to the custom_objects argument.\n",
      "  warnings.warn('Custom mask layers require a config and must override '\n"
     ]
    },
    {
     "name": "stdout",
     "output_type": "stream",
     "text": [
      "145/145 [==============================] - 20s 132ms/step - loss: 0.9328 - accuracy: 0.7015 - val_loss: 1.4503 - val_accuracy: 0.5802\n",
      "Epoch 16/30\n",
      "145/145 [==============================] - 20s 132ms/step - loss: 0.8594 - accuracy: 0.7199 - val_loss: 1.3547 - val_accuracy: 0.6009\n",
      "Epoch 17/30\n",
      "145/145 [==============================] - 20s 131ms/step - loss: 0.7991 - accuracy: 0.7404 - val_loss: 1.0990 - val_accuracy: 0.6491\n",
      "INFO:tensorflow:Assets written to: model3_6\\best_version\\assets\n",
      "Epoch 18/30\n"
     ]
    },
    {
     "name": "stderr",
     "output_type": "stream",
     "text": [
      "F:\\Programas\\Anaconda\\envs\\TFGapp\\lib\\site-packages\\keras\\utils\\generic_utils.py:494: CustomMaskWarning: Custom mask layers require a config and must override get_config. When loading, the custom mask layer must be passed to the custom_objects argument.\n",
      "  warnings.warn('Custom mask layers require a config and must override '\n"
     ]
    },
    {
     "name": "stdout",
     "output_type": "stream",
     "text": [
      "145/145 [==============================] - 20s 131ms/step - loss: 0.7246 - accuracy: 0.7638 - val_loss: 1.3523 - val_accuracy: 0.6190\n",
      "Epoch 19/30\n",
      "145/145 [==============================] - 20s 131ms/step - loss: 0.6665 - accuracy: 0.7816 - val_loss: 1.1553 - val_accuracy: 0.6664\n",
      "Epoch 20/30\n",
      "145/145 [==============================] - 20s 131ms/step - loss: 0.6345 - accuracy: 0.7922 - val_loss: 1.1830 - val_accuracy: 0.6526\n",
      "Epoch 21/30\n",
      "145/145 [==============================] - 20s 132ms/step - loss: 0.5816 - accuracy: 0.8156 - val_loss: 1.3516 - val_accuracy: 0.6371\n",
      "Epoch 22/30\n",
      "145/145 [==============================] - 20s 133ms/step - loss: 0.5327 - accuracy: 0.8264 - val_loss: 1.1806 - val_accuracy: 0.6888\n",
      "Epoch 23/30\n",
      "145/145 [==============================] - 20s 131ms/step - loss: 0.5086 - accuracy: 0.8339 - val_loss: 1.1394 - val_accuracy: 0.6810\n",
      "Epoch 24/30\n",
      "145/145 [==============================] - 20s 132ms/step - loss: 0.4722 - accuracy: 0.8512 - val_loss: 1.1392 - val_accuracy: 0.6888\n",
      "Epoch 25/30\n",
      "145/145 [==============================] - 20s 132ms/step - loss: 0.4412 - accuracy: 0.8603 - val_loss: 1.3273 - val_accuracy: 0.6647\n",
      "Epoch 26/30\n",
      "145/145 [==============================] - 20s 134ms/step - loss: 0.4112 - accuracy: 0.8695 - val_loss: 1.7022 - val_accuracy: 0.6569\n",
      "Epoch 27/30\n",
      "145/145 [==============================] - 20s 132ms/step - loss: 0.4069 - accuracy: 0.8745 - val_loss: 1.7079 - val_accuracy: 0.6509\n",
      "Epoch 28/30\n",
      "145/145 [==============================] - 20s 132ms/step - loss: 0.3862 - accuracy: 0.8763 - val_loss: 1.3758 - val_accuracy: 0.6871\n",
      "Epoch 29/30\n",
      "145/145 [==============================] - 20s 132ms/step - loss: 0.3797 - accuracy: 0.8818 - val_loss: 1.3459 - val_accuracy: 0.6569\n",
      "Epoch 30/30\n",
      "145/145 [==============================] - 20s 132ms/step - loss: 0.3363 - accuracy: 0.8903 - val_loss: 1.4151 - val_accuracy: 0.6603\n"
     ]
    }
   ],
   "source": [
    "model3_6.compile(loss=\"categorical_crossentropy\",\n",
    "    optimizer=\"rmsprop\",\n",
    "    metrics=[\"accuracy\"])\n",
    "\n",
    "callbacks = [\n",
    "    keras.callbacks.ModelCheckpoint(\n",
    "    filepath=\"model3_6/best_version\",\n",
    "    save_best_only=True,\n",
    "    monitor=\"val_loss\")\n",
    "]\n",
    "\n",
    "history = model3_6.fit(\n",
    "    train_dataset,\n",
    "    epochs=30,\n",
    "    validation_data=validation_dataset,\n",
    "    callbacks=callbacks)"
   ]
  },
  {
   "cell_type": "code",
   "execution_count": 111,
   "metadata": {
    "pycharm": {
     "name": "#%%\n"
    }
   },
   "outputs": [
    {
     "name": "stdout",
     "output_type": "stream",
     "text": [
      "INFO:tensorflow:Assets written to: model3_6/model\\assets\n"
     ]
    },
    {
     "name": "stderr",
     "output_type": "stream",
     "text": [
      "F:\\Programas\\Anaconda\\envs\\TFGapp\\lib\\site-packages\\keras\\utils\\generic_utils.py:494: CustomMaskWarning: Custom mask layers require a config and must override get_config. When loading, the custom mask layer must be passed to the custom_objects argument.\n",
      "  warnings.warn('Custom mask layers require a config and must override '\n"
     ]
    }
   ],
   "source": [
    "model3_6.save('model3_6/model')\n",
    "np.save('model3_6/history.npy',history.history)"
   ]
  },
  {
   "cell_type": "code",
   "execution_count": 112,
   "metadata": {
    "pycharm": {
     "name": "#%%\n"
    }
   },
   "outputs": [],
   "source": [
    "my_history1=np.load('model3_5/history.npy',allow_pickle='TRUE').item()\n",
    "my_history2=np.load('model3_6/history.npy',allow_pickle='TRUE').item()"
   ]
  },
  {
   "cell_type": "code",
   "execution_count": 113,
   "metadata": {
    "pycharm": {
     "name": "#%%\n"
    }
   },
   "outputs": [
    {
     "data": {
      "image/png": "[encoded data removed]",
      "text/plain": [
       "<Figure size 432x288 with 1 Axes>"
      ]
     },
     "metadata": {
      "needs_background": "light"
     },
     "output_type": "display_data"
    }
   ],
   "source": [
    "loss_1 = my_history1[\"loss\"]\n",
    "val_loss_1 = my_history1[\"val_loss\"]\n",
    "loss_2 = my_history2[\"loss\"]\n",
    "val_loss_2 = my_history2[\"val_loss\"]\n",
    "epochs = range(1, len(loss_1) + 1)\n",
    "\n",
    "plt.plot(epochs, loss_1, \"b.\", label=\"Training loss original\")\n",
    "plt.plot(epochs, loss_2, \"r.\", label=\"Training loss new\")\n",
    "plt.plot(epochs, val_loss_1, \"b\", label=\"Validation loss original\")\n",
    "plt.plot(epochs, val_loss_2, \"r\", label=\"Validation loss new\")\n",
    "plt.title(\"Training and validation loss\")\n",
    "plt.xlabel(\"Epochs\")\n",
    "plt.ylabel(\"Loss\")\n",
    "plt.legend()\n",
    "plt.show()"
   ]
  },
  {
   "cell_type": "code",
   "execution_count": 114,
   "metadata": {
    "pycharm": {
     "name": "#%%\n"
    }
   },
   "outputs": [
    {
     "data": {
      "image/png": "[encoded data removed]",
      "text/plain": [
       "<Figure size 432x288 with 1 Axes>"
      ]
     },
     "metadata": {
      "needs_background": "light"
     },
     "output_type": "display_data"
    }
   ],
   "source": [
    "\n",
    "plt.clf()\n",
    "\n",
    "acc_1 = my_history1[\"accuracy\"]\n",
    "val_acc_1 = my_history1[\"val_accuracy\"]\n",
    "acc_2 = my_history2[\"accuracy\"]\n",
    "val_acc_2 = my_history2[\"val_accuracy\"]\n",
    "epochs = range(1, len(loss_1) + 1)\n",
    "\n",
    "plt.plot(epochs, acc_1, \"b.\", label=\"Training accuracy original\")\n",
    "plt.plot(epochs, acc_2, \"r.\", label=\"Training accuracy new\")\n",
    "plt.plot(epochs, val_acc_1, \"b\", label=\"Validation accuracy original\")\n",
    "plt.plot(epochs, val_acc_2, \"r\", label=\"Validation accuracy new\")\n",
    "plt.title(\"Training and validation accuracy\")\n",
    "plt.xlabel(\"Epochs\")\n",
    "plt.ylabel(\"Accuracy\")\n",
    "plt.legend()\n",
    "plt.show()"
   ]
  },
  {
   "cell_type": "code",
   "execution_count": 115,
   "metadata": {
    "pycharm": {
     "name": "#%%\n"
    }
   },
   "outputs": [
    {
     "name": "stdout",
     "output_type": "stream",
     "text": [
      "19/19 [==============================] - 3s 76ms/step - loss: 1.3054 - accuracy: 0.6724\n"
     ]
    },
    {
     "data": {
      "text/plain": [
       "[1.305406928062439, 0.6724137663841248]"
      ]
     },
     "execution_count": 115,
     "metadata": {},
     "output_type": "execute_result"
    }
   ],
   "source": [
    "model = keras.models.load_model('model3_6/model')\n",
    "results= model.evaluate(test_dataset)\n",
    "results"
   ]
  },
  {
   "cell_type": "code",
   "execution_count": 116,
   "metadata": {
    "pycharm": {
     "name": "#%%\n"
    }
   },
   "outputs": [
    {
     "name": "stdout",
     "output_type": "stream",
     "text": [
      "19/19 [==============================] - 3s 82ms/step - loss: 1.1043 - accuracy: 0.6509\n"
     ]
    },
    {
     "data": {
      "text/plain": [
       "[1.1042773723602295, 0.6508620977401733]"
      ]
     },
     "execution_count": 116,
     "metadata": {},
     "output_type": "execute_result"
    }
   ],
   "source": [
    "model = keras.models.load_model('model3_6/best_version')\n",
    "results= model.evaluate(test_dataset)\n",
    "results"
   ]
  },
  {
   "cell_type": "markdown",
   "metadata": {
    "pycharm": {
     "name": "#%% md\n"
    }
   },
   "source": [
    "## Modelo 3.7: modelo 3.6 con conexiones residuales completas"
   ]
  },
  {
   "cell_type": "code",
   "execution_count": 7,
   "metadata": {
    "pycharm": {
     "name": "#%%\n"
    },
    "scrolled": true
   },
   "outputs": [
    {
     "name": "stdout",
     "output_type": "stream",
     "text": [
      "Model: \"model\"\n",
      "__________________________________________________________________________________________________\n",
      "Layer (type)                    Output Shape         Param #     Connected to                     \n",
      "==================================================================================================\n",
      "input_1 (InputLayer)            [(None, 256, 256, 3) 0                                            \n",
      "__________________________________________________________________________________________________\n",
      "rescaling (Rescaling)           (None, 256, 256, 3)  0           input_1[0][0]                    \n",
      "__________________________________________________________________________________________________\n",
      "conv2d (Conv2D)                 (None, 254, 254, 16) 448         rescaling[0][0]                  \n",
      "__________________________________________________________________________________________________\n",
      "max_pooling2d (MaxPooling2D)    (None, 127, 127, 16) 0           conv2d[0][0]                     \n",
      "__________________________________________________________________________________________________\n",
      "conv2d_1 (Conv2D)               (None, 125, 125, 32) 4640        max_pooling2d[0][0]              \n",
      "__________________________________________________________________________________________________\n",
      "max_pooling2d_1 (MaxPooling2D)  (None, 63, 63, 32)   0           conv2d_1[0][0]                   \n",
      "__________________________________________________________________________________________________\n",
      "conv2d_2 (Conv2D)               (None, 63, 63, 64)   18496       max_pooling2d_1[0][0]            \n",
      "__________________________________________________________________________________________________\n",
      "conv2d_3 (Conv2D)               (None, 63, 63, 64)   2112        conv2d_1[0][0]                   \n",
      "__________________________________________________________________________________________________\n",
      "add (Add)                       (None, 63, 63, 64)   0           conv2d_2[0][0]                   \n",
      "                                                                 conv2d_3[0][0]                   \n",
      "__________________________________________________________________________________________________\n",
      "conv2d_4 (Conv2D)               (None, 63, 63, 64)   36928       add[0][0]                        \n",
      "__________________________________________________________________________________________________\n",
      "max_pooling2d_2 (MaxPooling2D)  (None, 32, 32, 64)   0           conv2d_4[0][0]                   \n",
      "__________________________________________________________________________________________________\n",
      "conv2d_5 (Conv2D)               (None, 32, 32, 128)  73856       max_pooling2d_2[0][0]            \n",
      "__________________________________________________________________________________________________\n",
      "conv2d_6 (Conv2D)               (None, 32, 32, 128)  8320        add[0][0]                        \n",
      "__________________________________________________________________________________________________\n",
      "add_1 (Add)                     (None, 32, 32, 128)  0           conv2d_5[0][0]                   \n",
      "                                                                 conv2d_6[0][0]                   \n",
      "__________________________________________________________________________________________________\n",
      "conv2d_7 (Conv2D)               (None, 32, 32, 128)  147584      add_1[0][0]                      \n",
      "__________________________________________________________________________________________________\n",
      "max_pooling2d_3 (MaxPooling2D)  (None, 16, 16, 128)  0           conv2d_7[0][0]                   \n",
      "__________________________________________________________________________________________________\n",
      "conv2d_8 (Conv2D)               (None, 16, 16, 128)  16512       add_1[0][0]                      \n",
      "__________________________________________________________________________________________________\n",
      "add_2 (Add)                     (None, 16, 16, 128)  0           max_pooling2d_3[0][0]            \n",
      "                                                                 conv2d_8[0][0]                   \n",
      "__________________________________________________________________________________________________\n",
      "conv2d_9 (Conv2D)               (None, 16, 16, 256)  295168      add_2[0][0]                      \n",
      "__________________________________________________________________________________________________\n",
      "conv2d_10 (Conv2D)              (None, 16, 16, 256)  33024       add_2[0][0]                      \n",
      "__________________________________________________________________________________________________\n",
      "add_3 (Add)                     (None, 16, 16, 256)  0           conv2d_9[0][0]                   \n",
      "                                                                 conv2d_10[0][0]                  \n",
      "__________________________________________________________________________________________________\n",
      "conv2d_11 (Conv2D)              (None, 16, 16, 256)  590080      add_3[0][0]                      \n",
      "__________________________________________________________________________________________________\n",
      "conv2d_12 (Conv2D)              (None, 16, 16, 256)  65792       add_3[0][0]                      \n",
      "__________________________________________________________________________________________________\n",
      "add_4 (Add)                     (None, 16, 16, 256)  0           conv2d_11[0][0]                  \n",
      "                                                                 conv2d_12[0][0]                  \n",
      "__________________________________________________________________________________________________\n",
      "conv2d_13 (Conv2D)              (None, 16, 16, 256)  590080      add_4[0][0]                      \n",
      "__________________________________________________________________________________________________\n",
      "conv2d_14 (Conv2D)              (None, 16, 16, 256)  65792       add_4[0][0]                      \n",
      "__________________________________________________________________________________________________\n",
      "add_5 (Add)                     (None, 16, 16, 256)  0           conv2d_13[0][0]                  \n",
      "                                                                 conv2d_14[0][0]                  \n",
      "__________________________________________________________________________________________________\n",
      "max_pooling2d_4 (MaxPooling2D)  (None, 8, 8, 256)    0           add_5[0][0]                      \n",
      "__________________________________________________________________________________________________\n",
      "dense (Dense)                   (None, 8, 8, 64)     16448       max_pooling2d_4[0][0]            \n",
      "__________________________________________________________________________________________________\n",
      "dense_1 (Dense)                 (None, 8, 8, 64)     4160        dense[0][0]                      \n",
      "__________________________________________________________________________________________________\n",
      "dense_2 (Dense)                 (None, 8, 8, 64)     4160        dense_1[0][0]                    \n",
      "__________________________________________________________________________________________________\n",
      "flatten (Flatten)               (None, 4096)         0           dense_2[0][0]                    \n",
      "__________________________________________________________________________________________________\n",
      "dropout (Dropout)               (None, 4096)         0           flatten[0][0]                    \n",
      "__________________________________________________________________________________________________\n",
      "dense_3 (Dense)                 (None, 58)           237626      dropout[0][0]                    \n",
      "==================================================================================================\n",
      "Total params: 2,211,226\n",
      "Trainable params: 2,211,226\n",
      "Non-trainable params: 0\n",
      "__________________________________________________________________________________________________\n"
     ]
    }
   ],
   "source": [
    "inputs = keras.Input(shape=(size_x, size_y, 3)) \n",
    "x = layers.Rescaling(1./255)(inputs) \n",
    "x = layers.Conv2D(filters=16, kernel_size=3, activation=\"relu\")(x)\n",
    "x = layers.MaxPooling2D(pool_size=2)(x)\n",
    "x = layers.Conv2D(filters=32, kernel_size=3, activation=\"relu\")(x)\n",
    "residual = x\n",
    "x = layers.MaxPooling2D(pool_size=2, padding = \"same\")(x)\n",
    "x = layers.Conv2D(filters=64, kernel_size=3, activation=\"relu\", padding = \"same\")(x)\n",
    "residual = layers.Conv2D(64, 1, strides = 2)(residual)\n",
    "x = layers.add([x, residual])\n",
    "residual = x\n",
    "x = layers.Conv2D(filters=64, kernel_size=3, activation=\"relu\", padding = \"same\")(x)\n",
    "x = layers.MaxPooling2D(pool_size=2, padding = \"same\")(x)\n",
    "x = layers.Conv2D(filters=128, kernel_size=3, activation=\"relu\", padding = \"same\")(x)\n",
    "residual = layers.Conv2D(128, 1, strides = 2)(residual)\n",
    "x = layers.add([x, residual])\n",
    "residual = x\n",
    "x = layers.Conv2D(filters=128, kernel_size=3, activation=\"relu\",  padding=\"same\")(x)\n",
    "x = layers.MaxPooling2D(pool_size=2, padding=\"same\")(x)\n",
    "residual = layers.Conv2D(128, 1, strides = 2)(residual)\n",
    "x = layers.add([x, residual])\n",
    "residual = x\n",
    "x = layers.Conv2D(filters=256, kernel_size=3, activation=\"relu\", padding=\"same\")(x)\n",
    "residual = layers.Conv2D(256, 1)(residual)\n",
    "x = layers.add([x, residual])\n",
    "residual = x \n",
    "x = layers.Conv2D(filters=256, kernel_size=3, activation=\"relu\",padding=\"same\")(x)\n",
    "residual = layers.Conv2D(256, 1)(residual)\n",
    "x = layers.add([x, residual])\n",
    "residual = x \n",
    "x = layers.Conv2D(filters=256, kernel_size=3, activation=\"relu\", padding=\"same\")(x)\n",
    "residual = layers.Conv2D(256, 1)(residual)\n",
    "x = layers.add([x, residual])\n",
    "x = layers.MaxPooling2D(pool_size=2)(x)\n",
    "x = layers.Dense(64, activation = \"relu\")(x)\n",
    "x = layers.Dense(64, activation = \"relu\")(x)\n",
    "x = layers.Dense(64, activation = \"relu\")(x)\n",
    "x = layers.Flatten()(x)\n",
    "x = layers.Dropout(0.5)(x)\n",
    "outputs = layers.Dense(58, activation=\"softmax\")(x)\n",
    "model3_7 = keras.Model(inputs=inputs, outputs=outputs)\n",
    "\n",
    "model3_7.summary()"
   ]
  },
  {
   "cell_type": "code",
   "execution_count": 118,
   "metadata": {
    "pycharm": {
     "name": "#%%\n"
    }
   },
   "outputs": [
    {
     "name": "stdout",
     "output_type": "stream",
     "text": [
      "Epoch 1/30\n",
      "145/145 [==============================] - 24s 134ms/step - loss: 4.1573 - accuracy: 0.0337 - val_loss: 3.5732 - val_accuracy: 0.0621\n",
      "INFO:tensorflow:Assets written to: model3_7\\best_version\\assets\n",
      "Epoch 2/30\n"
     ]
    },
    {
     "name": "stderr",
     "output_type": "stream",
     "text": [
      "F:\\Programas\\Anaconda\\envs\\TFGapp\\lib\\site-packages\\keras\\utils\\generic_utils.py:494: CustomMaskWarning: Custom mask layers require a config and must override get_config. When loading, the custom mask layer must be passed to the custom_objects argument.\n",
      "  warnings.warn('Custom mask layers require a config and must override '\n"
     ]
    },
    {
     "name": "stdout",
     "output_type": "stream",
     "text": [
      "145/145 [==============================] - 19s 125ms/step - loss: 3.3311 - accuracy: 0.1420 - val_loss: 3.1421 - val_accuracy: 0.1371\n",
      "INFO:tensorflow:Assets written to: model3_7\\best_version\\assets\n",
      "Epoch 3/30\n"
     ]
    },
    {
     "name": "stderr",
     "output_type": "stream",
     "text": [
      "F:\\Programas\\Anaconda\\envs\\TFGapp\\lib\\site-packages\\keras\\utils\\generic_utils.py:494: CustomMaskWarning: Custom mask layers require a config and must override get_config. When loading, the custom mask layer must be passed to the custom_objects argument.\n",
      "  warnings.warn('Custom mask layers require a config and must override '\n"
     ]
    },
    {
     "name": "stdout",
     "output_type": "stream",
     "text": [
      "145/145 [==============================] - 20s 134ms/step - loss: 2.6754 - accuracy: 0.2568 - val_loss: 2.6730 - val_accuracy: 0.2638\n",
      "INFO:tensorflow:Assets written to: model3_7\\best_version\\assets\n",
      "Epoch 4/30\n"
     ]
    },
    {
     "name": "stderr",
     "output_type": "stream",
     "text": [
      "F:\\Programas\\Anaconda\\envs\\TFGapp\\lib\\site-packages\\keras\\utils\\generic_utils.py:494: CustomMaskWarning: Custom mask layers require a config and must override get_config. When loading, the custom mask layer must be passed to the custom_objects argument.\n",
      "  warnings.warn('Custom mask layers require a config and must override '\n"
     ]
    },
    {
     "name": "stdout",
     "output_type": "stream",
     "text": [
      "145/145 [==============================] - 22s 142ms/step - loss: 2.2540 - accuracy: 0.3641 - val_loss: 2.0273 - val_accuracy: 0.4026\n",
      "INFO:tensorflow:Assets written to: model3_7\\best_version\\assets\n",
      "Epoch 5/30\n"
     ]
    },
    {
     "name": "stderr",
     "output_type": "stream",
     "text": [
      "F:\\Programas\\Anaconda\\envs\\TFGapp\\lib\\site-packages\\keras\\utils\\generic_utils.py:494: CustomMaskWarning: Custom mask layers require a config and must override get_config. When loading, the custom mask layer must be passed to the custom_objects argument.\n",
      "  warnings.warn('Custom mask layers require a config and must override '\n"
     ]
    },
    {
     "name": "stdout",
     "output_type": "stream",
     "text": [
      "145/145 [==============================] - 21s 139ms/step - loss: 1.9247 - accuracy: 0.4414 - val_loss: 1.8682 - val_accuracy: 0.4543\n",
      "INFO:tensorflow:Assets written to: model3_7\\best_version\\assets\n",
      "Epoch 6/30\n"
     ]
    },
    {
     "name": "stderr",
     "output_type": "stream",
     "text": [
      "F:\\Programas\\Anaconda\\envs\\TFGapp\\lib\\site-packages\\keras\\utils\\generic_utils.py:494: CustomMaskWarning: Custom mask layers require a config and must override get_config. When loading, the custom mask layer must be passed to the custom_objects argument.\n",
      "  warnings.warn('Custom mask layers require a config and must override '\n"
     ]
    },
    {
     "name": "stdout",
     "output_type": "stream",
     "text": [
      "145/145 [==============================] - 21s 139ms/step - loss: 1.6296 - accuracy: 0.5115 - val_loss: 1.6148 - val_accuracy: 0.5121\n",
      "INFO:tensorflow:Assets written to: model3_7\\best_version\\assets\n",
      "Epoch 7/30\n"
     ]
    },
    {
     "name": "stderr",
     "output_type": "stream",
     "text": [
      "F:\\Programas\\Anaconda\\envs\\TFGapp\\lib\\site-packages\\keras\\utils\\generic_utils.py:494: CustomMaskWarning: Custom mask layers require a config and must override get_config. When loading, the custom mask layer must be passed to the custom_objects argument.\n",
      "  warnings.warn('Custom mask layers require a config and must override '\n"
     ]
    },
    {
     "name": "stdout",
     "output_type": "stream",
     "text": [
      "145/145 [==============================] - 21s 140ms/step - loss: 1.3658 - accuracy: 0.5797 - val_loss: 1.6357 - val_accuracy: 0.4974\n",
      "Epoch 8/30\n",
      "145/145 [==============================] - 22s 142ms/step - loss: 1.1988 - accuracy: 0.6305 - val_loss: 1.3677 - val_accuracy: 0.5716\n",
      "INFO:tensorflow:Assets written to: model3_7\\best_version\\assets\n",
      "Epoch 9/30\n"
     ]
    },
    {
     "name": "stderr",
     "output_type": "stream",
     "text": [
      "F:\\Programas\\Anaconda\\envs\\TFGapp\\lib\\site-packages\\keras\\utils\\generic_utils.py:494: CustomMaskWarning: Custom mask layers require a config and must override get_config. When loading, the custom mask layer must be passed to the custom_objects argument.\n",
      "  warnings.warn('Custom mask layers require a config and must override '\n"
     ]
    },
    {
     "name": "stdout",
     "output_type": "stream",
     "text": [
      "145/145 [==============================] - 22s 144ms/step - loss: 1.0630 - accuracy: 0.6685 - val_loss: 1.2139 - val_accuracy: 0.6147\n",
      "INFO:tensorflow:Assets written to: model3_7\\best_version\\assets\n",
      "Epoch 10/30\n"
     ]
    },
    {
     "name": "stderr",
     "output_type": "stream",
     "text": [
      "F:\\Programas\\Anaconda\\envs\\TFGapp\\lib\\site-packages\\keras\\utils\\generic_utils.py:494: CustomMaskWarning: Custom mask layers require a config and must override get_config. When loading, the custom mask layer must be passed to the custom_objects argument.\n",
      "  warnings.warn('Custom mask layers require a config and must override '\n"
     ]
    },
    {
     "name": "stdout",
     "output_type": "stream",
     "text": [
      "145/145 [==============================] - 22s 144ms/step - loss: 0.9465 - accuracy: 0.7073 - val_loss: 1.1958 - val_accuracy: 0.6526\n",
      "INFO:tensorflow:Assets written to: model3_7\\best_version\\assets\n",
      "Epoch 11/30\n"
     ]
    },
    {
     "name": "stderr",
     "output_type": "stream",
     "text": [
      "F:\\Programas\\Anaconda\\envs\\TFGapp\\lib\\site-packages\\keras\\utils\\generic_utils.py:494: CustomMaskWarning: Custom mask layers require a config and must override get_config. When loading, the custom mask layer must be passed to the custom_objects argument.\n",
      "  warnings.warn('Custom mask layers require a config and must override '\n"
     ]
    },
    {
     "name": "stdout",
     "output_type": "stream",
     "text": [
      "145/145 [==============================] - 22s 144ms/step - loss: 0.8168 - accuracy: 0.7453 - val_loss: 1.3944 - val_accuracy: 0.5914\n",
      "Epoch 12/30\n",
      "145/145 [==============================] - 22s 143ms/step - loss: 0.7372 - accuracy: 0.7723 - val_loss: 1.2388 - val_accuracy: 0.6457\n",
      "Epoch 13/30\n",
      "145/145 [==============================] - 22s 143ms/step - loss: 0.6308 - accuracy: 0.7970 - val_loss: 1.1242 - val_accuracy: 0.6793\n",
      "INFO:tensorflow:Assets written to: model3_7\\best_version\\assets\n",
      "Epoch 14/30\n"
     ]
    },
    {
     "name": "stderr",
     "output_type": "stream",
     "text": [
      "F:\\Programas\\Anaconda\\envs\\TFGapp\\lib\\site-packages\\keras\\utils\\generic_utils.py:494: CustomMaskWarning: Custom mask layers require a config and must override get_config. When loading, the custom mask layer must be passed to the custom_objects argument.\n",
      "  warnings.warn('Custom mask layers require a config and must override '\n"
     ]
    },
    {
     "name": "stdout",
     "output_type": "stream",
     "text": [
      "145/145 [==============================] - 22s 142ms/step - loss: 0.5698 - accuracy: 0.8130 - val_loss: 1.2504 - val_accuracy: 0.6750\n",
      "Epoch 15/30\n",
      "145/145 [==============================] - 22s 143ms/step - loss: 0.5020 - accuracy: 0.8362 - val_loss: 1.3817 - val_accuracy: 0.6345\n",
      "Epoch 16/30\n",
      "145/145 [==============================] - 22s 142ms/step - loss: 0.4435 - accuracy: 0.8540 - val_loss: 1.0905 - val_accuracy: 0.7103\n",
      "INFO:tensorflow:Assets written to: model3_7\\best_version\\assets\n",
      "Epoch 17/30\n"
     ]
    },
    {
     "name": "stderr",
     "output_type": "stream",
     "text": [
      "F:\\Programas\\Anaconda\\envs\\TFGapp\\lib\\site-packages\\keras\\utils\\generic_utils.py:494: CustomMaskWarning: Custom mask layers require a config and must override get_config. When loading, the custom mask layer must be passed to the custom_objects argument.\n",
      "  warnings.warn('Custom mask layers require a config and must override '\n"
     ]
    },
    {
     "name": "stdout",
     "output_type": "stream",
     "text": [
      "145/145 [==============================] - 22s 143ms/step - loss: 0.4186 - accuracy: 0.8652 - val_loss: 1.0258 - val_accuracy: 0.7121\n",
      "INFO:tensorflow:Assets written to: model3_7\\best_version\\assets\n",
      "Epoch 18/30\n"
     ]
    },
    {
     "name": "stderr",
     "output_type": "stream",
     "text": [
      "F:\\Programas\\Anaconda\\envs\\TFGapp\\lib\\site-packages\\keras\\utils\\generic_utils.py:494: CustomMaskWarning: Custom mask layers require a config and must override get_config. When loading, the custom mask layer must be passed to the custom_objects argument.\n",
      "  warnings.warn('Custom mask layers require a config and must override '\n"
     ]
    },
    {
     "name": "stdout",
     "output_type": "stream",
     "text": [
      "145/145 [==============================] - 22s 143ms/step - loss: 0.3896 - accuracy: 0.8776 - val_loss: 1.2706 - val_accuracy: 0.6621\n",
      "Epoch 19/30\n",
      "145/145 [==============================] - 21s 141ms/step - loss: 0.3610 - accuracy: 0.8824 - val_loss: 1.0851 - val_accuracy: 0.7371\n",
      "Epoch 20/30\n",
      "145/145 [==============================] - 22s 142ms/step - loss: 0.3409 - accuracy: 0.8916 - val_loss: 1.2541 - val_accuracy: 0.7034\n",
      "Epoch 21/30\n",
      "145/145 [==============================] - 22s 145ms/step - loss: 0.3334 - accuracy: 0.8963 - val_loss: 1.3160 - val_accuracy: 0.7069\n",
      "Epoch 22/30\n",
      "145/145 [==============================] - 22s 142ms/step - loss: 0.3047 - accuracy: 0.9064 - val_loss: 1.1636 - val_accuracy: 0.7233\n",
      "Epoch 23/30\n",
      "145/145 [==============================] - 21s 138ms/step - loss: 0.2961 - accuracy: 0.9084 - val_loss: 1.9536 - val_accuracy: 0.6353\n",
      "Epoch 24/30\n",
      "145/145 [==============================] - 21s 140ms/step - loss: 0.2847 - accuracy: 0.9131 - val_loss: 1.5492 - val_accuracy: 0.6707\n",
      "Epoch 25/30\n",
      "145/145 [==============================] - 22s 143ms/step - loss: 0.2551 - accuracy: 0.9208 - val_loss: 1.1352 - val_accuracy: 0.7457\n",
      "Epoch 26/30\n",
      "145/145 [==============================] - 21s 139ms/step - loss: 0.2462 - accuracy: 0.9262 - val_loss: 1.3371 - val_accuracy: 0.7069\n",
      "Epoch 27/30\n",
      "145/145 [==============================] - 21s 139ms/step - loss: 0.2759 - accuracy: 0.9211 - val_loss: 1.5540 - val_accuracy: 0.7233\n",
      "Epoch 28/30\n",
      "145/145 [==============================] - 21s 139ms/step - loss: 0.2493 - accuracy: 0.9231 - val_loss: 1.3559 - val_accuracy: 0.7121\n",
      "Epoch 29/30\n",
      "145/145 [==============================] - 22s 143ms/step - loss: 0.2246 - accuracy: 0.9329 - val_loss: 1.6825 - val_accuracy: 0.7034\n",
      "Epoch 30/30\n",
      "145/145 [==============================] - 22s 142ms/step - loss: 0.2386 - accuracy: 0.9290 - val_loss: 1.3815 - val_accuracy: 0.7371\n"
     ]
    }
   ],
   "source": [
    "model3_7.compile(loss=\"categorical_crossentropy\",\n",
    "    optimizer=\"rmsprop\",\n",
    "    metrics=[\"accuracy\"])\n",
    "\n",
    "callbacks = [\n",
    "    keras.callbacks.ModelCheckpoint(\n",
    "    filepath=\"model3_7/best_version\",\n",
    "    save_best_only=True,\n",
    "    monitor=\"val_loss\")\n",
    "]\n",
    "\n",
    "history = model3_7.fit(\n",
    "    train_dataset,\n",
    "    epochs=30,\n",
    "    validation_data=validation_dataset,\n",
    "    callbacks=callbacks)"
   ]
  },
  {
   "cell_type": "code",
   "execution_count": 119,
   "metadata": {
    "pycharm": {
     "name": "#%%\n"
    }
   },
   "outputs": [
    {
     "name": "stdout",
     "output_type": "stream",
     "text": [
      "INFO:tensorflow:Assets written to: model3_7/model\\assets\n"
     ]
    },
    {
     "name": "stderr",
     "output_type": "stream",
     "text": [
      "F:\\Programas\\Anaconda\\envs\\TFGapp\\lib\\site-packages\\keras\\utils\\generic_utils.py:494: CustomMaskWarning: Custom mask layers require a config and must override get_config. When loading, the custom mask layer must be passed to the custom_objects argument.\n",
      "  warnings.warn('Custom mask layers require a config and must override '\n"
     ]
    }
   ],
   "source": [
    "model3_7.save('model3_7/model')\n",
    "np.save('model3_7/history.npy',history.history)"
   ]
  },
  {
   "cell_type": "code",
   "execution_count": 120,
   "metadata": {
    "pycharm": {
     "name": "#%%\n"
    }
   },
   "outputs": [],
   "source": [
    "my_history1=np.load('model3_6/history.npy',allow_pickle='TRUE').item()\n",
    "my_history2=np.load('model3_7/history.npy',allow_pickle='TRUE').item()"
   ]
  },
  {
   "cell_type": "code",
   "execution_count": 121,
   "metadata": {
    "pycharm": {
     "name": "#%%\n"
    }
   },
   "outputs": [
    {
     "data": {
      "image/png": "[encoded data removed]",
      "text/plain": [
       "<Figure size 432x288 with 1 Axes>"
      ]
     },
     "metadata": {
      "needs_background": "light"
     },
     "output_type": "display_data"
    }
   ],
   "source": [
    "loss_1 = my_history1[\"loss\"]\n",
    "val_loss_1 = my_history1[\"val_loss\"]\n",
    "loss_2 = my_history2[\"loss\"]\n",
    "val_loss_2 = my_history2[\"val_loss\"]\n",
    "epochs = range(1, len(loss_1) + 1)\n",
    "\n",
    "plt.plot(epochs, loss_1, \"b.\", label=\"Training loss original\")\n",
    "plt.plot(epochs, loss_2, \"r.\", label=\"Training loss new\")\n",
    "plt.plot(epochs, val_loss_1, \"b\", label=\"Validation loss original\")\n",
    "plt.plot(epochs, val_loss_2, \"r\", label=\"Validation loss new\")\n",
    "plt.title(\"Training and validation loss\")\n",
    "plt.xlabel(\"Epochs\")\n",
    "plt.ylabel(\"Loss\")\n",
    "plt.legend()\n",
    "plt.show()"
   ]
  },
  {
   "cell_type": "code",
   "execution_count": 122,
   "metadata": {
    "pycharm": {
     "name": "#%%\n"
    }
   },
   "outputs": [
    {
     "data": {
      "image/png": "[encoded data removed]",
      "text/plain": [
       "<Figure size 432x288 with 1 Axes>"
      ]
     },
     "metadata": {
      "needs_background": "light"
     },
     "output_type": "display_data"
    }
   ],
   "source": [
    "\n",
    "plt.clf()\n",
    "\n",
    "acc_1 = my_history1[\"accuracy\"]\n",
    "val_acc_1 = my_history1[\"val_accuracy\"]\n",
    "acc_2 = my_history2[\"accuracy\"]\n",
    "val_acc_2 = my_history2[\"val_accuracy\"]\n",
    "epochs = range(1, len(loss_1) + 1)\n",
    "\n",
    "plt.plot(epochs, acc_1, \"b.\", label=\"Training accuracy original\")\n",
    "plt.plot(epochs, acc_2, \"r.\", label=\"Training accuracy new\")\n",
    "plt.plot(epochs, val_acc_1, \"b\", label=\"Validation accuracy original\")\n",
    "plt.plot(epochs, val_acc_2, \"r\", label=\"Validation accuracy new\")\n",
    "plt.title(\"Training and validation accuracy\")\n",
    "plt.xlabel(\"Epochs\")\n",
    "plt.ylabel(\"Accuracy\")\n",
    "plt.legend()\n",
    "plt.show()"
   ]
  },
  {
   "cell_type": "code",
   "execution_count": 123,
   "metadata": {
    "pycharm": {
     "name": "#%%\n"
    }
   },
   "outputs": [
    {
     "name": "stdout",
     "output_type": "stream",
     "text": [
      "19/19 [==============================] - 3s 80ms/step - loss: 1.5573 - accuracy: 0.7207\n"
     ]
    },
    {
     "data": {
      "text/plain": [
       "[1.5572614669799805, 0.7206896543502808]"
      ]
     },
     "execution_count": 123,
     "metadata": {},
     "output_type": "execute_result"
    }
   ],
   "source": [
    "model = keras.models.load_model('model3_7/model')\n",
    "results= model.evaluate(test_dataset)\n",
    "results"
   ]
  },
  {
   "cell_type": "code",
   "execution_count": 124,
   "metadata": {
    "pycharm": {
     "name": "#%%\n"
    }
   },
   "outputs": [
    {
     "name": "stdout",
     "output_type": "stream",
     "text": [
      "19/19 [==============================] - 3s 90ms/step - loss: 1.2040 - accuracy: 0.6931\n"
     ]
    },
    {
     "data": {
      "text/plain": [
       "[1.2039934396743774, 0.6931034326553345]"
      ]
     },
     "execution_count": 124,
     "metadata": {},
     "output_type": "execute_result"
    }
   ],
   "source": [
    "model = keras.models.load_model('model3_7/best_version')\n",
    "results= model.evaluate(test_dataset)\n",
    "results"
   ]
  },
  {
   "cell_type": "markdown",
   "metadata": {
    "pycharm": {
     "name": "#%% md\n"
    }
   },
   "source": [
    "## Modelo 3.8: conexiones residuales completas y mayor profundidad"
   ]
  },
  {
   "cell_type": "code",
   "execution_count": null,
   "outputs": [],
   "source": [
    "inputs = keras.Input(shape=(size_x, size_y, 3)) \n",
    "x = layers.Rescaling(1./255)(inputs) \n",
    "x = layers.Conv2D(filters=16, kernel_size=3, activation=\"relu\")(x)\n",
    "x = layers.MaxPooling2D(pool_size=2)(x)\n",
    "x = layers.Conv2D(filters=32, kernel_size=3, activation=\"relu\")(x)\n",
    "residual = x\n",
    "x = layers.MaxPooling2D(pool_size=2, padding = \"same\")(x)\n",
    "x = layers.Conv2D(filters=64, kernel_size=3, activation=\"relu\", padding = \"same\")(x)\n",
    "residual = layers.Conv2D(64, 1, strides = 2)(residual)\n",
    "x = layers.add([x, residual])\n",
    "residual = x\n",
    "x = layers.Conv2D(filters=64, kernel_size=3, activation=\"relu\", padding = \"same\")(x)\n",
    "x = layers.MaxPooling2D(pool_size=2, padding = \"same\")(x)\n",
    "x = layers.Conv2D(filters=128, kernel_size=3, activation=\"relu\", padding = \"same\")(x)\n",
    "residual = layers.Conv2D(128, 1, strides = 2)(residual)\n",
    "x = layers.add([x, residual])\n",
    "residual = x\n",
    "x = layers.Conv2D(filters=128, kernel_size=3, activation=\"relu\",  padding=\"same\")(x)\n",
    "x = layers.MaxPooling2D(pool_size=2, padding=\"same\")(x)\n",
    "residual = layers.Conv2D(128, 1, strides = 2)(residual)\n",
    "x = layers.add([x, residual])\n",
    "residual = x\n",
    "x = layers.Conv2D(filters=256, kernel_size=3, activation=\"relu\", padding=\"same\")(x)\n",
    "residual = layers.Conv2D(256, 1)(residual)\n",
    "x = layers.add([x, residual])\n",
    "residual = x \n",
    "x = layers.Conv2D(filters=256, kernel_size=3, activation=\"relu\",padding=\"same\")(x)\n",
    "residual = layers.Conv2D(256, 1)(residual)\n",
    "x = layers.add([x, residual])\n",
    "residual = x \n",
    "x = layers.Conv2D(filters=256, kernel_size=3, activation=\"relu\",padding=\"same\")(x)\n",
    "residual = layers.Conv2D(256, 1)(residual)\n",
    "x = layers.add([x, residual])\n",
    "residual = x \n",
    "x = layers.MaxPooling2D(pool_size=2, padding=\"same\")(x)\n",
    "x = layers.Conv2D(filters=512, kernel_size=3, activation=\"relu\",padding=\"same\")(x)\n",
    "residual = layers.Conv2D(512, 1, strides = 2)(residual)\n",
    "x = layers.add([x, residual])\n",
    "x = layers.MaxPooling2D(pool_size=2)(x)\n",
    "x = layers.Dense(64, activation = \"relu\")(x)\n",
    "x = layers.Dense(64, activation = \"relu\")(x)\n",
    "x = layers.Dense(64, activation = \"relu\")(x)\n",
    "x = layers.Flatten()(x)\n",
    "x = layers.Dropout(0.5)(x)\n",
    "outputs = layers.Dense(58, activation=\"softmax\")(x)\n",
    "model3_8 = keras.Model(inputs=inputs, outputs=outputs)\n",
    "\n",
    "model3_8.summary()"
   ],
   "metadata": {
    "collapsed": false,
    "pycharm": {
     "name": "#%%\n"
    }
   }
  },
  {
   "cell_type": "code",
   "execution_count": null,
   "outputs": [],
   "source": [
    "model3_8.compile(loss=\"categorical_crossentropy\",\n",
    "    optimizer=\"rmsprop\",\n",
    "    metrics=[\"accuracy\"])\n",
    "\n",
    "callbacks = [\n",
    "    keras.callbacks.ModelCheckpoint(\n",
    "    filepath=\"model3_8/best_version\",\n",
    "    save_best_only=True,\n",
    "    monitor=\"val_loss\")\n",
    "]\n",
    "\n",
    "history = model3_8.fit(\n",
    "    train_dataset,\n",
    "    epochs=30,\n",
    "    validation_data=validation_dataset,\n",
    "    callbacks=callbacks)"
   ],
   "metadata": {
    "collapsed": false,
    "pycharm": {
     "name": "#%%\n"
    }
   }
  },
  {
   "cell_type": "code",
   "execution_count": null,
   "outputs": [],
   "source": [
    "model3_8.save('model3_8/model')\n",
    "np.save('model3_8/history.npy',history.history)"
   ],
   "metadata": {
    "collapsed": false,
    "pycharm": {
     "name": "#%%\n"
    }
   }
  },
  {
   "cell_type": "code",
   "execution_count": null,
   "outputs": [],
   "source": [
    "my_history1=np.load('model3_7/history.npy',allow_pickle='TRUE').item()\n",
    "my_history2=np.load('model3_8/history.npy',allow_pickle='TRUE').item()"
   ],
   "metadata": {
    "collapsed": false,
    "pycharm": {
     "name": "#%%\n"
    }
   }
  },
  {
   "cell_type": "code",
   "execution_count": null,
   "outputs": [],
   "source": [
    "loss_1 = my_history1[\"loss\"]\n",
    "val_loss_1 = my_history1[\"val_loss\"]\n",
    "loss_2 = my_history2[\"loss\"]\n",
    "val_loss_2 = my_history2[\"val_loss\"]\n",
    "epochs = range(1, len(loss_1) + 1)\n",
    "\n",
    "plt.plot(epochs, loss_1, \"b.\", label=\"Training loss original\")\n",
    "plt.plot(epochs, loss_2, \"r.\", label=\"Training loss new\")\n",
    "plt.plot(epochs, val_loss_1, \"b\", label=\"Validation loss original\")\n",
    "plt.plot(epochs, val_loss_2, \"r\", label=\"Validation loss new\")\n",
    "plt.title(\"Training and validation loss\")\n",
    "plt.xlabel(\"Epochs\")\n",
    "plt.ylabel(\"Loss\")\n",
    "plt.legend()\n",
    "plt.show()"
   ],
   "metadata": {
    "collapsed": false,
    "pycharm": {
     "name": "#%%\n"
    }
   }
  },
  {
   "cell_type": "code",
   "execution_count": null,
   "outputs": [],
   "source": [
    "\n",
    "plt.clf()\n",
    "\n",
    "acc_1 = my_history1[\"accuracy\"]\n",
    "val_acc_1 = my_history1[\"val_accuracy\"]\n",
    "acc_2 = my_history2[\"accuracy\"]\n",
    "val_acc_2 = my_history2[\"val_accuracy\"]\n",
    "epochs = range(1, len(loss_1) + 1)\n",
    "\n",
    "plt.plot(epochs, acc_1, \"b.\", label=\"Training accuracy original\")\n",
    "plt.plot(epochs, acc_2, \"r.\", label=\"Training accuracy new\")\n",
    "plt.plot(epochs, val_acc_1, \"b\", label=\"Validation accuracy original\")\n",
    "plt.plot(epochs, val_acc_2, \"r\", label=\"Validation accuracy new\")\n",
    "plt.title(\"Training and validation accuracy\")\n",
    "plt.xlabel(\"Epochs\")\n",
    "plt.ylabel(\"Accuracy\")\n",
    "plt.legend()\n",
    "plt.show()"
   ],
   "metadata": {
    "collapsed": false,
    "pycharm": {
     "name": "#%%\n"
    }
   }
  },
  {
   "cell_type": "code",
   "execution_count": null,
   "outputs": [],
   "source": [
    "model = keras.models.load_model('model3_8/model')\n",
    "results= model.evaluate(test_dataset)\n",
    "results"
   ],
   "metadata": {
    "collapsed": false,
    "pycharm": {
     "name": "#%%\n"
    }
   }
  },
  {
   "cell_type": "code",
   "execution_count": null,
   "outputs": [],
   "source": [
    "model = keras.models.load_model('model3_8/best_version')\n",
    "results= model.evaluate(test_dataset)\n",
    "results"
   ],
   "metadata": {
    "collapsed": false,
    "pycharm": {
     "name": "#%%\n"
    }
   }
  },
  {
   "cell_type": "markdown",
   "source": [
    "## Modelo 3.9: eliminación de capas densas"
   ],
   "metadata": {
    "collapsed": false,
    "pycharm": {
     "name": "#%% md\n"
    }
   }
  },
  {
   "cell_type": "code",
   "execution_count": null,
   "outputs": [],
   "source": [
    "inputs = keras.Input(shape=(size_x, size_y, 3)) \n",
    "x = layers.Rescaling(1./255)(inputs) \n",
    "x = layers.Conv2D(filters=16, kernel_size=3, activation=\"relu\")(x)\n",
    "x = layers.MaxPooling2D(pool_size=2)(x)\n",
    "x = layers.Conv2D(filters=32, kernel_size=3, activation=\"relu\")(x)\n",
    "residual = x\n",
    "x = layers.MaxPooling2D(pool_size=2, padding = \"same\")(x)\n",
    "x = layers.Conv2D(filters=64, kernel_size=3, activation=\"relu\", padding = \"same\")(x)\n",
    "residual = layers.Conv2D(64, 1, strides = 2)(residual)\n",
    "x = layers.add([x, residual])\n",
    "residual = x\n",
    "x = layers.Conv2D(filters=64, kernel_size=3, activation=\"relu\", padding = \"same\")(x)\n",
    "x = layers.MaxPooling2D(pool_size=2, padding = \"same\")(x)\n",
    "x = layers.Conv2D(filters=128, kernel_size=3, activation=\"relu\", padding = \"same\")(x)\n",
    "residual = layers.Conv2D(128, 1, strides = 2)(residual)\n",
    "x = layers.add([x, residual])\n",
    "residual = x\n",
    "x = layers.Conv2D(filters=128, kernel_size=3, activation=\"relu\",  padding=\"same\")(x)\n",
    "x = layers.MaxPooling2D(pool_size=2, padding=\"same\")(x)\n",
    "residual = layers.Conv2D(128, 1, strides = 2)(residual)\n",
    "x = layers.add([x, residual])\n",
    "residual = x\n",
    "x = layers.Conv2D(filters=256, kernel_size=3, activation=\"relu\", padding=\"same\")(x)\n",
    "residual = layers.Conv2D(256, 1)(residual)\n",
    "x = layers.add([x, residual])\n",
    "residual = x \n",
    "x = layers.Conv2D(filters=256, kernel_size=3, activation=\"relu\",padding=\"same\")(x)\n",
    "residual = layers.Conv2D(256, 1)(residual)\n",
    "x = layers.add([x, residual])\n",
    "residual = x \n",
    "x = layers.Conv2D(filters=256, kernel_size=3, activation=\"relu\",padding=\"same\")(x)\n",
    "residual = layers.Conv2D(256, 1)(residual)\n",
    "x = layers.add([x, residual])\n",
    "residual = x \n",
    "x = layers.MaxPooling2D(pool_size=2, padding=\"same\")(x)\n",
    "x = layers.Conv2D(filters=512, kernel_size=3, activation=\"relu\",padding=\"same\")(x)\n",
    "residual = layers.Conv2D(512, 1, strides = 2)(residual)\n",
    "x = layers.add([x, residual])\n",
    "x = layers.MaxPooling2D(pool_size=2)(x)\n",
    "x = layers.Flatten()(x)\n",
    "x = layers.Dropout(0.5)(x)\n",
    "outputs = layers.Dense(58, activation=\"softmax\")(x)\n",
    "model3_9 = keras.Model(inputs=inputs, outputs=outputs)\n",
    "\n",
    "model3_9.summary()"
   ],
   "metadata": {
    "collapsed": false,
    "pycharm": {
     "name": "#%%\n"
    }
   }
  },
  {
   "cell_type": "code",
   "execution_count": null,
   "outputs": [],
   "source": [
    "model3_9.compile(loss=\"categorical_crossentropy\",\n",
    "    optimizer=\"rmsprop\",\n",
    "    metrics=[\"accuracy\"])\n",
    "\n",
    "callbacks = [\n",
    "    keras.callbacks.ModelCheckpoint(\n",
    "    filepath=\"model3_9/best_version\",\n",
    "    save_best_only=True,\n",
    "    monitor=\"val_loss\")\n",
    "]\n",
    "\n",
    "history = model3_9.fit(\n",
    "    train_dataset,\n",
    "    epochs=30,\n",
    "    validation_data=validation_dataset,\n",
    "    callbacks=callbacks)"
   ],
   "metadata": {
    "collapsed": false,
    "pycharm": {
     "name": "#%%\n"
    }
   }
  },
  {
   "cell_type": "code",
   "execution_count": null,
   "outputs": [],
   "source": [
    "model3_9.save('model3_9/model')\n",
    "np.save('model3_9/history.npy',history.history)"
   ],
   "metadata": {
    "collapsed": false,
    "pycharm": {
     "name": "#%%\n"
    }
   }
  },
  {
   "cell_type": "code",
   "execution_count": null,
   "outputs": [],
   "source": [
    "my_history1=np.load('model3_8/history.npy',allow_pickle='TRUE').item()\n",
    "my_history2=np.load('model3_9/history.npy',allow_pickle='TRUE').item()"
   ],
   "metadata": {
    "collapsed": false,
    "pycharm": {
     "name": "#%%\n"
    }
   }
  },
  {
   "cell_type": "code",
   "execution_count": null,
   "outputs": [],
   "source": [
    "loss_1 = my_history1[\"loss\"]\n",
    "val_loss_1 = my_history1[\"val_loss\"]\n",
    "loss_2 = my_history2[\"loss\"]\n",
    "val_loss_2 = my_history2[\"val_loss\"]\n",
    "epochs = range(1, len(loss_1) + 1)\n",
    "\n",
    "plt.plot(epochs, loss_1, \"b.\", label=\"Training loss original\")\n",
    "plt.plot(epochs, loss_2, \"r.\", label=\"Training loss new\")\n",
    "plt.plot(epochs, val_loss_1, \"b\", label=\"Validation loss original\")\n",
    "plt.plot(epochs, val_loss_2, \"r\", label=\"Validation loss new\")\n",
    "plt.title(\"Training and validation loss\")\n",
    "plt.xlabel(\"Epochs\")\n",
    "plt.ylabel(\"Loss\")\n",
    "plt.legend()\n",
    "plt.show()"
   ],
   "metadata": {
    "collapsed": false,
    "pycharm": {
     "name": "#%%\n"
    }
   }
  },
  {
   "cell_type": "code",
   "execution_count": null,
   "outputs": [],
   "source": [
    "\n",
    "plt.clf()\n",
    "\n",
    "acc_1 = my_history1[\"accuracy\"]\n",
    "val_acc_1 = my_history1[\"val_accuracy\"]\n",
    "acc_2 = my_history2[\"accuracy\"]\n",
    "val_acc_2 = my_history2[\"val_accuracy\"]\n",
    "epochs = range(1, len(loss_1) + 1)\n",
    "\n",
    "plt.plot(epochs, acc_1, \"b.\", label=\"Training accuracy original\")\n",
    "plt.plot(epochs, acc_2, \"r.\", label=\"Training accuracy new\")\n",
    "plt.plot(epochs, val_acc_1, \"b\", label=\"Validation accuracy original\")\n",
    "plt.plot(epochs, val_acc_2, \"r\", label=\"Validation accuracy new\")\n",
    "plt.title(\"Training and validation accuracy\")\n",
    "plt.xlabel(\"Epochs\")\n",
    "plt.ylabel(\"Accuracy\")\n",
    "plt.legend()\n",
    "plt.show()"
   ],
   "metadata": {
    "collapsed": false,
    "pycharm": {
     "name": "#%%\n"
    }
   }
  },
  {
   "cell_type": "code",
   "execution_count": null,
   "outputs": [],
   "source": [
    "model = keras.models.load_model('model3_9/model')\n",
    "results= model.evaluate(test_dataset)\n",
    "results"
   ],
   "metadata": {
    "collapsed": false,
    "pycharm": {
     "name": "#%%\n"
    }
   }
  },
  {
   "cell_type": "code",
   "execution_count": null,
   "outputs": [],
   "source": [
    "model = keras.models.load_model('model3_9/best_version')\n",
    "results= model.evaluate(test_dataset)\n",
    "results"
   ],
   "metadata": {
    "collapsed": false,
    "pycharm": {
     "name": "#%%\n"
    }
   }
  },
  {
   "cell_type": "markdown",
   "source": [
    "## Modelo 3.10: capas densas más grandes"
   ],
   "metadata": {
    "collapsed": false,
    "pycharm": {
     "name": "#%% md\n"
    }
   }
  },
  {
   "cell_type": "code",
   "execution_count": null,
   "outputs": [],
   "source": [
    "inputs = keras.Input(shape=(size_x, size_y, 3)) \n",
    "x = layers.Rescaling(1./255)(inputs) \n",
    "x = layers.Conv2D(filters=16, kernel_size=3, activation=\"relu\")(x)\n",
    "x = layers.MaxPooling2D(pool_size=2)(x)\n",
    "x = layers.Conv2D(filters=32, kernel_size=3, activation=\"relu\")(x)\n",
    "residual = x\n",
    "x = layers.MaxPooling2D(pool_size=2, padding = \"same\")(x)\n",
    "x = layers.Conv2D(filters=64, kernel_size=3, activation=\"relu\", padding = \"same\")(x)\n",
    "residual = layers.Conv2D(64, 1, strides = 2)(residual)\n",
    "x = layers.add([x, residual])\n",
    "residual = x\n",
    "x = layers.Conv2D(filters=64, kernel_size=3, activation=\"relu\", padding = \"same\")(x)\n",
    "x = layers.MaxPooling2D(pool_size=2, padding = \"same\")(x)\n",
    "x = layers.Conv2D(filters=128, kernel_size=3, activation=\"relu\", padding = \"same\")(x)\n",
    "residual = layers.Conv2D(128, 1, strides = 2)(residual)\n",
    "x = layers.add([x, residual])\n",
    "residual = x\n",
    "x = layers.Conv2D(filters=128, kernel_size=3, activation=\"relu\",  padding=\"same\")(x)\n",
    "x = layers.MaxPooling2D(pool_size=2, padding=\"same\")(x)\n",
    "residual = layers.Conv2D(128, 1, strides = 2)(residual)\n",
    "x = layers.add([x, residual])\n",
    "residual = x\n",
    "x = layers.Conv2D(filters=256, kernel_size=3, activation=\"relu\", padding=\"same\")(x)\n",
    "residual = layers.Conv2D(256, 1)(residual)\n",
    "x = layers.add([x, residual])\n",
    "residual = x \n",
    "x = layers.Conv2D(filters=256, kernel_size=3, activation=\"relu\",padding=\"same\")(x)\n",
    "residual = layers.Conv2D(256, 1)(residual)\n",
    "x = layers.add([x, residual])\n",
    "residual = x \n",
    "x = layers.Conv2D(filters=256, kernel_size=3, activation=\"relu\",padding=\"same\")(x)\n",
    "residual = layers.Conv2D(256, 1)(residual)\n",
    "x = layers.add([x, residual])\n",
    "residual = x\n",
    "x = layers.MaxPooling2D(pool_size=2, padding=\"same\")(x)\n",
    "x = layers.Conv2D(filters=512, kernel_size=3, activation=\"relu\",padding=\"same\")(x)\n",
    "residual = layers.Conv2D(512, 1, strides = 2)(residual)\n",
    "x = layers.add([x, residual])\n",
    "x = layers.MaxPooling2D(pool_size=2)(x)\n",
    "x = layers.Dense(256, activation = \"relu\")(x)\n",
    "x = layers.Flatten()(x)\n",
    "x = layers.Dropout(0.5)(x)\n",
    "outputs = layers.Dense(58, activation=\"softmax\")(x)\n",
    "model3_10 = keras.Model(inputs=inputs, outputs=outputs)\n",
    "\n",
    "model3_10.summary()"
   ],
   "metadata": {
    "collapsed": false,
    "pycharm": {
     "name": "#%%\n"
    }
   }
  },
  {
   "cell_type": "code",
   "execution_count": 42,
   "metadata": {
    "pycharm": {
     "name": "#%%\n"
    },
    "scrolled": true
   },
   "outputs": [
    {
     "name": "stdout",
     "output_type": "stream",
     "text": [
      "Epoch 1/30\n",
      "145/145 [==============================] - 24s 146ms/step - loss: 4.4896 - accuracy: 0.0256 - val_loss: 3.9835 - val_accuracy: 0.0362\n",
      "INFO:tensorflow:Assets written to: model3_10\\best_version\\assets\n",
      "Epoch 2/30\n"
     ]
    },
    {
     "name": "stderr",
     "output_type": "stream",
     "text": [
      "F:\\Programas\\Anaconda\\envs\\TFGapp\\lib\\site-packages\\keras\\utils\\generic_utils.py:494: CustomMaskWarning: Custom mask layers require a config and must override get_config. When loading, the custom mask layer must be passed to the custom_objects argument.\n",
      "  warnings.warn('Custom mask layers require a config and must override '\n"
     ]
    },
    {
     "name": "stdout",
     "output_type": "stream",
     "text": [
      "145/145 [==============================] - 21s 134ms/step - loss: 4.4180 - accuracy: 0.0267 - val_loss: 3.9785 - val_accuracy: 0.0319\n",
      "INFO:tensorflow:Assets written to: model3_10\\best_version\\assets\n",
      "Epoch 3/30\n"
     ]
    },
    {
     "name": "stderr",
     "output_type": "stream",
     "text": [
      "F:\\Programas\\Anaconda\\envs\\TFGapp\\lib\\site-packages\\keras\\utils\\generic_utils.py:494: CustomMaskWarning: Custom mask layers require a config and must override get_config. When loading, the custom mask layer must be passed to the custom_objects argument.\n",
      "  warnings.warn('Custom mask layers require a config and must override '\n"
     ]
    },
    {
     "name": "stdout",
     "output_type": "stream",
     "text": [
      "145/145 [==============================] - 21s 136ms/step - loss: 3.9139 - accuracy: 0.0733 - val_loss: 3.9667 - val_accuracy: 0.0569\n",
      "INFO:tensorflow:Assets written to: model3_10\\best_version\\assets\n",
      "Epoch 4/30\n"
     ]
    },
    {
     "name": "stderr",
     "output_type": "stream",
     "text": [
      "F:\\Programas\\Anaconda\\envs\\TFGapp\\lib\\site-packages\\keras\\utils\\generic_utils.py:494: CustomMaskWarning: Custom mask layers require a config and must override get_config. When loading, the custom mask layer must be passed to the custom_objects argument.\n",
      "  warnings.warn('Custom mask layers require a config and must override '\n"
     ]
    },
    {
     "name": "stdout",
     "output_type": "stream",
     "text": [
      "145/145 [==============================] - 19s 125ms/step - loss: 3.1512 - accuracy: 0.1553 - val_loss: 2.9337 - val_accuracy: 0.1957\n",
      "INFO:tensorflow:Assets written to: model3_10\\best_version\\assets\n",
      "Epoch 5/30\n"
     ]
    },
    {
     "name": "stderr",
     "output_type": "stream",
     "text": [
      "F:\\Programas\\Anaconda\\envs\\TFGapp\\lib\\site-packages\\keras\\utils\\generic_utils.py:494: CustomMaskWarning: Custom mask layers require a config and must override get_config. When loading, the custom mask layer must be passed to the custom_objects argument.\n",
      "  warnings.warn('Custom mask layers require a config and must override '\n"
     ]
    },
    {
     "name": "stdout",
     "output_type": "stream",
     "text": [
      "145/145 [==============================] - 19s 121ms/step - loss: 2.5757 - accuracy: 0.2716 - val_loss: 2.0068 - val_accuracy: 0.4155\n",
      "INFO:tensorflow:Assets written to: model3_10\\best_version\\assets\n",
      "Epoch 6/30\n"
     ]
    },
    {
     "name": "stderr",
     "output_type": "stream",
     "text": [
      "F:\\Programas\\Anaconda\\envs\\TFGapp\\lib\\site-packages\\keras\\utils\\generic_utils.py:494: CustomMaskWarning: Custom mask layers require a config and must override get_config. When loading, the custom mask layer must be passed to the custom_objects argument.\n",
      "  warnings.warn('Custom mask layers require a config and must override '\n"
     ]
    },
    {
     "name": "stdout",
     "output_type": "stream",
     "text": [
      "145/145 [==============================] - 19s 120ms/step - loss: 2.1559 - accuracy: 0.3707 - val_loss: 2.1333 - val_accuracy: 0.3897\n",
      "Epoch 7/30\n",
      "145/145 [==============================] - 18s 121ms/step - loss: 1.8525 - accuracy: 0.4477 - val_loss: 1.5741 - val_accuracy: 0.5233\n",
      "INFO:tensorflow:Assets written to: model3_10\\best_version\\assets\n",
      "Epoch 8/30\n"
     ]
    },
    {
     "name": "stderr",
     "output_type": "stream",
     "text": [
      "F:\\Programas\\Anaconda\\envs\\TFGapp\\lib\\site-packages\\keras\\utils\\generic_utils.py:494: CustomMaskWarning: Custom mask layers require a config and must override get_config. When loading, the custom mask layer must be passed to the custom_objects argument.\n",
      "  warnings.warn('Custom mask layers require a config and must override '\n"
     ]
    },
    {
     "name": "stdout",
     "output_type": "stream",
     "text": [
      "145/145 [==============================] - 19s 121ms/step - loss: 1.5355 - accuracy: 0.5295 - val_loss: 1.3458 - val_accuracy: 0.5836\n",
      "INFO:tensorflow:Assets written to: model3_10\\best_version\\assets\n",
      "Epoch 9/30\n"
     ]
    },
    {
     "name": "stderr",
     "output_type": "stream",
     "text": [
      "F:\\Programas\\Anaconda\\envs\\TFGapp\\lib\\site-packages\\keras\\utils\\generic_utils.py:494: CustomMaskWarning: Custom mask layers require a config and must override get_config. When loading, the custom mask layer must be passed to the custom_objects argument.\n",
      "  warnings.warn('Custom mask layers require a config and must override '\n"
     ]
    },
    {
     "name": "stdout",
     "output_type": "stream",
     "text": [
      "145/145 [==============================] - 19s 124ms/step - loss: 1.3273 - accuracy: 0.5894 - val_loss: 1.2438 - val_accuracy: 0.5983\n",
      "INFO:tensorflow:Assets written to: model3_10\\best_version\\assets\n",
      "Epoch 10/30\n"
     ]
    },
    {
     "name": "stderr",
     "output_type": "stream",
     "text": [
      "F:\\Programas\\Anaconda\\envs\\TFGapp\\lib\\site-packages\\keras\\utils\\generic_utils.py:494: CustomMaskWarning: Custom mask layers require a config and must override get_config. When loading, the custom mask layer must be passed to the custom_objects argument.\n",
      "  warnings.warn('Custom mask layers require a config and must override '\n"
     ]
    },
    {
     "name": "stdout",
     "output_type": "stream",
     "text": [
      "145/145 [==============================] - 19s 126ms/step - loss: 1.1305 - accuracy: 0.6462 - val_loss: 1.3068 - val_accuracy: 0.6069\n",
      "Epoch 11/30\n",
      "145/145 [==============================] - 19s 125ms/step - loss: 0.9838 - accuracy: 0.6889 - val_loss: 1.2537 - val_accuracy: 0.6052\n",
      "Epoch 12/30\n",
      "145/145 [==============================] - 19s 125ms/step - loss: 0.8643 - accuracy: 0.7181 - val_loss: 1.2168 - val_accuracy: 0.6319\n",
      "INFO:tensorflow:Assets written to: model3_10\\best_version\\assets\n",
      "Epoch 13/30\n"
     ]
    },
    {
     "name": "stderr",
     "output_type": "stream",
     "text": [
      "F:\\Programas\\Anaconda\\envs\\TFGapp\\lib\\site-packages\\keras\\utils\\generic_utils.py:494: CustomMaskWarning: Custom mask layers require a config and must override get_config. When loading, the custom mask layer must be passed to the custom_objects argument.\n",
      "  warnings.warn('Custom mask layers require a config and must override '\n"
     ]
    },
    {
     "name": "stdout",
     "output_type": "stream",
     "text": [
      "145/145 [==============================] - 19s 124ms/step - loss: 0.7439 - accuracy: 0.7641 - val_loss: 1.1296 - val_accuracy: 0.6655\n",
      "INFO:tensorflow:Assets written to: model3_10\\best_version\\assets\n",
      "Epoch 14/30\n"
     ]
    },
    {
     "name": "stderr",
     "output_type": "stream",
     "text": [
      "F:\\Programas\\Anaconda\\envs\\TFGapp\\lib\\site-packages\\keras\\utils\\generic_utils.py:494: CustomMaskWarning: Custom mask layers require a config and must override get_config. When loading, the custom mask layer must be passed to the custom_objects argument.\n",
      "  warnings.warn('Custom mask layers require a config and must override '\n"
     ]
    },
    {
     "name": "stdout",
     "output_type": "stream",
     "text": [
      "145/145 [==============================] - 19s 125ms/step - loss: 0.6756 - accuracy: 0.7871 - val_loss: 1.1069 - val_accuracy: 0.6828\n",
      "INFO:tensorflow:Assets written to: model3_10\\best_version\\assets\n",
      "Epoch 15/30\n"
     ]
    },
    {
     "name": "stderr",
     "output_type": "stream",
     "text": [
      "F:\\Programas\\Anaconda\\envs\\TFGapp\\lib\\site-packages\\keras\\utils\\generic_utils.py:494: CustomMaskWarning: Custom mask layers require a config and must override get_config. When loading, the custom mask layer must be passed to the custom_objects argument.\n",
      "  warnings.warn('Custom mask layers require a config and must override '\n"
     ]
    },
    {
     "name": "stdout",
     "output_type": "stream",
     "text": [
      "145/145 [==============================] - 19s 120ms/step - loss: 0.6032 - accuracy: 0.8068 - val_loss: 0.9498 - val_accuracy: 0.7060\n",
      "INFO:tensorflow:Assets written to: model3_10\\best_version\\assets\n",
      "Epoch 16/30\n"
     ]
    },
    {
     "name": "stderr",
     "output_type": "stream",
     "text": [
      "F:\\Programas\\Anaconda\\envs\\TFGapp\\lib\\site-packages\\keras\\utils\\generic_utils.py:494: CustomMaskWarning: Custom mask layers require a config and must override get_config. When loading, the custom mask layer must be passed to the custom_objects argument.\n",
      "  warnings.warn('Custom mask layers require a config and must override '\n"
     ]
    },
    {
     "name": "stdout",
     "output_type": "stream",
     "text": [
      "145/145 [==============================] - 19s 121ms/step - loss: 0.5190 - accuracy: 0.8394 - val_loss: 2.3054 - val_accuracy: 0.4595\n",
      "Epoch 17/30\n",
      "145/145 [==============================] - 18s 121ms/step - loss: 0.5026 - accuracy: 0.8347 - val_loss: 0.8900 - val_accuracy: 0.7397\n",
      "INFO:tensorflow:Assets written to: model3_10\\best_version\\assets\n",
      "Epoch 18/30\n"
     ]
    },
    {
     "name": "stderr",
     "output_type": "stream",
     "text": [
      "F:\\Programas\\Anaconda\\envs\\TFGapp\\lib\\site-packages\\keras\\utils\\generic_utils.py:494: CustomMaskWarning: Custom mask layers require a config and must override get_config. When loading, the custom mask layer must be passed to the custom_objects argument.\n",
      "  warnings.warn('Custom mask layers require a config and must override '\n"
     ]
    },
    {
     "name": "stdout",
     "output_type": "stream",
     "text": [
      "145/145 [==============================] - 20s 128ms/step - loss: 0.4631 - accuracy: 0.8565 - val_loss: 0.8717 - val_accuracy: 0.7500\n",
      "INFO:tensorflow:Assets written to: model3_10\\best_version\\assets\n",
      "Epoch 19/30\n"
     ]
    },
    {
     "name": "stderr",
     "output_type": "stream",
     "text": [
      "F:\\Programas\\Anaconda\\envs\\TFGapp\\lib\\site-packages\\keras\\utils\\generic_utils.py:494: CustomMaskWarning: Custom mask layers require a config and must override get_config. When loading, the custom mask layer must be passed to the custom_objects argument.\n",
      "  warnings.warn('Custom mask layers require a config and must override '\n"
     ]
    },
    {
     "name": "stdout",
     "output_type": "stream",
     "text": [
      "145/145 [==============================] - 19s 124ms/step - loss: 0.4395 - accuracy: 0.8656 - val_loss: 0.9946 - val_accuracy: 0.7422\n",
      "Epoch 20/30\n",
      "145/145 [==============================] - 19s 122ms/step - loss: 0.4311 - accuracy: 0.8712 - val_loss: 0.9124 - val_accuracy: 0.7612\n",
      "Epoch 21/30\n",
      "145/145 [==============================] - 19s 122ms/step - loss: 0.4245 - accuracy: 0.8763 - val_loss: 0.8112 - val_accuracy: 0.7647\n",
      "INFO:tensorflow:Assets written to: model3_10\\best_version\\assets\n",
      "Epoch 22/30\n"
     ]
    },
    {
     "name": "stderr",
     "output_type": "stream",
     "text": [
      "F:\\Programas\\Anaconda\\envs\\TFGapp\\lib\\site-packages\\keras\\utils\\generic_utils.py:494: CustomMaskWarning: Custom mask layers require a config and must override get_config. When loading, the custom mask layer must be passed to the custom_objects argument.\n",
      "  warnings.warn('Custom mask layers require a config and must override '\n"
     ]
    },
    {
     "name": "stdout",
     "output_type": "stream",
     "text": [
      "145/145 [==============================] - 19s 122ms/step - loss: 0.3942 - accuracy: 0.8833 - val_loss: 1.0926 - val_accuracy: 0.7491\n",
      "Epoch 23/30\n",
      "145/145 [==============================] - 19s 124ms/step - loss: 0.3947 - accuracy: 0.8889 - val_loss: 1.0409 - val_accuracy: 0.7552\n",
      "Epoch 24/30\n",
      "145/145 [==============================] - 19s 122ms/step - loss: 0.3475 - accuracy: 0.8973 - val_loss: 1.1874 - val_accuracy: 0.7517\n",
      "Epoch 25/30\n",
      "145/145 [==============================] - 19s 122ms/step - loss: 0.3710 - accuracy: 0.8995 - val_loss: 1.0960 - val_accuracy: 0.7569\n",
      "Epoch 26/30\n",
      "145/145 [==============================] - 19s 125ms/step - loss: 0.3978 - accuracy: 0.8997 - val_loss: 1.5487 - val_accuracy: 0.6793\n",
      "Epoch 27/30\n",
      "145/145 [==============================] - 19s 126ms/step - loss: 0.3636 - accuracy: 0.9045 - val_loss: 1.1820 - val_accuracy: 0.7569\n",
      "Epoch 28/30\n",
      "145/145 [==============================] - 19s 123ms/step - loss: 0.3490 - accuracy: 0.9059 - val_loss: 1.4109 - val_accuracy: 0.7422\n",
      "Epoch 29/30\n",
      "145/145 [==============================] - 19s 122ms/step - loss: 0.3773 - accuracy: 0.9036 - val_loss: 1.1489 - val_accuracy: 0.7491\n",
      "Epoch 30/30\n",
      "145/145 [==============================] - 19s 123ms/step - loss: 0.3261 - accuracy: 0.9121 - val_loss: 1.2015 - val_accuracy: 0.7716\n"
     ]
    }
   ],
   "source": [
    "model3_10.compile(loss=\"categorical_crossentropy\",\n",
    "    optimizer=\"rmsprop\",\n",
    "    metrics=[\"accuracy\"])\n",
    "\n",
    "callbacks = [\n",
    "    keras.callbacks.ModelCheckpoint(\n",
    "    filepath=\"model3_10/best_version\",\n",
    "    save_best_only=True,\n",
    "    monitor=\"val_loss\")\n",
    "]\n",
    "\n",
    "history = model3_10.fit(\n",
    "    train_dataset,\n",
    "    epochs=30,\n",
    "    validation_data=validation_dataset,\n",
    "    callbacks=callbacks)"
   ]
  },
  {
   "cell_type": "code",
   "execution_count": 43,
   "metadata": {
    "pycharm": {
     "name": "#%%\n"
    }
   },
   "outputs": [
    {
     "name": "stdout",
     "output_type": "stream",
     "text": [
      "INFO:tensorflow:Assets written to: model3_10/model\\assets\n"
     ]
    },
    {
     "name": "stderr",
     "output_type": "stream",
     "text": [
      "F:\\Programas\\Anaconda\\envs\\TFGapp\\lib\\site-packages\\keras\\utils\\generic_utils.py:494: CustomMaskWarning: Custom mask layers require a config and must override get_config. When loading, the custom mask layer must be passed to the custom_objects argument.\n",
      "  warnings.warn('Custom mask layers require a config and must override '\n"
     ]
    }
   ],
   "source": [
    "model3_10.save('model3_10/model')\n",
    "np.save('model3_10/history.npy',history.history)"
   ]
  },
  {
   "cell_type": "code",
   "execution_count": 44,
   "metadata": {
    "pycharm": {
     "name": "#%%\n"
    }
   },
   "outputs": [],
   "source": [
    "my_history1=np.load('model3_8/history.npy',allow_pickle='TRUE').item()\n",
    "my_history2=np.load('model3_10/history.npy',allow_pickle='TRUE').item()"
   ]
  },
  {
   "cell_type": "code",
   "execution_count": 45,
   "metadata": {
    "pycharm": {
     "name": "#%%\n"
    }
   },
   "outputs": [
    {
     "data": {
      "image/png": "[encoded data removed]",
      "text/plain": [
       "<Figure size 432x288 with 1 Axes>"
      ]
     },
     "metadata": {
      "needs_background": "light"
     },
     "output_type": "display_data"
    }
   ],
   "source": [
    "loss_1 = my_history1[\"loss\"]\n",
    "val_loss_1 = my_history1[\"val_loss\"]\n",
    "loss_2 = my_history2[\"loss\"]\n",
    "val_loss_2 = my_history2[\"val_loss\"]\n",
    "epochs = range(1, len(loss_1) + 1)\n",
    "\n",
    "plt.plot(epochs, loss_1, \"b.\", label=\"Training loss original\")\n",
    "plt.plot(epochs, loss_2, \"r.\", label=\"Training loss new\")\n",
    "plt.plot(epochs, val_loss_1, \"b\", label=\"Validation loss original\")\n",
    "plt.plot(epochs, val_loss_2, \"r\", label=\"Validation loss new\")\n",
    "plt.title(\"Training and validation loss\")\n",
    "plt.xlabel(\"Epochs\")\n",
    "plt.ylabel(\"Loss\")\n",
    "plt.legend()\n",
    "plt.show()"
   ]
  },
  {
   "cell_type": "code",
   "execution_count": 46,
   "metadata": {
    "pycharm": {
     "name": "#%%\n"
    }
   },
   "outputs": [
    {
     "data": {
      "image/png": "[encoded data removed]",
      "text/plain": [
       "<Figure size 432x288 with 1 Axes>"
      ]
     },
     "metadata": {
      "needs_background": "light"
     },
     "output_type": "display_data"
    }
   ],
   "source": [
    "\n",
    "plt.clf()\n",
    "\n",
    "acc_1 = my_history1[\"accuracy\"]\n",
    "val_acc_1 = my_history1[\"val_accuracy\"]\n",
    "acc_2 = my_history2[\"accuracy\"]\n",
    "val_acc_2 = my_history2[\"val_accuracy\"]\n",
    "epochs = range(1, len(loss_1) + 1)\n",
    "\n",
    "plt.plot(epochs, acc_1, \"b.\", label=\"Training accuracy original\")\n",
    "plt.plot(epochs, acc_2, \"r.\", label=\"Training accuracy new\")\n",
    "plt.plot(epochs, val_acc_1, \"b\", label=\"Validation accuracy original\")\n",
    "plt.plot(epochs, val_acc_2, \"r\", label=\"Validation accuracy new\")\n",
    "plt.title(\"Training and validation accuracy\")\n",
    "plt.xlabel(\"Epochs\")\n",
    "plt.ylabel(\"Accuracy\")\n",
    "plt.legend()\n",
    "plt.show()"
   ]
  },
  {
   "cell_type": "code",
   "execution_count": 47,
   "metadata": {
    "pycharm": {
     "name": "#%%\n"
    }
   },
   "outputs": [
    {
     "name": "stdout",
     "output_type": "stream",
     "text": [
      "19/19 [==============================] - 2s 68ms/step - loss: 1.2642 - accuracy: 0.7500\n"
     ]
    },
    {
     "data": {
      "text/plain": [
       "[1.2642438411712646, 0.75]"
      ]
     },
     "execution_count": 47,
     "metadata": {},
     "output_type": "execute_result"
    }
   ],
   "source": [
    "model = keras.models.load_model('model3_10/model')\n",
    "results= model.evaluate(test_dataset)\n",
    "results"
   ]
  },
  {
   "cell_type": "code",
   "execution_count": 48,
   "metadata": {
    "pycharm": {
     "name": "#%%\n"
    },
    "scrolled": true
   },
   "outputs": [
    {
     "name": "stdout",
     "output_type": "stream",
     "text": [
      "19/19 [==============================] - 2s 72ms/step - loss: 0.8960 - accuracy: 0.7647\n"
     ]
    },
    {
     "data": {
      "text/plain": [
       "[0.8960338830947876, 0.7646551728248596]"
      ]
     },
     "execution_count": 48,
     "metadata": {},
     "output_type": "execute_result"
    }
   ],
   "source": [
    "model = keras.models.load_model('model3_10/best_version')\n",
    "results= model.evaluate(test_dataset)\n",
    "results"
   ]
  },
  {
   "cell_type": "markdown",
   "metadata": {
    "pycharm": {
     "name": "#%% md\n"
    }
   },
   "source": [
    "## Modelo 3.11: Modelo 3.5 con capa densa más grande"
   ]
  },
  {
   "cell_type": "code",
   "execution_count": 157,
   "metadata": {
    "pycharm": {
     "name": "#%%\n"
    }
   },
   "outputs": [
    {
     "name": "stdout",
     "output_type": "stream",
     "text": [
      "Model: \"model_26\"\n",
      "__________________________________________________________________________________________________\n",
      "Layer (type)                    Output Shape         Param #     Connected to                     \n",
      "==================================================================================================\n",
      "input_27 (InputLayer)           [(None, 256, 256, 3) 0                                            \n",
      "__________________________________________________________________________________________________\n",
      "rescaling_26 (Rescaling)        (None, 256, 256, 3)  0           input_27[0][0]                   \n",
      "__________________________________________________________________________________________________\n",
      "conv2d_299 (Conv2D)             (None, 254, 254, 16) 448         rescaling_26[0][0]               \n",
      "__________________________________________________________________________________________________\n",
      "max_pooling2d_122 (MaxPooling2D (None, 127, 127, 16) 0           conv2d_299[0][0]                 \n",
      "__________________________________________________________________________________________________\n",
      "conv2d_300 (Conv2D)             (None, 125, 125, 32) 4640        max_pooling2d_122[0][0]          \n",
      "__________________________________________________________________________________________________\n",
      "max_pooling2d_123 (MaxPooling2D (None, 63, 63, 32)   0           conv2d_300[0][0]                 \n",
      "__________________________________________________________________________________________________\n",
      "conv2d_301 (Conv2D)             (None, 63, 63, 64)   18496       max_pooling2d_123[0][0]          \n",
      "__________________________________________________________________________________________________\n",
      "conv2d_302 (Conv2D)             (None, 63, 63, 64)   2112        conv2d_300[0][0]                 \n",
      "__________________________________________________________________________________________________\n",
      "add_79 (Add)                    (None, 63, 63, 64)   0           conv2d_301[0][0]                 \n",
      "                                                                 conv2d_302[0][0]                 \n",
      "__________________________________________________________________________________________________\n",
      "conv2d_303 (Conv2D)             (None, 61, 61, 64)   36928       add_79[0][0]                     \n",
      "__________________________________________________________________________________________________\n",
      "max_pooling2d_124 (MaxPooling2D (None, 30, 30, 64)   0           conv2d_303[0][0]                 \n",
      "__________________________________________________________________________________________________\n",
      "conv2d_304 (Conv2D)             (None, 28, 28, 128)  73856       max_pooling2d_124[0][0]          \n",
      "__________________________________________________________________________________________________\n",
      "conv2d_305 (Conv2D)             (None, 28, 28, 128)  147584      conv2d_304[0][0]                 \n",
      "__________________________________________________________________________________________________\n",
      "max_pooling2d_125 (MaxPooling2D (None, 14, 14, 128)  0           conv2d_305[0][0]                 \n",
      "__________________________________________________________________________________________________\n",
      "conv2d_306 (Conv2D)             (None, 14, 14, 128)  16512       conv2d_304[0][0]                 \n",
      "__________________________________________________________________________________________________\n",
      "add_80 (Add)                    (None, 14, 14, 128)  0           max_pooling2d_125[0][0]          \n",
      "                                                                 conv2d_306[0][0]                 \n",
      "__________________________________________________________________________________________________\n",
      "conv2d_307 (Conv2D)             (None, 12, 12, 256)  295168      add_80[0][0]                     \n",
      "__________________________________________________________________________________________________\n",
      "conv2d_308 (Conv2D)             (None, 12, 12, 256)  590080      conv2d_307[0][0]                 \n",
      "__________________________________________________________________________________________________\n",
      "conv2d_309 (Conv2D)             (None, 12, 12, 256)  65792       conv2d_307[0][0]                 \n",
      "__________________________________________________________________________________________________\n",
      "add_81 (Add)                    (None, 12, 12, 256)  0           conv2d_308[0][0]                 \n",
      "                                                                 conv2d_309[0][0]                 \n",
      "__________________________________________________________________________________________________\n",
      "max_pooling2d_126 (MaxPooling2D (None, 6, 6, 256)    0           add_81[0][0]                     \n",
      "__________________________________________________________________________________________________\n",
      "dense_88 (Dense)                (None, 6, 6, 256)    65792       max_pooling2d_126[0][0]          \n",
      "__________________________________________________________________________________________________\n",
      "flatten_26 (Flatten)            (None, 9216)         0           dense_88[0][0]                   \n",
      "__________________________________________________________________________________________________\n",
      "dropout_26 (Dropout)            (None, 9216)         0           flatten_26[0][0]                 \n",
      "__________________________________________________________________________________________________\n",
      "dense_89 (Dense)                (None, 58)           534586      dropout_26[0][0]                 \n",
      "==================================================================================================\n",
      "Total params: 1,851,994\n",
      "Trainable params: 1,851,994\n",
      "Non-trainable params: 0\n",
      "__________________________________________________________________________________________________\n"
     ]
    }
   ],
   "source": [
    "inputs = keras.Input(shape=(size_x, size_y, 3)) \n",
    "x = layers.Rescaling(1./255)(inputs) \n",
    "x = layers.Conv2D(filters=16, kernel_size=3, activation=\"relu\")(x)\n",
    "x = layers.MaxPooling2D(pool_size=2)(x)\n",
    "x = layers.Conv2D(filters=32, kernel_size=3, activation=\"relu\")(x)\n",
    "residual = x\n",
    "x = layers.MaxPooling2D(pool_size=2, padding = \"same\")(x)\n",
    "x = layers.Conv2D(filters=64, kernel_size=3, activation=\"relu\", padding = \"same\")(x)\n",
    "residual = layers.Conv2D(64, 1, strides = 2)(residual)\n",
    "x = layers.add([x, residual])\n",
    "x = layers.Conv2D(filters=64, kernel_size=3, activation=\"relu\")(x)\n",
    "x = layers.MaxPooling2D(pool_size=2)(x)\n",
    "x = layers.Conv2D(filters=128, kernel_size=3, activation=\"relu\")(x)\n",
    "residual = x\n",
    "x = layers.Conv2D(filters=128, kernel_size=3, activation=\"relu\",  padding=\"same\")(x)\n",
    "x = layers.MaxPooling2D(pool_size=2, padding=\"same\")(x)\n",
    "residual = layers.Conv2D(128, 1, strides = 2)(residual)\n",
    "x = layers.add([x, residual])\n",
    "x = layers.Conv2D(filters=256, kernel_size=3, activation=\"relu\")(x)\n",
    "residual = x \n",
    "x = layers.Conv2D(filters=256, kernel_size=3, activation=\"relu\",padding=\"same\")(x)\n",
    "residual = layers.Conv2D(256, 1)(residual)\n",
    "x = layers.add([x, residual])\n",
    "x = layers.MaxPooling2D(pool_size=2)(x)\n",
    "x = layers.Dense(256, activation = \"relu\")(x)\n",
    "x = layers.Flatten()(x)\n",
    "x = layers.Dropout(0.5)(x)\n",
    "outputs = layers.Dense(58, activation=\"softmax\")(x)\n",
    "model3_11 = keras.Model(inputs=inputs, outputs=outputs)\n",
    "\n",
    "model3_11.summary()"
   ]
  },
  {
   "cell_type": "code",
   "execution_count": 158,
   "metadata": {
    "pycharm": {
     "name": "#%%\n"
    },
    "scrolled": true
   },
   "outputs": [
    {
     "name": "stdout",
     "output_type": "stream",
     "text": [
      "Epoch 1/30\n",
      "145/145 [==============================] - 19s 117ms/step - loss: 4.0975 - accuracy: 0.0194 - val_loss: 3.9901 - val_accuracy: 0.0284\n",
      "INFO:tensorflow:Assets written to: model3_11\\best_version\\assets\n",
      "Epoch 2/30\n"
     ]
    },
    {
     "name": "stderr",
     "output_type": "stream",
     "text": [
      "F:\\Programas\\Anaconda\\envs\\TFGapp\\lib\\site-packages\\keras\\utils\\generic_utils.py:494: CustomMaskWarning: Custom mask layers require a config and must override get_config. When loading, the custom mask layer must be passed to the custom_objects argument.\n",
      "  warnings.warn('Custom mask layers require a config and must override '\n"
     ]
    },
    {
     "name": "stdout",
     "output_type": "stream",
     "text": [
      "145/145 [==============================] - 18s 117ms/step - loss: 3.9678 - accuracy: 0.0500 - val_loss: 3.8331 - val_accuracy: 0.0422\n",
      "INFO:tensorflow:Assets written to: model3_11\\best_version\\assets\n",
      "Epoch 3/30\n"
     ]
    },
    {
     "name": "stderr",
     "output_type": "stream",
     "text": [
      "F:\\Programas\\Anaconda\\envs\\TFGapp\\lib\\site-packages\\keras\\utils\\generic_utils.py:494: CustomMaskWarning: Custom mask layers require a config and must override get_config. When loading, the custom mask layer must be passed to the custom_objects argument.\n",
      "  warnings.warn('Custom mask layers require a config and must override '\n"
     ]
    },
    {
     "name": "stdout",
     "output_type": "stream",
     "text": [
      "145/145 [==============================] - 18s 118ms/step - loss: 3.0843 - accuracy: 0.1829 - val_loss: 2.5666 - val_accuracy: 0.2595\n",
      "INFO:tensorflow:Assets written to: model3_11\\best_version\\assets\n",
      "Epoch 4/30\n"
     ]
    },
    {
     "name": "stderr",
     "output_type": "stream",
     "text": [
      "F:\\Programas\\Anaconda\\envs\\TFGapp\\lib\\site-packages\\keras\\utils\\generic_utils.py:494: CustomMaskWarning: Custom mask layers require a config and must override get_config. When loading, the custom mask layer must be passed to the custom_objects argument.\n",
      "  warnings.warn('Custom mask layers require a config and must override '\n"
     ]
    },
    {
     "name": "stdout",
     "output_type": "stream",
     "text": [
      "145/145 [==============================] - 18s 117ms/step - loss: 2.3599 - accuracy: 0.3320 - val_loss: 1.9433 - val_accuracy: 0.4052\n",
      "INFO:tensorflow:Assets written to: model3_11\\best_version\\assets\n",
      "Epoch 5/30\n"
     ]
    },
    {
     "name": "stderr",
     "output_type": "stream",
     "text": [
      "F:\\Programas\\Anaconda\\envs\\TFGapp\\lib\\site-packages\\keras\\utils\\generic_utils.py:494: CustomMaskWarning: Custom mask layers require a config and must override get_config. When loading, the custom mask layer must be passed to the custom_objects argument.\n",
      "  warnings.warn('Custom mask layers require a config and must override '\n"
     ]
    },
    {
     "name": "stdout",
     "output_type": "stream",
     "text": [
      "145/145 [==============================] - 18s 117ms/step - loss: 1.8492 - accuracy: 0.4585 - val_loss: 2.0541 - val_accuracy: 0.4147\n",
      "Epoch 6/30\n",
      "145/145 [==============================] - 18s 116ms/step - loss: 1.4381 - accuracy: 0.5635 - val_loss: 1.5821 - val_accuracy: 0.5216\n",
      "INFO:tensorflow:Assets written to: model3_11\\best_version\\assets\n",
      "Epoch 7/30\n"
     ]
    },
    {
     "name": "stderr",
     "output_type": "stream",
     "text": [
      "F:\\Programas\\Anaconda\\envs\\TFGapp\\lib\\site-packages\\keras\\utils\\generic_utils.py:494: CustomMaskWarning: Custom mask layers require a config and must override get_config. When loading, the custom mask layer must be passed to the custom_objects argument.\n",
      "  warnings.warn('Custom mask layers require a config and must override '\n"
     ]
    },
    {
     "name": "stdout",
     "output_type": "stream",
     "text": [
      "145/145 [==============================] - 18s 118ms/step - loss: 1.1591 - accuracy: 0.6433 - val_loss: 1.2317 - val_accuracy: 0.6241\n",
      "INFO:tensorflow:Assets written to: model3_11\\best_version\\assets\n",
      "Epoch 8/30\n"
     ]
    },
    {
     "name": "stderr",
     "output_type": "stream",
     "text": [
      "F:\\Programas\\Anaconda\\envs\\TFGapp\\lib\\site-packages\\keras\\utils\\generic_utils.py:494: CustomMaskWarning: Custom mask layers require a config and must override get_config. When loading, the custom mask layer must be passed to the custom_objects argument.\n",
      "  warnings.warn('Custom mask layers require a config and must override '\n"
     ]
    },
    {
     "name": "stdout",
     "output_type": "stream",
     "text": [
      "145/145 [==============================] - 18s 117ms/step - loss: 0.9419 - accuracy: 0.7039 - val_loss: 1.6285 - val_accuracy: 0.5448\n",
      "Epoch 9/30\n",
      "145/145 [==============================] - 18s 116ms/step - loss: 0.7591 - accuracy: 0.7624 - val_loss: 1.1579 - val_accuracy: 0.6638\n",
      "INFO:tensorflow:Assets written to: model3_11\\best_version\\assets\n",
      "Epoch 10/30\n"
     ]
    },
    {
     "name": "stderr",
     "output_type": "stream",
     "text": [
      "F:\\Programas\\Anaconda\\envs\\TFGapp\\lib\\site-packages\\keras\\utils\\generic_utils.py:494: CustomMaskWarning: Custom mask layers require a config and must override get_config. When loading, the custom mask layer must be passed to the custom_objects argument.\n",
      "  warnings.warn('Custom mask layers require a config and must override '\n"
     ]
    },
    {
     "name": "stdout",
     "output_type": "stream",
     "text": [
      "145/145 [==============================] - 18s 117ms/step - loss: 0.6291 - accuracy: 0.7984 - val_loss: 1.1746 - val_accuracy: 0.6871\n",
      "Epoch 11/30\n",
      "145/145 [==============================] - 18s 116ms/step - loss: 0.5156 - accuracy: 0.8390 - val_loss: 1.2904 - val_accuracy: 0.6552\n",
      "Epoch 12/30\n",
      "145/145 [==============================] - 18s 117ms/step - loss: 0.4369 - accuracy: 0.8639 - val_loss: 1.3579 - val_accuracy: 0.6914\n",
      "Epoch 13/30\n",
      "145/145 [==============================] - 18s 117ms/step - loss: 0.3919 - accuracy: 0.8756 - val_loss: 1.2411 - val_accuracy: 0.6931\n",
      "Epoch 14/30\n",
      "145/145 [==============================] - 18s 117ms/step - loss: 0.3562 - accuracy: 0.8909 - val_loss: 1.2314 - val_accuracy: 0.6940\n",
      "Epoch 15/30\n",
      "145/145 [==============================] - 18s 117ms/step - loss: 0.3206 - accuracy: 0.9026 - val_loss: 1.6851 - val_accuracy: 0.6371\n",
      "Epoch 16/30\n",
      "145/145 [==============================] - 18s 117ms/step - loss: 0.2971 - accuracy: 0.9124 - val_loss: 1.3164 - val_accuracy: 0.7302\n",
      "Epoch 17/30\n",
      "145/145 [==============================] - 18s 117ms/step - loss: 0.2608 - accuracy: 0.9220 - val_loss: 1.2674 - val_accuracy: 0.7293\n",
      "Epoch 18/30\n",
      "145/145 [==============================] - 18s 117ms/step - loss: 0.2474 - accuracy: 0.9253 - val_loss: 1.8568 - val_accuracy: 0.6466\n",
      "Epoch 19/30\n",
      "145/145 [==============================] - 18s 117ms/step - loss: 0.2276 - accuracy: 0.9325 - val_loss: 1.3636 - val_accuracy: 0.7362\n",
      "Epoch 20/30\n",
      "145/145 [==============================] - 18s 117ms/step - loss: 0.2281 - accuracy: 0.9379 - val_loss: 1.5623 - val_accuracy: 0.7216\n",
      "Epoch 21/30\n",
      "145/145 [==============================] - 18s 118ms/step - loss: 0.2160 - accuracy: 0.9392 - val_loss: 1.2859 - val_accuracy: 0.7509\n",
      "Epoch 22/30\n",
      "145/145 [==============================] - 18s 117ms/step - loss: 0.2151 - accuracy: 0.9392 - val_loss: 1.5029 - val_accuracy: 0.7095\n",
      "Epoch 23/30\n",
      "145/145 [==============================] - 18s 118ms/step - loss: 0.1738 - accuracy: 0.9525 - val_loss: 1.4299 - val_accuracy: 0.7448\n",
      "Epoch 24/30\n",
      "145/145 [==============================] - 18s 120ms/step - loss: 0.1747 - accuracy: 0.9461 - val_loss: 1.7648 - val_accuracy: 0.7190\n",
      "Epoch 25/30\n",
      "145/145 [==============================] - 18s 117ms/step - loss: 0.1828 - accuracy: 0.9512 - val_loss: 1.9506 - val_accuracy: 0.6759\n",
      "Epoch 26/30\n",
      "145/145 [==============================] - 18s 117ms/step - loss: 0.2029 - accuracy: 0.9478 - val_loss: 1.7292 - val_accuracy: 0.7302\n",
      "Epoch 27/30\n",
      "145/145 [==============================] - 18s 117ms/step - loss: 0.1739 - accuracy: 0.9541 - val_loss: 2.3049 - val_accuracy: 0.7000\n",
      "Epoch 28/30\n",
      "145/145 [==============================] - 18s 117ms/step - loss: 0.1826 - accuracy: 0.9568 - val_loss: 2.2452 - val_accuracy: 0.6750\n",
      "Epoch 29/30\n",
      "145/145 [==============================] - 18s 117ms/step - loss: 0.1700 - accuracy: 0.9560 - val_loss: 1.9238 - val_accuracy: 0.7362\n",
      "Epoch 30/30\n",
      "145/145 [==============================] - 18s 119ms/step - loss: 0.1903 - accuracy: 0.9554 - val_loss: 1.7424 - val_accuracy: 0.7457\n"
     ]
    }
   ],
   "source": [
    "model3_11.compile(loss=\"categorical_crossentropy\",\n",
    "    optimizer=\"rmsprop\",\n",
    "    metrics=[\"accuracy\"])\n",
    "\n",
    "callbacks = [\n",
    "    keras.callbacks.ModelCheckpoint(\n",
    "    filepath=\"model3_11/best_version\",\n",
    "    save_best_only=True,\n",
    "    monitor=\"val_loss\")\n",
    "]\n",
    "\n",
    "history = model3_11.fit(\n",
    "    train_dataset,\n",
    "    epochs=30,\n",
    "    validation_data=validation_dataset,\n",
    "    callbacks=callbacks)"
   ]
  },
  {
   "cell_type": "code",
   "execution_count": 159,
   "metadata": {
    "pycharm": {
     "name": "#%%\n"
    }
   },
   "outputs": [
    {
     "name": "stdout",
     "output_type": "stream",
     "text": [
      "INFO:tensorflow:Assets written to: model3_11/model\\assets\n"
     ]
    },
    {
     "name": "stderr",
     "output_type": "stream",
     "text": [
      "F:\\Programas\\Anaconda\\envs\\TFGapp\\lib\\site-packages\\keras\\utils\\generic_utils.py:494: CustomMaskWarning: Custom mask layers require a config and must override get_config. When loading, the custom mask layer must be passed to the custom_objects argument.\n",
      "  warnings.warn('Custom mask layers require a config and must override '\n"
     ]
    }
   ],
   "source": [
    "model3_11.save('model3_11/model')\n",
    "np.save('model3_11/history.npy',history.history)"
   ]
  },
  {
   "cell_type": "code",
   "execution_count": 160,
   "metadata": {
    "pycharm": {
     "name": "#%%\n"
    }
   },
   "outputs": [],
   "source": [
    "my_history1=np.load('model3_5/history.npy',allow_pickle='TRUE').item()\n",
    "my_history2=np.load('model3_11/history.npy',allow_pickle='TRUE').item()"
   ]
  },
  {
   "cell_type": "code",
   "execution_count": 161,
   "metadata": {
    "pycharm": {
     "name": "#%%\n"
    }
   },
   "outputs": [
    {
     "data": {
      "image/png": "[encoded data removed]",
      "text/plain": [
       "<Figure size 432x288 with 1 Axes>"
      ]
     },
     "metadata": {
      "needs_background": "light"
     },
     "output_type": "display_data"
    }
   ],
   "source": [
    "loss_1 = my_history1[\"loss\"]\n",
    "val_loss_1 = my_history1[\"val_loss\"]\n",
    "loss_2 = my_history2[\"loss\"]\n",
    "val_loss_2 = my_history2[\"val_loss\"]\n",
    "epochs = range(1, len(loss_1) + 1)\n",
    "\n",
    "plt.plot(epochs, loss_1, \"b.\", label=\"Training loss original\")\n",
    "plt.plot(epochs, loss_2, \"r.\", label=\"Training loss new\")\n",
    "plt.plot(epochs, val_loss_1, \"b\", label=\"Validation loss original\")\n",
    "plt.plot(epochs, val_loss_2, \"r\", label=\"Validation loss new\")\n",
    "plt.title(\"Training and validation loss\")\n",
    "plt.xlabel(\"Epochs\")\n",
    "plt.ylabel(\"Loss\")\n",
    "plt.legend()\n",
    "plt.show()"
   ]
  },
  {
   "cell_type": "code",
   "execution_count": 162,
   "metadata": {
    "pycharm": {
     "name": "#%%\n"
    }
   },
   "outputs": [
    {
     "data": {
      "image/png": "[encoded data removed]",
      "text/plain": [
       "<Figure size 432x288 with 1 Axes>"
      ]
     },
     "metadata": {
      "needs_background": "light"
     },
     "output_type": "display_data"
    }
   ],
   "source": [
    "\n",
    "plt.clf()\n",
    "\n",
    "acc_1 = my_history1[\"accuracy\"]\n",
    "val_acc_1 = my_history1[\"val_accuracy\"]\n",
    "acc_2 = my_history2[\"accuracy\"]\n",
    "val_acc_2 = my_history2[\"val_accuracy\"]\n",
    "epochs = range(1, len(loss_1) + 1)\n",
    "\n",
    "plt.plot(epochs, acc_1, \"b.\", label=\"Training accuracy original\")\n",
    "plt.plot(epochs, acc_2, \"r.\", label=\"Training accuracy new\")\n",
    "plt.plot(epochs, val_acc_1, \"b\", label=\"Validation accuracy original\")\n",
    "plt.plot(epochs, val_acc_2, \"r\", label=\"Validation accuracy new\")\n",
    "plt.title(\"Training and validation accuracy\")\n",
    "plt.xlabel(\"Epochs\")\n",
    "plt.ylabel(\"Accuracy\")\n",
    "plt.legend()\n",
    "plt.show()"
   ]
  },
  {
   "cell_type": "code",
   "execution_count": 163,
   "metadata": {
    "pycharm": {
     "name": "#%%\n"
    }
   },
   "outputs": [
    {
     "name": "stdout",
     "output_type": "stream",
     "text": [
      "19/19 [==============================] - 2s 68ms/step - loss: 1.9713 - accuracy: 0.7181\n"
     ]
    },
    {
     "data": {
      "text/plain": [
       "[1.9712738990783691, 0.7181034684181213]"
      ]
     },
     "execution_count": 163,
     "metadata": {},
     "output_type": "execute_result"
    }
   ],
   "source": [
    "model = keras.models.load_model('model3_11/model')\n",
    "results= model.evaluate(test_dataset)\n",
    "results"
   ]
  },
  {
   "cell_type": "code",
   "execution_count": 164,
   "metadata": {
    "pycharm": {
     "name": "#%%\n"
    },
    "scrolled": false
   },
   "outputs": [
    {
     "name": "stdout",
     "output_type": "stream",
     "text": [
      "19/19 [==============================] - 2s 75ms/step - loss: 1.2499 - accuracy: 0.6491\n"
     ]
    },
    {
     "data": {
      "text/plain": [
       "[1.249870777130127, 0.6491379141807556]"
      ]
     },
     "execution_count": 164,
     "metadata": {},
     "output_type": "execute_result"
    }
   ],
   "source": [
    "model = keras.models.load_model('model3_11/best_version')\n",
    "results= model.evaluate(test_dataset)\n",
    "results"
   ]
  },
  {
   "cell_type": "markdown",
   "metadata": {
    "pycharm": {
     "name": "#%% md\n"
    }
   },
   "source": [
    "## Modelo 3.12: Modelo 3.12 con conexiones residuales"
   ]
  },
  {
   "cell_type": "code",
   "execution_count": 166,
   "metadata": {
    "pycharm": {
     "name": "#%%\n"
    }
   },
   "outputs": [
    {
     "name": "stdout",
     "output_type": "stream",
     "text": [
      "Model: \"model_28\"\n",
      "__________________________________________________________________________________________________\n",
      "Layer (type)                    Output Shape         Param #     Connected to                     \n",
      "==================================================================================================\n",
      "input_29 (InputLayer)           [(None, 256, 256, 3) 0                                            \n",
      "__________________________________________________________________________________________________\n",
      "rescaling_28 (Rescaling)        (None, 256, 256, 3)  0           input_29[0][0]                   \n",
      "__________________________________________________________________________________________________\n",
      "conv2d_323 (Conv2D)             (None, 254, 254, 16) 448         rescaling_28[0][0]               \n",
      "__________________________________________________________________________________________________\n",
      "max_pooling2d_132 (MaxPooling2D (None, 127, 127, 16) 0           conv2d_323[0][0]                 \n",
      "__________________________________________________________________________________________________\n",
      "conv2d_324 (Conv2D)             (None, 125, 125, 32) 4640        max_pooling2d_132[0][0]          \n",
      "__________________________________________________________________________________________________\n",
      "max_pooling2d_133 (MaxPooling2D (None, 63, 63, 32)   0           conv2d_324[0][0]                 \n",
      "__________________________________________________________________________________________________\n",
      "conv2d_325 (Conv2D)             (None, 63, 63, 64)   18496       max_pooling2d_133[0][0]          \n",
      "__________________________________________________________________________________________________\n",
      "conv2d_326 (Conv2D)             (None, 63, 63, 64)   2112        conv2d_324[0][0]                 \n",
      "__________________________________________________________________________________________________\n",
      "add_87 (Add)                    (None, 63, 63, 64)   0           conv2d_325[0][0]                 \n",
      "                                                                 conv2d_326[0][0]                 \n",
      "__________________________________________________________________________________________________\n",
      "conv2d_327 (Conv2D)             (None, 63, 63, 64)   36928       add_87[0][0]                     \n",
      "__________________________________________________________________________________________________\n",
      "max_pooling2d_134 (MaxPooling2D (None, 32, 32, 64)   0           conv2d_327[0][0]                 \n",
      "__________________________________________________________________________________________________\n",
      "conv2d_328 (Conv2D)             (None, 32, 32, 128)  73856       max_pooling2d_134[0][0]          \n",
      "__________________________________________________________________________________________________\n",
      "conv2d_329 (Conv2D)             (None, 32, 32, 128)  8320        add_87[0][0]                     \n",
      "__________________________________________________________________________________________________\n",
      "add_88 (Add)                    (None, 32, 32, 128)  0           conv2d_328[0][0]                 \n",
      "                                                                 conv2d_329[0][0]                 \n",
      "__________________________________________________________________________________________________\n",
      "conv2d_330 (Conv2D)             (None, 32, 32, 128)  147584      add_88[0][0]                     \n",
      "__________________________________________________________________________________________________\n",
      "max_pooling2d_135 (MaxPooling2D (None, 16, 16, 128)  0           conv2d_330[0][0]                 \n",
      "__________________________________________________________________________________________________\n",
      "conv2d_331 (Conv2D)             (None, 16, 16, 128)  16512       add_88[0][0]                     \n",
      "__________________________________________________________________________________________________\n",
      "add_89 (Add)                    (None, 16, 16, 128)  0           max_pooling2d_135[0][0]          \n",
      "                                                                 conv2d_331[0][0]                 \n",
      "__________________________________________________________________________________________________\n",
      "conv2d_332 (Conv2D)             (None, 16, 16, 256)  295168      add_89[0][0]                     \n",
      "__________________________________________________________________________________________________\n",
      "conv2d_333 (Conv2D)             (None, 16, 16, 256)  33024       add_89[0][0]                     \n",
      "__________________________________________________________________________________________________\n",
      "add_90 (Add)                    (None, 16, 16, 256)  0           conv2d_332[0][0]                 \n",
      "                                                                 conv2d_333[0][0]                 \n",
      "__________________________________________________________________________________________________\n",
      "conv2d_334 (Conv2D)             (None, 16, 16, 256)  590080      add_90[0][0]                     \n",
      "__________________________________________________________________________________________________\n",
      "conv2d_335 (Conv2D)             (None, 16, 16, 256)  65792       add_90[0][0]                     \n",
      "__________________________________________________________________________________________________\n",
      "add_91 (Add)                    (None, 16, 16, 256)  0           conv2d_334[0][0]                 \n",
      "                                                                 conv2d_335[0][0]                 \n",
      "__________________________________________________________________________________________________\n",
      "max_pooling2d_136 (MaxPooling2D (None, 8, 8, 256)    0           add_91[0][0]                     \n",
      "__________________________________________________________________________________________________\n",
      "dense_92 (Dense)                (None, 8, 8, 256)    65792       max_pooling2d_136[0][0]          \n",
      "__________________________________________________________________________________________________\n",
      "flatten_28 (Flatten)            (None, 16384)        0           dense_92[0][0]                   \n",
      "__________________________________________________________________________________________________\n",
      "dropout_28 (Dropout)            (None, 16384)        0           flatten_28[0][0]                 \n",
      "__________________________________________________________________________________________________\n",
      "dense_93 (Dense)                (None, 58)           950330      dropout_28[0][0]                 \n",
      "==================================================================================================\n",
      "Total params: 2,309,082\n",
      "Trainable params: 2,309,082\n",
      "Non-trainable params: 0\n",
      "__________________________________________________________________________________________________\n"
     ]
    }
   ],
   "source": [
    "inputs = keras.Input(shape=(size_x, size_y, 3)) \n",
    "x = layers.Rescaling(1./255)(inputs) \n",
    "x = layers.Conv2D(filters=16, kernel_size=3, activation=\"relu\")(x)\n",
    "x = layers.MaxPooling2D(pool_size=2)(x)\n",
    "x = layers.Conv2D(filters=32, kernel_size=3, activation=\"relu\")(x)\n",
    "residual = x\n",
    "x = layers.MaxPooling2D(pool_size=2, padding = \"same\")(x)\n",
    "x = layers.Conv2D(filters=64, kernel_size=3, activation=\"relu\", padding = \"same\")(x)\n",
    "residual = layers.Conv2D(64, 1, strides = 2)(residual)\n",
    "x = layers.add([x, residual])\n",
    "residual = x\n",
    "x = layers.Conv2D(filters=64, kernel_size=3, activation=\"relu\", padding = \"same\")(x)\n",
    "x = layers.MaxPooling2D(pool_size=2, padding = \"same\")(x)\n",
    "x = layers.Conv2D(filters=128, kernel_size=3, activation=\"relu\", padding = \"same\")(x)\n",
    "residual = layers.Conv2D(128, 1, strides = 2)(residual)\n",
    "x = layers.add([x, residual])\n",
    "residual = x\n",
    "x = layers.Conv2D(filters=128, kernel_size=3, activation=\"relu\",  padding=\"same\")(x)\n",
    "x = layers.MaxPooling2D(pool_size=2, padding=\"same\")(x)\n",
    "residual = layers.Conv2D(128, 1, strides = 2)(residual)\n",
    "x = layers.add([x, residual])\n",
    "residual = x\n",
    "x = layers.Conv2D(filters=256, kernel_size=3, activation=\"relu\", padding=\"same\")(x)\n",
    "residual = layers.Conv2D(256, 1)(residual)\n",
    "x = layers.add([x, residual])\n",
    "residual = x \n",
    "x = layers.Conv2D(filters=256, kernel_size=3, activation=\"relu\",padding=\"same\")(x)\n",
    "residual = layers.Conv2D(256, 1)(residual)\n",
    "x = layers.add([x, residual])\n",
    "x = layers.MaxPooling2D(pool_size=2)(x)\n",
    "x = layers.Dense(256, activation = \"relu\")(x)\n",
    "x = layers.Flatten()(x)\n",
    "x = layers.Dropout(0.5)(x)\n",
    "outputs = layers.Dense(58, activation=\"softmax\")(x)\n",
    "model3_12 = keras.Model(inputs=inputs, outputs=outputs)\n",
    "\n",
    "model3_12.summary()"
   ]
  },
  {
   "cell_type": "code",
   "execution_count": 167,
   "metadata": {
    "pycharm": {
     "name": "#%%\n"
    },
    "scrolled": true
   },
   "outputs": [
    {
     "name": "stdout",
     "output_type": "stream",
     "text": [
      "Epoch 1/30\n",
      "145/145 [==============================] - 21s 130ms/step - loss: 3.8796 - accuracy: 0.0855 - val_loss: 3.9963 - val_accuracy: 0.0991\n",
      "INFO:tensorflow:Assets written to: model3_12\\best_version\\assets\n",
      "Epoch 2/30\n"
     ]
    },
    {
     "name": "stderr",
     "output_type": "stream",
     "text": [
      "F:\\Programas\\Anaconda\\envs\\TFGapp\\lib\\site-packages\\keras\\utils\\generic_utils.py:494: CustomMaskWarning: Custom mask layers require a config and must override get_config. When loading, the custom mask layer must be passed to the custom_objects argument.\n",
      "  warnings.warn('Custom mask layers require a config and must override '\n"
     ]
    },
    {
     "name": "stdout",
     "output_type": "stream",
     "text": [
      "145/145 [==============================] - 19s 125ms/step - loss: 2.6602 - accuracy: 0.2812 - val_loss: 2.2460 - val_accuracy: 0.3526\n",
      "INFO:tensorflow:Assets written to: model3_12\\best_version\\assets\n",
      "Epoch 3/30\n"
     ]
    },
    {
     "name": "stderr",
     "output_type": "stream",
     "text": [
      "F:\\Programas\\Anaconda\\envs\\TFGapp\\lib\\site-packages\\keras\\utils\\generic_utils.py:494: CustomMaskWarning: Custom mask layers require a config and must override get_config. When loading, the custom mask layer must be passed to the custom_objects argument.\n",
      "  warnings.warn('Custom mask layers require a config and must override '\n"
     ]
    },
    {
     "name": "stdout",
     "output_type": "stream",
     "text": [
      "145/145 [==============================] - 19s 126ms/step - loss: 1.9757 - accuracy: 0.4393 - val_loss: 1.9692 - val_accuracy: 0.4259\n",
      "INFO:tensorflow:Assets written to: model3_12\\best_version\\assets\n",
      "Epoch 4/30\n"
     ]
    },
    {
     "name": "stderr",
     "output_type": "stream",
     "text": [
      "F:\\Programas\\Anaconda\\envs\\TFGapp\\lib\\site-packages\\keras\\utils\\generic_utils.py:494: CustomMaskWarning: Custom mask layers require a config and must override get_config. When loading, the custom mask layer must be passed to the custom_objects argument.\n",
      "  warnings.warn('Custom mask layers require a config and must override '\n"
     ]
    },
    {
     "name": "stdout",
     "output_type": "stream",
     "text": [
      "145/145 [==============================] - 19s 124ms/step - loss: 1.4711 - accuracy: 0.5623 - val_loss: 1.4650 - val_accuracy: 0.5509\n",
      "INFO:tensorflow:Assets written to: model3_12\\best_version\\assets\n",
      "Epoch 5/30\n"
     ]
    },
    {
     "name": "stderr",
     "output_type": "stream",
     "text": [
      "F:\\Programas\\Anaconda\\envs\\TFGapp\\lib\\site-packages\\keras\\utils\\generic_utils.py:494: CustomMaskWarning: Custom mask layers require a config and must override get_config. When loading, the custom mask layer must be passed to the custom_objects argument.\n",
      "  warnings.warn('Custom mask layers require a config and must override '\n"
     ]
    },
    {
     "name": "stdout",
     "output_type": "stream",
     "text": [
      "145/145 [==============================] - 19s 124ms/step - loss: 1.1292 - accuracy: 0.6536 - val_loss: 1.2979 - val_accuracy: 0.6000\n",
      "INFO:tensorflow:Assets written to: model3_12\\best_version\\assets\n",
      "Epoch 6/30\n"
     ]
    },
    {
     "name": "stderr",
     "output_type": "stream",
     "text": [
      "F:\\Programas\\Anaconda\\envs\\TFGapp\\lib\\site-packages\\keras\\utils\\generic_utils.py:494: CustomMaskWarning: Custom mask layers require a config and must override get_config. When loading, the custom mask layer must be passed to the custom_objects argument.\n",
      "  warnings.warn('Custom mask layers require a config and must override '\n"
     ]
    },
    {
     "name": "stdout",
     "output_type": "stream",
     "text": [
      "145/145 [==============================] - 20s 129ms/step - loss: 0.9191 - accuracy: 0.7171 - val_loss: 1.1299 - val_accuracy: 0.6629\n",
      "INFO:tensorflow:Assets written to: model3_12\\best_version\\assets\n",
      "Epoch 7/30\n"
     ]
    },
    {
     "name": "stderr",
     "output_type": "stream",
     "text": [
      "F:\\Programas\\Anaconda\\envs\\TFGapp\\lib\\site-packages\\keras\\utils\\generic_utils.py:494: CustomMaskWarning: Custom mask layers require a config and must override get_config. When loading, the custom mask layer must be passed to the custom_objects argument.\n",
      "  warnings.warn('Custom mask layers require a config and must override '\n"
     ]
    },
    {
     "name": "stdout",
     "output_type": "stream",
     "text": [
      "145/145 [==============================] - 20s 134ms/step - loss: 0.6852 - accuracy: 0.7875 - val_loss: 0.9794 - val_accuracy: 0.7103\n",
      "INFO:tensorflow:Assets written to: model3_12\\best_version\\assets\n",
      "Epoch 8/30\n"
     ]
    },
    {
     "name": "stderr",
     "output_type": "stream",
     "text": [
      "F:\\Programas\\Anaconda\\envs\\TFGapp\\lib\\site-packages\\keras\\utils\\generic_utils.py:494: CustomMaskWarning: Custom mask layers require a config and must override get_config. When loading, the custom mask layer must be passed to the custom_objects argument.\n",
      "  warnings.warn('Custom mask layers require a config and must override '\n"
     ]
    },
    {
     "name": "stdout",
     "output_type": "stream",
     "text": [
      "145/145 [==============================] - 19s 127ms/step - loss: 0.5616 - accuracy: 0.8241 - val_loss: 1.2264 - val_accuracy: 0.6543\n",
      "Epoch 9/30\n",
      "145/145 [==============================] - 20s 135ms/step - loss: 0.4867 - accuracy: 0.8548 - val_loss: 1.1759 - val_accuracy: 0.6853\n",
      "Epoch 10/30\n",
      "145/145 [==============================] - 20s 134ms/step - loss: 0.3712 - accuracy: 0.8846 - val_loss: 1.0966 - val_accuracy: 0.7267\n",
      "Epoch 11/30\n",
      "145/145 [==============================] - 20s 135ms/step - loss: 0.3233 - accuracy: 0.9012 - val_loss: 1.3936 - val_accuracy: 0.7164\n",
      "Epoch 12/30\n",
      "145/145 [==============================] - 20s 132ms/step - loss: 0.2982 - accuracy: 0.9112 - val_loss: 1.3320 - val_accuracy: 0.7078\n",
      "Epoch 13/30\n",
      "145/145 [==============================] - 21s 137ms/step - loss: 0.2682 - accuracy: 0.9186 - val_loss: 1.3003 - val_accuracy: 0.7129\n",
      "Epoch 14/30\n",
      "145/145 [==============================] - 21s 138ms/step - loss: 0.2423 - accuracy: 0.9293 - val_loss: 1.3039 - val_accuracy: 0.7198\n",
      "Epoch 15/30\n",
      "145/145 [==============================] - 20s 133ms/step - loss: 0.2311 - accuracy: 0.9308 - val_loss: 1.6415 - val_accuracy: 0.6793\n",
      "Epoch 16/30\n",
      "145/145 [==============================] - 20s 130ms/step - loss: 0.2326 - accuracy: 0.9373 - val_loss: 1.3484 - val_accuracy: 0.7483\n",
      "Epoch 17/30\n",
      "145/145 [==============================] - 19s 128ms/step - loss: 0.1991 - accuracy: 0.9442 - val_loss: 1.3940 - val_accuracy: 0.7414\n",
      "Epoch 18/30\n",
      "145/145 [==============================] - 19s 127ms/step - loss: 0.1692 - accuracy: 0.9515 - val_loss: 2.2489 - val_accuracy: 0.6991\n",
      "Epoch 19/30\n",
      "145/145 [==============================] - 20s 130ms/step - loss: 0.1881 - accuracy: 0.9483 - val_loss: 2.5514 - val_accuracy: 0.6586\n",
      "Epoch 20/30\n",
      "145/145 [==============================] - 20s 129ms/step - loss: 0.1837 - accuracy: 0.9520 - val_loss: 1.9980 - val_accuracy: 0.7293\n",
      "Epoch 21/30\n",
      "145/145 [==============================] - 20s 130ms/step - loss: 0.1629 - accuracy: 0.9563 - val_loss: 1.6976 - val_accuracy: 0.7517\n",
      "Epoch 22/30\n",
      "145/145 [==============================] - 20s 135ms/step - loss: 0.1862 - accuracy: 0.9531 - val_loss: 2.2592 - val_accuracy: 0.6983\n",
      "Epoch 23/30\n",
      "145/145 [==============================] - 20s 132ms/step - loss: 0.1534 - accuracy: 0.9608 - val_loss: 2.5286 - val_accuracy: 0.6888\n",
      "Epoch 24/30\n",
      "145/145 [==============================] - 20s 135ms/step - loss: 0.1672 - accuracy: 0.9588 - val_loss: 2.9319 - val_accuracy: 0.6991\n",
      "Epoch 25/30\n",
      "145/145 [==============================] - 20s 132ms/step - loss: 0.1835 - accuracy: 0.9603 - val_loss: 2.2775 - val_accuracy: 0.7181\n",
      "Epoch 26/30\n",
      "145/145 [==============================] - 19s 127ms/step - loss: 0.1959 - accuracy: 0.9612 - val_loss: 2.7410 - val_accuracy: 0.7026\n",
      "Epoch 27/30\n",
      "145/145 [==============================] - 20s 131ms/step - loss: 0.1517 - accuracy: 0.9667 - val_loss: 2.8235 - val_accuracy: 0.7216\n",
      "Epoch 28/30\n",
      "145/145 [==============================] - 20s 130ms/step - loss: 0.1711 - accuracy: 0.9644 - val_loss: 2.5873 - val_accuracy: 0.7457\n",
      "Epoch 29/30\n",
      "145/145 [==============================] - 20s 133ms/step - loss: 0.1527 - accuracy: 0.9670 - val_loss: 2.7443 - val_accuracy: 0.7431\n",
      "Epoch 30/30\n",
      "145/145 [==============================] - 20s 132ms/step - loss: 0.1944 - accuracy: 0.9625 - val_loss: 2.7459 - val_accuracy: 0.7250\n"
     ]
    }
   ],
   "source": [
    "model3_12.compile(loss=\"categorical_crossentropy\",\n",
    "    optimizer=\"rmsprop\",\n",
    "    metrics=[\"accuracy\"])\n",
    "\n",
    "callbacks = [\n",
    "    keras.callbacks.ModelCheckpoint(\n",
    "    filepath=\"model3_12/best_version\",\n",
    "    save_best_only=True,\n",
    "    monitor=\"val_loss\")\n",
    "]\n",
    "\n",
    "history = model3_12.fit(\n",
    "    train_dataset,\n",
    "    epochs=30,\n",
    "    validation_data=validation_dataset,\n",
    "    callbacks=callbacks)"
   ]
  },
  {
   "cell_type": "code",
   "execution_count": 159,
   "metadata": {
    "pycharm": {
     "name": "#%%\n"
    }
   },
   "outputs": [
    {
     "name": "stdout",
     "output_type": "stream",
     "text": [
      "INFO:tensorflow:Assets written to: model3_11/model\\assets\n"
     ]
    },
    {
     "name": "stderr",
     "output_type": "stream",
     "text": [
      "F:\\Programas\\Anaconda\\envs\\TFGapp\\lib\\site-packages\\keras\\utils\\generic_utils.py:494: CustomMaskWarning: Custom mask layers require a config and must override get_config. When loading, the custom mask layer must be passed to the custom_objects argument.\n",
      "  warnings.warn('Custom mask layers require a config and must override '\n"
     ]
    }
   ],
   "source": [
    "model3_12.save('model3_12/model')\n",
    "np.save('model3_12/history.npy',history.history)"
   ]
  },
  {
   "cell_type": "code",
   "execution_count": 160,
   "metadata": {
    "pycharm": {
     "name": "#%%\n"
    }
   },
   "outputs": [],
   "source": [
    "my_history1=np.load('model3_11/history.npy',allow_pickle='TRUE').item()\n",
    "my_history2=np.load('model3_12/history.npy',allow_pickle='TRUE').item()"
   ]
  },
  {
   "cell_type": "code",
   "execution_count": 161,
   "metadata": {
    "pycharm": {
     "name": "#%%\n"
    }
   },
   "outputs": [
    {
     "data": {
      "image/png": "[encoded data removed]",
      "text/plain": [
       "<Figure size 432x288 with 1 Axes>"
      ]
     },
     "metadata": {
      "needs_background": "light"
     },
     "output_type": "display_data"
    }
   ],
   "source": [
    "loss_1 = my_history1[\"loss\"]\n",
    "val_loss_1 = my_history1[\"val_loss\"]\n",
    "loss_2 = my_history2[\"loss\"]\n",
    "val_loss_2 = my_history2[\"val_loss\"]\n",
    "epochs = range(1, len(loss_1) + 1)\n",
    "\n",
    "plt.plot(epochs, loss_1, \"b.\", label=\"Training loss original\")\n",
    "plt.plot(epochs, loss_2, \"r.\", label=\"Training loss new\")\n",
    "plt.plot(epochs, val_loss_1, \"b\", label=\"Validation loss original\")\n",
    "plt.plot(epochs, val_loss_2, \"r\", label=\"Validation loss new\")\n",
    "plt.title(\"Training and validation loss\")\n",
    "plt.xlabel(\"Epochs\")\n",
    "plt.ylabel(\"Loss\")\n",
    "plt.legend()\n",
    "plt.show()"
   ]
  },
  {
   "cell_type": "code",
   "execution_count": 162,
   "metadata": {
    "pycharm": {
     "name": "#%%\n"
    }
   },
   "outputs": [
    {
     "data": {
      "image/png": "[encoded data removed]",
      "text/plain": [
       "<Figure size 432x288 with 1 Axes>"
      ]
     },
     "metadata": {
      "needs_background": "light"
     },
     "output_type": "display_data"
    }
   ],
   "source": [
    "\n",
    "plt.clf()\n",
    "\n",
    "acc_1 = my_history1[\"accuracy\"]\n",
    "val_acc_1 = my_history1[\"val_accuracy\"]\n",
    "acc_2 = my_history2[\"accuracy\"]\n",
    "val_acc_2 = my_history2[\"val_accuracy\"]\n",
    "epochs = range(1, len(loss_1) + 1)\n",
    "\n",
    "plt.plot(epochs, acc_1, \"b.\", label=\"Training accuracy original\")\n",
    "plt.plot(epochs, acc_2, \"r.\", label=\"Training accuracy new\")\n",
    "plt.plot(epochs, val_acc_1, \"b\", label=\"Validation accuracy original\")\n",
    "plt.plot(epochs, val_acc_2, \"r\", label=\"Validation accuracy new\")\n",
    "plt.title(\"Training and validation accuracy\")\n",
    "plt.xlabel(\"Epochs\")\n",
    "plt.ylabel(\"Accuracy\")\n",
    "plt.legend()\n",
    "plt.show()"
   ]
  },
  {
   "cell_type": "code",
   "execution_count": 163,
   "metadata": {
    "pycharm": {
     "name": "#%%\n"
    }
   },
   "outputs": [
    {
     "name": "stdout",
     "output_type": "stream",
     "text": [
      "19/19 [==============================] - 2s 68ms/step - loss: 1.9713 - accuracy: 0.7181\n"
     ]
    },
    {
     "data": {
      "text/plain": [
       "[1.9712738990783691, 0.7181034684181213]"
      ]
     },
     "execution_count": 163,
     "metadata": {},
     "output_type": "execute_result"
    }
   ],
   "source": [
    "model = keras.models.load_model('model3_12/model')\n",
    "results= model.evaluate(test_dataset)\n",
    "results"
   ]
  },
  {
   "cell_type": "code",
   "execution_count": 164,
   "metadata": {
    "pycharm": {
     "name": "#%%\n"
    },
    "scrolled": false
   },
   "outputs": [
    {
     "name": "stdout",
     "output_type": "stream",
     "text": [
      "19/19 [==============================] - 2s 75ms/step - loss: 1.2499 - accuracy: 0.6491\n"
     ]
    },
    {
     "data": {
      "text/plain": [
       "[1.249870777130127, 0.6491379141807556]"
      ]
     },
     "execution_count": 164,
     "metadata": {},
     "output_type": "execute_result"
    }
   ],
   "source": [
    "model = keras.models.load_model('model3_12/best_version')\n",
    "results= model.evaluate(test_dataset)\n",
    "results"
   ]
  }
 ],
 "metadata": {
  "kernelspec": {
   "display_name": "Python 3 (ipykernel)",
   "language": "python",
   "name": "python3"
  },
  "language_info": {
   "codemirror_mode": {
    "name": "ipython",
    "version": 3
   },
   "file_extension": ".py",
   "mimetype": "text/x-python",
   "name": "python",
   "nbconvert_exporter": "python",
   "pygments_lexer": "ipython3",
   "version": "3.9.12"
  }
 },
 "nbformat": 4,
 "nbformat_minor": 1
}