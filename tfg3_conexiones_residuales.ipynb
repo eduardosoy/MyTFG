{
 "cells": [
  {
   "cell_type": "markdown",
   "metadata": {
    "pycharm": {
     "name": "#%%\n"
    }
   },
   "source": [
    "# Creación de un modelo desde cero: nueva arquitectura y reducción de \"ruido\""
   ]
  },
  {
   "cell_type": "markdown",
   "metadata": {
    "pycharm": {
     "name": "#%%\n"
    }
   },
   "source": [
    "## Librerías necesarias"
   ]
  },
  {
   "cell_type": "code",
   "execution_count": 3,
   "metadata": {
    "pycharm": {
     "name": "#%%\n"
    }
   },
   "outputs": [],
   "source": [
    "from tensorflow import keras\n",
    "from tensorflow.keras import layers\n",
    "import os, shutil, pathlib\n",
    "from tensorflow.keras.utils import image_dataset_from_directory\n",
    "import matplotlib.pyplot as plt\n",
    "import numpy as np\n",
    "from tensorflow.keras.models import load_model"
   ]
  },
  {
   "cell_type": "markdown",
   "metadata": {
    "pycharm": {
     "name": "#%% md\n"
    }
   },
   "source": [
    "## Variables globales del sistema"
   ]
  },
  {
   "cell_type": "code",
   "execution_count": 4,
   "metadata": {
    "pycharm": {
     "name": "#%%\n"
    }
   },
   "outputs": [],
   "source": [
    "original_dir = pathlib.Path(\"ExpandedDataset/\")\n",
    "new_base_dir = pathlib.Path(\"ExpandedDataset_organized/\")\n",
    "content = os.listdir(original_dir)\n",
    "BATCH_SIZE = 64\n",
    "size_x = 256\n",
    "size_y = 256"
   ]
  },
  {
   "cell_type": "markdown",
   "metadata": {
    "pycharm": {
     "name": "#%% md\n"
    }
   },
   "source": [
    "## Creación de los datasets específicos a partir de las carpetas "
   ]
  },
  {
   "cell_type": "code",
   "execution_count": 15,
   "metadata": {
    "pycharm": {
     "name": "#%%\n"
    }
   },
   "outputs": [
    {
     "name": "stdout",
     "output_type": "stream",
     "text": [
      "Found 9280 files belonging to 58 classes.\n",
      "Found 1160 files belonging to 58 classes.\n",
      "Found 1160 files belonging to 58 classes.\n"
     ]
    }
   ],
   "source": [
    "train_dataset = image_dataset_from_directory(\n",
    "    new_base_dir / \"train\",\n",
    "    image_size=(size_x, size_y),\n",
    "    batch_size=BATCH_SIZE,\n",
    "    label_mode='categorical')\n",
    "validation_dataset = image_dataset_from_directory(\n",
    "    new_base_dir / \"validation\",\n",
    "    image_size=(size_x, size_y),\n",
    "    batch_size=BATCH_SIZE,\n",
    "    label_mode='categorical')\n",
    "test_dataset = image_dataset_from_directory(\n",
    "    new_base_dir / \"test\",\n",
    "    image_size=(size_x, size_y),\n",
    "    batch_size=BATCH_SIZE,\n",
    "    label_mode='categorical')"
   ]
  },
  {
   "cell_type": "markdown",
   "metadata": {
    "pycharm": {
     "name": "#%% md\n"
    }
   },
   "source": [
    "## Nuevo modelo más profundo: el modelo tres"
   ]
  },
  {
   "cell_type": "code",
   "execution_count": 13,
   "metadata": {
    "pycharm": {
     "name": "#%%\n"
    },
    "scrolled": true
   },
   "outputs": [
    {
     "name": "stdout",
     "output_type": "stream",
     "text": [
      "Model: \"model_3\"\n",
      "_________________________________________________________________\n",
      "Layer (type)                 Output Shape              Param #   \n",
      "=================================================================\n",
      "input_6 (InputLayer)         [(None, 256, 256, 3)]     0         \n",
      "_________________________________________________________________\n",
      "rescaling_5 (Rescaling)      (None, 256, 256, 3)       0         \n",
      "_________________________________________________________________\n",
      "conv2d_41 (Conv2D)           (None, 254, 254, 16)      448       \n",
      "_________________________________________________________________\n",
      "max_pooling2d_20 (MaxPooling (None, 127, 127, 16)      0         \n",
      "_________________________________________________________________\n",
      "conv2d_42 (Conv2D)           (None, 125, 125, 32)      4640      \n",
      "_________________________________________________________________\n",
      "max_pooling2d_21 (MaxPooling (None, 62, 62, 32)        0         \n",
      "_________________________________________________________________\n",
      "conv2d_43 (Conv2D)           (None, 60, 60, 64)        18496     \n",
      "_________________________________________________________________\n",
      "conv2d_44 (Conv2D)           (None, 58, 58, 64)        36928     \n",
      "_________________________________________________________________\n",
      "max_pooling2d_22 (MaxPooling (None, 29, 29, 64)        0         \n",
      "_________________________________________________________________\n",
      "conv2d_45 (Conv2D)           (None, 27, 27, 128)       73856     \n",
      "_________________________________________________________________\n",
      "conv2d_46 (Conv2D)           (None, 25, 25, 128)       147584    \n",
      "_________________________________________________________________\n",
      "max_pooling2d_23 (MaxPooling (None, 12, 12, 128)       0         \n",
      "_________________________________________________________________\n",
      "conv2d_47 (Conv2D)           (None, 10, 10, 256)       295168    \n",
      "_________________________________________________________________\n",
      "conv2d_48 (Conv2D)           (None, 8, 8, 256)         590080    \n",
      "_________________________________________________________________\n",
      "conv2d_49 (Conv2D)           (None, 6, 6, 256)         590080    \n",
      "_________________________________________________________________\n",
      "flatten_5 (Flatten)          (None, 9216)              0         \n",
      "_________________________________________________________________\n",
      "dropout_4 (Dropout)          (None, 9216)              0         \n",
      "_________________________________________________________________\n",
      "dense_9 (Dense)              (None, 58)                534586    \n",
      "=================================================================\n",
      "Total params: 2,291,866\n",
      "Trainable params: 2,291,866\n",
      "Non-trainable params: 0\n",
      "_________________________________________________________________\n"
     ]
    }
   ],
   "source": [
    "inputs = keras.Input(shape=(size_x, size_y, 3)) \n",
    "x = layers.Rescaling(1./255)(inputs) \n",
    "x = layers.Conv2D(filters=16, kernel_size=3, activation=\"relu\")(x)\n",
    "x = layers.MaxPooling2D(pool_size=2)(x)\n",
    "x = layers.Conv2D(filters=32, kernel_size=3, activation=\"relu\")(x)\n",
    "x = layers.MaxPooling2D(pool_size=2)(x)\n",
    "x = layers.Conv2D(filters=64, kernel_size=3, activation=\"relu\")(x)\n",
    "x = layers.Conv2D(filters=64, kernel_size=3, activation=\"relu\")(x)\n",
    "x = layers.MaxPooling2D(pool_size=2)(x)\n",
    "x = layers.Conv2D(filters=128, kernel_size=3, activation=\"relu\")(x)\n",
    "x = layers.Conv2D(filters=128, kernel_size=3, activation=\"relu\")(x)\n",
    "x = layers.MaxPooling2D(pool_size=2)(x)\n",
    "x = layers.Conv2D(filters=256, kernel_size=3, activation=\"relu\")(x)\n",
    "x = layers.Conv2D(filters=256, kernel_size=3, activation=\"relu\")(x)\n",
    "x = layers.Conv2D(filters=256, kernel_size=3, activation=\"relu\")(x)\n",
    "x = layers.Flatten()(x)\n",
    "x = layers.Dropout(0.5)(x)\n",
    "outputs = layers.Dense(58, activation=\"softmax\")(x)\n",
    "model3 = keras.Model(inputs=inputs, outputs=outputs)\n",
    "\n",
    "model3.summary()"
   ]
  },
  {
   "cell_type": "markdown",
   "metadata": {
    "pycharm": {
     "name": "#%% md\n"
    }
   },
   "source": [
    "## Entrenamiento y guardado de resultados del modelo tres"
   ]
  },
  {
   "cell_type": "code",
   "execution_count": 16,
   "metadata": {
    "pycharm": {
     "name": "#%%\n"
    },
    "scrolled": true
   },
   "outputs": [
    {
     "name": "stdout",
     "output_type": "stream",
     "text": [
      "Epoch 1/30\n",
      "145/145 [==============================] - 44s 127ms/step - loss: 4.1367 - accuracy: 0.0167 - val_loss: 4.0243 - val_accuracy: 0.0172\n",
      "INFO:tensorflow:Assets written to: model3\\best_version\\assets\n",
      "Epoch 2/30\n",
      "145/145 [==============================] - 18s 116ms/step - loss: 3.8844 - accuracy: 0.0400 - val_loss: 3.5098 - val_accuracy: 0.0621\n",
      "INFO:tensorflow:Assets written to: model3\\best_version\\assets\n",
      "Epoch 3/30\n",
      "145/145 [==============================] - 18s 116ms/step - loss: 3.5740 - accuracy: 0.0795 - val_loss: 3.2888 - val_accuracy: 0.1112\n",
      "INFO:tensorflow:Assets written to: model3\\best_version\\assets\n",
      "Epoch 4/30\n",
      "145/145 [==============================] - 18s 116ms/step - loss: 3.1833 - accuracy: 0.1426 - val_loss: 3.0713 - val_accuracy: 0.1414\n",
      "INFO:tensorflow:Assets written to: model3\\best_version\\assets\n",
      "Epoch 5/30\n",
      "145/145 [==============================] - 18s 117ms/step - loss: 2.8795 - accuracy: 0.2053 - val_loss: 3.1766 - val_accuracy: 0.1233\n",
      "Epoch 6/30\n",
      "145/145 [==============================] - 18s 118ms/step - loss: 2.5331 - accuracy: 0.2766 - val_loss: 2.3708 - val_accuracy: 0.2845\n",
      "INFO:tensorflow:Assets written to: model3\\best_version\\assets\n",
      "Epoch 7/30\n",
      "145/145 [==============================] - 18s 118ms/step - loss: 2.3046 - accuracy: 0.3366 - val_loss: 2.4930 - val_accuracy: 0.2802\n",
      "Epoch 8/30\n",
      "145/145 [==============================] - 18s 117ms/step - loss: 2.0650 - accuracy: 0.3945 - val_loss: 2.1787 - val_accuracy: 0.3612\n",
      "INFO:tensorflow:Assets written to: model3\\best_version\\assets\n",
      "Epoch 9/30\n",
      "145/145 [==============================] - 18s 117ms/step - loss: 1.8513 - accuracy: 0.4421 - val_loss: 2.2914 - val_accuracy: 0.3448\n",
      "Epoch 10/30\n",
      "145/145 [==============================] - 18s 118ms/step - loss: 1.6400 - accuracy: 0.5059 - val_loss: 1.9653 - val_accuracy: 0.4491\n",
      "INFO:tensorflow:Assets written to: model3\\best_version\\assets\n",
      "Epoch 11/30\n",
      "145/145 [==============================] - 18s 118ms/step - loss: 1.4823 - accuracy: 0.5522 - val_loss: 1.6084 - val_accuracy: 0.5233\n",
      "INFO:tensorflow:Assets written to: model3\\best_version\\assets\n",
      "Epoch 12/30\n",
      "145/145 [==============================] - 18s 119ms/step - loss: 1.3059 - accuracy: 0.5978 - val_loss: 1.5307 - val_accuracy: 0.5552\n",
      "INFO:tensorflow:Assets written to: model3\\best_version\\assets\n",
      "Epoch 13/30\n",
      "145/145 [==============================] - 18s 118ms/step - loss: 1.1533 - accuracy: 0.6349 - val_loss: 1.7129 - val_accuracy: 0.5207\n",
      "Epoch 14/30\n",
      "145/145 [==============================] - 18s 119ms/step - loss: 1.0445 - accuracy: 0.6730 - val_loss: 1.4140 - val_accuracy: 0.6095\n",
      "INFO:tensorflow:Assets written to: model3\\best_version\\assets\n",
      "Epoch 15/30\n",
      "145/145 [==============================] - 18s 118ms/step - loss: 0.9013 - accuracy: 0.7113 - val_loss: 1.4682 - val_accuracy: 0.5940\n",
      "Epoch 16/30\n",
      "145/145 [==============================] - 18s 118ms/step - loss: 0.8025 - accuracy: 0.7518 - val_loss: 1.5428 - val_accuracy: 0.6190\n",
      "Epoch 17/30\n",
      "145/145 [==============================] - 18s 117ms/step - loss: 0.7157 - accuracy: 0.7753 - val_loss: 1.5232 - val_accuracy: 0.6000\n",
      "Epoch 18/30\n",
      "145/145 [==============================] - 18s 119ms/step - loss: 0.6391 - accuracy: 0.8000 - val_loss: 2.2547 - val_accuracy: 0.5181\n",
      "Epoch 19/30\n",
      "145/145 [==============================] - 18s 118ms/step - loss: 0.5639 - accuracy: 0.8238 - val_loss: 1.6324 - val_accuracy: 0.6448\n",
      "Epoch 20/30\n",
      "145/145 [==============================] - 18s 117ms/step - loss: 0.5311 - accuracy: 0.8413 - val_loss: 1.5084 - val_accuracy: 0.6440\n",
      "Epoch 21/30\n",
      "145/145 [==============================] - 18s 118ms/step - loss: 0.4758 - accuracy: 0.8518 - val_loss: 1.6361 - val_accuracy: 0.6629\n",
      "Epoch 22/30\n",
      "145/145 [==============================] - 18s 119ms/step - loss: 0.4388 - accuracy: 0.8678 - val_loss: 1.5403 - val_accuracy: 0.6853\n",
      "Epoch 23/30\n",
      "145/145 [==============================] - 18s 118ms/step - loss: 0.4222 - accuracy: 0.8768 - val_loss: 1.7265 - val_accuracy: 0.6457\n",
      "Epoch 24/30\n",
      "145/145 [==============================] - 18s 120ms/step - loss: 0.4025 - accuracy: 0.8801 - val_loss: 1.9299 - val_accuracy: 0.6491\n",
      "Epoch 25/30\n",
      "145/145 [==============================] - 18s 119ms/step - loss: 0.3746 - accuracy: 0.8892 - val_loss: 1.6824 - val_accuracy: 0.6612\n",
      "Epoch 26/30\n",
      "145/145 [==============================] - 18s 118ms/step - loss: 0.3538 - accuracy: 0.8975 - val_loss: 2.0488 - val_accuracy: 0.6224\n",
      "Epoch 27/30\n",
      "145/145 [==============================] - 18s 118ms/step - loss: 0.3360 - accuracy: 0.9097 - val_loss: 1.9818 - val_accuracy: 0.6267\n",
      "Epoch 28/30\n",
      "145/145 [==============================] - 18s 121ms/step - loss: 0.3307 - accuracy: 0.9094 - val_loss: 1.8268 - val_accuracy: 0.6776\n",
      "Epoch 29/30\n",
      "145/145 [==============================] - 18s 118ms/step - loss: 0.3142 - accuracy: 0.9121 - val_loss: 2.2959 - val_accuracy: 0.6112\n",
      "Epoch 30/30\n",
      "145/145 [==============================] - 18s 119ms/step - loss: 0.3143 - accuracy: 0.9131 - val_loss: 2.1689 - val_accuracy: 0.6431\n"
     ]
    }
   ],
   "source": [
    "callbacks = [\n",
    " keras.callbacks.ModelCheckpoint(\n",
    " filepath=\"model3/best_version\",\n",
    " save_best_only=True,\n",
    " monitor=\"val_loss\")\n",
    "]\n",
    "\n",
    "model3.compile(loss=\"categorical_crossentropy\",\n",
    " optimizer=\"rmsprop\",\n",
    " metrics=[\"accuracy\"])\n",
    "\n",
    "history = model3.fit(\n",
    " train_dataset,\n",
    " epochs=30,\n",
    " validation_data=validation_dataset,\n",
    " callbacks=callbacks)"
   ]
  },
  {
   "cell_type": "code",
   "execution_count": 17,
   "metadata": {
    "pycharm": {
     "name": "#%%\n"
    }
   },
   "outputs": [
    {
     "name": "stdout",
     "output_type": "stream",
     "text": [
      "INFO:tensorflow:Assets written to: model3/model\\assets\n"
     ]
    }
   ],
   "source": [
    "model3.save('model3/model')\n",
    "np.save('model3/history.npy',history.history)"
   ]
  },
  {
   "cell_type": "markdown",
   "metadata": {
    "pycharm": {
     "name": "#%% md\n"
    }
   },
   "source": [
    "## Análisis de resultados"
   ]
  },
  {
   "cell_type": "code",
   "execution_count": 18,
   "metadata": {
    "pycharm": {
     "name": "#%%\n"
    }
   },
   "outputs": [],
   "source": [
    "my_history1=np.load('model2/history.npy',allow_pickle='TRUE').item()\n",
    "my_history2=np.load('model3/history.npy',allow_pickle='TRUE').item()"
   ]
  },
  {
   "cell_type": "code",
   "execution_count": 19,
   "metadata": {
    "pycharm": {
     "name": "#%%\n"
    }
   },
   "outputs": [
    {
     "data": {
      "image/png": "[encoded data removed]",
      "text/plain": [
       "<Figure size 432x288 with 1 Axes>"
      ]
     },
     "metadata": {
      "needs_background": "light"
     },
     "output_type": "display_data"
    }
   ],
   "source": [
    "loss_1 = my_history1[\"loss\"]\n",
    "val_loss_1 = my_history1[\"val_loss\"]\n",
    "loss_2 = my_history2[\"loss\"]\n",
    "val_loss_2 = my_history2[\"val_loss\"]\n",
    "epochs = range(1, len(loss_1) + 1)\n",
    "\n",
    "plt.plot(epochs, loss_1, \"b.\", label=\"Training loss original\")\n",
    "plt.plot(epochs, loss_2, \"r.\", label=\"Training loss new\")\n",
    "plt.plot(epochs, val_loss_1, \"b\", label=\"Validation loss original\")\n",
    "plt.plot(epochs, val_loss_2, \"r\", label=\"Validation loss new\")\n",
    "plt.title(\"Training and validation loss\")\n",
    "plt.xlabel(\"Epochs\")\n",
    "plt.ylabel(\"Loss\")\n",
    "plt.legend()\n",
    "plt.show()"
   ]
  },
  {
   "cell_type": "code",
   "execution_count": 20,
   "metadata": {
    "pycharm": {
     "name": "#%%\n"
    }
   },
   "outputs": [
    {
     "data": {
      "image/png": "[encoded data removed]",
      "text/plain": [
       "<Figure size 432x288 with 1 Axes>"
      ]
     },
     "metadata": {
      "needs_background": "light"
     },
     "output_type": "display_data"
    }
   ],
   "source": [
    "\n",
    "plt.clf()\n",
    "\n",
    "acc_1 = my_history1[\"accuracy\"]\n",
    "val_acc_1 = my_history1[\"val_accuracy\"]\n",
    "acc_2 = my_history2[\"accuracy\"]\n",
    "val_acc_2 = my_history2[\"val_accuracy\"]\n",
    "epochs = range(1, len(loss_1) + 1)\n",
    "\n",
    "plt.plot(epochs, acc_1, \"b.\", label=\"Training accuracy original\")\n",
    "plt.plot(epochs, acc_2, \"r.\", label=\"Training accuracy new\")\n",
    "plt.plot(epochs, val_acc_1, \"b\", label=\"Validation accuracy original\")\n",
    "plt.plot(epochs, val_acc_2, \"r\", label=\"Validation accuracy new\")\n",
    "plt.title(\"Training and validation accuracy\")\n",
    "plt.xlabel(\"Epochs\")\n",
    "plt.ylabel(\"Accuracy\")\n",
    "plt.legend()\n",
    "plt.show()"
   ]
  },
  {
   "cell_type": "code",
   "execution_count": 21,
   "metadata": {
    "pycharm": {
     "name": "#%%\n"
    }
   },
   "outputs": [
    {
     "name": "stdout",
     "output_type": "stream",
     "text": [
      "19/19 [==============================] - 2s 64ms/step - loss: 2.0408 - accuracy: 0.6388\n"
     ]
    },
    {
     "data": {
      "text/plain": [
       "[2.040764093399048, 0.6387931108474731]"
      ]
     },
     "execution_count": 21,
     "metadata": {},
     "output_type": "execute_result"
    }
   ],
   "source": [
    "model = keras.models.load_model('model3/model')\n",
    "results= model.evaluate(test_dataset)\n",
    "results"
   ]
  },
  {
   "cell_type": "code",
   "execution_count": 22,
   "metadata": {
    "pycharm": {
     "name": "#%%\n"
    }
   },
   "outputs": [
    {
     "name": "stdout",
     "output_type": "stream",
     "text": [
      "19/19 [==============================] - 2s 73ms/step - loss: 1.3558 - accuracy: 0.5845\n"
     ]
    },
    {
     "data": {
      "text/plain": [
       "[1.355833888053894, 0.584482729434967]"
      ]
     },
     "execution_count": 22,
     "metadata": {},
     "output_type": "execute_result"
    }
   ],
   "source": [
    "model = keras.models.load_model('model3/best_version')\n",
    "results= model.evaluate(test_dataset)\n",
    "results"
   ]
  },
  {
   "cell_type": "markdown",
   "metadata": {
    "pycharm": {
     "name": "#%% md\n"
    }
   },
   "source": [
    "## Modelo 3.1: modelo tres con tres capas densas al final"
   ]
  },
  {
   "cell_type": "code",
   "execution_count": 27,
   "metadata": {
    "scrolled": true
   },
   "outputs": [
    {
     "name": "stdout",
     "output_type": "stream",
     "text": [
      "Model: \"model_7\"\n",
      "_________________________________________________________________\n",
      "Layer (type)                 Output Shape              Param #   \n",
      "=================================================================\n",
      "input_11 (InputLayer)        [(None, 256, 256, 3)]     0         \n",
      "_________________________________________________________________\n",
      "rescaling_10 (Rescaling)     (None, 256, 256, 3)       0         \n",
      "_________________________________________________________________\n",
      "conv2d_86 (Conv2D)           (None, 254, 254, 16)      448       \n",
      "_________________________________________________________________\n",
      "max_pooling2d_41 (MaxPooling (None, 127, 127, 16)      0         \n",
      "_________________________________________________________________\n",
      "conv2d_87 (Conv2D)           (None, 125, 125, 32)      4640      \n",
      "_________________________________________________________________\n",
      "max_pooling2d_42 (MaxPooling (None, 62, 62, 32)        0         \n",
      "_________________________________________________________________\n",
      "conv2d_88 (Conv2D)           (None, 60, 60, 64)        18496     \n",
      "_________________________________________________________________\n",
      "conv2d_89 (Conv2D)           (None, 58, 58, 64)        36928     \n",
      "_________________________________________________________________\n",
      "max_pooling2d_43 (MaxPooling (None, 29, 29, 64)        0         \n",
      "_________________________________________________________________\n",
      "conv2d_90 (Conv2D)           (None, 27, 27, 128)       73856     \n",
      "_________________________________________________________________\n",
      "conv2d_91 (Conv2D)           (None, 25, 25, 128)       147584    \n",
      "_________________________________________________________________\n",
      "max_pooling2d_44 (MaxPooling (None, 12, 12, 128)       0         \n",
      "_________________________________________________________________\n",
      "conv2d_92 (Conv2D)           (None, 10, 10, 256)       295168    \n",
      "_________________________________________________________________\n",
      "conv2d_93 (Conv2D)           (None, 8, 8, 256)         590080    \n",
      "_________________________________________________________________\n",
      "conv2d_94 (Conv2D)           (None, 6, 6, 256)         590080    \n",
      "_________________________________________________________________\n",
      "dense_22 (Dense)             (None, 6, 6, 64)          16448     \n",
      "_________________________________________________________________\n",
      "dense_23 (Dense)             (None, 6, 6, 64)          4160      \n",
      "_________________________________________________________________\n",
      "dense_24 (Dense)             (None, 6, 6, 64)          4160      \n",
      "_________________________________________________________________\n",
      "flatten_9 (Flatten)          (None, 2304)              0         \n",
      "_________________________________________________________________\n",
      "dropout_8 (Dropout)          (None, 2304)              0         \n",
      "_________________________________________________________________\n",
      "dense_25 (Dense)             (None, 58)                133690    \n",
      "=================================================================\n",
      "Total params: 1,915,738\n",
      "Trainable params: 1,915,738\n",
      "Non-trainable params: 0\n",
      "_________________________________________________________________\n"
     ]
    }
   ],
   "source": [
    "inputs = keras.Input(shape=(size_x, size_y, 3)) \n",
    "x = layers.Rescaling(1./255)(inputs) \n",
    "x = layers.Conv2D(filters=16, kernel_size=3, activation=\"relu\")(x)\n",
    "x = layers.MaxPooling2D(pool_size=2)(x)\n",
    "x = layers.Conv2D(filters=32, kernel_size=3, activation=\"relu\")(x)\n",
    "x = layers.MaxPooling2D(pool_size=2)(x)\n",
    "x = layers.Conv2D(filters=64, kernel_size=3, activation=\"relu\")(x)\n",
    "x = layers.Conv2D(filters=64, kernel_size=3, activation=\"relu\")(x)\n",
    "x = layers.MaxPooling2D(pool_size=2)(x)\n",
    "x = layers.Conv2D(filters=128, kernel_size=3, activation=\"relu\")(x)\n",
    "x = layers.Conv2D(filters=128, kernel_size=3, activation=\"relu\")(x)\n",
    "x = layers.MaxPooling2D(pool_size=2)(x)\n",
    "x = layers.Conv2D(filters=256, kernel_size=3, activation=\"relu\")(x)\n",
    "x = layers.Conv2D(filters=256, kernel_size=3, activation=\"relu\")(x)\n",
    "x = layers.Conv2D(filters=256, kernel_size=3, activation=\"relu\")(x)\n",
    "x = layers.Dense(64, activation = \"relu\")(x)\n",
    "x = layers.Dense(64, activation = \"relu\")(x)\n",
    "x = layers.Dense(64, activation = \"relu\")(x)\n",
    "x = layers.Flatten()(x)\n",
    "x = layers.Dropout(0.5)(x)\n",
    "outputs = layers.Dense(58, activation=\"softmax\")(x)\n",
    "model3_1 = keras.Model(inputs=inputs, outputs=outputs)\n",
    "\n",
    "model3_1.summary()"
   ]
  },
  {
   "cell_type": "code",
   "execution_count": 28,
   "metadata": {
    "pycharm": {
     "name": "#%%\n"
    }
   },
   "outputs": [
    {
     "name": "stdout",
     "output_type": "stream",
     "text": [
      "Epoch 1/30\n",
      "145/145 [==============================] - 22s 131ms/step - loss: 4.0648 - accuracy: 0.0152 - val_loss: 4.0605 - val_accuracy: 0.0172\n",
      "INFO:tensorflow:Assets written to: model3_1\\best_version\\assets\n",
      "Epoch 2/30\n",
      "145/145 [==============================] - 19s 124ms/step - loss: 4.0709 - accuracy: 0.0136 - val_loss: 4.0584 - val_accuracy: 0.0216\n",
      "INFO:tensorflow:Assets written to: model3_1\\best_version\\assets\n",
      "Epoch 3/30\n",
      "145/145 [==============================] - 18s 120ms/step - loss: 3.7601 - accuracy: 0.0428 - val_loss: 3.7383 - val_accuracy: 0.0431\n",
      "INFO:tensorflow:Assets written to: model3_1\\best_version\\assets\n",
      "Epoch 4/30\n",
      "145/145 [==============================] - 19s 122ms/step - loss: 3.3819 - accuracy: 0.0980 - val_loss: 3.2081 - val_accuracy: 0.1241\n",
      "INFO:tensorflow:Assets written to: model3_1\\best_version\\assets\n",
      "Epoch 5/30\n",
      "145/145 [==============================] - 19s 123ms/step - loss: 3.0447 - accuracy: 0.1638 - val_loss: 2.7581 - val_accuracy: 0.2034\n",
      "INFO:tensorflow:Assets written to: model3_1\\best_version\\assets\n",
      "Epoch 6/30\n",
      "145/145 [==============================] - 19s 125ms/step - loss: 2.6958 - accuracy: 0.2373 - val_loss: 2.5529 - val_accuracy: 0.2500\n",
      "INFO:tensorflow:Assets written to: model3_1\\best_version\\assets\n",
      "Epoch 7/30\n",
      "145/145 [==============================] - 19s 124ms/step - loss: 2.4448 - accuracy: 0.2945 - val_loss: 2.3970 - val_accuracy: 0.2940\n",
      "INFO:tensorflow:Assets written to: model3_1\\best_version\\assets\n",
      "Epoch 8/30\n",
      "145/145 [==============================] - 19s 126ms/step - loss: 2.2459 - accuracy: 0.3421 - val_loss: 2.1044 - val_accuracy: 0.3784\n",
      "INFO:tensorflow:Assets written to: model3_1\\best_version\\assets\n",
      "Epoch 9/30\n",
      "145/145 [==============================] - 19s 126ms/step - loss: 2.0738 - accuracy: 0.3839 - val_loss: 2.1953 - val_accuracy: 0.3793\n",
      "Epoch 10/30\n",
      "145/145 [==============================] - 19s 123ms/step - loss: 1.9329 - accuracy: 0.4275 - val_loss: 1.8966 - val_accuracy: 0.4388\n",
      "INFO:tensorflow:Assets written to: model3_1\\best_version\\assets\n",
      "Epoch 11/30\n",
      "145/145 [==============================] - 19s 122ms/step - loss: 1.7996 - accuracy: 0.4529 - val_loss: 1.7760 - val_accuracy: 0.4707\n",
      "INFO:tensorflow:Assets written to: model3_1\\best_version\\assets\n",
      "Epoch 12/30\n",
      "145/145 [==============================] - 19s 122ms/step - loss: 1.6562 - accuracy: 0.4919 - val_loss: 2.1356 - val_accuracy: 0.3879\n",
      "Epoch 13/30\n",
      "145/145 [==============================] - 19s 122ms/step - loss: 1.5430 - accuracy: 0.5262 - val_loss: 1.8404 - val_accuracy: 0.4672\n",
      "Epoch 14/30\n",
      "145/145 [==============================] - 19s 126ms/step - loss: 1.4688 - accuracy: 0.5502 - val_loss: 1.5664 - val_accuracy: 0.5310\n",
      "INFO:tensorflow:Assets written to: model3_1\\best_version\\assets\n",
      "Epoch 15/30\n",
      "145/145 [==============================] - 19s 124ms/step - loss: 1.3710 - accuracy: 0.5733 - val_loss: 1.7076 - val_accuracy: 0.5043\n",
      "Epoch 16/30\n",
      "145/145 [==============================] - 19s 124ms/step - loss: 1.2399 - accuracy: 0.6082 - val_loss: 1.3894 - val_accuracy: 0.5655\n",
      "INFO:tensorflow:Assets written to: model3_1\\best_version\\assets\n",
      "Epoch 17/30\n",
      "145/145 [==============================] - 19s 123ms/step - loss: 1.1588 - accuracy: 0.6319 - val_loss: 1.4522 - val_accuracy: 0.5405\n",
      "Epoch 18/30\n",
      "145/145 [==============================] - 19s 123ms/step - loss: 1.0860 - accuracy: 0.6545 - val_loss: 1.4162 - val_accuracy: 0.5802\n",
      "Epoch 19/30\n",
      "145/145 [==============================] - 19s 124ms/step - loss: 1.0188 - accuracy: 0.6704 - val_loss: 1.6591 - val_accuracy: 0.5276\n",
      "Epoch 20/30\n",
      "145/145 [==============================] - 22s 144ms/step - loss: 0.9403 - accuracy: 0.7044 - val_loss: 1.2914 - val_accuracy: 0.5871\n",
      "INFO:tensorflow:Assets written to: model3_1\\best_version\\assets\n",
      "Epoch 21/30\n",
      "145/145 [==============================] - 22s 144ms/step - loss: 0.8701 - accuracy: 0.7220 - val_loss: 1.2289 - val_accuracy: 0.6095\n",
      "INFO:tensorflow:Assets written to: model3_1\\best_version\\assets\n",
      "Epoch 22/30\n",
      "145/145 [==============================] - 22s 147ms/step - loss: 0.8092 - accuracy: 0.7418 - val_loss: 1.1915 - val_accuracy: 0.6414\n",
      "INFO:tensorflow:Assets written to: model3_1\\best_version\\assets\n",
      "Epoch 23/30\n",
      "145/145 [==============================] - 22s 146ms/step - loss: 0.7773 - accuracy: 0.7546 - val_loss: 1.5155 - val_accuracy: 0.5810\n",
      "Epoch 24/30\n",
      "145/145 [==============================] - 22s 145ms/step - loss: 0.7163 - accuracy: 0.7713 - val_loss: 1.4404 - val_accuracy: 0.6181\n",
      "Epoch 25/30\n",
      "145/145 [==============================] - 21s 141ms/step - loss: 0.6974 - accuracy: 0.7833 - val_loss: 1.2403 - val_accuracy: 0.6483\n",
      "Epoch 26/30\n",
      "145/145 [==============================] - 21s 142ms/step - loss: 0.6355 - accuracy: 0.8048 - val_loss: 1.5350 - val_accuracy: 0.6319\n",
      "Epoch 27/30\n",
      "145/145 [==============================] - 22s 146ms/step - loss: 0.6039 - accuracy: 0.8151 - val_loss: 1.3971 - val_accuracy: 0.6612\n",
      "Epoch 28/30\n",
      "145/145 [==============================] - 22s 144ms/step - loss: 0.5633 - accuracy: 0.8284 - val_loss: 1.1854 - val_accuracy: 0.6629\n",
      "INFO:tensorflow:Assets written to: model3_1\\best_version\\assets\n",
      "Epoch 29/30\n",
      "145/145 [==============================] - 21s 141ms/step - loss: 0.5626 - accuracy: 0.8276 - val_loss: 1.5132 - val_accuracy: 0.6379\n",
      "Epoch 30/30\n",
      "145/145 [==============================] - 21s 140ms/step - loss: 0.4939 - accuracy: 0.8448 - val_loss: 1.3149 - val_accuracy: 0.6397\n"
     ]
    }
   ],
   "source": [
    "callbacks = [\n",
    " keras.callbacks.ModelCheckpoint(\n",
    " filepath=\"model3_1/best_version\",\n",
    " save_best_only=True,\n",
    " monitor=\"val_loss\")\n",
    "]\n",
    "\n",
    "model3_1.compile(loss=\"categorical_crossentropy\",\n",
    " optimizer=\"rmsprop\",\n",
    " metrics=[\"accuracy\"])\n",
    "\n",
    "history = model3_1.fit(\n",
    " train_dataset,\n",
    " epochs=30,\n",
    " validation_data=validation_dataset,\n",
    " callbacks=callbacks)"
   ]
  },
  {
   "cell_type": "code",
   "execution_count": 29,
   "metadata": {
    "scrolled": false
   },
   "outputs": [
    {
     "name": "stdout",
     "output_type": "stream",
     "text": [
      "INFO:tensorflow:Assets written to: model3_1/model\\assets\n"
     ]
    }
   ],
   "source": [
    "model3_1.save('model3_1/model')\n",
    "np.save('model3_1/history.npy',history.history)"
   ]
  },
  {
   "cell_type": "code",
   "execution_count": 30,
   "metadata": {},
   "outputs": [],
   "source": [
    "my_history1=np.load('model3/history.npy',allow_pickle='TRUE').item()\n",
    "my_history2=np.load('model3_1/history.npy',allow_pickle='TRUE').item()"
   ]
  },
  {
   "cell_type": "code",
   "execution_count": 31,
   "metadata": {
    "pycharm": {
     "name": "#%%\n"
    }
   },
   "outputs": [
    {
     "data": {
      "image/png": "[encoded data removed]",
      "text/plain": [
       "<Figure size 432x288 with 1 Axes>"
      ]
     },
     "metadata": {
      "needs_background": "light"
     },
     "output_type": "display_data"
    }
   ],
   "source": [
    "loss_1 = my_history1[\"loss\"]\n",
    "val_loss_1 = my_history1[\"val_loss\"]\n",
    "loss_2 = my_history2[\"loss\"]\n",
    "val_loss_2 = my_history2[\"val_loss\"]\n",
    "epochs = range(1, len(loss_1) + 1)\n",
    "\n",
    "plt.plot(epochs, loss_1, \"b.\", label=\"Training loss original\")\n",
    "plt.plot(epochs, loss_2, \"r.\", label=\"Training loss new\")\n",
    "plt.plot(epochs, val_loss_1, \"b\", label=\"Validation loss original\")\n",
    "plt.plot(epochs, val_loss_2, \"r\", label=\"Validation loss new\")\n",
    "plt.title(\"Training and validation loss\")\n",
    "plt.xlabel(\"Epochs\")\n",
    "plt.ylabel(\"Loss\")\n",
    "plt.legend()\n",
    "plt.show()"
   ]
  },
  {
   "cell_type": "code",
   "execution_count": 32,
   "metadata": {
    "pycharm": {
     "name": "#%%\n"
    }
   },
   "outputs": [
    {
     "data": {
      "image/png": "[encoded data removed]",
      "text/plain": [
       "<Figure size 432x288 with 1 Axes>"
      ]
     },
     "metadata": {
      "needs_background": "light"
     },
     "output_type": "display_data"
    }
   ],
   "source": [
    "\n",
    "plt.clf()\n",
    "\n",
    "acc_1 = my_history1[\"accuracy\"]\n",
    "val_acc_1 = my_history1[\"val_accuracy\"]\n",
    "acc_2 = my_history2[\"accuracy\"]\n",
    "val_acc_2 = my_history2[\"val_accuracy\"]\n",
    "epochs = range(1, len(loss_1) + 1)\n",
    "\n",
    "plt.plot(epochs, acc_1, \"b.\", label=\"Training accuracy original\")\n",
    "plt.plot(epochs, acc_2, \"r.\", label=\"Training accuracy new\")\n",
    "plt.plot(epochs, val_acc_1, \"b\", label=\"Validation accuracy original\")\n",
    "plt.plot(epochs, val_acc_2, \"r\", label=\"Validation accuracy new\")\n",
    "plt.title(\"Training and validation accuracy\")\n",
    "plt.xlabel(\"Epochs\")\n",
    "plt.ylabel(\"Accuracy\")\n",
    "plt.legend()\n",
    "plt.show()"
   ]
  },
  {
   "cell_type": "code",
   "execution_count": 33,
   "metadata": {
    "pycharm": {
     "name": "#%%\n"
    }
   },
   "outputs": [
    {
     "name": "stdout",
     "output_type": "stream",
     "text": [
      "19/19 [==============================] - 2s 73ms/step - loss: 1.4890 - accuracy: 0.6345\n"
     ]
    },
    {
     "data": {
      "text/plain": [
       "[1.4890308380126953, 0.634482741355896]"
      ]
     },
     "execution_count": 33,
     "metadata": {},
     "output_type": "execute_result"
    }
   ],
   "source": [
    "model = keras.models.load_model('model3_1/model')\n",
    "results= model.evaluate(test_dataset)\n",
    "results"
   ]
  },
  {
   "cell_type": "code",
   "execution_count": 34,
   "metadata": {
    "pycharm": {
     "name": "#%%\n"
    }
   },
   "outputs": [
    {
     "name": "stdout",
     "output_type": "stream",
     "text": [
      "19/19 [==============================] - 2s 73ms/step - loss: 1.4009 - accuracy: 0.6578\n"
     ]
    },
    {
     "data": {
      "text/plain": [
       "[1.4009233713150024, 0.6577585935592651]"
      ]
     },
     "execution_count": 34,
     "metadata": {},
     "output_type": "execute_result"
    }
   ],
   "source": [
    "model = keras.models.load_model('model3_1/best_version')\n",
    "results= model.evaluate(test_dataset)\n",
    "results"
   ]
  },
  {
   "cell_type": "markdown",
   "metadata": {
    "pycharm": {
     "name": "#%% md\n"
    }
   },
   "source": [
    "## Modelo 3.2: modelo tres con capas densas y conexiones residuales"
   ]
  },
  {
   "cell_type": "code",
   "execution_count": 41,
   "metadata": {
    "scrolled": true
   },
   "outputs": [
    {
     "name": "stdout",
     "output_type": "stream",
     "text": [
      "Model: \"model_12\"\n",
      "__________________________________________________________________________________________________\n",
      "Layer (type)                    Output Shape         Param #     Connected to                     \n",
      "==================================================================================================\n",
      "input_17 (InputLayer)           [(None, 256, 256, 3) 0                                            \n",
      "__________________________________________________________________________________________________\n",
      "rescaling_16 (Rescaling)        (None, 256, 256, 3)  0           input_17[0][0]                   \n",
      "__________________________________________________________________________________________________\n",
      "conv2d_144 (Conv2D)             (None, 254, 254, 16) 448         rescaling_16[0][0]               \n",
      "__________________________________________________________________________________________________\n",
      "max_pooling2d_65 (MaxPooling2D) (None, 127, 127, 16) 0           conv2d_144[0][0]                 \n",
      "__________________________________________________________________________________________________\n",
      "conv2d_145 (Conv2D)             (None, 125, 125, 32) 4640        max_pooling2d_65[0][0]           \n",
      "__________________________________________________________________________________________________\n",
      "max_pooling2d_66 (MaxPooling2D) (None, 62, 62, 32)   0           conv2d_145[0][0]                 \n",
      "__________________________________________________________________________________________________\n",
      "conv2d_146 (Conv2D)             (None, 60, 60, 64)   18496       max_pooling2d_66[0][0]           \n",
      "__________________________________________________________________________________________________\n",
      "conv2d_147 (Conv2D)             (None, 58, 58, 64)   36928       conv2d_146[0][0]                 \n",
      "__________________________________________________________________________________________________\n",
      "max_pooling2d_67 (MaxPooling2D) (None, 29, 29, 64)   0           conv2d_147[0][0]                 \n",
      "__________________________________________________________________________________________________\n",
      "conv2d_148 (Conv2D)             (None, 27, 27, 128)  73856       max_pooling2d_67[0][0]           \n",
      "__________________________________________________________________________________________________\n",
      "conv2d_149 (Conv2D)             (None, 25, 25, 128)  147584      conv2d_148[0][0]                 \n",
      "__________________________________________________________________________________________________\n",
      "max_pooling2d_68 (MaxPooling2D) (None, 13, 13, 128)  0           conv2d_149[0][0]                 \n",
      "__________________________________________________________________________________________________\n",
      "conv2d_150 (Conv2D)             (None, 13, 13, 256)  295168      max_pooling2d_68[0][0]           \n",
      "__________________________________________________________________________________________________\n",
      "conv2d_151 (Conv2D)             (None, 13, 13, 256)  33024       conv2d_149[0][0]                 \n",
      "__________________________________________________________________________________________________\n",
      "add_5 (Add)                     (None, 13, 13, 256)  0           conv2d_150[0][0]                 \n",
      "                                                                 conv2d_151[0][0]                 \n",
      "__________________________________________________________________________________________________\n",
      "conv2d_152 (Conv2D)             (None, 11, 11, 256)  590080      add_5[0][0]                      \n",
      "__________________________________________________________________________________________________\n",
      "conv2d_153 (Conv2D)             (None, 9, 9, 256)    590080      conv2d_152[0][0]                 \n",
      "__________________________________________________________________________________________________\n",
      "dense_42 (Dense)                (None, 9, 9, 64)     16448       conv2d_153[0][0]                 \n",
      "__________________________________________________________________________________________________\n",
      "dense_43 (Dense)                (None, 9, 9, 64)     4160        dense_42[0][0]                   \n",
      "__________________________________________________________________________________________________\n",
      "dense_44 (Dense)                (None, 9, 9, 64)     4160        dense_43[0][0]                   \n",
      "__________________________________________________________________________________________________\n",
      "flatten_14 (Flatten)            (None, 5184)         0           dense_44[0][0]                   \n",
      "__________________________________________________________________________________________________\n",
      "dropout_13 (Dropout)            (None, 5184)         0           flatten_14[0][0]                 \n",
      "__________________________________________________________________________________________________\n",
      "dense_45 (Dense)                (None, 58)           300730      dropout_13[0][0]                 \n",
      "==================================================================================================\n",
      "Total params: 2,115,802\n",
      "Trainable params: 2,115,802\n",
      "Non-trainable params: 0\n",
      "__________________________________________________________________________________________________\n"
     ]
    }
   ],
   "source": [
    "inputs = keras.Input(shape=(size_x, size_y, 3)) \n",
    "x = layers.Rescaling(1./255)(inputs) \n",
    "x = layers.Conv2D(filters=16, kernel_size=3, activation=\"relu\")(x)\n",
    "x = layers.MaxPooling2D(pool_size=2)(x)\n",
    "x = layers.Conv2D(filters=32, kernel_size=3, activation=\"relu\")(x)\n",
    "x = layers.MaxPooling2D(pool_size=2)(x)\n",
    "x = layers.Conv2D(filters=64, kernel_size=3, activation=\"relu\")(x)\n",
    "x = layers.Conv2D(filters=64, kernel_size=3, activation=\"relu\")(x)\n",
    "x = layers.MaxPooling2D(pool_size=2)(x)\n",
    "x = layers.Conv2D(filters=128, kernel_size=3, activation=\"relu\")(x)\n",
    "x = layers.Conv2D(filters=128, kernel_size=3, activation=\"relu\")(x)\n",
    "residual = x \n",
    "x = layers.MaxPooling2D(pool_size=2, padding=\"same\")(x)\n",
    "x = layers.Conv2D(filters=256, kernel_size=3, activation=\"relu\", padding=\"same\")(x)\n",
    "residual = layers.Conv2D(256, 1, strides=2)(residual)\n",
    "x = layers.add([x, residual])\n",
    "x = layers.Conv2D(filters=256, kernel_size=3, activation=\"relu\")(x)\n",
    "x = layers.Conv2D(filters=256, kernel_size=3, activation=\"relu\")(x)\n",
    "x = layers.Dense(64, activation = \"relu\")(x)\n",
    "x = layers.Dense(64, activation = \"relu\")(x)\n",
    "x = layers.Dense(64, activation = \"relu\")(x)\n",
    "x = layers.Flatten()(x)\n",
    "x = layers.Dropout(0.5)(x)\n",
    "outputs = layers.Dense(58, activation=\"softmax\")(x)\n",
    "model3_2 = keras.Model(inputs=inputs, outputs=outputs)\n",
    "\n",
    "model3_2.summary()"
   ]
  },
  {
   "cell_type": "code",
   "execution_count": 42,
   "metadata": {
    "pycharm": {
     "name": "#%%\n"
    },
    "scrolled": true
   },
   "outputs": [
    {
     "name": "stdout",
     "output_type": "stream",
     "text": [
      "Epoch 1/30\n",
      "145/145 [==============================] - 26s 154ms/step - loss: 4.1099 - accuracy: 0.0162 - val_loss: 4.0441 - val_accuracy: 0.0319\n",
      "Epoch 2/30\n",
      "145/145 [==============================] - 23s 152ms/step - loss: 4.0354 - accuracy: 0.0283 - val_loss: 4.0847 - val_accuracy: 0.0448\n",
      "Epoch 3/30\n",
      "145/145 [==============================] - 22s 149ms/step - loss: 3.6022 - accuracy: 0.0942 - val_loss: 3.2191 - val_accuracy: 0.1431\n",
      "Epoch 4/30\n",
      "145/145 [==============================] - 23s 154ms/step - loss: 3.0537 - accuracy: 0.1870 - val_loss: 2.9667 - val_accuracy: 0.2009\n",
      "Epoch 5/30\n",
      "145/145 [==============================] - 22s 147ms/step - loss: 2.6112 - accuracy: 0.2702 - val_loss: 2.4540 - val_accuracy: 0.2888\n",
      "Epoch 6/30\n",
      "145/145 [==============================] - 22s 147ms/step - loss: 2.2968 - accuracy: 0.3358 - val_loss: 2.3567 - val_accuracy: 0.3147\n",
      "Epoch 7/30\n",
      "145/145 [==============================] - 22s 149ms/step - loss: 2.0405 - accuracy: 0.3928 - val_loss: 1.9513 - val_accuracy: 0.3862\n",
      "Epoch 8/30\n",
      "145/145 [==============================] - 22s 149ms/step - loss: 1.8332 - accuracy: 0.4462 - val_loss: 1.9312 - val_accuracy: 0.3914\n",
      "Epoch 9/30\n",
      "145/145 [==============================] - 23s 154ms/step - loss: 1.6534 - accuracy: 0.4957 - val_loss: 1.7689 - val_accuracy: 0.4586\n",
      "Epoch 10/30\n",
      "145/145 [==============================] - 22s 147ms/step - loss: 1.4791 - accuracy: 0.5413 - val_loss: 1.5567 - val_accuracy: 0.5216\n",
      "Epoch 11/30\n",
      "145/145 [==============================] - 22s 147ms/step - loss: 1.3361 - accuracy: 0.5853 - val_loss: 2.0167 - val_accuracy: 0.4371\n",
      "Epoch 12/30\n",
      "145/145 [==============================] - 22s 146ms/step - loss: 1.1931 - accuracy: 0.6287 - val_loss: 2.8796 - val_accuracy: 0.3172\n",
      "Epoch 13/30\n",
      "145/145 [==============================] - 22s 147ms/step - loss: 1.0902 - accuracy: 0.6555 - val_loss: 1.5107 - val_accuracy: 0.5440\n",
      "Epoch 14/30\n",
      "145/145 [==============================] - 22s 147ms/step - loss: 1.0079 - accuracy: 0.6844 - val_loss: 1.8541 - val_accuracy: 0.4940\n",
      "Epoch 15/30\n",
      "145/145 [==============================] - 22s 147ms/step - loss: 0.8747 - accuracy: 0.7228 - val_loss: 1.5514 - val_accuracy: 0.5603\n",
      "Epoch 16/30\n",
      "145/145 [==============================] - 22s 147ms/step - loss: 0.8247 - accuracy: 0.7366 - val_loss: 1.3424 - val_accuracy: 0.6000\n",
      "Epoch 17/30\n",
      "145/145 [==============================] - 22s 148ms/step - loss: 0.7401 - accuracy: 0.7629 - val_loss: 1.3682 - val_accuracy: 0.6009\n",
      "Epoch 18/30\n",
      "145/145 [==============================] - 23s 151ms/step - loss: 0.6532 - accuracy: 0.7933 - val_loss: 1.7251 - val_accuracy: 0.5681\n",
      "Epoch 19/30\n",
      "145/145 [==============================] - 22s 149ms/step - loss: 0.6033 - accuracy: 0.8014 - val_loss: 1.3626 - val_accuracy: 0.6319\n",
      "Epoch 20/30\n",
      "145/145 [==============================] - 23s 154ms/step - loss: 0.5452 - accuracy: 0.8258 - val_loss: 1.4894 - val_accuracy: 0.6302\n",
      "Epoch 21/30\n",
      "145/145 [==============================] - 23s 154ms/step - loss: 0.5087 - accuracy: 0.8369 - val_loss: 1.3015 - val_accuracy: 0.6336\n",
      "Epoch 22/30\n",
      "145/145 [==============================] - 23s 151ms/step - loss: 0.4588 - accuracy: 0.8516 - val_loss: 1.6504 - val_accuracy: 0.6103\n",
      "Epoch 23/30\n",
      "145/145 [==============================] - 22s 148ms/step - loss: 0.4421 - accuracy: 0.8596 - val_loss: 1.4679 - val_accuracy: 0.6440\n",
      "Epoch 24/30\n",
      "145/145 [==============================] - 22s 148ms/step - loss: 0.4075 - accuracy: 0.8679 - val_loss: 1.5318 - val_accuracy: 0.6233\n",
      "Epoch 25/30\n",
      "145/145 [==============================] - 22s 148ms/step - loss: 0.3846 - accuracy: 0.8798 - val_loss: 2.2108 - val_accuracy: 0.5543\n",
      "Epoch 26/30\n",
      "145/145 [==============================] - 22s 149ms/step - loss: 0.3562 - accuracy: 0.8839 - val_loss: 1.6162 - val_accuracy: 0.6379\n",
      "Epoch 27/30\n",
      "145/145 [==============================] - 23s 152ms/step - loss: 0.3522 - accuracy: 0.8891 - val_loss: 1.5762 - val_accuracy: 0.6491\n",
      "Epoch 28/30\n",
      "145/145 [==============================] - 24s 160ms/step - loss: 0.3259 - accuracy: 0.8953 - val_loss: 1.9554 - val_accuracy: 0.6198\n",
      "Epoch 29/30\n",
      "145/145 [==============================] - 24s 161ms/step - loss: 0.3153 - accuracy: 0.9052 - val_loss: 1.7993 - val_accuracy: 0.6267\n",
      "Epoch 30/30\n",
      "145/145 [==============================] - 24s 157ms/step - loss: 0.2933 - accuracy: 0.9072 - val_loss: 1.6696 - val_accuracy: 0.6724\n"
     ]
    }
   ],
   "source": [
    "model3_2.compile(loss=\"categorical_crossentropy\",\n",
    " optimizer=\"rmsprop\",\n",
    " metrics=[\"accuracy\"])\n",
    "\n",
    "history = model3_2.fit(\n",
    " train_dataset,\n",
    " epochs=30,\n",
    " validation_data=validation_dataset)"
   ]
  },
  {
   "cell_type": "code",
   "execution_count": 43,
   "metadata": {
    "scrolled": false
   },
   "outputs": [
    {
     "name": "stdout",
     "output_type": "stream",
     "text": [
      "INFO:tensorflow:Assets written to: model3_2/model\\assets\n"
     ]
    },
    {
     "name": "stderr",
     "output_type": "stream",
     "text": [
      "F:\\Programas\\Anaconda\\envs\\TFGapp\\lib\\site-packages\\keras\\utils\\generic_utils.py:494: CustomMaskWarning: Custom mask layers require a config and must override get_config. When loading, the custom mask layer must be passed to the custom_objects argument.\n",
      "  warnings.warn('Custom mask layers require a config and must override '\n"
     ]
    }
   ],
   "source": [
    "model3_2.save('model3_2/model')\n",
    "np.save('model3_2/history.npy',history.history)"
   ]
  },
  {
   "cell_type": "code",
   "execution_count": 44,
   "metadata": {},
   "outputs": [],
   "source": [
    "my_history1=np.load('model3_1/history.npy',allow_pickle='TRUE').item()\n",
    "my_history2=np.load('model3_2/history.npy',allow_pickle='TRUE').item()"
   ]
  },
  {
   "cell_type": "code",
   "execution_count": 45,
   "metadata": {
    "pycharm": {
     "name": "#%%\n"
    }
   },
   "outputs": [
    {
     "data": {
      "image/png": "[encoded data removed]",
      "text/plain": [
       "<Figure size 432x288 with 1 Axes>"
      ]
     },
     "metadata": {
      "needs_background": "light"
     },
     "output_type": "display_data"
    }
   ],
   "source": [
    "loss_1 = my_history1[\"loss\"]\n",
    "val_loss_1 = my_history1[\"val_loss\"]\n",
    "loss_2 = my_history2[\"loss\"]\n",
    "val_loss_2 = my_history2[\"val_loss\"]\n",
    "epochs = range(1, len(loss_1) + 1)\n",
    "\n",
    "plt.plot(epochs, loss_1, \"b.\", label=\"Training loss original\")\n",
    "plt.plot(epochs, loss_2, \"r.\", label=\"Training loss new\")\n",
    "plt.plot(epochs, val_loss_1, \"b\", label=\"Validation loss original\")\n",
    "plt.plot(epochs, val_loss_2, \"r\", label=\"Validation loss new\")\n",
    "plt.title(\"Training and validation loss\")\n",
    "plt.xlabel(\"Epochs\")\n",
    "plt.ylabel(\"Loss\")\n",
    "plt.legend()\n",
    "plt.show()"
   ]
  },
  {
   "cell_type": "code",
   "execution_count": 46,
   "metadata": {
    "pycharm": {
     "name": "#%%\n"
    }
   },
   "outputs": [
    {
     "data": {
      "image/png": "[encoded data removed]",
      "text/plain": [
       "<Figure size 432x288 with 1 Axes>"
      ]
     },
     "metadata": {
      "needs_background": "light"
     },
     "output_type": "display_data"
    }
   ],
   "source": [
    "\n",
    "plt.clf()\n",
    "\n",
    "acc_1 = my_history1[\"accuracy\"]\n",
    "val_acc_1 = my_history1[\"val_accuracy\"]\n",
    "acc_2 = my_history2[\"accuracy\"]\n",
    "val_acc_2 = my_history2[\"val_accuracy\"]\n",
    "epochs = range(1, len(loss_1) + 1)\n",
    "\n",
    "plt.plot(epochs, acc_1, \"b.\", label=\"Training accuracy original\")\n",
    "plt.plot(epochs, acc_2, \"r.\", label=\"Training accuracy new\")\n",
    "plt.plot(epochs, val_acc_1, \"b\", label=\"Validation accuracy original\")\n",
    "plt.plot(epochs, val_acc_2, \"r\", label=\"Validation accuracy new\")\n",
    "plt.title(\"Training and validation accuracy\")\n",
    "plt.xlabel(\"Epochs\")\n",
    "plt.ylabel(\"Accuracy\")\n",
    "plt.legend()\n",
    "plt.show()"
   ]
  },
  {
   "cell_type": "code",
   "execution_count": 47,
   "metadata": {
    "pycharm": {
     "name": "#%%\n"
    }
   },
   "outputs": [
    {
     "name": "stdout",
     "output_type": "stream",
     "text": [
      "19/19 [==============================] - 3s 76ms/step - loss: 1.7564 - accuracy: 0.6466\n"
     ]
    },
    {
     "data": {
      "text/plain": [
       "[1.75640869140625, 0.6465517282485962]"
      ]
     },
     "execution_count": 47,
     "metadata": {},
     "output_type": "execute_result"
    }
   ],
   "source": [
    "model = keras.models.load_model('model3_2/model')\n",
    "results= model.evaluate(test_dataset)\n",
    "results"
   ]
  },
  {
   "cell_type": "markdown",
   "metadata": {
    "pycharm": {
     "name": "#%% md\n"
    }
   },
   "source": [
    "## Modelo 3.3: modelo tres con capas densas y más conexiones residuales"
   ]
  },
  {
   "cell_type": "code",
   "execution_count": 54,
   "metadata": {
    "scrolled": true
   },
   "outputs": [
    {
     "name": "stdout",
     "output_type": "stream",
     "text": [
      "Model: \"model_16\"\n",
      "__________________________________________________________________________________________________\n",
      "Layer (type)                    Output Shape         Param #     Connected to                     \n",
      "==================================================================================================\n",
      "input_23 (InputLayer)           [(None, 256, 256, 3) 0                                            \n",
      "__________________________________________________________________________________________________\n",
      "rescaling_22 (Rescaling)        (None, 256, 256, 3)  0           input_23[0][0]                   \n",
      "__________________________________________________________________________________________________\n",
      "conv2d_199 (Conv2D)             (None, 254, 254, 16) 448         rescaling_22[0][0]               \n",
      "__________________________________________________________________________________________________\n",
      "max_pooling2d_91 (MaxPooling2D) (None, 127, 127, 16) 0           conv2d_199[0][0]                 \n",
      "__________________________________________________________________________________________________\n",
      "conv2d_200 (Conv2D)             (None, 125, 125, 32) 4640        max_pooling2d_91[0][0]           \n",
      "__________________________________________________________________________________________________\n",
      "max_pooling2d_92 (MaxPooling2D) (None, 63, 63, 32)   0           conv2d_200[0][0]                 \n",
      "__________________________________________________________________________________________________\n",
      "conv2d_201 (Conv2D)             (None, 63, 63, 64)   18496       max_pooling2d_92[0][0]           \n",
      "__________________________________________________________________________________________________\n",
      "conv2d_202 (Conv2D)             (None, 63, 63, 64)   2112        conv2d_200[0][0]                 \n",
      "__________________________________________________________________________________________________\n",
      "add_14 (Add)                    (None, 63, 63, 64)   0           conv2d_201[0][0]                 \n",
      "                                                                 conv2d_202[0][0]                 \n",
      "__________________________________________________________________________________________________\n",
      "conv2d_203 (Conv2D)             (None, 61, 61, 64)   36928       add_14[0][0]                     \n",
      "__________________________________________________________________________________________________\n",
      "max_pooling2d_93 (MaxPooling2D) (None, 30, 30, 64)   0           conv2d_203[0][0]                 \n",
      "__________________________________________________________________________________________________\n",
      "conv2d_204 (Conv2D)             (None, 28, 28, 128)  73856       max_pooling2d_93[0][0]           \n",
      "__________________________________________________________________________________________________\n",
      "conv2d_205 (Conv2D)             (None, 28, 28, 128)  147584      conv2d_204[0][0]                 \n",
      "__________________________________________________________________________________________________\n",
      "max_pooling2d_94 (MaxPooling2D) (None, 14, 14, 128)  0           conv2d_205[0][0]                 \n",
      "__________________________________________________________________________________________________\n",
      "conv2d_206 (Conv2D)             (None, 14, 14, 128)  16512       conv2d_204[0][0]                 \n",
      "__________________________________________________________________________________________________\n",
      "add_15 (Add)                    (None, 14, 14, 128)  0           max_pooling2d_94[0][0]           \n",
      "                                                                 conv2d_206[0][0]                 \n",
      "__________________________________________________________________________________________________\n",
      "conv2d_207 (Conv2D)             (None, 12, 12, 256)  295168      add_15[0][0]                     \n",
      "__________________________________________________________________________________________________\n",
      "conv2d_208 (Conv2D)             (None, 12, 12, 256)  590080      conv2d_207[0][0]                 \n",
      "__________________________________________________________________________________________________\n",
      "conv2d_209 (Conv2D)             (None, 12, 12, 256)  65792       conv2d_207[0][0]                 \n",
      "__________________________________________________________________________________________________\n",
      "add_16 (Add)                    (None, 12, 12, 256)  0           conv2d_208[0][0]                 \n",
      "                                                                 conv2d_209[0][0]                 \n",
      "__________________________________________________________________________________________________\n",
      "max_pooling2d_95 (MaxPooling2D) (None, 6, 6, 256)    0           add_16[0][0]                     \n",
      "__________________________________________________________________________________________________\n",
      "dense_58 (Dense)                (None, 6, 6, 64)     16448       max_pooling2d_95[0][0]           \n",
      "__________________________________________________________________________________________________\n",
      "dense_59 (Dense)                (None, 6, 6, 64)     4160        dense_58[0][0]                   \n",
      "__________________________________________________________________________________________________\n",
      "dense_60 (Dense)                (None, 6, 6, 64)     4160        dense_59[0][0]                   \n",
      "__________________________________________________________________________________________________\n",
      "flatten_18 (Flatten)            (None, 2304)         0           dense_60[0][0]                   \n",
      "__________________________________________________________________________________________________\n",
      "dropout_17 (Dropout)            (None, 2304)         0           flatten_18[0][0]                 \n",
      "__________________________________________________________________________________________________\n",
      "dense_61 (Dense)                (None, 58)           133690      dropout_17[0][0]                 \n",
      "==================================================================================================\n",
      "Total params: 1,410,074\n",
      "Trainable params: 1,410,074\n",
      "Non-trainable params: 0\n",
      "__________________________________________________________________________________________________\n"
     ]
    }
   ],
   "source": [
    "inputs = keras.Input(shape=(size_x, size_y, 3)) \n",
    "x = layers.Rescaling(1./255)(inputs) \n",
    "x = layers.Conv2D(filters=16, kernel_size=3, activation=\"relu\")(x)\n",
    "x = layers.MaxPooling2D(pool_size=2)(x)\n",
    "x = layers.Conv2D(filters=32, kernel_size=3, activation=\"relu\")(x)\n",
    "residual = x\n",
    "x = layers.MaxPooling2D(pool_size=2, padding = \"same\")(x)\n",
    "x = layers.Conv2D(filters=64, kernel_size=3, activation=\"relu\", padding = \"same\")(x)\n",
    "residual = layers.Conv2D(64, 1, strides = 2)(residual)\n",
    "x = layers.add([x, residual])\n",
    "x = layers.Conv2D(filters=64, kernel_size=3, activation=\"relu\")(x)\n",
    "x = layers.MaxPooling2D(pool_size=2)(x)\n",
    "x = layers.Conv2D(filters=128, kernel_size=3, activation=\"relu\")(x)\n",
    "residual = x\n",
    "x = layers.Conv2D(filters=128, kernel_size=3, activation=\"relu\",  padding=\"same\")(x)\n",
    "x = layers.MaxPooling2D(pool_size=2, padding=\"same\")(x)\n",
    "residual = layers.Conv2D(128, 1, strides = 2)(residual)\n",
    "x = layers.add([x, residual])\n",
    "x = layers.Conv2D(filters=256, kernel_size=3, activation=\"relu\")(x)\n",
    "residual = x \n",
    "x = layers.Conv2D(filters=256, kernel_size=3, activation=\"relu\",padding=\"same\")(x)\n",
    "residual = layers.Conv2D(256, 1)(residual)\n",
    "x = layers.add([x, residual])\n",
    "x = layers.MaxPooling2D(pool_size=2)(x)\n",
    "x = layers.Dense(64, activation = \"relu\")(x)\n",
    "x = layers.Dense(64, activation = \"relu\")(x)\n",
    "x = layers.Dense(64, activation = \"relu\")(x)\n",
    "x = layers.Flatten()(x)\n",
    "x = layers.Dropout(0.5)(x)\n",
    "outputs = layers.Dense(58, activation=\"softmax\")(x)\n",
    "model3_3 = keras.Model(inputs=inputs, outputs=outputs)\n",
    "\n",
    "model3_3.summary()"
   ]
  },
  {
   "cell_type": "code",
   "execution_count": 55,
   "metadata": {
    "pycharm": {
     "name": "#%%\n"
    },
    "scrolled": true
   },
   "outputs": [
    {
     "name": "stdout",
     "output_type": "stream",
     "text": [
      "Epoch 1/30\n",
      "145/145 [==============================] - 26s 158ms/step - loss: 4.0780 - accuracy: 0.0176 - val_loss: 4.0421 - val_accuracy: 0.0103\n",
      "Epoch 2/30\n",
      "145/145 [==============================] - 24s 156ms/step - loss: 3.8446 - accuracy: 0.0556 - val_loss: 3.7110 - val_accuracy: 0.0672\n",
      "Epoch 3/30\n",
      "145/145 [==============================] - 25s 165ms/step - loss: 3.1893 - accuracy: 0.1543 - val_loss: 2.9338 - val_accuracy: 0.2017\n",
      "Epoch 4/30\n",
      "145/145 [==============================] - 24s 157ms/step - loss: 2.7200 - accuracy: 0.2421 - val_loss: 2.6731 - val_accuracy: 0.2586\n",
      "Epoch 5/30\n",
      "145/145 [==============================] - 23s 155ms/step - loss: 2.3975 - accuracy: 0.3140 - val_loss: 2.3023 - val_accuracy: 0.3216\n",
      "Epoch 6/30\n",
      "145/145 [==============================] - 23s 156ms/step - loss: 2.1214 - accuracy: 0.3873 - val_loss: 2.4032 - val_accuracy: 0.3164\n",
      "Epoch 7/30\n",
      "145/145 [==============================] - 23s 156ms/step - loss: 1.8713 - accuracy: 0.4423 - val_loss: 3.0064 - val_accuracy: 0.2819\n",
      "Epoch 8/30\n",
      "145/145 [==============================] - 23s 156ms/step - loss: 1.6696 - accuracy: 0.5010 - val_loss: 1.7605 - val_accuracy: 0.4914\n",
      "Epoch 9/30\n",
      "145/145 [==============================] - 24s 157ms/step - loss: 1.4482 - accuracy: 0.5567 - val_loss: 1.4761 - val_accuracy: 0.5397\n",
      "Epoch 10/30\n",
      "145/145 [==============================] - 23s 156ms/step - loss: 1.2913 - accuracy: 0.6050 - val_loss: 1.5201 - val_accuracy: 0.5379\n",
      "Epoch 11/30\n",
      "145/145 [==============================] - 24s 156ms/step - loss: 1.1499 - accuracy: 0.6356 - val_loss: 1.4274 - val_accuracy: 0.5647\n",
      "Epoch 12/30\n",
      "145/145 [==============================] - 24s 158ms/step - loss: 1.0032 - accuracy: 0.6852 - val_loss: 1.3775 - val_accuracy: 0.5759\n",
      "Epoch 13/30\n",
      "145/145 [==============================] - 23s 156ms/step - loss: 0.9164 - accuracy: 0.7071 - val_loss: 1.0935 - val_accuracy: 0.6509\n",
      "Epoch 14/30\n",
      "145/145 [==============================] - 23s 156ms/step - loss: 0.8173 - accuracy: 0.7402 - val_loss: 1.1260 - val_accuracy: 0.6457\n",
      "Epoch 15/30\n",
      "145/145 [==============================] - 24s 157ms/step - loss: 0.7320 - accuracy: 0.7615 - val_loss: 1.1013 - val_accuracy: 0.6690\n",
      "Epoch 16/30\n",
      "145/145 [==============================] - 23s 156ms/step - loss: 0.6754 - accuracy: 0.7786 - val_loss: 1.0445 - val_accuracy: 0.6724\n",
      "Epoch 17/30\n",
      "145/145 [==============================] - 24s 158ms/step - loss: 0.6324 - accuracy: 0.8037 - val_loss: 1.3985 - val_accuracy: 0.6216\n",
      "Epoch 18/30\n",
      "145/145 [==============================] - 24s 157ms/step - loss: 0.5121 - accuracy: 0.8337 - val_loss: 1.1382 - val_accuracy: 0.6828\n",
      "Epoch 19/30\n",
      "145/145 [==============================] - 24s 158ms/step - loss: 0.5017 - accuracy: 0.8385 - val_loss: 0.9633 - val_accuracy: 0.7060\n",
      "Epoch 20/30\n",
      "145/145 [==============================] - 24s 158ms/step - loss: 0.4491 - accuracy: 0.8558 - val_loss: 1.5188 - val_accuracy: 0.6112\n",
      "Epoch 21/30\n",
      "145/145 [==============================] - 24s 157ms/step - loss: 0.4354 - accuracy: 0.8651 - val_loss: 1.0429 - val_accuracy: 0.6983\n",
      "Epoch 22/30\n",
      "145/145 [==============================] - 24s 159ms/step - loss: 0.4048 - accuracy: 0.8733 - val_loss: 1.0313 - val_accuracy: 0.7103\n",
      "Epoch 23/30\n",
      "145/145 [==============================] - 24s 158ms/step - loss: 0.3544 - accuracy: 0.8824 - val_loss: 1.1902 - val_accuracy: 0.6897\n",
      "Epoch 24/30\n",
      "145/145 [==============================] - 24s 159ms/step - loss: 0.3282 - accuracy: 0.8913 - val_loss: 1.0290 - val_accuracy: 0.7138\n",
      "Epoch 25/30\n",
      "145/145 [==============================] - 24s 158ms/step - loss: 0.3206 - accuracy: 0.8962 - val_loss: 1.1387 - val_accuracy: 0.7147\n",
      "Epoch 26/30\n",
      "145/145 [==============================] - 24s 158ms/step - loss: 0.3164 - accuracy: 0.9042 - val_loss: 1.2088 - val_accuracy: 0.7052\n",
      "Epoch 27/30\n",
      "145/145 [==============================] - 24s 158ms/step - loss: 0.3184 - accuracy: 0.9077 - val_loss: 1.0045 - val_accuracy: 0.7095\n",
      "Epoch 28/30\n",
      "145/145 [==============================] - 24s 158ms/step - loss: 0.2695 - accuracy: 0.9137 - val_loss: 1.6109 - val_accuracy: 0.6862\n",
      "Epoch 29/30\n",
      "145/145 [==============================] - 24s 158ms/step - loss: 0.2772 - accuracy: 0.9181 - val_loss: 1.1582 - val_accuracy: 0.7190\n",
      "Epoch 30/30\n",
      "145/145 [==============================] - 24s 162ms/step - loss: 0.2536 - accuracy: 0.9209 - val_loss: 1.1941 - val_accuracy: 0.7026\n"
     ]
    }
   ],
   "source": [
    "model3_3.compile(loss=\"categorical_crossentropy\",\n",
    " optimizer=\"rmsprop\",\n",
    " metrics=[\"accuracy\"])\n",
    "\n",
    "history = model3_3.fit(\n",
    " train_dataset,\n",
    " epochs=30,\n",
    " validation_data=validation_dataset)"
   ]
  },
  {
   "cell_type": "code",
   "execution_count": 56,
   "metadata": {
    "scrolled": false
   },
   "outputs": [
    {
     "name": "stdout",
     "output_type": "stream",
     "text": [
      "INFO:tensorflow:Assets written to: model3_3/model\\assets\n"
     ]
    },
    {
     "name": "stderr",
     "output_type": "stream",
     "text": [
      "F:\\Programas\\Anaconda\\envs\\TFGapp\\lib\\site-packages\\keras\\utils\\generic_utils.py:494: CustomMaskWarning: Custom mask layers require a config and must override get_config. When loading, the custom mask layer must be passed to the custom_objects argument.\n",
      "  warnings.warn('Custom mask layers require a config and must override '\n"
     ]
    }
   ],
   "source": [
    "model3_3.save('model3_3/model')\n",
    "np.save('model3_3/history.npy',history.history)"
   ]
  },
  {
   "cell_type": "code",
   "execution_count": 57,
   "metadata": {},
   "outputs": [],
   "source": [
    "my_history1=np.load('model3_2/history.npy',allow_pickle='TRUE').item()\n",
    "my_history2=np.load('model3_3/history.npy',allow_pickle='TRUE').item()"
   ]
  },
  {
   "cell_type": "code",
   "execution_count": 58,
   "metadata": {
    "pycharm": {
     "name": "#%%\n"
    }
   },
   "outputs": [
    {
     "data": {
      "image/png": "[encoded data removed]",
      "text/plain": [
       "<Figure size 432x288 with 1 Axes>"
      ]
     },
     "metadata": {
      "needs_background": "light"
     },
     "output_type": "display_data"
    }
   ],
   "source": [
    "loss_1 = my_history1[\"loss\"]\n",
    "val_loss_1 = my_history1[\"val_loss\"]\n",
    "loss_2 = my_history2[\"loss\"]\n",
    "val_loss_2 = my_history2[\"val_loss\"]\n",
    "epochs = range(1, len(loss_1) + 1)\n",
    "\n",
    "plt.plot(epochs, loss_1, \"b.\", label=\"Training loss original\")\n",
    "plt.plot(epochs, loss_2, \"r.\", label=\"Training loss new\")\n",
    "plt.plot(epochs, val_loss_1, \"b\", label=\"Validation loss original\")\n",
    "plt.plot(epochs, val_loss_2, \"r\", label=\"Validation loss new\")\n",
    "plt.title(\"Training and validation loss\")\n",
    "plt.xlabel(\"Epochs\")\n",
    "plt.ylabel(\"Loss\")\n",
    "plt.legend()\n",
    "plt.show()"
   ]
  },
  {
   "cell_type": "code",
   "execution_count": 59,
   "metadata": {
    "pycharm": {
     "name": "#%%\n"
    }
   },
   "outputs": [
    {
     "data": {
      "image/png": "[encoded data removed]",
      "text/plain": [
       "<Figure size 432x288 with 1 Axes>"
      ]
     },
     "metadata": {
      "needs_background": "light"
     },
     "output_type": "display_data"
    }
   ],
   "source": [
    "\n",
    "plt.clf()\n",
    "\n",
    "acc_1 = my_history1[\"accuracy\"]\n",
    "val_acc_1 = my_history1[\"val_accuracy\"]\n",
    "acc_2 = my_history2[\"accuracy\"]\n",
    "val_acc_2 = my_history2[\"val_accuracy\"]\n",
    "epochs = range(1, len(loss_1) + 1)\n",
    "\n",
    "plt.plot(epochs, acc_1, \"b.\", label=\"Training accuracy original\")\n",
    "plt.plot(epochs, acc_2, \"r.\", label=\"Training accuracy new\")\n",
    "plt.plot(epochs, val_acc_1, \"b\", label=\"Validation accuracy original\")\n",
    "plt.plot(epochs, val_acc_2, \"r\", label=\"Validation accuracy new\")\n",
    "plt.title(\"Training and validation accuracy\")\n",
    "plt.xlabel(\"Epochs\")\n",
    "plt.ylabel(\"Accuracy\")\n",
    "plt.legend()\n",
    "plt.show()"
   ]
  },
  {
   "cell_type": "code",
   "execution_count": 60,
   "metadata": {
    "pycharm": {
     "name": "#%%\n"
    }
   },
   "outputs": [
    {
     "name": "stdout",
     "output_type": "stream",
     "text": [
      "19/19 [==============================] - 3s 78ms/step - loss: 1.1992 - accuracy: 0.7233\n"
     ]
    },
    {
     "data": {
      "text/plain": [
       "[1.199243426322937, 0.7232758402824402]"
      ]
     },
     "execution_count": 60,
     "metadata": {},
     "output_type": "execute_result"
    }
   ],
   "source": [
    "model = keras.models.load_model('model3_3/model')\n",
    "results= model.evaluate(test_dataset)\n",
    "results"
   ]
  },
  {
   "cell_type": "code",
   "execution_count": null,
   "metadata": {},
   "outputs": [],
   "source": []
  }
 ],
 "metadata": {
  "kernelspec": {
   "display_name": "Python 3 (ipykernel)",
   "language": "python",
   "name": "python3"
  },
  "language_info": {
   "codemirror_mode": {
    "name": "ipython",
    "version": 3
   },
   "file_extension": ".py",
   "mimetype": "text/x-python",
   "name": "python",
   "nbconvert_exporter": "python",
   "pygments_lexer": "ipython3",
   "version": "3.9.12"
  }
 },
 "nbformat": 4,
 "nbformat_minor": 1
}