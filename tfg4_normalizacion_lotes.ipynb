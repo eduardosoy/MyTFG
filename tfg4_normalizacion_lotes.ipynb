{
 "cells": [
  {
   "cell_type": "markdown",
   "metadata": {
    "pycharm": {
     "name": "#%%\n"
    }
   },
   "source": [
    "# Creación de un modelo desde cero: normalización de lotes"
   ]
  },
  {
   "cell_type": "markdown",
   "metadata": {
    "pycharm": {
     "name": "#%%\n"
    }
   },
   "source": [
    "## Librerías necesarias"
   ]
  },
  {
   "cell_type": "code",
   "execution_count": 2,
   "metadata": {
    "pycharm": {
     "name": "#%%\n"
    }
   },
   "outputs": [],
   "source": [
    "from tensorflow import keras\n",
    "from tensorflow.keras import layers\n",
    "import os, shutil, pathlib\n",
    "from tensorflow.keras.utils import image_dataset_from_directory\n",
    "import matplotlib.pyplot as plt\n",
    "import numpy as np\n",
    "from tensorflow.keras.models import load_model"
   ]
  },
  {
   "cell_type": "markdown",
   "metadata": {
    "pycharm": {
     "name": "#%% md\n"
    }
   },
   "source": [
    "## Variables globales del sistema"
   ]
  },
  {
   "cell_type": "code",
   "execution_count": 3,
   "metadata": {
    "pycharm": {
     "name": "#%%\n"
    }
   },
   "outputs": [],
   "source": [
    "original_dir = pathlib.Path(\"ExpandedDataset/\")\n",
    "new_base_dir = pathlib.Path(\"ExpandedDataset_organized/\")\n",
    "content = os.listdir(original_dir)\n",
    "BATCH_SIZE = 64\n",
    "size_x = 256\n",
    "size_y = 256"
   ]
  },
  {
   "cell_type": "markdown",
   "metadata": {
    "pycharm": {
     "name": "#%% md\n"
    }
   },
   "source": [
    "## Creación de los datasets específicos a partir de las carpetas "
   ]
  },
  {
   "cell_type": "code",
   "execution_count": 12,
   "metadata": {
    "pycharm": {
     "name": "#%%\n"
    }
   },
   "outputs": [
    {
     "name": "stdout",
     "output_type": "stream",
     "text": [
      "Found 9280 files belonging to 58 classes.\n",
      "Found 1160 files belonging to 58 classes.\n",
      "Found 1160 files belonging to 58 classes.\n"
     ]
    }
   ],
   "source": [
    "train_dataset = image_dataset_from_directory(\n",
    "    new_base_dir / \"train\",\n",
    "    image_size=(size_x, size_y),\n",
    "    batch_size=BATCH_SIZE,\n",
    "    label_mode='categorical')\n",
    "validation_dataset = image_dataset_from_directory(\n",
    "    new_base_dir / \"validation\",\n",
    "    image_size=(size_x, size_y),\n",
    "    batch_size=BATCH_SIZE,\n",
    "    label_mode='categorical')\n",
    "test_dataset = image_dataset_from_directory(\n",
    "    new_base_dir / \"test\",\n",
    "    image_size=(size_x, size_y),\n",
    "    batch_size=BATCH_SIZE,\n",
    "    label_mode='categorical')"
   ]
  },
  {
   "cell_type": "markdown",
   "metadata": {
    "pycharm": {
     "name": "#%% md\n"
    }
   },
   "source": [
    "## Modelo con normalización de lotes: modelo cuatro"
   ]
  },
  {
   "cell_type": "code",
   "execution_count": 27,
   "metadata": {},
   "outputs": [
    {
     "name": "stdout",
     "output_type": "stream",
     "text": [
      "Model: \"model_9\"\n",
      "__________________________________________________________________________________________________\n",
      "Layer (type)                    Output Shape         Param #     Connected to                     \n",
      "==================================================================================================\n",
      "input_10 (InputLayer)           [(None, 256, 256, 3) 0                                            \n",
      "__________________________________________________________________________________________________\n",
      "rescaling_9 (Rescaling)         (None, 256, 256, 3)  0           input_10[0][0]                   \n",
      "__________________________________________________________________________________________________\n",
      "conv2d_131 (Conv2D)             (None, 254, 254, 16) 432         rescaling_9[0][0]                \n",
      "__________________________________________________________________________________________________\n",
      "batch_normalization_61 (BatchNo (None, 254, 254, 16) 64          conv2d_131[0][0]                 \n",
      "__________________________________________________________________________________________________\n",
      "activation_61 (Activation)      (None, 254, 254, 16) 0           batch_normalization_61[0][0]     \n",
      "__________________________________________________________________________________________________\n",
      "max_pooling2d_52 (MaxPooling2D) (None, 127, 127, 16) 0           activation_61[0][0]              \n",
      "__________________________________________________________________________________________________\n",
      "conv2d_132 (Conv2D)             (None, 125, 125, 32) 4608        max_pooling2d_52[0][0]           \n",
      "__________________________________________________________________________________________________\n",
      "batch_normalization_62 (BatchNo (None, 125, 125, 32) 128         conv2d_132[0][0]                 \n",
      "__________________________________________________________________________________________________\n",
      "activation_62 (Activation)      (None, 125, 125, 32) 0           batch_normalization_62[0][0]     \n",
      "__________________________________________________________________________________________________\n",
      "max_pooling2d_53 (MaxPooling2D) (None, 63, 63, 32)   0           activation_62[0][0]              \n",
      "__________________________________________________________________________________________________\n",
      "conv2d_133 (Conv2D)             (None, 63, 63, 64)   18432       max_pooling2d_53[0][0]           \n",
      "__________________________________________________________________________________________________\n",
      "batch_normalization_63 (BatchNo (None, 63, 63, 64)   256         conv2d_133[0][0]                 \n",
      "__________________________________________________________________________________________________\n",
      "activation_63 (Activation)      (None, 63, 63, 64)   0           batch_normalization_63[0][0]     \n",
      "__________________________________________________________________________________________________\n",
      "conv2d_134 (Conv2D)             (None, 63, 63, 64)   2112        activation_62[0][0]              \n",
      "__________________________________________________________________________________________________\n",
      "add_50 (Add)                    (None, 63, 63, 64)   0           activation_63[0][0]              \n",
      "                                                                 conv2d_134[0][0]                 \n",
      "__________________________________________________________________________________________________\n",
      "conv2d_135 (Conv2D)             (None, 63, 63, 64)   36864       add_50[0][0]                     \n",
      "__________________________________________________________________________________________________\n",
      "batch_normalization_64 (BatchNo (None, 63, 63, 64)   256         conv2d_135[0][0]                 \n",
      "__________________________________________________________________________________________________\n",
      "activation_64 (Activation)      (None, 63, 63, 64)   0           batch_normalization_64[0][0]     \n",
      "__________________________________________________________________________________________________\n",
      "max_pooling2d_54 (MaxPooling2D) (None, 32, 32, 64)   0           activation_64[0][0]              \n",
      "__________________________________________________________________________________________________\n",
      "conv2d_136 (Conv2D)             (None, 32, 32, 128)  73728       max_pooling2d_54[0][0]           \n",
      "__________________________________________________________________________________________________\n",
      "batch_normalization_65 (BatchNo (None, 32, 32, 128)  512         conv2d_136[0][0]                 \n",
      "__________________________________________________________________________________________________\n",
      "activation_65 (Activation)      (None, 32, 32, 128)  0           batch_normalization_65[0][0]     \n",
      "__________________________________________________________________________________________________\n",
      "conv2d_137 (Conv2D)             (None, 32, 32, 128)  8320        add_50[0][0]                     \n",
      "__________________________________________________________________________________________________\n",
      "add_51 (Add)                    (None, 32, 32, 128)  0           activation_65[0][0]              \n",
      "                                                                 conv2d_137[0][0]                 \n",
      "__________________________________________________________________________________________________\n",
      "conv2d_138 (Conv2D)             (None, 32, 32, 128)  147456      add_51[0][0]                     \n",
      "__________________________________________________________________________________________________\n",
      "batch_normalization_66 (BatchNo (None, 32, 32, 128)  512         conv2d_138[0][0]                 \n",
      "__________________________________________________________________________________________________\n",
      "activation_66 (Activation)      (None, 32, 32, 128)  0           batch_normalization_66[0][0]     \n",
      "__________________________________________________________________________________________________\n",
      "max_pooling2d_55 (MaxPooling2D) (None, 16, 16, 128)  0           activation_66[0][0]              \n",
      "__________________________________________________________________________________________________\n",
      "conv2d_139 (Conv2D)             (None, 16, 16, 128)  16512       add_51[0][0]                     \n",
      "__________________________________________________________________________________________________\n",
      "add_52 (Add)                    (None, 16, 16, 128)  0           max_pooling2d_55[0][0]           \n",
      "                                                                 conv2d_139[0][0]                 \n",
      "__________________________________________________________________________________________________\n",
      "conv2d_140 (Conv2D)             (None, 16, 16, 256)  294912      add_52[0][0]                     \n",
      "__________________________________________________________________________________________________\n",
      "batch_normalization_67 (BatchNo (None, 16, 16, 256)  1024        conv2d_140[0][0]                 \n",
      "__________________________________________________________________________________________________\n",
      "activation_67 (Activation)      (None, 16, 16, 256)  0           batch_normalization_67[0][0]     \n",
      "__________________________________________________________________________________________________\n",
      "conv2d_141 (Conv2D)             (None, 16, 16, 256)  33024       add_52[0][0]                     \n",
      "__________________________________________________________________________________________________\n",
      "add_53 (Add)                    (None, 16, 16, 256)  0           activation_67[0][0]              \n",
      "                                                                 conv2d_141[0][0]                 \n",
      "__________________________________________________________________________________________________\n",
      "conv2d_142 (Conv2D)             (None, 16, 16, 256)  589824      add_53[0][0]                     \n",
      "__________________________________________________________________________________________________\n",
      "batch_normalization_68 (BatchNo (None, 16, 16, 256)  1024        conv2d_142[0][0]                 \n",
      "__________________________________________________________________________________________________\n",
      "activation_68 (Activation)      (None, 16, 16, 256)  0           batch_normalization_68[0][0]     \n",
      "__________________________________________________________________________________________________\n",
      "conv2d_143 (Conv2D)             (None, 16, 16, 256)  65792       add_53[0][0]                     \n",
      "__________________________________________________________________________________________________\n",
      "add_54 (Add)                    (None, 16, 16, 256)  0           activation_68[0][0]              \n",
      "                                                                 conv2d_143[0][0]                 \n",
      "__________________________________________________________________________________________________\n",
      "conv2d_144 (Conv2D)             (None, 16, 16, 256)  589824      add_54[0][0]                     \n",
      "__________________________________________________________________________________________________\n",
      "batch_normalization_69 (BatchNo (None, 16, 16, 256)  1024        conv2d_144[0][0]                 \n",
      "__________________________________________________________________________________________________\n",
      "activation_69 (Activation)      (None, 16, 16, 256)  0           batch_normalization_69[0][0]     \n",
      "__________________________________________________________________________________________________\n",
      "conv2d_145 (Conv2D)             (None, 16, 16, 256)  65792       add_54[0][0]                     \n",
      "__________________________________________________________________________________________________\n",
      "add_55 (Add)                    (None, 16, 16, 256)  0           activation_69[0][0]              \n",
      "                                                                 conv2d_145[0][0]                 \n",
      "__________________________________________________________________________________________________\n",
      "max_pooling2d_56 (MaxPooling2D) (None, 8, 8, 256)    0           add_55[0][0]                     \n",
      "__________________________________________________________________________________________________\n",
      "conv2d_146 (Conv2D)             (None, 8, 8, 512)    1179648     max_pooling2d_56[0][0]           \n",
      "__________________________________________________________________________________________________\n",
      "batch_normalization_70 (BatchNo (None, 8, 8, 512)    2048        conv2d_146[0][0]                 \n",
      "__________________________________________________________________________________________________\n",
      "activation_70 (Activation)      (None, 8, 8, 512)    0           batch_normalization_70[0][0]     \n",
      "__________________________________________________________________________________________________\n",
      "conv2d_147 (Conv2D)             (None, 8, 8, 512)    131584      add_55[0][0]                     \n",
      "__________________________________________________________________________________________________\n",
      "add_56 (Add)                    (None, 8, 8, 512)    0           activation_70[0][0]              \n",
      "                                                                 conv2d_147[0][0]                 \n",
      "__________________________________________________________________________________________________\n",
      "max_pooling2d_57 (MaxPooling2D) (None, 4, 4, 512)    0           add_56[0][0]                     \n",
      "__________________________________________________________________________________________________\n",
      "dense_22 (Dense)                (None, 4, 4, 256)    131328      max_pooling2d_57[0][0]           \n",
      "__________________________________________________________________________________________________\n",
      "flatten_9 (Flatten)             (None, 4096)         0           dense_22[0][0]                   \n",
      "__________________________________________________________________________________________________\n",
      "dropout_9 (Dropout)             (None, 4096)         0           flatten_9[0][0]                  \n",
      "__________________________________________________________________________________________________\n",
      "dense_23 (Dense)                (None, 58)           237626      dropout_9[0][0]                  \n",
      "==================================================================================================\n",
      "Total params: 3,634,666\n",
      "Trainable params: 3,631,242\n",
      "Non-trainable params: 3,424\n",
      "__________________________________________________________________________________________________\n"
     ]
    }
   ],
   "source": [
    "inputs = keras.Input(shape=(size_x, size_y, 3)) \n",
    "x = layers.Rescaling(1./255)(inputs) \n",
    "x = layers.Conv2D(filters=16, kernel_size=3, use_bias=False)(x)\n",
    "x = layers.BatchNormalization()(x)\n",
    "x = layers.Activation(\"relu\")(x) \n",
    "x = layers.MaxPooling2D(pool_size=2)(x)\n",
    "x = layers.Conv2D(filters=32, kernel_size=3, use_bias=False)(x)\n",
    "x = layers.BatchNormalization()(x)\n",
    "x = layers.Activation(\"relu\")(x) \n",
    "residual = x\n",
    "x = layers.MaxPooling2D(pool_size=2, padding = \"same\")(x)\n",
    "x = layers.Conv2D(filters=64, kernel_size=3, use_bias=False, padding = \"same\")(x)\n",
    "x = layers.BatchNormalization()(x)\n",
    "x = layers.Activation(\"relu\")(x) \n",
    "residual = layers.Conv2D(64, 1, strides = 2)(residual)\n",
    "x = layers.add([x, residual])\n",
    "residual = x\n",
    "x = layers.Conv2D(filters=64, kernel_size=3, use_bias=False, padding = \"same\")(x)\n",
    "x = layers.BatchNormalization()(x)\n",
    "x = layers.Activation(\"relu\")(x) \n",
    "x = layers.MaxPooling2D(pool_size=2, padding = \"same\")(x)\n",
    "x = layers.Conv2D(filters=128, kernel_size=3, use_bias=False, padding = \"same\")(x)\n",
    "x = layers.BatchNormalization()(x)\n",
    "x = layers.Activation(\"relu\")(x) \n",
    "residual = layers.Conv2D(128, 1, strides = 2)(residual)\n",
    "x = layers.add([x, residual])\n",
    "residual = x\n",
    "x = layers.Conv2D(filters=128, kernel_size=3, use_bias=False,  padding=\"same\")(x)\n",
    "x = layers.BatchNormalization()(x)\n",
    "x = layers.Activation(\"relu\")(x) \n",
    "x = layers.MaxPooling2D(pool_size=2, padding=\"same\")(x)\n",
    "residual = layers.Conv2D(128, 1, strides = 2)(residual)\n",
    "x = layers.add([x, residual])\n",
    "residual = x\n",
    "x = layers.Conv2D(filters=256, kernel_size=3, use_bias=False, padding=\"same\")(x)\n",
    "x = layers.BatchNormalization()(x)\n",
    "x = layers.Activation(\"relu\")(x) \n",
    "residual = layers.Conv2D(256, 1)(residual)\n",
    "x = layers.add([x, residual])\n",
    "residual = x \n",
    "x = layers.Conv2D(filters=256, kernel_size=3, use_bias=False, padding=\"same\")(x)\n",
    "x = layers.BatchNormalization()(x)\n",
    "x = layers.Activation(\"relu\")(x) \n",
    "residual = layers.Conv2D(256, 1)(residual)\n",
    "x = layers.add([x, residual])\n",
    "residual = x \n",
    "x = layers.Conv2D(filters=256, kernel_size=3, use_bias=False,padding=\"same\")(x)\n",
    "x = layers.BatchNormalization()(x)\n",
    "x = layers.Activation(\"relu\")(x) \n",
    "residual = layers.Conv2D(256, 1)(residual)\n",
    "x = layers.add([x, residual])\n",
    "residual = x \n",
    "x = layers.MaxPooling2D(pool_size=2, padding=\"same\")(x)\n",
    "x = layers.Conv2D(filters=512, kernel_size=3, use_bias=False,padding=\"same\")(x)\n",
    "x = layers.BatchNormalization()(x)\n",
    "x = layers.Activation(\"relu\")(x) \n",
    "residual = layers.Conv2D(512, 1, strides = 2)(residual)\n",
    "x = layers.add([x, residual])\n",
    "x = layers.MaxPooling2D(pool_size=2)(x)\n",
    "x = layers.Dense(256, activation = \"relu\")(x)\n",
    "x = layers.Flatten()(x)\n",
    "x = layers.Dropout(0.5)(x)\n",
    "outputs = layers.Dense(58, activation=\"softmax\")(x)\n",
    "model4 = keras.Model(inputs=inputs, outputs=outputs)\n",
    "\n",
    "model4.summary()"
   ]
  },
  {
   "cell_type": "markdown",
   "metadata": {
    "pycharm": {
     "name": "#%% md\n"
    }
   },
   "source": [
    "## Entrenamiento y guardado de resultados del modelo cuatro"
   ]
  },
  {
   "cell_type": "code",
   "execution_count": 28,
   "metadata": {
    "pycharm": {
     "name": "#%%\n"
    },
    "scrolled": true
   },
   "outputs": [
    {
     "name": "stdout",
     "output_type": "stream",
     "text": [
      "Epoch 1/30\n",
      "145/145 [==============================] - 24s 144ms/step - loss: 3.4092 - accuracy: 0.1827 - val_loss: 7.0511 - val_accuracy: 0.0336\n",
      "Epoch 2/30\n",
      "145/145 [==============================] - 25s 166ms/step - loss: 2.1175 - accuracy: 0.3792 - val_loss: 5.9714 - val_accuracy: 0.0802\n",
      "Epoch 3/30\n",
      "145/145 [==============================] - 24s 154ms/step - loss: 1.6997 - accuracy: 0.4940 - val_loss: 2.9577 - val_accuracy: 0.2914\n",
      "Epoch 4/30\n",
      "145/145 [==============================] - 24s 162ms/step - loss: 1.4262 - accuracy: 0.5661 - val_loss: 1.5654 - val_accuracy: 0.5198\n",
      "Epoch 5/30\n",
      "145/145 [==============================] - 24s 161ms/step - loss: 1.2438 - accuracy: 0.6191 - val_loss: 1.9709 - val_accuracy: 0.4888\n",
      "Epoch 6/30\n",
      "145/145 [==============================] - 23s 152ms/step - loss: 1.1048 - accuracy: 0.6679 - val_loss: 2.1241 - val_accuracy: 0.4647\n",
      "Epoch 7/30\n",
      "145/145 [==============================] - 24s 160ms/step - loss: 0.9961 - accuracy: 0.6981 - val_loss: 1.6052 - val_accuracy: 0.5810\n",
      "Epoch 8/30\n",
      "145/145 [==============================] - 23s 154ms/step - loss: 0.9081 - accuracy: 0.7193 - val_loss: 1.1151 - val_accuracy: 0.6664\n",
      "Epoch 9/30\n",
      "145/145 [==============================] - 25s 166ms/step - loss: 0.8132 - accuracy: 0.7495 - val_loss: 5.8059 - val_accuracy: 0.3241\n",
      "Epoch 10/30\n",
      "145/145 [==============================] - 24s 158ms/step - loss: 0.7439 - accuracy: 0.7762 - val_loss: 1.4281 - val_accuracy: 0.5905\n",
      "Epoch 11/30\n",
      "145/145 [==============================] - 23s 154ms/step - loss: 0.6947 - accuracy: 0.7848 - val_loss: 2.4426 - val_accuracy: 0.5440\n",
      "Epoch 12/30\n",
      "145/145 [==============================] - 22s 143ms/step - loss: 0.6692 - accuracy: 0.7998 - val_loss: 1.3841 - val_accuracy: 0.5784\n",
      "Epoch 13/30\n",
      "145/145 [==============================] - 22s 142ms/step - loss: 0.6177 - accuracy: 0.8115 - val_loss: 3.0545 - val_accuracy: 0.4534\n",
      "Epoch 14/30\n",
      "145/145 [==============================] - 21s 142ms/step - loss: 0.5870 - accuracy: 0.8218 - val_loss: 1.1236 - val_accuracy: 0.6845\n",
      "Epoch 15/30\n",
      "145/145 [==============================] - 22s 143ms/step - loss: 0.5380 - accuracy: 0.8409 - val_loss: 1.5532 - val_accuracy: 0.6776\n",
      "Epoch 16/30\n",
      "145/145 [==============================] - 26s 174ms/step - loss: 0.5215 - accuracy: 0.8418 - val_loss: 1.6916 - val_accuracy: 0.6336\n",
      "Epoch 17/30\n",
      "145/145 [==============================] - 33s 220ms/step - loss: 0.4988 - accuracy: 0.8475 - val_loss: 2.8277 - val_accuracy: 0.4897\n",
      "Epoch 18/30\n",
      "145/145 [==============================] - 43s 292ms/step - loss: 0.4845 - accuracy: 0.8555 - val_loss: 1.9832 - val_accuracy: 0.6457\n",
      "Epoch 19/30\n",
      "145/145 [==============================] - 36s 245ms/step - loss: 0.4564 - accuracy: 0.8641 - val_loss: 0.9499 - val_accuracy: 0.7431\n",
      "Epoch 20/30\n",
      "145/145 [==============================] - 37s 249ms/step - loss: 0.4421 - accuracy: 0.8680 - val_loss: 1.9203 - val_accuracy: 0.5379\n",
      "Epoch 21/30\n",
      "145/145 [==============================] - 38s 254ms/step - loss: 0.4263 - accuracy: 0.8775 - val_loss: 1.3624 - val_accuracy: 0.6853\n",
      "Epoch 22/30\n",
      "145/145 [==============================] - 38s 253ms/step - loss: 0.4246 - accuracy: 0.8793 - val_loss: 1.2362 - val_accuracy: 0.7069\n",
      "Epoch 23/30\n",
      "145/145 [==============================] - 35s 234ms/step - loss: 0.3947 - accuracy: 0.8877 - val_loss: 1.6615 - val_accuracy: 0.6267\n",
      "Epoch 24/30\n",
      "145/145 [==============================] - 35s 233ms/step - loss: 0.3740 - accuracy: 0.8944 - val_loss: 1.2391 - val_accuracy: 0.7250\n",
      "Epoch 25/30\n",
      "145/145 [==============================] - 40s 269ms/step - loss: 0.3990 - accuracy: 0.8902 - val_loss: 1.3022 - val_accuracy: 0.7138\n",
      "Epoch 26/30\n",
      "145/145 [==============================] - 36s 244ms/step - loss: 0.3751 - accuracy: 0.8949 - val_loss: 0.8723 - val_accuracy: 0.7897\n",
      "Epoch 27/30\n",
      "145/145 [==============================] - 36s 244ms/step - loss: 0.3791 - accuracy: 0.8962 - val_loss: 1.2389 - val_accuracy: 0.7371\n",
      "Epoch 28/30\n",
      "145/145 [==============================] - 31s 209ms/step - loss: 0.3641 - accuracy: 0.9014 - val_loss: 1.5080 - val_accuracy: 0.7009\n",
      "Epoch 29/30\n",
      "145/145 [==============================] - 25s 168ms/step - loss: 0.3650 - accuracy: 0.9061 - val_loss: 1.1831 - val_accuracy: 0.7638\n",
      "Epoch 30/30\n",
      "145/145 [==============================] - 27s 179ms/step - loss: 0.3557 - accuracy: 0.9037 - val_loss: 2.5019 - val_accuracy: 0.5888\n"
     ]
    }
   ],
   "source": [
    "model4.compile(loss=\"categorical_crossentropy\",\n",
    " optimizer=\"rmsprop\",\n",
    " metrics=[\"accuracy\"])\n",
    "\n",
    "callbacks = [\n",
    "    keras.callbacks.ModelCheckpoint(\n",
    "    filepath=\"model4/best_version\",\n",
    "    save_best_only=True,\n",
    "    monitor=\"val_loss\")\n",
    "]\n",
    "\n",
    "history = model4.fit(\n",
    " train_dataset,\n",
    " epochs=30,\n",
    " validation_data=validation_dataset,\n",
    " callbacks=callbacks)"
   ]
  },
  {
   "cell_type": "code",
   "execution_count": 29,
   "metadata": {
    "pycharm": {
     "name": "#%%\n"
    },
    "scrolled": true
   },
   "outputs": [
    {
     "name": "stdout",
     "output_type": "stream",
     "text": [
      "INFO:tensorflow:Assets written to: model4/model\\assets\n"
     ]
    },
    {
     "name": "stderr",
     "output_type": "stream",
     "text": [
      "F:\\Programas\\Anaconda\\envs\\TFGapp\\lib\\site-packages\\keras\\utils\\generic_utils.py:494: CustomMaskWarning: Custom mask layers require a config and must override get_config. When loading, the custom mask layer must be passed to the custom_objects argument.\n",
      "  warnings.warn('Custom mask layers require a config and must override '\n"
     ]
    }
   ],
   "source": [
    "model4.save('model4/model')\n",
    "np.save('model4/history.npy',history.history)"
   ]
  },
  {
   "cell_type": "markdown",
   "metadata": {
    "pycharm": {
     "name": "#%% md\n"
    }
   },
   "source": [
    "## Análisis de resultados"
   ]
  },
  {
   "cell_type": "code",
   "execution_count": 30,
   "metadata": {
    "pycharm": {
     "name": "#%%\n"
    }
   },
   "outputs": [],
   "source": [
    "my_history1=np.load('model3_10/history.npy',allow_pickle='TRUE').item()\n",
    "my_history2=np.load('model4/history.npy',allow_pickle='TRUE').item()"
   ]
  },
  {
   "cell_type": "code",
   "execution_count": 31,
   "metadata": {
    "pycharm": {
     "name": "#%%\n"
    }
   },
   "outputs": [
    {
     "data": {
      "image/png": "[encoded data removed]",
      "text/plain": [
       "<Figure size 432x288 with 1 Axes>"
      ]
     },
     "metadata": {
      "needs_background": "light"
     },
     "output_type": "display_data"
    }
   ],
   "source": [
    "loss_1 = my_history1[\"loss\"]\n",
    "val_loss_1 = my_history1[\"val_loss\"]\n",
    "loss_2 = my_history2[\"loss\"]\n",
    "val_loss_2 = my_history2[\"val_loss\"]\n",
    "epochs = range(1, len(loss_1) + 1)\n",
    "\n",
    "plt.plot(epochs, loss_1, \"b.\", label=\"Training loss original\")\n",
    "plt.plot(epochs, loss_2, \"r.\", label=\"Training loss new\")\n",
    "plt.plot(epochs, val_loss_1, \"b\", label=\"Validation loss original\")\n",
    "plt.plot(epochs, val_loss_2, \"r\", label=\"Validation loss new\")\n",
    "plt.title(\"Training and validation loss\")\n",
    "plt.xlabel(\"Epochs\")\n",
    "plt.ylabel(\"Loss\")\n",
    "plt.legend()\n",
    "plt.show()"
   ]
  },
  {
   "cell_type": "code",
   "execution_count": 32,
   "metadata": {
    "pycharm": {
     "name": "#%%\n"
    }
   },
   "outputs": [
    {
     "data": {
      "image/png": "[encoded data removed]",
      "text/plain": [
       "<Figure size 432x288 with 1 Axes>"
      ]
     },
     "metadata": {
      "needs_background": "light"
     },
     "output_type": "display_data"
    }
   ],
   "source": [
    "\n",
    "plt.clf()\n",
    "\n",
    "acc_1 = my_history1[\"accuracy\"]\n",
    "val_acc_1 = my_history1[\"val_accuracy\"]\n",
    "acc_2 = my_history2[\"accuracy\"]\n",
    "val_acc_2 = my_history2[\"val_accuracy\"]\n",
    "epochs = range(1, len(loss_1) + 1)\n",
    "\n",
    "plt.plot(epochs, acc_1, \"b.\", label=\"Training accuracy original\")\n",
    "plt.plot(epochs, acc_2, \"r.\", label=\"Training accuracy new\")\n",
    "plt.plot(epochs, val_acc_1, \"b\", label=\"Validation accuracy original\")\n",
    "plt.plot(epochs, val_acc_2, \"r\", label=\"Validation accuracy new\")\n",
    "plt.title(\"Training and validation accuracy\")\n",
    "plt.xlabel(\"Epochs\")\n",
    "plt.ylabel(\"Accuracy\")\n",
    "plt.legend()\n",
    "plt.show()"
   ]
  },
  {
   "cell_type": "code",
   "execution_count": 33,
   "metadata": {
    "pycharm": {
     "name": "#%%\n"
    }
   },
   "outputs": [
    {
     "name": "stdout",
     "output_type": "stream",
     "text": [
      "19/19 [==============================] - 3s 74ms/step - loss: 2.7192 - accuracy: 0.5397\n"
     ]
    },
    {
     "data": {
      "text/plain": [
       "[2.719203472137451, 0.5396551489830017]"
      ]
     },
     "execution_count": 33,
     "metadata": {},
     "output_type": "execute_result"
    }
   ],
   "source": [
    "model = keras.models.load_model('model4/model')\n",
    "results= model.evaluate(test_dataset)\n",
    "results"
   ]
  },
  {
   "cell_type": "markdown",
   "metadata": {
    "pycharm": {
     "name": "#%% md\n"
    }
   },
   "source": [
    "## Sustitución de la capa de aplanado: modelo 4.1"
   ]
  },
  {
   "cell_type": "code",
   "execution_count": 35,
   "metadata": {
    "pycharm": {
     "name": "#%%\n"
    }
   },
   "outputs": [
    {
     "name": "stdout",
     "output_type": "stream",
     "text": [
      "Model: \"model_11\"\n",
      "__________________________________________________________________________________________________\n",
      "Layer (type)                    Output Shape         Param #     Connected to                     \n",
      "==================================================================================================\n",
      "input_12 (InputLayer)           [(None, 256, 256, 3) 0                                            \n",
      "__________________________________________________________________________________________________\n",
      "rescaling_11 (Rescaling)        (None, 256, 256, 3)  0           input_12[0][0]                   \n",
      "__________________________________________________________________________________________________\n",
      "conv2d_165 (Conv2D)             (None, 254, 254, 16) 432         rescaling_11[0][0]               \n",
      "__________________________________________________________________________________________________\n",
      "batch_normalization_81 (BatchNo (None, 254, 254, 16) 64          conv2d_165[0][0]                 \n",
      "__________________________________________________________________________________________________\n",
      "activation_81 (Activation)      (None, 254, 254, 16) 0           batch_normalization_81[0][0]     \n",
      "__________________________________________________________________________________________________\n",
      "max_pooling2d_64 (MaxPooling2D) (None, 127, 127, 16) 0           activation_81[0][0]              \n",
      "__________________________________________________________________________________________________\n",
      "conv2d_166 (Conv2D)             (None, 125, 125, 32) 4608        max_pooling2d_64[0][0]           \n",
      "__________________________________________________________________________________________________\n",
      "batch_normalization_82 (BatchNo (None, 125, 125, 32) 128         conv2d_166[0][0]                 \n",
      "__________________________________________________________________________________________________\n",
      "activation_82 (Activation)      (None, 125, 125, 32) 0           batch_normalization_82[0][0]     \n",
      "__________________________________________________________________________________________________\n",
      "max_pooling2d_65 (MaxPooling2D) (None, 63, 63, 32)   0           activation_82[0][0]              \n",
      "__________________________________________________________________________________________________\n",
      "conv2d_167 (Conv2D)             (None, 63, 63, 64)   18432       max_pooling2d_65[0][0]           \n",
      "__________________________________________________________________________________________________\n",
      "batch_normalization_83 (BatchNo (None, 63, 63, 64)   256         conv2d_167[0][0]                 \n",
      "__________________________________________________________________________________________________\n",
      "activation_83 (Activation)      (None, 63, 63, 64)   0           batch_normalization_83[0][0]     \n",
      "__________________________________________________________________________________________________\n",
      "conv2d_168 (Conv2D)             (None, 63, 63, 64)   2112        activation_82[0][0]              \n",
      "__________________________________________________________________________________________________\n",
      "add_64 (Add)                    (None, 63, 63, 64)   0           activation_83[0][0]              \n",
      "                                                                 conv2d_168[0][0]                 \n",
      "__________________________________________________________________________________________________\n",
      "conv2d_169 (Conv2D)             (None, 63, 63, 64)   36864       add_64[0][0]                     \n",
      "__________________________________________________________________________________________________\n",
      "batch_normalization_84 (BatchNo (None, 63, 63, 64)   256         conv2d_169[0][0]                 \n",
      "__________________________________________________________________________________________________\n",
      "activation_84 (Activation)      (None, 63, 63, 64)   0           batch_normalization_84[0][0]     \n",
      "__________________________________________________________________________________________________\n",
      "max_pooling2d_66 (MaxPooling2D) (None, 32, 32, 64)   0           activation_84[0][0]              \n",
      "__________________________________________________________________________________________________\n",
      "conv2d_170 (Conv2D)             (None, 32, 32, 128)  73728       max_pooling2d_66[0][0]           \n",
      "__________________________________________________________________________________________________\n",
      "batch_normalization_85 (BatchNo (None, 32, 32, 128)  512         conv2d_170[0][0]                 \n",
      "__________________________________________________________________________________________________\n",
      "activation_85 (Activation)      (None, 32, 32, 128)  0           batch_normalization_85[0][0]     \n",
      "__________________________________________________________________________________________________\n",
      "conv2d_171 (Conv2D)             (None, 32, 32, 128)  8320        add_64[0][0]                     \n",
      "__________________________________________________________________________________________________\n",
      "add_65 (Add)                    (None, 32, 32, 128)  0           activation_85[0][0]              \n",
      "                                                                 conv2d_171[0][0]                 \n",
      "__________________________________________________________________________________________________\n",
      "conv2d_172 (Conv2D)             (None, 32, 32, 128)  147456      add_65[0][0]                     \n",
      "__________________________________________________________________________________________________\n",
      "batch_normalization_86 (BatchNo (None, 32, 32, 128)  512         conv2d_172[0][0]                 \n",
      "__________________________________________________________________________________________________\n",
      "activation_86 (Activation)      (None, 32, 32, 128)  0           batch_normalization_86[0][0]     \n",
      "__________________________________________________________________________________________________\n",
      "max_pooling2d_67 (MaxPooling2D) (None, 16, 16, 128)  0           activation_86[0][0]              \n",
      "__________________________________________________________________________________________________\n",
      "conv2d_173 (Conv2D)             (None, 16, 16, 128)  16512       add_65[0][0]                     \n",
      "__________________________________________________________________________________________________\n",
      "add_66 (Add)                    (None, 16, 16, 128)  0           max_pooling2d_67[0][0]           \n",
      "                                                                 conv2d_173[0][0]                 \n",
      "__________________________________________________________________________________________________\n",
      "conv2d_174 (Conv2D)             (None, 16, 16, 256)  294912      add_66[0][0]                     \n",
      "__________________________________________________________________________________________________\n",
      "batch_normalization_87 (BatchNo (None, 16, 16, 256)  1024        conv2d_174[0][0]                 \n",
      "__________________________________________________________________________________________________\n",
      "activation_87 (Activation)      (None, 16, 16, 256)  0           batch_normalization_87[0][0]     \n",
      "__________________________________________________________________________________________________\n",
      "conv2d_175 (Conv2D)             (None, 16, 16, 256)  33024       add_66[0][0]                     \n",
      "__________________________________________________________________________________________________\n",
      "add_67 (Add)                    (None, 16, 16, 256)  0           activation_87[0][0]              \n",
      "                                                                 conv2d_175[0][0]                 \n",
      "__________________________________________________________________________________________________\n",
      "conv2d_176 (Conv2D)             (None, 16, 16, 256)  589824      add_67[0][0]                     \n",
      "__________________________________________________________________________________________________\n",
      "batch_normalization_88 (BatchNo (None, 16, 16, 256)  1024        conv2d_176[0][0]                 \n",
      "__________________________________________________________________________________________________\n",
      "activation_88 (Activation)      (None, 16, 16, 256)  0           batch_normalization_88[0][0]     \n",
      "__________________________________________________________________________________________________\n",
      "conv2d_177 (Conv2D)             (None, 16, 16, 256)  65792       add_67[0][0]                     \n",
      "__________________________________________________________________________________________________\n",
      "add_68 (Add)                    (None, 16, 16, 256)  0           activation_88[0][0]              \n",
      "                                                                 conv2d_177[0][0]                 \n",
      "__________________________________________________________________________________________________\n",
      "conv2d_178 (Conv2D)             (None, 16, 16, 256)  589824      add_68[0][0]                     \n",
      "__________________________________________________________________________________________________\n",
      "batch_normalization_89 (BatchNo (None, 16, 16, 256)  1024        conv2d_178[0][0]                 \n",
      "__________________________________________________________________________________________________\n",
      "activation_89 (Activation)      (None, 16, 16, 256)  0           batch_normalization_89[0][0]     \n",
      "__________________________________________________________________________________________________\n",
      "conv2d_179 (Conv2D)             (None, 16, 16, 256)  65792       add_68[0][0]                     \n",
      "__________________________________________________________________________________________________\n",
      "add_69 (Add)                    (None, 16, 16, 256)  0           activation_89[0][0]              \n",
      "                                                                 conv2d_179[0][0]                 \n",
      "__________________________________________________________________________________________________\n",
      "max_pooling2d_68 (MaxPooling2D) (None, 8, 8, 256)    0           add_69[0][0]                     \n",
      "__________________________________________________________________________________________________\n",
      "conv2d_180 (Conv2D)             (None, 8, 8, 512)    1179648     max_pooling2d_68[0][0]           \n",
      "__________________________________________________________________________________________________\n",
      "batch_normalization_90 (BatchNo (None, 8, 8, 512)    2048        conv2d_180[0][0]                 \n",
      "__________________________________________________________________________________________________\n",
      "activation_90 (Activation)      (None, 8, 8, 512)    0           batch_normalization_90[0][0]     \n",
      "__________________________________________________________________________________________________\n",
      "conv2d_181 (Conv2D)             (None, 8, 8, 512)    131584      add_69[0][0]                     \n",
      "__________________________________________________________________________________________________\n",
      "add_70 (Add)                    (None, 8, 8, 512)    0           activation_90[0][0]              \n",
      "                                                                 conv2d_181[0][0]                 \n",
      "__________________________________________________________________________________________________\n",
      "max_pooling2d_69 (MaxPooling2D) (None, 4, 4, 512)    0           add_70[0][0]                     \n",
      "__________________________________________________________________________________________________\n",
      "dense_26 (Dense)                (None, 4, 4, 256)    131328      max_pooling2d_69[0][0]           \n",
      "__________________________________________________________________________________________________\n",
      "global_average_pooling2d_1 (Glo (None, 256)          0           dense_26[0][0]                   \n",
      "__________________________________________________________________________________________________\n",
      "dropout_11 (Dropout)            (None, 256)          0           global_average_pooling2d_1[0][0] \n",
      "__________________________________________________________________________________________________\n",
      "dense_27 (Dense)                (None, 58)           14906       dropout_11[0][0]                 \n",
      "==================================================================================================\n",
      "Total params: 3,411,946\n",
      "Trainable params: 3,408,522\n",
      "Non-trainable params: 3,424\n",
      "__________________________________________________________________________________________________\n"
     ]
    }
   ],
   "source": [
    "inputs = keras.Input(shape=(size_x, size_y, 3)) \n",
    "x = layers.Rescaling(1./255)(inputs) \n",
    "x = layers.Conv2D(filters=16, kernel_size=3, use_bias=False)(x)\n",
    "x = layers.BatchNormalization()(x)\n",
    "x = layers.Activation(\"relu\")(x) \n",
    "x = layers.MaxPooling2D(pool_size=2)(x)\n",
    "x = layers.Conv2D(filters=32, kernel_size=3, use_bias=False)(x)\n",
    "x = layers.BatchNormalization()(x)\n",
    "x = layers.Activation(\"relu\")(x) \n",
    "residual = x\n",
    "x = layers.MaxPooling2D(pool_size=2, padding = \"same\")(x)\n",
    "x = layers.Conv2D(filters=64, kernel_size=3, use_bias=False, padding = \"same\")(x)\n",
    "x = layers.BatchNormalization()(x)\n",
    "x = layers.Activation(\"relu\")(x) \n",
    "residual = layers.Conv2D(64, 1, strides = 2)(residual)\n",
    "x = layers.add([x, residual])\n",
    "residual = x\n",
    "x = layers.Conv2D(filters=64, kernel_size=3, use_bias=False, padding = \"same\")(x)\n",
    "x = layers.BatchNormalization()(x)\n",
    "x = layers.Activation(\"relu\")(x) \n",
    "x = layers.MaxPooling2D(pool_size=2, padding = \"same\")(x)\n",
    "x = layers.Conv2D(filters=128, kernel_size=3, use_bias=False, padding = \"same\")(x)\n",
    "x = layers.BatchNormalization()(x)\n",
    "x = layers.Activation(\"relu\")(x) \n",
    "residual = layers.Conv2D(128, 1, strides = 2)(residual)\n",
    "x = layers.add([x, residual])\n",
    "residual = x\n",
    "x = layers.Conv2D(filters=128, kernel_size=3, use_bias=False,  padding=\"same\")(x)\n",
    "x = layers.BatchNormalization()(x)\n",
    "x = layers.Activation(\"relu\")(x) \n",
    "x = layers.MaxPooling2D(pool_size=2, padding=\"same\")(x)\n",
    "residual = layers.Conv2D(128, 1, strides = 2)(residual)\n",
    "x = layers.add([x, residual])\n",
    "residual = x\n",
    "x = layers.Conv2D(filters=256, kernel_size=3, use_bias=False, padding=\"same\")(x)\n",
    "x = layers.BatchNormalization()(x)\n",
    "x = layers.Activation(\"relu\")(x) \n",
    "residual = layers.Conv2D(256, 1)(residual)\n",
    "x = layers.add([x, residual])\n",
    "residual = x \n",
    "x = layers.Conv2D(filters=256, kernel_size=3, use_bias=False, padding=\"same\")(x)\n",
    "x = layers.BatchNormalization()(x)\n",
    "x = layers.Activation(\"relu\")(x) \n",
    "residual = layers.Conv2D(256, 1)(residual)\n",
    "x = layers.add([x, residual])\n",
    "residual = x \n",
    "x = layers.Conv2D(filters=256, kernel_size=3, use_bias=False,padding=\"same\")(x)\n",
    "x = layers.BatchNormalization()(x)\n",
    "x = layers.Activation(\"relu\")(x) \n",
    "residual = layers.Conv2D(256, 1)(residual)\n",
    "x = layers.add([x, residual])\n",
    "residual = x \n",
    "x = layers.MaxPooling2D(pool_size=2, padding=\"same\")(x)\n",
    "x = layers.Conv2D(filters=512, kernel_size=3, use_bias=False,padding=\"same\")(x)\n",
    "x = layers.BatchNormalization()(x)\n",
    "x = layers.Activation(\"relu\")(x) \n",
    "residual = layers.Conv2D(512, 1, strides = 2)(residual)\n",
    "x = layers.add([x, residual])\n",
    "x = layers.MaxPooling2D(pool_size=2)(x)\n",
    "x = layers.Dense(256, activation = \"relu\")(x)\n",
    "x = layers.GlobalAveragePooling2D()(x) \n",
    "x = layers.Dropout(0.5)(x)\n",
    "outputs = layers.Dense(58, activation=\"softmax\")(x)\n",
    "model4_1 = keras.Model(inputs=inputs, outputs=outputs)\n",
    "\n",
    "model4_1.summary()"
   ]
  },
  {
   "cell_type": "code",
   "execution_count": 36,
   "metadata": {
    "pycharm": {
     "name": "#%%\n"
    }
   },
   "outputs": [
    {
     "name": "stdout",
     "output_type": "stream",
     "text": [
      "Epoch 1/100\n",
      "145/145 [==============================] - 29s 180ms/step - loss: 3.3604 - accuracy: 0.1791 - val_loss: 6.8599 - val_accuracy: 0.0388\n",
      "Epoch 2/100\n",
      "145/145 [==============================] - 26s 175ms/step - loss: 2.2647 - accuracy: 0.3512 - val_loss: 4.5178 - val_accuracy: 0.0922\n",
      "Epoch 3/100\n",
      "145/145 [==============================] - 23s 155ms/step - loss: 1.8340 - accuracy: 0.4589 - val_loss: 2.2062 - val_accuracy: 0.3621\n",
      "Epoch 4/100\n",
      "145/145 [==============================] - 26s 174ms/step - loss: 1.5498 - accuracy: 0.5323 - val_loss: 1.9539 - val_accuracy: 0.4509\n",
      "Epoch 5/100\n",
      "145/145 [==============================] - 24s 158ms/step - loss: 1.3400 - accuracy: 0.5922 - val_loss: 1.6549 - val_accuracy: 0.5284\n",
      "Epoch 6/100\n",
      "145/145 [==============================] - 26s 175ms/step - loss: 1.1838 - accuracy: 0.6279 - val_loss: 1.2732 - val_accuracy: 0.6336\n",
      "Epoch 7/100\n",
      "145/145 [==============================] - 46s 315ms/step - loss: 1.0370 - accuracy: 0.6766 - val_loss: 1.3708 - val_accuracy: 0.6198\n",
      "Epoch 8/100\n",
      "145/145 [==============================] - 45s 301ms/step - loss: 0.9369 - accuracy: 0.7016 - val_loss: 0.9479 - val_accuracy: 0.7000\n",
      "Epoch 9/100\n",
      "145/145 [==============================] - 40s 271ms/step - loss: 0.8521 - accuracy: 0.7318 - val_loss: 0.9502 - val_accuracy: 0.7129\n",
      "Epoch 10/100\n",
      "145/145 [==============================] - 37s 246ms/step - loss: 0.7529 - accuracy: 0.7508 - val_loss: 0.9643 - val_accuracy: 0.7000\n",
      "Epoch 11/100\n",
      "145/145 [==============================] - 40s 266ms/step - loss: 0.7094 - accuracy: 0.7728 - val_loss: 1.7323 - val_accuracy: 0.5526\n",
      "Epoch 12/100\n",
      "145/145 [==============================] - 36s 243ms/step - loss: 0.6246 - accuracy: 0.7981 - val_loss: 0.9213 - val_accuracy: 0.7345\n",
      "Epoch 13/100\n",
      "145/145 [==============================] - 39s 263ms/step - loss: 0.5886 - accuracy: 0.8107 - val_loss: 2.4707 - val_accuracy: 0.5138\n",
      "Epoch 14/100\n",
      "145/145 [==============================] - 48s 321ms/step - loss: 0.5648 - accuracy: 0.8214 - val_loss: 0.8343 - val_accuracy: 0.7474\n",
      "Epoch 15/100\n",
      "145/145 [==============================] - 37s 249ms/step - loss: 0.5014 - accuracy: 0.8395 - val_loss: 0.7382 - val_accuracy: 0.7802\n",
      "Epoch 16/100\n",
      "145/145 [==============================] - 38s 254ms/step - loss: 0.4547 - accuracy: 0.8499 - val_loss: 0.8346 - val_accuracy: 0.7509\n",
      "Epoch 17/100\n",
      "145/145 [==============================] - 37s 248ms/step - loss: 0.4307 - accuracy: 0.8610 - val_loss: 0.7607 - val_accuracy: 0.8078\n",
      "Epoch 18/100\n",
      "145/145 [==============================] - 36s 238ms/step - loss: 0.4033 - accuracy: 0.8706 - val_loss: 1.4103 - val_accuracy: 0.6474\n",
      "Epoch 19/100\n",
      "145/145 [==============================] - 38s 257ms/step - loss: 0.3914 - accuracy: 0.8706 - val_loss: 0.6983 - val_accuracy: 0.8000\n",
      "Epoch 20/100\n",
      "145/145 [==============================] - 34s 227ms/step - loss: 0.3786 - accuracy: 0.8788 - val_loss: 0.7482 - val_accuracy: 0.7957\n",
      "Epoch 21/100\n",
      "145/145 [==============================] - 35s 238ms/step - loss: 0.3387 - accuracy: 0.8907 - val_loss: 0.8892 - val_accuracy: 0.7552\n",
      "Epoch 22/100\n",
      "145/145 [==============================] - 34s 229ms/step - loss: 0.3329 - accuracy: 0.8917 - val_loss: 0.5583 - val_accuracy: 0.8483\n",
      "Epoch 23/100\n",
      "145/145 [==============================] - 35s 235ms/step - loss: 0.3064 - accuracy: 0.8988 - val_loss: 0.8178 - val_accuracy: 0.7914\n",
      "Epoch 24/100\n",
      "145/145 [==============================] - 34s 230ms/step - loss: 0.3095 - accuracy: 0.9005 - val_loss: 0.7714 - val_accuracy: 0.8112\n",
      "Epoch 25/100\n",
      "145/145 [==============================] - 33s 224ms/step - loss: 0.2740 - accuracy: 0.9131 - val_loss: 0.7307 - val_accuracy: 0.8216\n",
      "Epoch 26/100\n",
      "145/145 [==============================] - 35s 233ms/step - loss: 0.2767 - accuracy: 0.9110 - val_loss: 0.6335 - val_accuracy: 0.8207\n",
      "Epoch 27/100\n",
      "145/145 [==============================] - 35s 233ms/step - loss: 0.2474 - accuracy: 0.9202 - val_loss: 0.5179 - val_accuracy: 0.8517\n",
      "Epoch 28/100\n",
      "145/145 [==============================] - 35s 234ms/step - loss: 0.2462 - accuracy: 0.9226 - val_loss: 0.7492 - val_accuracy: 0.8155\n",
      "Epoch 29/100\n",
      "145/145 [==============================] - 35s 234ms/step - loss: 0.2411 - accuracy: 0.9270 - val_loss: 1.2293 - val_accuracy: 0.7129\n",
      "Epoch 30/100\n",
      "145/145 [==============================] - 36s 241ms/step - loss: 0.2306 - accuracy: 0.9261 - val_loss: 0.6657 - val_accuracy: 0.8569\n",
      "Epoch 31/100\n",
      "145/145 [==============================] - 37s 248ms/step - loss: 0.2370 - accuracy: 0.9290 - val_loss: 1.0043 - val_accuracy: 0.7681\n",
      "Epoch 32/100\n",
      "145/145 [==============================] - 32s 213ms/step - loss: 0.2108 - accuracy: 0.9334 - val_loss: 0.8149 - val_accuracy: 0.7871\n",
      "Epoch 33/100\n",
      "145/145 [==============================] - 33s 222ms/step - loss: 0.2038 - accuracy: 0.9411 - val_loss: 0.8532 - val_accuracy: 0.8138\n",
      "Epoch 34/100\n",
      "145/145 [==============================] - 34s 228ms/step - loss: 0.1961 - accuracy: 0.9398 - val_loss: 0.6095 - val_accuracy: 0.8526\n",
      "Epoch 35/100\n",
      "145/145 [==============================] - 34s 230ms/step - loss: 0.1990 - accuracy: 0.9363 - val_loss: 0.9129 - val_accuracy: 0.8009\n",
      "Epoch 36/100\n",
      "145/145 [==============================] - 35s 233ms/step - loss: 0.1996 - accuracy: 0.9401 - val_loss: 1.3274 - val_accuracy: 0.7078\n",
      "Epoch 37/100\n",
      "145/145 [==============================] - 34s 229ms/step - loss: 0.1852 - accuracy: 0.9428 - val_loss: 1.1828 - val_accuracy: 0.7707\n",
      "Epoch 38/100\n",
      "145/145 [==============================] - 35s 238ms/step - loss: 0.1926 - accuracy: 0.9411 - val_loss: 0.6352 - val_accuracy: 0.8474\n",
      "Epoch 39/100\n",
      "145/145 [==============================] - 35s 232ms/step - loss: 0.1886 - accuracy: 0.9440 - val_loss: 0.8578 - val_accuracy: 0.8078\n",
      "Epoch 40/100\n",
      "145/145 [==============================] - 34s 231ms/step - loss: 0.1792 - accuracy: 0.9463 - val_loss: 0.7188 - val_accuracy: 0.8466\n",
      "Epoch 41/100\n",
      "145/145 [==============================] - 36s 237ms/step - loss: 0.1593 - accuracy: 0.9518 - val_loss: 1.1199 - val_accuracy: 0.8103\n",
      "Epoch 42/100\n",
      "145/145 [==============================] - 35s 232ms/step - loss: 0.1765 - accuracy: 0.9477 - val_loss: 0.8151 - val_accuracy: 0.8198\n",
      "Epoch 43/100\n",
      "145/145 [==============================] - 34s 229ms/step - loss: 0.1696 - accuracy: 0.9488 - val_loss: 0.4132 - val_accuracy: 0.8845\n",
      "Epoch 44/100\n",
      "145/145 [==============================] - 35s 235ms/step - loss: 0.1596 - accuracy: 0.9526 - val_loss: 0.3926 - val_accuracy: 0.8862\n",
      "Epoch 45/100\n",
      "145/145 [==============================] - 35s 233ms/step - loss: 0.1808 - accuracy: 0.9501 - val_loss: 0.7507 - val_accuracy: 0.8457\n",
      "Epoch 46/100\n",
      "145/145 [==============================] - 34s 228ms/step - loss: 0.1591 - accuracy: 0.9554 - val_loss: 1.0095 - val_accuracy: 0.7595\n",
      "Epoch 47/100\n",
      "145/145 [==============================] - 35s 236ms/step - loss: 0.1628 - accuracy: 0.9542 - val_loss: 0.9255 - val_accuracy: 0.8052\n",
      "Epoch 48/100\n",
      "145/145 [==============================] - 35s 238ms/step - loss: 0.1674 - accuracy: 0.9517 - val_loss: 0.7499 - val_accuracy: 0.8207\n",
      "Epoch 49/100\n",
      "145/145 [==============================] - 36s 239ms/step - loss: 0.1559 - accuracy: 0.9563 - val_loss: 0.6882 - val_accuracy: 0.8457\n",
      "Epoch 50/100\n",
      "145/145 [==============================] - 35s 231ms/step - loss: 0.1573 - accuracy: 0.9538 - val_loss: 0.4660 - val_accuracy: 0.8905\n",
      "Epoch 51/100\n",
      "145/145 [==============================] - 36s 238ms/step - loss: 0.1439 - accuracy: 0.9602 - val_loss: 1.2229 - val_accuracy: 0.7690\n",
      "Epoch 52/100\n",
      "145/145 [==============================] - 35s 233ms/step - loss: 0.1682 - accuracy: 0.9541 - val_loss: 0.7009 - val_accuracy: 0.8310\n",
      "Epoch 53/100\n",
      "145/145 [==============================] - 34s 228ms/step - loss: 0.1523 - accuracy: 0.9584 - val_loss: 0.8536 - val_accuracy: 0.7983\n",
      "Epoch 54/100\n",
      "145/145 [==============================] - 35s 238ms/step - loss: 0.1415 - accuracy: 0.9584 - val_loss: 1.0487 - val_accuracy: 0.7750\n",
      "Epoch 55/100\n",
      "145/145 [==============================] - 35s 234ms/step - loss: 0.1439 - accuracy: 0.9606 - val_loss: 1.0016 - val_accuracy: 0.8078\n",
      "Epoch 56/100\n",
      "145/145 [==============================] - 34s 227ms/step - loss: 0.1496 - accuracy: 0.9599 - val_loss: 1.1029 - val_accuracy: 0.8009\n"
     ]
    },
    {
     "name": "stdout",
     "output_type": "stream",
     "text": [
      "Epoch 57/100\n",
      "145/145 [==============================] - 36s 239ms/step - loss: 0.1389 - accuracy: 0.9585 - val_loss: 2.3257 - val_accuracy: 0.6853\n",
      "Epoch 58/100\n",
      "145/145 [==============================] - 37s 245ms/step - loss: 0.1316 - accuracy: 0.9644 - val_loss: 1.4211 - val_accuracy: 0.7750\n",
      "Epoch 59/100\n",
      "145/145 [==============================] - 35s 232ms/step - loss: 0.1404 - accuracy: 0.9608 - val_loss: 1.6283 - val_accuracy: 0.7466\n",
      "Epoch 60/100\n",
      "145/145 [==============================] - 35s 235ms/step - loss: 0.1305 - accuracy: 0.9620 - val_loss: 1.6904 - val_accuracy: 0.7431\n",
      "Epoch 61/100\n",
      "145/145 [==============================] - 34s 228ms/step - loss: 0.1367 - accuracy: 0.9634 - val_loss: 0.9928 - val_accuracy: 0.8078\n",
      "Epoch 62/100\n",
      "145/145 [==============================] - 35s 237ms/step - loss: 0.1494 - accuracy: 0.9614 - val_loss: 1.0306 - val_accuracy: 0.8336\n",
      "Epoch 63/100\n",
      "145/145 [==============================] - 35s 236ms/step - loss: 0.1427 - accuracy: 0.9624 - val_loss: 0.7684 - val_accuracy: 0.8284\n",
      "Epoch 64/100\n",
      "145/145 [==============================] - 34s 228ms/step - loss: 0.1386 - accuracy: 0.9621 - val_loss: 1.1651 - val_accuracy: 0.8000\n",
      "Epoch 65/100\n",
      "145/145 [==============================] - 36s 238ms/step - loss: 0.1420 - accuracy: 0.9656 - val_loss: 0.7797 - val_accuracy: 0.8414\n",
      "Epoch 66/100\n",
      "145/145 [==============================] - 35s 234ms/step - loss: 0.1345 - accuracy: 0.9649 - val_loss: 1.7125 - val_accuracy: 0.7759\n",
      "Epoch 67/100\n",
      "145/145 [==============================] - 35s 236ms/step - loss: 0.1447 - accuracy: 0.9635 - val_loss: 1.4672 - val_accuracy: 0.7845\n",
      "Epoch 68/100\n",
      "145/145 [==============================] - 35s 234ms/step - loss: 0.1262 - accuracy: 0.9658 - val_loss: 1.0967 - val_accuracy: 0.8345\n",
      "Epoch 69/100\n",
      "145/145 [==============================] - 34s 230ms/step - loss: 0.1376 - accuracy: 0.9633 - val_loss: 1.2677 - val_accuracy: 0.7629\n",
      "Epoch 70/100\n",
      "145/145 [==============================] - 35s 232ms/step - loss: 0.1265 - accuracy: 0.9673 - val_loss: 0.8025 - val_accuracy: 0.8517\n",
      "Epoch 71/100\n",
      "145/145 [==============================] - 35s 233ms/step - loss: 0.1329 - accuracy: 0.9639 - val_loss: 0.7352 - val_accuracy: 0.8672\n",
      "Epoch 72/100\n",
      "145/145 [==============================] - 36s 238ms/step - loss: 0.1542 - accuracy: 0.9644 - val_loss: 0.9109 - val_accuracy: 0.8388\n",
      "Epoch 73/100\n",
      "145/145 [==============================] - 34s 228ms/step - loss: 0.1249 - accuracy: 0.9672 - val_loss: 0.8655 - val_accuracy: 0.8621\n",
      "Epoch 74/100\n",
      "145/145 [==============================] - 35s 234ms/step - loss: 0.1388 - accuracy: 0.9638 - val_loss: 1.0461 - val_accuracy: 0.8112\n",
      "Epoch 75/100\n",
      "145/145 [==============================] - 35s 232ms/step - loss: 0.1293 - accuracy: 0.9675 - val_loss: 0.8978 - val_accuracy: 0.8655\n",
      "Epoch 76/100\n",
      "145/145 [==============================] - 34s 225ms/step - loss: 0.1273 - accuracy: 0.9686 - val_loss: 0.6927 - val_accuracy: 0.8767\n",
      "Epoch 77/100\n",
      "145/145 [==============================] - 34s 227ms/step - loss: 0.1420 - accuracy: 0.9657 - val_loss: 1.6048 - val_accuracy: 0.8319\n",
      "Epoch 78/100\n",
      "145/145 [==============================] - 35s 236ms/step - loss: 0.1243 - accuracy: 0.9705 - val_loss: 2.2497 - val_accuracy: 0.7078\n",
      "Epoch 79/100\n",
      "145/145 [==============================] - 34s 230ms/step - loss: 0.1409 - accuracy: 0.9636 - val_loss: 1.0690 - val_accuracy: 0.8302\n",
      "Epoch 80/100\n",
      "145/145 [==============================] - 34s 227ms/step - loss: 0.1242 - accuracy: 0.9680 - val_loss: 1.6980 - val_accuracy: 0.7647\n",
      "Epoch 81/100\n",
      "145/145 [==============================] - 35s 237ms/step - loss: 0.1440 - accuracy: 0.9673 - val_loss: 1.4535 - val_accuracy: 0.7983\n",
      "Epoch 82/100\n",
      "145/145 [==============================] - 34s 231ms/step - loss: 0.1338 - accuracy: 0.9667 - val_loss: 0.8252 - val_accuracy: 0.8500\n",
      "Epoch 83/100\n",
      "145/145 [==============================] - 34s 226ms/step - loss: 0.1251 - accuracy: 0.9669 - val_loss: 1.3283 - val_accuracy: 0.7741\n",
      "Epoch 84/100\n",
      "145/145 [==============================] - 34s 230ms/step - loss: 0.1462 - accuracy: 0.9651 - val_loss: 1.6641 - val_accuracy: 0.7647\n",
      "Epoch 85/100\n",
      "145/145 [==============================] - 35s 233ms/step - loss: 0.1224 - accuracy: 0.9672 - val_loss: 0.3876 - val_accuracy: 0.9129\n",
      "Epoch 86/100\n",
      "145/145 [==============================] - 34s 230ms/step - loss: 0.1283 - accuracy: 0.9672 - val_loss: 1.5020 - val_accuracy: 0.7466\n",
      "Epoch 87/100\n",
      "145/145 [==============================] - 34s 231ms/step - loss: 0.1168 - accuracy: 0.9696 - val_loss: 1.4741 - val_accuracy: 0.7810\n",
      "Epoch 88/100\n",
      "145/145 [==============================] - 35s 236ms/step - loss: 0.1184 - accuracy: 0.9709 - val_loss: 0.9497 - val_accuracy: 0.8578\n",
      "Epoch 89/100\n",
      "145/145 [==============================] - 34s 231ms/step - loss: 0.1479 - accuracy: 0.9678 - val_loss: 1.6612 - val_accuracy: 0.7879\n",
      "Epoch 90/100\n",
      "145/145 [==============================] - 34s 227ms/step - loss: 0.1126 - accuracy: 0.9728 - val_loss: 1.8877 - val_accuracy: 0.6776\n",
      "Epoch 91/100\n",
      "145/145 [==============================] - 35s 235ms/step - loss: 0.1182 - accuracy: 0.9678 - val_loss: 0.7159 - val_accuracy: 0.8793\n",
      "Epoch 92/100\n",
      "145/145 [==============================] - 35s 233ms/step - loss: 0.1248 - accuracy: 0.9711 - val_loss: 0.8811 - val_accuracy: 0.8517\n",
      "Epoch 93/100\n",
      "145/145 [==============================] - 34s 229ms/step - loss: 0.1135 - accuracy: 0.9721 - val_loss: 0.8027 - val_accuracy: 0.8759\n",
      "Epoch 94/100\n",
      "145/145 [==============================] - 35s 237ms/step - loss: 0.1297 - accuracy: 0.9702 - val_loss: 0.8524 - val_accuracy: 0.8345\n",
      "Epoch 95/100\n",
      "145/145 [==============================] - 35s 238ms/step - loss: 0.1162 - accuracy: 0.9717 - val_loss: 0.9471 - val_accuracy: 0.8586\n",
      "Epoch 96/100\n",
      "145/145 [==============================] - 34s 227ms/step - loss: 0.1383 - accuracy: 0.9710 - val_loss: 0.8808 - val_accuracy: 0.8733\n",
      "Epoch 97/100\n",
      "145/145 [==============================] - 34s 230ms/step - loss: 0.1094 - accuracy: 0.9725 - val_loss: 0.7598 - val_accuracy: 0.8578\n",
      "Epoch 98/100\n",
      "145/145 [==============================] - 35s 235ms/step - loss: 0.1185 - accuracy: 0.9708 - val_loss: 1.4688 - val_accuracy: 0.7983\n",
      "Epoch 99/100\n",
      "145/145 [==============================] - 34s 229ms/step - loss: 0.1406 - accuracy: 0.9699 - val_loss: 0.5141 - val_accuracy: 0.9043\n",
      "Epoch 100/100\n",
      "145/145 [==============================] - 34s 229ms/step - loss: 0.1092 - accuracy: 0.9719 - val_loss: 0.8758 - val_accuracy: 0.8647\n"
     ]
    }
   ],
   "source": [
    "model4_1.compile(loss=\"categorical_crossentropy\",\n",
    " optimizer=\"rmsprop\",\n",
    " metrics=[\"accuracy\"])\n",
    "\n",
    "history = model4_1.fit(\n",
    " train_dataset,\n",
    " epochs=100,\n",
    " validation_data=validation_dataset)"
   ]
  },
  {
   "cell_type": "code",
   "execution_count": 37,
   "metadata": {
    "pycharm": {
     "name": "#%%\n"
    },
    "scrolled": true
   },
   "outputs": [
    {
     "name": "stdout",
     "output_type": "stream",
     "text": [
      "INFO:tensorflow:Assets written to: model4_1/model\\assets\n"
     ]
    },
    {
     "name": "stderr",
     "output_type": "stream",
     "text": [
      "F:\\Programas\\Anaconda\\envs\\TFGapp\\lib\\site-packages\\keras\\utils\\generic_utils.py:494: CustomMaskWarning: Custom mask layers require a config and must override get_config. When loading, the custom mask layer must be passed to the custom_objects argument.\n",
      "  warnings.warn('Custom mask layers require a config and must override '\n"
     ]
    }
   ],
   "source": [
    "model4_1.save('model4_1/model')\n",
    "np.save('model4_1/history.npy',history.history)"
   ]
  },
  {
   "cell_type": "markdown",
   "metadata": {
    "pycharm": {
     "name": "#%% md\n"
    }
   },
   "source": [
    "## Análisis de resultados"
   ]
  },
  {
   "cell_type": "code",
   "execution_count": 41,
   "metadata": {
    "pycharm": {
     "name": "#%%\n"
    }
   },
   "outputs": [],
   "source": [
    "my_history=np.load('model4_1/history.npy',allow_pickle='TRUE').item()"
   ]
  },
  {
   "cell_type": "code",
   "execution_count": 45,
   "metadata": {
    "pycharm": {
     "name": "#%%\n"
    }
   },
   "outputs": [
    {
     "data": {
      "image/png": "[encoded data removed]",
      "text/plain": [
       "<Figure size 432x288 with 1 Axes>"
      ]
     },
     "metadata": {
      "needs_background": "light"
     },
     "output_type": "display_data"
    }
   ],
   "source": [
    "loss = my_history[\"loss\"]\n",
    "val_loss = my_history[\"val_loss\"]\n",
    "\n",
    "epochs = range(1, len(loss) + 1)\n",
    "\n",
    "plt.plot(epochs, loss, \"b.\", label=\"Training loss\")\n",
    "plt.plot(epochs, val_loss, \"b\", label=\"Validation loss \")\n",
    "plt.title(\"Training and validation loss\")\n",
    "plt.xlabel(\"Epochs\")\n",
    "plt.ylabel(\"Loss\")\n",
    "plt.legend()\n",
    "plt.show()"
   ]
  },
  {
   "cell_type": "code",
   "execution_count": 44,
   "metadata": {
    "pycharm": {
     "name": "#%%\n"
    }
   },
   "outputs": [
    {
     "data": {
      "image/png": "[encoded data removed]",
      "text/plain": [
       "<Figure size 432x288 with 1 Axes>"
      ]
     },
     "metadata": {
      "needs_background": "light"
     },
     "output_type": "display_data"
    }
   ],
   "source": [
    "\n",
    "plt.clf()\n",
    "\n",
    "acc = my_history[\"accuracy\"]\n",
    "val_acc = my_history[\"val_accuracy\"]\n",
    "\n",
    "epochs = range(1, len(loss) + 1)\n",
    "\n",
    "plt.plot(epochs, acc, \"b.\", label=\"Training accuracy\")\n",
    "plt.plot(epochs, val_acc, \"b\", label=\"Validation accuracy\")\n",
    "plt.title(\"Training and validation accuracy\")\n",
    "plt.xlabel(\"Epochs\")\n",
    "plt.ylabel(\"Accuracy\")\n",
    "plt.legend()\n",
    "plt.show()"
   ]
  },
  {
   "cell_type": "code",
   "execution_count": 46,
   "metadata": {
    "pycharm": {
     "name": "#%%\n"
    }
   },
   "outputs": [
    {
     "name": "stdout",
     "output_type": "stream",
     "text": [
      "19/19 [==============================] - 3s 94ms/step - loss: 0.9076 - accuracy: 0.8698\n"
     ]
    },
    {
     "data": {
      "text/plain": [
       "[0.9075772762298584, 0.8698275685310364]"
      ]
     },
     "execution_count": 46,
     "metadata": {},
     "output_type": "execute_result"
    }
   ],
   "source": [
    "model = keras.models.load_model('model4_1/model')\n",
    "results= model.evaluate(test_dataset)\n",
    "results"
   ]
  }
 ],
 "metadata": {
  "kernelspec": {
   "display_name": "Python 3 (ipykernel)",
   "language": "python",
   "name": "python3"
  },
  "language_info": {
   "codemirror_mode": {
    "name": "ipython",
    "version": 3
   },
   "file_extension": ".py",
   "mimetype": "text/x-python",
   "name": "python",
   "nbconvert_exporter": "python",
   "pygments_lexer": "ipython3",
   "version": "3.9.12"
  }
 },
 "nbformat": 4,
 "nbformat_minor": 1
}