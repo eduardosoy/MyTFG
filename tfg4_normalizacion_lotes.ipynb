{
 "cells": [
  {
   "cell_type": "markdown",
   "metadata": {
    "pycharm": {
     "name": "#%%\n"
    }
   },
   "source": [
    "# Creación de un modelo desde cero: normalización de lotes"
   ]
  },
  {
   "cell_type": "markdown",
   "metadata": {
    "pycharm": {
     "name": "#%%\n"
    }
   },
   "source": [
    "## Librerías necesarias"
   ]
  },
  {
   "cell_type": "code",
   "execution_count": 5,
   "metadata": {
    "pycharm": {
     "name": "#%%\n"
    }
   },
   "outputs": [],
   "source": [
    "from tensorflow import keras\n",
    "from tensorflow.keras import layers\n",
    "import os, shutil, pathlib\n",
    "from tensorflow.keras.utils import image_dataset_from_directory\n",
    "import matplotlib.pyplot as plt\n",
    "import numpy as np\n",
    "from tensorflow.keras.models import load_model"
   ]
  },
  {
   "cell_type": "markdown",
   "metadata": {
    "pycharm": {
     "name": "#%% md\n"
    }
   },
   "source": [
    "## Variables globales del sistema"
   ]
  },
  {
   "cell_type": "code",
   "execution_count": 6,
   "metadata": {
    "pycharm": {
     "name": "#%%\n"
    }
   },
   "outputs": [],
   "source": [
    "original_dir = pathlib.Path(\"ExpandedDataset/\")\n",
    "new_base_dir = pathlib.Path(\"ExpandedDataset_organized/\")\n",
    "content = os.listdir(original_dir)\n",
    "BATCH_SIZE = 64\n",
    "size_x = 256\n",
    "size_y = 256"
   ]
  },
  {
   "cell_type": "markdown",
   "metadata": {
    "pycharm": {
     "name": "#%% md\n"
    }
   },
   "source": [
    "## Creación de los datasets específicos a partir de las carpetas "
   ]
  },
  {
   "cell_type": "code",
   "execution_count": 7,
   "metadata": {
    "pycharm": {
     "name": "#%%\n"
    }
   },
   "outputs": [
    {
     "name": "stdout",
     "output_type": "stream",
     "text": [
      "Found 9280 files belonging to 58 classes.\n",
      "Found 1160 files belonging to 58 classes.\n",
      "Found 1160 files belonging to 58 classes.\n"
     ]
    }
   ],
   "source": [
    "train_dataset = image_dataset_from_directory(\n",
    "    new_base_dir / \"train\",\n",
    "    image_size=(size_x, size_y),\n",
    "    batch_size=BATCH_SIZE,\n",
    "    label_mode='categorical')\n",
    "validation_dataset = image_dataset_from_directory(\n",
    "    new_base_dir / \"validation\",\n",
    "    image_size=(size_x, size_y),\n",
    "    batch_size=BATCH_SIZE,\n",
    "    label_mode='categorical')\n",
    "test_dataset = image_dataset_from_directory(\n",
    "    new_base_dir / \"test\",\n",
    "    image_size=(size_x, size_y),\n",
    "    batch_size=BATCH_SIZE,\n",
    "    label_mode='categorical')"
   ]
  },
  {
   "cell_type": "markdown",
   "metadata": {
    "pycharm": {
     "name": "#%% md\n"
    }
   },
   "source": [
    "## Modelo con normalización de lotes: modelo cuatro"
   ]
  },
  {
   "cell_type": "code",
   "execution_count": 3,
   "metadata": {
    "pycharm": {
     "name": "#%%\n"
    },
    "scrolled": true
   },
   "outputs": [
    {
     "name": "stdout",
     "output_type": "stream",
     "text": [
      "Model: \"model\"\n",
      "__________________________________________________________________________________________________\n",
      "Layer (type)                    Output Shape         Param #     Connected to                     \n",
      "==================================================================================================\n",
      "input_1 (InputLayer)            [(None, 256, 256, 3) 0                                            \n",
      "__________________________________________________________________________________________________\n",
      "rescaling (Rescaling)           (None, 256, 256, 3)  0           input_1[0][0]                    \n",
      "__________________________________________________________________________________________________\n",
      "conv2d (Conv2D)                 (None, 254, 254, 16) 432         rescaling[0][0]                  \n",
      "__________________________________________________________________________________________________\n",
      "batch_normalization (BatchNorma (None, 254, 254, 16) 64          conv2d[0][0]                     \n",
      "__________________________________________________________________________________________________\n",
      "activation (Activation)         (None, 254, 254, 16) 0           batch_normalization[0][0]        \n",
      "__________________________________________________________________________________________________\n",
      "max_pooling2d (MaxPooling2D)    (None, 127, 127, 16) 0           activation[0][0]                 \n",
      "__________________________________________________________________________________________________\n",
      "conv2d_1 (Conv2D)               (None, 125, 125, 32) 4608        max_pooling2d[0][0]              \n",
      "__________________________________________________________________________________________________\n",
      "batch_normalization_1 (BatchNor (None, 125, 125, 32) 128         conv2d_1[0][0]                   \n",
      "__________________________________________________________________________________________________\n",
      "activation_1 (Activation)       (None, 125, 125, 32) 0           batch_normalization_1[0][0]      \n",
      "__________________________________________________________________________________________________\n",
      "max_pooling2d_1 (MaxPooling2D)  (None, 63, 63, 32)   0           activation_1[0][0]               \n",
      "__________________________________________________________________________________________________\n",
      "conv2d_2 (Conv2D)               (None, 63, 63, 64)   18432       max_pooling2d_1[0][0]            \n",
      "__________________________________________________________________________________________________\n",
      "batch_normalization_2 (BatchNor (None, 63, 63, 64)   256         conv2d_2[0][0]                   \n",
      "__________________________________________________________________________________________________\n",
      "activation_2 (Activation)       (None, 63, 63, 64)   0           batch_normalization_2[0][0]      \n",
      "__________________________________________________________________________________________________\n",
      "conv2d_3 (Conv2D)               (None, 63, 63, 64)   2112        activation_1[0][0]               \n",
      "__________________________________________________________________________________________________\n",
      "add (Add)                       (None, 63, 63, 64)   0           activation_2[0][0]               \n",
      "                                                                 conv2d_3[0][0]                   \n",
      "__________________________________________________________________________________________________\n",
      "conv2d_4 (Conv2D)               (None, 61, 61, 64)   36864       add[0][0]                        \n",
      "__________________________________________________________________________________________________\n",
      "batch_normalization_3 (BatchNor (None, 61, 61, 64)   256         conv2d_4[0][0]                   \n",
      "__________________________________________________________________________________________________\n",
      "activation_3 (Activation)       (None, 61, 61, 64)   0           batch_normalization_3[0][0]      \n",
      "__________________________________________________________________________________________________\n",
      "max_pooling2d_2 (MaxPooling2D)  (None, 30, 30, 64)   0           activation_3[0][0]               \n",
      "__________________________________________________________________________________________________\n",
      "conv2d_5 (Conv2D)               (None, 28, 28, 128)  73728       max_pooling2d_2[0][0]            \n",
      "__________________________________________________________________________________________________\n",
      "batch_normalization_4 (BatchNor (None, 28, 28, 128)  512         conv2d_5[0][0]                   \n",
      "__________________________________________________________________________________________________\n",
      "activation_4 (Activation)       (None, 28, 28, 128)  0           batch_normalization_4[0][0]      \n",
      "__________________________________________________________________________________________________\n",
      "conv2d_6 (Conv2D)               (None, 28, 28, 128)  147456      activation_4[0][0]               \n",
      "__________________________________________________________________________________________________\n",
      "batch_normalization_5 (BatchNor (None, 28, 28, 128)  512         conv2d_6[0][0]                   \n",
      "__________________________________________________________________________________________________\n",
      "activation_5 (Activation)       (None, 28, 28, 128)  0           batch_normalization_5[0][0]      \n",
      "__________________________________________________________________________________________________\n",
      "max_pooling2d_3 (MaxPooling2D)  (None, 14, 14, 128)  0           activation_5[0][0]               \n",
      "__________________________________________________________________________________________________\n",
      "conv2d_7 (Conv2D)               (None, 14, 14, 128)  16512       activation_4[0][0]               \n",
      "__________________________________________________________________________________________________\n",
      "add_1 (Add)                     (None, 14, 14, 128)  0           max_pooling2d_3[0][0]            \n",
      "                                                                 conv2d_7[0][0]                   \n",
      "__________________________________________________________________________________________________\n",
      "conv2d_8 (Conv2D)               (None, 12, 12, 256)  294912      add_1[0][0]                      \n",
      "__________________________________________________________________________________________________\n",
      "batch_normalization_6 (BatchNor (None, 12, 12, 256)  1024        conv2d_8[0][0]                   \n",
      "__________________________________________________________________________________________________\n",
      "activation_6 (Activation)       (None, 12, 12, 256)  0           batch_normalization_6[0][0]      \n",
      "__________________________________________________________________________________________________\n",
      "conv2d_9 (Conv2D)               (None, 12, 12, 256)  589824      activation_6[0][0]               \n",
      "__________________________________________________________________________________________________\n",
      "batch_normalization_7 (BatchNor (None, 12, 12, 256)  1024        conv2d_9[0][0]                   \n",
      "__________________________________________________________________________________________________\n",
      "activation_7 (Activation)       (None, 12, 12, 256)  0           batch_normalization_7[0][0]      \n",
      "__________________________________________________________________________________________________\n",
      "conv2d_10 (Conv2D)              (None, 12, 12, 256)  65792       activation_6[0][0]               \n",
      "__________________________________________________________________________________________________\n",
      "add_2 (Add)                     (None, 12, 12, 256)  0           activation_7[0][0]               \n",
      "                                                                 conv2d_10[0][0]                  \n",
      "__________________________________________________________________________________________________\n",
      "max_pooling2d_4 (MaxPooling2D)  (None, 6, 6, 256)    0           add_2[0][0]                      \n",
      "__________________________________________________________________________________________________\n",
      "dense (Dense)                   (None, 6, 6, 64)     16448       max_pooling2d_4[0][0]            \n",
      "__________________________________________________________________________________________________\n",
      "dense_1 (Dense)                 (None, 6, 6, 64)     4160        dense[0][0]                      \n",
      "__________________________________________________________________________________________________\n",
      "dense_2 (Dense)                 (None, 6, 6, 64)     4160        dense_1[0][0]                    \n",
      "__________________________________________________________________________________________________\n",
      "flatten (Flatten)               (None, 2304)         0           dense_2[0][0]                    \n",
      "__________________________________________________________________________________________________\n",
      "dropout (Dropout)               (None, 2304)         0           flatten[0][0]                    \n",
      "__________________________________________________________________________________________________\n",
      "dense_3 (Dense)                 (None, 58)           133690      dropout[0][0]                    \n",
      "==================================================================================================\n",
      "Total params: 1,412,906\n",
      "Trainable params: 1,411,018\n",
      "Non-trainable params: 1,888\n",
      "__________________________________________________________________________________________________\n"
     ]
    }
   ],
   "source": [
    "inputs = keras.Input(shape=(size_x, size_y, 3)) \n",
    "x = layers.Rescaling(1./255)(inputs) \n",
    "x = layers.Conv2D(filters=16, kernel_size=3, use_bias=False)(x)\n",
    "x = layers.BatchNormalization()(x)\n",
    "x = layers.Activation(\"relu\")(x) \n",
    "x = layers.MaxPooling2D(pool_size=2)(x)\n",
    "x = layers.Conv2D(filters=32, kernel_size=3, use_bias=False)(x)\n",
    "x = layers.BatchNormalization()(x)\n",
    "x = layers.Activation(\"relu\")(x) \n",
    "residual = x\n",
    "x = layers.MaxPooling2D(pool_size=2, padding = \"same\")(x)\n",
    "x = layers.Conv2D(filters=64, kernel_size=3, use_bias=False, padding = \"same\")(x)\n",
    "x = layers.BatchNormalization()(x)\n",
    "x = layers.Activation(\"relu\")(x) \n",
    "residual = layers.Conv2D(64, 1, strides = 2)(residual)\n",
    "x = layers.add([x, residual])\n",
    "x = layers.Conv2D(filters=64, kernel_size=3, use_bias=False)(x)\n",
    "x = layers.BatchNormalization()(x)\n",
    "x = layers.Activation(\"relu\")(x) \n",
    "x = layers.MaxPooling2D(pool_size=2)(x)\n",
    "x = layers.Conv2D(filters=128, kernel_size=3, use_bias=False)(x)\n",
    "x = layers.BatchNormalization()(x)\n",
    "x = layers.Activation(\"relu\")(x) \n",
    "residual = x\n",
    "x = layers.Conv2D(filters=128, kernel_size=3, use_bias=False,  padding=\"same\")(x)\n",
    "x = layers.BatchNormalization()(x)\n",
    "x = layers.Activation(\"relu\")(x) \n",
    "x = layers.MaxPooling2D(pool_size=2, padding=\"same\")(x)\n",
    "residual = layers.Conv2D(128, 1, strides = 2)(residual)\n",
    "x = layers.add([x, residual])\n",
    "x = layers.Conv2D(filters=256, kernel_size=3, use_bias=False)(x)\n",
    "x = layers.BatchNormalization()(x)\n",
    "x = layers.Activation(\"relu\")(x) \n",
    "residual = x \n",
    "x = layers.Conv2D(filters=256, kernel_size=3, use_bias=False,padding=\"same\")(x)\n",
    "x = layers.BatchNormalization()(x)\n",
    "x = layers.Activation(\"relu\")(x) \n",
    "residual = layers.Conv2D(256, 1)(residual)\n",
    "x = layers.add([x, residual])\n",
    "x = layers.MaxPooling2D(pool_size=2)(x)\n",
    "x = layers.Dense(64, activation = \"relu\")(x)\n",
    "x = layers.Dense(64, activation = \"relu\")(x)\n",
    "x = layers.Dense(64, activation = \"relu\")(x)\n",
    "x = layers.Flatten()(x)\n",
    "x = layers.Dropout(0.5)(x)\n",
    "outputs = layers.Dense(58, activation=\"softmax\")(x)\n",
    "model4 = keras.Model(inputs=inputs, outputs=outputs)\n",
    "\n",
    "model4.summary()"
   ]
  },
  {
   "cell_type": "markdown",
   "metadata": {
    "pycharm": {
     "name": "#%% md\n"
    }
   },
   "source": [
    "## Entrenamiento y guardado de resultados del modelo tres"
   ]
  },
  {
   "cell_type": "code",
   "execution_count": 8,
   "metadata": {
    "pycharm": {
     "name": "#%%\n"
    },
    "scrolled": false
   },
   "outputs": [
    {
     "name": "stdout",
     "output_type": "stream",
     "text": [
      "Epoch 1/30\n",
      "145/145 [==============================] - 59s 207ms/step - loss: 2.9788 - accuracy: 0.2107 - val_loss: 5.6768 - val_accuracy: 0.0819\n",
      "Epoch 2/30\n",
      "145/145 [==============================] - 30s 202ms/step - loss: 1.9046 - accuracy: 0.4256 - val_loss: 3.8066 - val_accuracy: 0.1655\n",
      "Epoch 3/30\n",
      "145/145 [==============================] - 30s 198ms/step - loss: 1.4949 - accuracy: 0.5329 - val_loss: 1.8154 - val_accuracy: 0.4431\n",
      "Epoch 4/30\n",
      "145/145 [==============================] - 30s 197ms/step - loss: 1.2474 - accuracy: 0.6046 - val_loss: 1.8475 - val_accuracy: 0.4853\n",
      "Epoch 5/30\n",
      "145/145 [==============================] - 29s 196ms/step - loss: 1.0804 - accuracy: 0.6492 - val_loss: 2.4634 - val_accuracy: 0.4000\n",
      "Epoch 6/30\n",
      "145/145 [==============================] - 28s 186ms/step - loss: 0.9541 - accuracy: 0.6939 - val_loss: 1.3845 - val_accuracy: 0.5784\n",
      "Epoch 7/30\n",
      "145/145 [==============================] - 29s 194ms/step - loss: 0.8333 - accuracy: 0.7335 - val_loss: 1.2134 - val_accuracy: 0.6336\n",
      "Epoch 8/30\n",
      "145/145 [==============================] - 30s 199ms/step - loss: 0.7669 - accuracy: 0.7517 - val_loss: 1.1463 - val_accuracy: 0.6414\n",
      "Epoch 9/30\n",
      "145/145 [==============================] - 30s 196ms/step - loss: 0.6919 - accuracy: 0.7786 - val_loss: 1.1734 - val_accuracy: 0.6491\n",
      "Epoch 10/30\n",
      "145/145 [==============================] - 29s 191ms/step - loss: 0.6324 - accuracy: 0.7911 - val_loss: 1.2410 - val_accuracy: 0.6207\n",
      "Epoch 11/30\n",
      "145/145 [==============================] - 29s 190ms/step - loss: 0.5986 - accuracy: 0.8005 - val_loss: 1.0170 - val_accuracy: 0.7017\n",
      "Epoch 12/30\n",
      "145/145 [==============================] - 29s 192ms/step - loss: 0.5524 - accuracy: 0.8155 - val_loss: 1.2731 - val_accuracy: 0.6534\n",
      "Epoch 13/30\n",
      "145/145 [==============================] - 28s 187ms/step - loss: 0.5055 - accuracy: 0.8320 - val_loss: 0.9748 - val_accuracy: 0.7052\n",
      "Epoch 14/30\n",
      "145/145 [==============================] - 28s 187ms/step - loss: 0.4758 - accuracy: 0.8443 - val_loss: 0.8788 - val_accuracy: 0.7267\n",
      "Epoch 15/30\n",
      "145/145 [==============================] - 28s 187ms/step - loss: 0.4386 - accuracy: 0.8556 - val_loss: 1.1583 - val_accuracy: 0.6776\n",
      "Epoch 16/30\n",
      "145/145 [==============================] - 28s 188ms/step - loss: 0.4217 - accuracy: 0.8595 - val_loss: 1.0915 - val_accuracy: 0.6905\n",
      "Epoch 17/30\n",
      "145/145 [==============================] - 28s 188ms/step - loss: 0.3951 - accuracy: 0.8677 - val_loss: 1.2651 - val_accuracy: 0.6810\n",
      "Epoch 18/30\n",
      "145/145 [==============================] - 28s 189ms/step - loss: 0.3651 - accuracy: 0.8753 - val_loss: 1.9998 - val_accuracy: 0.5517\n",
      "Epoch 19/30\n",
      "145/145 [==============================] - 28s 188ms/step - loss: 0.3411 - accuracy: 0.8883 - val_loss: 0.9163 - val_accuracy: 0.7526\n",
      "Epoch 20/30\n",
      "145/145 [==============================] - 29s 192ms/step - loss: 0.3341 - accuracy: 0.8867 - val_loss: 1.3118 - val_accuracy: 0.6810\n",
      "Epoch 21/30\n",
      "145/145 [==============================] - 29s 189ms/step - loss: 0.3146 - accuracy: 0.8932 - val_loss: 1.1526 - val_accuracy: 0.7017\n",
      "Epoch 22/30\n",
      "145/145 [==============================] - 28s 187ms/step - loss: 0.3087 - accuracy: 0.8981 - val_loss: 1.2524 - val_accuracy: 0.6914\n",
      "Epoch 23/30\n",
      "145/145 [==============================] - 28s 186ms/step - loss: 0.2917 - accuracy: 0.9036 - val_loss: 1.6023 - val_accuracy: 0.6009\n",
      "Epoch 24/30\n",
      "145/145 [==============================] - 28s 189ms/step - loss: 0.2844 - accuracy: 0.9107 - val_loss: 1.7246 - val_accuracy: 0.6198\n",
      "Epoch 25/30\n",
      "145/145 [==============================] - 28s 187ms/step - loss: 0.2708 - accuracy: 0.9110 - val_loss: 1.1446 - val_accuracy: 0.7121\n",
      "Epoch 26/30\n",
      "145/145 [==============================] - 28s 186ms/step - loss: 0.2526 - accuracy: 0.9158 - val_loss: 1.6397 - val_accuracy: 0.6509\n",
      "Epoch 27/30\n",
      "145/145 [==============================] - 28s 187ms/step - loss: 0.2472 - accuracy: 0.9163 - val_loss: 1.0591 - val_accuracy: 0.7259\n",
      "Epoch 28/30\n",
      "145/145 [==============================] - 28s 188ms/step - loss: 0.2423 - accuracy: 0.9213 - val_loss: 1.0547 - val_accuracy: 0.7302\n",
      "Epoch 29/30\n",
      "145/145 [==============================] - 29s 192ms/step - loss: 0.2351 - accuracy: 0.9213 - val_loss: 1.7255 - val_accuracy: 0.6405\n",
      "Epoch 30/30\n",
      "145/145 [==============================] - 29s 191ms/step - loss: 0.2206 - accuracy: 0.9269 - val_loss: 1.0475 - val_accuracy: 0.7284\n"
     ]
    }
   ],
   "source": [
    "model4.compile(loss=\"categorical_crossentropy\",\n",
    " optimizer=\"rmsprop\",\n",
    " metrics=[\"accuracy\"])\n",
    "\n",
    "history = model4.fit(\n",
    " train_dataset,\n",
    " epochs=30,\n",
    " validation_data=validation_dataset)"
   ]
  },
  {
   "cell_type": "code",
   "execution_count": 9,
   "metadata": {
    "pycharm": {
     "name": "#%%\n"
    },
    "scrolled": true
   },
   "outputs": [
    {
     "name": "stdout",
     "output_type": "stream",
     "text": [
      "INFO:tensorflow:Assets written to: model4/model\\assets\n"
     ]
    },
    {
     "name": "stderr",
     "output_type": "stream",
     "text": [
      "F:\\Programas\\Anaconda\\envs\\TFGapp\\lib\\site-packages\\keras\\utils\\generic_utils.py:494: CustomMaskWarning: Custom mask layers require a config and must override get_config. When loading, the custom mask layer must be passed to the custom_objects argument.\n",
      "  warnings.warn('Custom mask layers require a config and must override '\n"
     ]
    }
   ],
   "source": [
    "model4.save('model4/model')\n",
    "np.save('model4/history.npy',history.history)"
   ]
  },
  {
   "cell_type": "markdown",
   "metadata": {
    "pycharm": {
     "name": "#%% md\n"
    }
   },
   "source": [
    "## Análisis de resultados"
   ]
  },
  {
   "cell_type": "code",
   "execution_count": 10,
   "metadata": {
    "pycharm": {
     "name": "#%%\n"
    }
   },
   "outputs": [],
   "source": [
    "my_history1=np.load('model3_3/history.npy',allow_pickle='TRUE').item()\n",
    "my_history2=np.load('model4/history.npy',allow_pickle='TRUE').item()"
   ]
  },
  {
   "cell_type": "code",
   "execution_count": 11,
   "metadata": {
    "pycharm": {
     "name": "#%%\n"
    }
   },
   "outputs": [
    {
     "data": {
      "image/png": "[encoded data removed]",
      "text/plain": [
       "<Figure size 432x288 with 1 Axes>"
      ]
     },
     "metadata": {
      "needs_background": "light"
     },
     "output_type": "display_data"
    }
   ],
   "source": [
    "loss_1 = my_history1[\"loss\"]\n",
    "val_loss_1 = my_history1[\"val_loss\"]\n",
    "loss_2 = my_history2[\"loss\"]\n",
    "val_loss_2 = my_history2[\"val_loss\"]\n",
    "epochs = range(1, len(loss_1) + 1)\n",
    "\n",
    "plt.plot(epochs, loss_1, \"b.\", label=\"Training loss original\")\n",
    "plt.plot(epochs, loss_2, \"r.\", label=\"Training loss new\")\n",
    "plt.plot(epochs, val_loss_1, \"b\", label=\"Validation loss original\")\n",
    "plt.plot(epochs, val_loss_2, \"r\", label=\"Validation loss new\")\n",
    "plt.title(\"Training and validation loss\")\n",
    "plt.xlabel(\"Epochs\")\n",
    "plt.ylabel(\"Loss\")\n",
    "plt.legend()\n",
    "plt.show()"
   ]
  },
  {
   "cell_type": "code",
   "execution_count": 12,
   "metadata": {
    "pycharm": {
     "name": "#%%\n"
    }
   },
   "outputs": [
    {
     "data": {
      "image/png": "[encoded data removed]",
      "text/plain": [
       "<Figure size 432x288 with 1 Axes>"
      ]
     },
     "metadata": {
      "needs_background": "light"
     },
     "output_type": "display_data"
    }
   ],
   "source": [
    "\n",
    "plt.clf()\n",
    "\n",
    "acc_1 = my_history1[\"accuracy\"]\n",
    "val_acc_1 = my_history1[\"val_accuracy\"]\n",
    "acc_2 = my_history2[\"accuracy\"]\n",
    "val_acc_2 = my_history2[\"val_accuracy\"]\n",
    "epochs = range(1, len(loss_1) + 1)\n",
    "\n",
    "plt.plot(epochs, acc_1, \"b.\", label=\"Training accuracy original\")\n",
    "plt.plot(epochs, acc_2, \"r.\", label=\"Training accuracy new\")\n",
    "plt.plot(epochs, val_acc_1, \"b\", label=\"Validation accuracy original\")\n",
    "plt.plot(epochs, val_acc_2, \"r\", label=\"Validation accuracy new\")\n",
    "plt.title(\"Training and validation accuracy\")\n",
    "plt.xlabel(\"Epochs\")\n",
    "plt.ylabel(\"Accuracy\")\n",
    "plt.legend()\n",
    "plt.show()"
   ]
  },
  {
   "cell_type": "code",
   "execution_count": null,
   "outputs": [],
   "source": [
    "model = keras.models.load_model('model4/model')\n",
    "results= model.evaluate(test_dataset)\n",
    "results"
   ],
   "metadata": {
    "collapsed": false,
    "pycharm": {
     "name": "#%%\n"
    }
   }
  },
  {
   "cell_type": "markdown",
   "source": [
    "## Sustitución de la capa de aplanado: modelo 4.1"
   ],
   "metadata": {
    "collapsed": false,
    "pycharm": {
     "name": "#%% md\n"
    }
   }
  },
  {
   "cell_type": "code",
   "execution_count": null,
   "outputs": [],
   "source": [
    "inputs = keras.Input(shape=(size_x, size_y, 3)) \n",
    "x = layers.Rescaling(1./255)(inputs) \n",
    "x = layers.Conv2D(filters=16, kernel_size=3, use_bias=False)(x)\n",
    "x = layers.BatchNormalization()(x)\n",
    "x = layers.Activation(\"relu\")(x) \n",
    "x = layers.MaxPooling2D(pool_size=2)(x)\n",
    "x = layers.Conv2D(filters=32, kernel_size=3, use_bias=False)(x)\n",
    "x = layers.BatchNormalization()(x)\n",
    "x = layers.Activation(\"relu\")(x) \n",
    "residual = x\n",
    "x = layers.MaxPooling2D(pool_size=2, padding = \"same\")(x)\n",
    "x = layers.Conv2D(filters=64, kernel_size=3, use_bias=False, padding = \"same\")(x)\n",
    "x = layers.BatchNormalization()(x)\n",
    "x = layers.Activation(\"relu\")(x) \n",
    "residual = layers.Conv2D(64, 1, strides = 2)(residual)\n",
    "x = layers.add([x, residual])\n",
    "x = layers.Conv2D(filters=64, kernel_size=3, use_bias=False)(x)\n",
    "x = layers.BatchNormalization()(x)\n",
    "x = layers.Activation(\"relu\")(x) \n",
    "x = layers.MaxPooling2D(pool_size=2)(x)\n",
    "x = layers.Conv2D(filters=128, kernel_size=3, use_bias=False)(x)\n",
    "x = layers.BatchNormalization()(x)\n",
    "x = layers.Activation(\"relu\")(x) \n",
    "residual = x\n",
    "x = layers.Conv2D(filters=128, kernel_size=3, use_bias=False,  padding=\"same\")(x)\n",
    "x = layers.BatchNormalization()(x)\n",
    "x = layers.Activation(\"relu\")(x) \n",
    "x = layers.MaxPooling2D(pool_size=2, padding=\"same\")(x)\n",
    "residual = layers.Conv2D(128, 1, strides = 2)(residual)\n",
    "x = layers.add([x, residual])\n",
    "x = layers.Conv2D(filters=256, kernel_size=3, use_bias=False)(x)\n",
    "x = layers.BatchNormalization()(x)\n",
    "x = layers.Activation(\"relu\")(x) \n",
    "residual = x \n",
    "x = layers.Conv2D(filters=256, kernel_size=3, use_bias=False,padding=\"same\")(x)\n",
    "x = layers.BatchNormalization()(x)\n",
    "x = layers.Activation(\"relu\")(x) \n",
    "residual = layers.Conv2D(256, 1)(residual)\n",
    "x = layers.add([x, residual])\n",
    "x = layers.MaxPooling2D(pool_size=2)(x)\n",
    "x = layers.Dense(64, activation = \"relu\")(x)\n",
    "x = layers.Dense(64, activation = \"relu\")(x)\n",
    "x = layers.Dense(64, activation = \"relu\")(x)\n",
    "x = layers.GlobalAveragePooling2D()(x) \n",
    "x = layers.Dropout(0.5)(x)\n",
    "outputs = layers.Dense(58, activation=\"softmax\")(x)\n",
    "model4_1 = keras.Model(inputs=inputs, outputs=outputs)\n",
    "\n",
    "model4_1.summary()"
   ],
   "metadata": {
    "collapsed": false,
    "pycharm": {
     "name": "#%%\n"
    }
   }
  },
  {
   "cell_type": "code",
   "execution_count": null,
   "outputs": [],
   "source": [
    "model4_1.compile(loss=\"categorical_crossentropy\",\n",
    " optimizer=\"rmsprop\",\n",
    " metrics=[\"accuracy\"])\n",
    "\n",
    "history = model4_1.fit(\n",
    " train_dataset,\n",
    " epochs=30,\n",
    " validation_data=validation_dataset)"
   ],
   "metadata": {
    "collapsed": false,
    "pycharm": {
     "name": "#%%\n"
    }
   }
  },
  {
   "cell_type": "code",
   "execution_count": null,
   "outputs": [],
   "source": [
    "model4_1.save('model4_1/model')\n",
    "np.save('model4_1/history.npy',history.history)"
   ],
   "metadata": {
    "collapsed": false,
    "pycharm": {
     "name": "#%%\n"
    }
   }
  },
  {
   "cell_type": "markdown",
   "source": [
    "## Análisis de resultados"
   ],
   "metadata": {
    "collapsed": false,
    "pycharm": {
     "name": "#%% md\n"
    }
   }
  },
  {
   "cell_type": "code",
   "execution_count": null,
   "outputs": [],
   "source": [
    "my_history1=np.load('model4/history.npy',allow_pickle='TRUE').item()\n",
    "my_history2=np.load('model4_1/history.npy',allow_pickle='TRUE').item()"
   ],
   "metadata": {
    "collapsed": false,
    "pycharm": {
     "name": "#%%\n"
    }
   }
  },
  {
   "cell_type": "code",
   "execution_count": null,
   "outputs": [],
   "source": [
    "loss_1 = my_history1[\"loss\"]\n",
    "val_loss_1 = my_history1[\"val_loss\"]\n",
    "loss_2 = my_history2[\"loss\"]\n",
    "val_loss_2 = my_history2[\"val_loss\"]\n",
    "epochs = range(1, len(loss_1) + 1)\n",
    "\n",
    "plt.plot(epochs, loss_1, \"b.\", label=\"Training loss original\")\n",
    "plt.plot(epochs, loss_2, \"r.\", label=\"Training loss new\")\n",
    "plt.plot(epochs, val_loss_1, \"b\", label=\"Validation loss original\")\n",
    "plt.plot(epochs, val_loss_2, \"r\", label=\"Validation loss new\")\n",
    "plt.title(\"Training and validation loss\")\n",
    "plt.xlabel(\"Epochs\")\n",
    "plt.ylabel(\"Loss\")\n",
    "plt.legend()\n",
    "plt.show()"
   ],
   "metadata": {
    "collapsed": false,
    "pycharm": {
     "name": "#%%\n"
    }
   }
  },
  {
   "cell_type": "code",
   "execution_count": null,
   "outputs": [],
   "source": [
    "\n",
    "plt.clf()\n",
    "\n",
    "acc_1 = my_history1[\"accuracy\"]\n",
    "val_acc_1 = my_history1[\"val_accuracy\"]\n",
    "acc_2 = my_history2[\"accuracy\"]\n",
    "val_acc_2 = my_history2[\"val_accuracy\"]\n",
    "epochs = range(1, len(loss_1) + 1)\n",
    "\n",
    "plt.plot(epochs, acc_1, \"b.\", label=\"Training accuracy original\")\n",
    "plt.plot(epochs, acc_2, \"r.\", label=\"Training accuracy new\")\n",
    "plt.plot(epochs, val_acc_1, \"b\", label=\"Validation accuracy original\")\n",
    "plt.plot(epochs, val_acc_2, \"r\", label=\"Validation accuracy new\")\n",
    "plt.title(\"Training and validation accuracy\")\n",
    "plt.xlabel(\"Epochs\")\n",
    "plt.ylabel(\"Accuracy\")\n",
    "plt.legend()\n",
    "plt.show()"
   ],
   "metadata": {
    "collapsed": false,
    "pycharm": {
     "name": "#%%\n"
    }
   }
  },
  {
   "cell_type": "code",
   "execution_count": null,
   "outputs": [],
   "source": [
    "model = keras.models.load_model('model4_1/model')\n",
    "results= model.evaluate(test_dataset)\n",
    "results"
   ],
   "metadata": {
    "collapsed": false,
    "pycharm": {
     "name": "#%%\n"
    }
   }
  }
 ],
 "metadata": {
  "kernelspec": {
   "display_name": "Python 3 (ipykernel)",
   "language": "python",
   "name": "python3"
  },
  "language_info": {
   "codemirror_mode": {
    "name": "ipython",
    "version": 3
   },
   "file_extension": ".py",
   "mimetype": "text/x-python",
   "name": "python",
   "nbconvert_exporter": "python",
   "pygments_lexer": "ipython3",
   "version": "3.9.12"
  }
 },
 "nbformat": 4,
 "nbformat_minor": 1
}